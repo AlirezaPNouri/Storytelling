{
  "nbformat": 4,
  "nbformat_minor": 0,
  "metadata": {
    "colab": {
      "name": "FinalExperimentalForPaper.ipynb",
      "provenance": [],
      "collapsed_sections": [],
      "machine_shape": "hm",
      "mount_file_id": "1RLDyVPfF1JwP0ZsyRzUPKC1XEtuWOAPm",
      "authorship_tag": "ABX9TyO6JL0kLoQzDYOckaqjsPbB",
      "include_colab_link": true
    },
    "kernelspec": {
      "name": "python3",
      "display_name": "Python 3"
    },
    "language_info": {
      "name": "python"
    },
    "accelerator": "GPU",
    "widgets": {
      "application/vnd.jupyter.widget-state+json": {
        "451cee28cafa40558a6816edec693a25": {
          "model_module": "@jupyter-widgets/controls",
          "model_name": "HBoxModel",
          "model_module_version": "1.5.0",
          "state": {
            "_dom_classes": [],
            "_model_module": "@jupyter-widgets/controls",
            "_model_module_version": "1.5.0",
            "_model_name": "HBoxModel",
            "_view_count": null,
            "_view_module": "@jupyter-widgets/controls",
            "_view_module_version": "1.5.0",
            "_view_name": "HBoxView",
            "box_style": "",
            "children": [
              "IPY_MODEL_60d97d91784f466fb7d49b0efdb7dd9b",
              "IPY_MODEL_f0d15dffeaf7420685432cf046f8d548",
              "IPY_MODEL_d9cc91e2b0f1463db4b615acb4c9588c"
            ],
            "layout": "IPY_MODEL_ee5d77621d264ba492ec702bf37b1260"
          }
        },
        "60d97d91784f466fb7d49b0efdb7dd9b": {
          "model_module": "@jupyter-widgets/controls",
          "model_name": "HTMLModel",
          "model_module_version": "1.5.0",
          "state": {
            "_dom_classes": [],
            "_model_module": "@jupyter-widgets/controls",
            "_model_module_version": "1.5.0",
            "_model_name": "HTMLModel",
            "_view_count": null,
            "_view_module": "@jupyter-widgets/controls",
            "_view_module_version": "1.5.0",
            "_view_name": "HTMLView",
            "description": "",
            "description_tooltip": null,
            "layout": "IPY_MODEL_09b259cefad248cc9298d59e117d2180",
            "placeholder": "​",
            "style": "IPY_MODEL_dfa9f93d1d7046829cfc5010ebba7189",
            "value": "Downloading: 100%"
          }
        },
        "f0d15dffeaf7420685432cf046f8d548": {
          "model_module": "@jupyter-widgets/controls",
          "model_name": "FloatProgressModel",
          "model_module_version": "1.5.0",
          "state": {
            "_dom_classes": [],
            "_model_module": "@jupyter-widgets/controls",
            "_model_module_version": "1.5.0",
            "_model_name": "FloatProgressModel",
            "_view_count": null,
            "_view_module": "@jupyter-widgets/controls",
            "_view_module_version": "1.5.0",
            "_view_name": "ProgressView",
            "bar_style": "success",
            "description": "",
            "description_tooltip": null,
            "layout": "IPY_MODEL_5481cdd8bdf2481ea4910851bb29c16d",
            "max": 231508,
            "min": 0,
            "orientation": "horizontal",
            "style": "IPY_MODEL_e25046594bb24edb872a8c8b26207c0b",
            "value": 231508
          }
        },
        "d9cc91e2b0f1463db4b615acb4c9588c": {
          "model_module": "@jupyter-widgets/controls",
          "model_name": "HTMLModel",
          "model_module_version": "1.5.0",
          "state": {
            "_dom_classes": [],
            "_model_module": "@jupyter-widgets/controls",
            "_model_module_version": "1.5.0",
            "_model_name": "HTMLModel",
            "_view_count": null,
            "_view_module": "@jupyter-widgets/controls",
            "_view_module_version": "1.5.0",
            "_view_name": "HTMLView",
            "description": "",
            "description_tooltip": null,
            "layout": "IPY_MODEL_c795164282644ad0806a04c35d7d2760",
            "placeholder": "​",
            "style": "IPY_MODEL_8165d09716174848baa99086244c536b",
            "value": " 226k/226k [00:00&lt;00:00, 267kB/s]"
          }
        },
        "ee5d77621d264ba492ec702bf37b1260": {
          "model_module": "@jupyter-widgets/base",
          "model_name": "LayoutModel",
          "model_module_version": "1.2.0",
          "state": {
            "_model_module": "@jupyter-widgets/base",
            "_model_module_version": "1.2.0",
            "_model_name": "LayoutModel",
            "_view_count": null,
            "_view_module": "@jupyter-widgets/base",
            "_view_module_version": "1.2.0",
            "_view_name": "LayoutView",
            "align_content": null,
            "align_items": null,
            "align_self": null,
            "border": null,
            "bottom": null,
            "display": null,
            "flex": null,
            "flex_flow": null,
            "grid_area": null,
            "grid_auto_columns": null,
            "grid_auto_flow": null,
            "grid_auto_rows": null,
            "grid_column": null,
            "grid_gap": null,
            "grid_row": null,
            "grid_template_areas": null,
            "grid_template_columns": null,
            "grid_template_rows": null,
            "height": null,
            "justify_content": null,
            "justify_items": null,
            "left": null,
            "margin": null,
            "max_height": null,
            "max_width": null,
            "min_height": null,
            "min_width": null,
            "object_fit": null,
            "object_position": null,
            "order": null,
            "overflow": null,
            "overflow_x": null,
            "overflow_y": null,
            "padding": null,
            "right": null,
            "top": null,
            "visibility": null,
            "width": null
          }
        },
        "09b259cefad248cc9298d59e117d2180": {
          "model_module": "@jupyter-widgets/base",
          "model_name": "LayoutModel",
          "model_module_version": "1.2.0",
          "state": {
            "_model_module": "@jupyter-widgets/base",
            "_model_module_version": "1.2.0",
            "_model_name": "LayoutModel",
            "_view_count": null,
            "_view_module": "@jupyter-widgets/base",
            "_view_module_version": "1.2.0",
            "_view_name": "LayoutView",
            "align_content": null,
            "align_items": null,
            "align_self": null,
            "border": null,
            "bottom": null,
            "display": null,
            "flex": null,
            "flex_flow": null,
            "grid_area": null,
            "grid_auto_columns": null,
            "grid_auto_flow": null,
            "grid_auto_rows": null,
            "grid_column": null,
            "grid_gap": null,
            "grid_row": null,
            "grid_template_areas": null,
            "grid_template_columns": null,
            "grid_template_rows": null,
            "height": null,
            "justify_content": null,
            "justify_items": null,
            "left": null,
            "margin": null,
            "max_height": null,
            "max_width": null,
            "min_height": null,
            "min_width": null,
            "object_fit": null,
            "object_position": null,
            "order": null,
            "overflow": null,
            "overflow_x": null,
            "overflow_y": null,
            "padding": null,
            "right": null,
            "top": null,
            "visibility": null,
            "width": null
          }
        },
        "dfa9f93d1d7046829cfc5010ebba7189": {
          "model_module": "@jupyter-widgets/controls",
          "model_name": "DescriptionStyleModel",
          "model_module_version": "1.5.0",
          "state": {
            "_model_module": "@jupyter-widgets/controls",
            "_model_module_version": "1.5.0",
            "_model_name": "DescriptionStyleModel",
            "_view_count": null,
            "_view_module": "@jupyter-widgets/base",
            "_view_module_version": "1.2.0",
            "_view_name": "StyleView",
            "description_width": ""
          }
        },
        "5481cdd8bdf2481ea4910851bb29c16d": {
          "model_module": "@jupyter-widgets/base",
          "model_name": "LayoutModel",
          "model_module_version": "1.2.0",
          "state": {
            "_model_module": "@jupyter-widgets/base",
            "_model_module_version": "1.2.0",
            "_model_name": "LayoutModel",
            "_view_count": null,
            "_view_module": "@jupyter-widgets/base",
            "_view_module_version": "1.2.0",
            "_view_name": "LayoutView",
            "align_content": null,
            "align_items": null,
            "align_self": null,
            "border": null,
            "bottom": null,
            "display": null,
            "flex": null,
            "flex_flow": null,
            "grid_area": null,
            "grid_auto_columns": null,
            "grid_auto_flow": null,
            "grid_auto_rows": null,
            "grid_column": null,
            "grid_gap": null,
            "grid_row": null,
            "grid_template_areas": null,
            "grid_template_columns": null,
            "grid_template_rows": null,
            "height": null,
            "justify_content": null,
            "justify_items": null,
            "left": null,
            "margin": null,
            "max_height": null,
            "max_width": null,
            "min_height": null,
            "min_width": null,
            "object_fit": null,
            "object_position": null,
            "order": null,
            "overflow": null,
            "overflow_x": null,
            "overflow_y": null,
            "padding": null,
            "right": null,
            "top": null,
            "visibility": null,
            "width": null
          }
        },
        "e25046594bb24edb872a8c8b26207c0b": {
          "model_module": "@jupyter-widgets/controls",
          "model_name": "ProgressStyleModel",
          "model_module_version": "1.5.0",
          "state": {
            "_model_module": "@jupyter-widgets/controls",
            "_model_module_version": "1.5.0",
            "_model_name": "ProgressStyleModel",
            "_view_count": null,
            "_view_module": "@jupyter-widgets/base",
            "_view_module_version": "1.2.0",
            "_view_name": "StyleView",
            "bar_color": null,
            "description_width": ""
          }
        },
        "c795164282644ad0806a04c35d7d2760": {
          "model_module": "@jupyter-widgets/base",
          "model_name": "LayoutModel",
          "model_module_version": "1.2.0",
          "state": {
            "_model_module": "@jupyter-widgets/base",
            "_model_module_version": "1.2.0",
            "_model_name": "LayoutModel",
            "_view_count": null,
            "_view_module": "@jupyter-widgets/base",
            "_view_module_version": "1.2.0",
            "_view_name": "LayoutView",
            "align_content": null,
            "align_items": null,
            "align_self": null,
            "border": null,
            "bottom": null,
            "display": null,
            "flex": null,
            "flex_flow": null,
            "grid_area": null,
            "grid_auto_columns": null,
            "grid_auto_flow": null,
            "grid_auto_rows": null,
            "grid_column": null,
            "grid_gap": null,
            "grid_row": null,
            "grid_template_areas": null,
            "grid_template_columns": null,
            "grid_template_rows": null,
            "height": null,
            "justify_content": null,
            "justify_items": null,
            "left": null,
            "margin": null,
            "max_height": null,
            "max_width": null,
            "min_height": null,
            "min_width": null,
            "object_fit": null,
            "object_position": null,
            "order": null,
            "overflow": null,
            "overflow_x": null,
            "overflow_y": null,
            "padding": null,
            "right": null,
            "top": null,
            "visibility": null,
            "width": null
          }
        },
        "8165d09716174848baa99086244c536b": {
          "model_module": "@jupyter-widgets/controls",
          "model_name": "DescriptionStyleModel",
          "model_module_version": "1.5.0",
          "state": {
            "_model_module": "@jupyter-widgets/controls",
            "_model_module_version": "1.5.0",
            "_model_name": "DescriptionStyleModel",
            "_view_count": null,
            "_view_module": "@jupyter-widgets/base",
            "_view_module_version": "1.2.0",
            "_view_name": "StyleView",
            "description_width": ""
          }
        },
        "747888b567f94f968c294b6627c2343c": {
          "model_module": "@jupyter-widgets/controls",
          "model_name": "HBoxModel",
          "model_module_version": "1.5.0",
          "state": {
            "_dom_classes": [],
            "_model_module": "@jupyter-widgets/controls",
            "_model_module_version": "1.5.0",
            "_model_name": "HBoxModel",
            "_view_count": null,
            "_view_module": "@jupyter-widgets/controls",
            "_view_module_version": "1.5.0",
            "_view_name": "HBoxView",
            "box_style": "",
            "children": [
              "IPY_MODEL_5e91ebe96add460d8e543132f4ebbf60",
              "IPY_MODEL_a7b81a267bbd44248d34715859a45c13",
              "IPY_MODEL_055e7c8d3f444097932ee55102c74af8"
            ],
            "layout": "IPY_MODEL_2cf3f20a7e7c46b080b073cc507e77c5"
          }
        },
        "5e91ebe96add460d8e543132f4ebbf60": {
          "model_module": "@jupyter-widgets/controls",
          "model_name": "HTMLModel",
          "model_module_version": "1.5.0",
          "state": {
            "_dom_classes": [],
            "_model_module": "@jupyter-widgets/controls",
            "_model_module_version": "1.5.0",
            "_model_name": "HTMLModel",
            "_view_count": null,
            "_view_module": "@jupyter-widgets/controls",
            "_view_module_version": "1.5.0",
            "_view_name": "HTMLView",
            "description": "",
            "description_tooltip": null,
            "layout": "IPY_MODEL_dc5fab7d518f441c8bbdb883b1e92e04",
            "placeholder": "​",
            "style": "IPY_MODEL_ce16cb4c814444978b973c722682128c",
            "value": "Downloading: 100%"
          }
        },
        "a7b81a267bbd44248d34715859a45c13": {
          "model_module": "@jupyter-widgets/controls",
          "model_name": "FloatProgressModel",
          "model_module_version": "1.5.0",
          "state": {
            "_dom_classes": [],
            "_model_module": "@jupyter-widgets/controls",
            "_model_module_version": "1.5.0",
            "_model_name": "FloatProgressModel",
            "_view_count": null,
            "_view_module": "@jupyter-widgets/controls",
            "_view_module_version": "1.5.0",
            "_view_name": "ProgressView",
            "bar_style": "success",
            "description": "",
            "description_tooltip": null,
            "layout": "IPY_MODEL_d727a413251a48f296ff2bd4f013b243",
            "max": 28,
            "min": 0,
            "orientation": "horizontal",
            "style": "IPY_MODEL_0d2d9ab5015d40359412267883887f4b",
            "value": 28
          }
        },
        "055e7c8d3f444097932ee55102c74af8": {
          "model_module": "@jupyter-widgets/controls",
          "model_name": "HTMLModel",
          "model_module_version": "1.5.0",
          "state": {
            "_dom_classes": [],
            "_model_module": "@jupyter-widgets/controls",
            "_model_module_version": "1.5.0",
            "_model_name": "HTMLModel",
            "_view_count": null,
            "_view_module": "@jupyter-widgets/controls",
            "_view_module_version": "1.5.0",
            "_view_name": "HTMLView",
            "description": "",
            "description_tooltip": null,
            "layout": "IPY_MODEL_85c69b85d5a84134ac9acba29b39a41c",
            "placeholder": "​",
            "style": "IPY_MODEL_9801df7804d54702bf9268167109b419",
            "value": " 28.0/28.0 [00:00&lt;00:00, 394B/s]"
          }
        },
        "2cf3f20a7e7c46b080b073cc507e77c5": {
          "model_module": "@jupyter-widgets/base",
          "model_name": "LayoutModel",
          "model_module_version": "1.2.0",
          "state": {
            "_model_module": "@jupyter-widgets/base",
            "_model_module_version": "1.2.0",
            "_model_name": "LayoutModel",
            "_view_count": null,
            "_view_module": "@jupyter-widgets/base",
            "_view_module_version": "1.2.0",
            "_view_name": "LayoutView",
            "align_content": null,
            "align_items": null,
            "align_self": null,
            "border": null,
            "bottom": null,
            "display": null,
            "flex": null,
            "flex_flow": null,
            "grid_area": null,
            "grid_auto_columns": null,
            "grid_auto_flow": null,
            "grid_auto_rows": null,
            "grid_column": null,
            "grid_gap": null,
            "grid_row": null,
            "grid_template_areas": null,
            "grid_template_columns": null,
            "grid_template_rows": null,
            "height": null,
            "justify_content": null,
            "justify_items": null,
            "left": null,
            "margin": null,
            "max_height": null,
            "max_width": null,
            "min_height": null,
            "min_width": null,
            "object_fit": null,
            "object_position": null,
            "order": null,
            "overflow": null,
            "overflow_x": null,
            "overflow_y": null,
            "padding": null,
            "right": null,
            "top": null,
            "visibility": null,
            "width": null
          }
        },
        "dc5fab7d518f441c8bbdb883b1e92e04": {
          "model_module": "@jupyter-widgets/base",
          "model_name": "LayoutModel",
          "model_module_version": "1.2.0",
          "state": {
            "_model_module": "@jupyter-widgets/base",
            "_model_module_version": "1.2.0",
            "_model_name": "LayoutModel",
            "_view_count": null,
            "_view_module": "@jupyter-widgets/base",
            "_view_module_version": "1.2.0",
            "_view_name": "LayoutView",
            "align_content": null,
            "align_items": null,
            "align_self": null,
            "border": null,
            "bottom": null,
            "display": null,
            "flex": null,
            "flex_flow": null,
            "grid_area": null,
            "grid_auto_columns": null,
            "grid_auto_flow": null,
            "grid_auto_rows": null,
            "grid_column": null,
            "grid_gap": null,
            "grid_row": null,
            "grid_template_areas": null,
            "grid_template_columns": null,
            "grid_template_rows": null,
            "height": null,
            "justify_content": null,
            "justify_items": null,
            "left": null,
            "margin": null,
            "max_height": null,
            "max_width": null,
            "min_height": null,
            "min_width": null,
            "object_fit": null,
            "object_position": null,
            "order": null,
            "overflow": null,
            "overflow_x": null,
            "overflow_y": null,
            "padding": null,
            "right": null,
            "top": null,
            "visibility": null,
            "width": null
          }
        },
        "ce16cb4c814444978b973c722682128c": {
          "model_module": "@jupyter-widgets/controls",
          "model_name": "DescriptionStyleModel",
          "model_module_version": "1.5.0",
          "state": {
            "_model_module": "@jupyter-widgets/controls",
            "_model_module_version": "1.5.0",
            "_model_name": "DescriptionStyleModel",
            "_view_count": null,
            "_view_module": "@jupyter-widgets/base",
            "_view_module_version": "1.2.0",
            "_view_name": "StyleView",
            "description_width": ""
          }
        },
        "d727a413251a48f296ff2bd4f013b243": {
          "model_module": "@jupyter-widgets/base",
          "model_name": "LayoutModel",
          "model_module_version": "1.2.0",
          "state": {
            "_model_module": "@jupyter-widgets/base",
            "_model_module_version": "1.2.0",
            "_model_name": "LayoutModel",
            "_view_count": null,
            "_view_module": "@jupyter-widgets/base",
            "_view_module_version": "1.2.0",
            "_view_name": "LayoutView",
            "align_content": null,
            "align_items": null,
            "align_self": null,
            "border": null,
            "bottom": null,
            "display": null,
            "flex": null,
            "flex_flow": null,
            "grid_area": null,
            "grid_auto_columns": null,
            "grid_auto_flow": null,
            "grid_auto_rows": null,
            "grid_column": null,
            "grid_gap": null,
            "grid_row": null,
            "grid_template_areas": null,
            "grid_template_columns": null,
            "grid_template_rows": null,
            "height": null,
            "justify_content": null,
            "justify_items": null,
            "left": null,
            "margin": null,
            "max_height": null,
            "max_width": null,
            "min_height": null,
            "min_width": null,
            "object_fit": null,
            "object_position": null,
            "order": null,
            "overflow": null,
            "overflow_x": null,
            "overflow_y": null,
            "padding": null,
            "right": null,
            "top": null,
            "visibility": null,
            "width": null
          }
        },
        "0d2d9ab5015d40359412267883887f4b": {
          "model_module": "@jupyter-widgets/controls",
          "model_name": "ProgressStyleModel",
          "model_module_version": "1.5.0",
          "state": {
            "_model_module": "@jupyter-widgets/controls",
            "_model_module_version": "1.5.0",
            "_model_name": "ProgressStyleModel",
            "_view_count": null,
            "_view_module": "@jupyter-widgets/base",
            "_view_module_version": "1.2.0",
            "_view_name": "StyleView",
            "bar_color": null,
            "description_width": ""
          }
        },
        "85c69b85d5a84134ac9acba29b39a41c": {
          "model_module": "@jupyter-widgets/base",
          "model_name": "LayoutModel",
          "model_module_version": "1.2.0",
          "state": {
            "_model_module": "@jupyter-widgets/base",
            "_model_module_version": "1.2.0",
            "_model_name": "LayoutModel",
            "_view_count": null,
            "_view_module": "@jupyter-widgets/base",
            "_view_module_version": "1.2.0",
            "_view_name": "LayoutView",
            "align_content": null,
            "align_items": null,
            "align_self": null,
            "border": null,
            "bottom": null,
            "display": null,
            "flex": null,
            "flex_flow": null,
            "grid_area": null,
            "grid_auto_columns": null,
            "grid_auto_flow": null,
            "grid_auto_rows": null,
            "grid_column": null,
            "grid_gap": null,
            "grid_row": null,
            "grid_template_areas": null,
            "grid_template_columns": null,
            "grid_template_rows": null,
            "height": null,
            "justify_content": null,
            "justify_items": null,
            "left": null,
            "margin": null,
            "max_height": null,
            "max_width": null,
            "min_height": null,
            "min_width": null,
            "object_fit": null,
            "object_position": null,
            "order": null,
            "overflow": null,
            "overflow_x": null,
            "overflow_y": null,
            "padding": null,
            "right": null,
            "top": null,
            "visibility": null,
            "width": null
          }
        },
        "9801df7804d54702bf9268167109b419": {
          "model_module": "@jupyter-widgets/controls",
          "model_name": "DescriptionStyleModel",
          "model_module_version": "1.5.0",
          "state": {
            "_model_module": "@jupyter-widgets/controls",
            "_model_module_version": "1.5.0",
            "_model_name": "DescriptionStyleModel",
            "_view_count": null,
            "_view_module": "@jupyter-widgets/base",
            "_view_module_version": "1.2.0",
            "_view_name": "StyleView",
            "description_width": ""
          }
        },
        "965a11ffdc564f349be6d1892a12cde5": {
          "model_module": "@jupyter-widgets/controls",
          "model_name": "HBoxModel",
          "model_module_version": "1.5.0",
          "state": {
            "_dom_classes": [],
            "_model_module": "@jupyter-widgets/controls",
            "_model_module_version": "1.5.0",
            "_model_name": "HBoxModel",
            "_view_count": null,
            "_view_module": "@jupyter-widgets/controls",
            "_view_module_version": "1.5.0",
            "_view_name": "HBoxView",
            "box_style": "",
            "children": [
              "IPY_MODEL_a457026d571542f7ab8124ebf95ef936",
              "IPY_MODEL_32f0d8cd34224f7182be924c4de4449b",
              "IPY_MODEL_ecd0a9b7b23a43878be5e8ee86ffec97"
            ],
            "layout": "IPY_MODEL_cf1a786ab4ba41238c5a3b232d99cc33"
          }
        },
        "a457026d571542f7ab8124ebf95ef936": {
          "model_module": "@jupyter-widgets/controls",
          "model_name": "HTMLModel",
          "model_module_version": "1.5.0",
          "state": {
            "_dom_classes": [],
            "_model_module": "@jupyter-widgets/controls",
            "_model_module_version": "1.5.0",
            "_model_name": "HTMLModel",
            "_view_count": null,
            "_view_module": "@jupyter-widgets/controls",
            "_view_module_version": "1.5.0",
            "_view_name": "HTMLView",
            "description": "",
            "description_tooltip": null,
            "layout": "IPY_MODEL_a11d8d301c324e4fb236bcc818426402",
            "placeholder": "​",
            "style": "IPY_MODEL_92290e9125ec40f0b6f2af3f0f338402",
            "value": "Downloading: 100%"
          }
        },
        "32f0d8cd34224f7182be924c4de4449b": {
          "model_module": "@jupyter-widgets/controls",
          "model_name": "FloatProgressModel",
          "model_module_version": "1.5.0",
          "state": {
            "_dom_classes": [],
            "_model_module": "@jupyter-widgets/controls",
            "_model_module_version": "1.5.0",
            "_model_name": "FloatProgressModel",
            "_view_count": null,
            "_view_module": "@jupyter-widgets/controls",
            "_view_module_version": "1.5.0",
            "_view_name": "ProgressView",
            "bar_style": "success",
            "description": "",
            "description_tooltip": null,
            "layout": "IPY_MODEL_a3d07a37b07f4b2eaba10d0d72a569ef",
            "max": 570,
            "min": 0,
            "orientation": "horizontal",
            "style": "IPY_MODEL_0f69b16b546742819bf8a611eabdf753",
            "value": 570
          }
        },
        "ecd0a9b7b23a43878be5e8ee86ffec97": {
          "model_module": "@jupyter-widgets/controls",
          "model_name": "HTMLModel",
          "model_module_version": "1.5.0",
          "state": {
            "_dom_classes": [],
            "_model_module": "@jupyter-widgets/controls",
            "_model_module_version": "1.5.0",
            "_model_name": "HTMLModel",
            "_view_count": null,
            "_view_module": "@jupyter-widgets/controls",
            "_view_module_version": "1.5.0",
            "_view_name": "HTMLView",
            "description": "",
            "description_tooltip": null,
            "layout": "IPY_MODEL_4e835661705948c380be140d7803f3e6",
            "placeholder": "​",
            "style": "IPY_MODEL_d41888390ae8440fae9f2ab3e224e330",
            "value": " 570/570 [00:00&lt;00:00, 11.6kB/s]"
          }
        },
        "cf1a786ab4ba41238c5a3b232d99cc33": {
          "model_module": "@jupyter-widgets/base",
          "model_name": "LayoutModel",
          "model_module_version": "1.2.0",
          "state": {
            "_model_module": "@jupyter-widgets/base",
            "_model_module_version": "1.2.0",
            "_model_name": "LayoutModel",
            "_view_count": null,
            "_view_module": "@jupyter-widgets/base",
            "_view_module_version": "1.2.0",
            "_view_name": "LayoutView",
            "align_content": null,
            "align_items": null,
            "align_self": null,
            "border": null,
            "bottom": null,
            "display": null,
            "flex": null,
            "flex_flow": null,
            "grid_area": null,
            "grid_auto_columns": null,
            "grid_auto_flow": null,
            "grid_auto_rows": null,
            "grid_column": null,
            "grid_gap": null,
            "grid_row": null,
            "grid_template_areas": null,
            "grid_template_columns": null,
            "grid_template_rows": null,
            "height": null,
            "justify_content": null,
            "justify_items": null,
            "left": null,
            "margin": null,
            "max_height": null,
            "max_width": null,
            "min_height": null,
            "min_width": null,
            "object_fit": null,
            "object_position": null,
            "order": null,
            "overflow": null,
            "overflow_x": null,
            "overflow_y": null,
            "padding": null,
            "right": null,
            "top": null,
            "visibility": null,
            "width": null
          }
        },
        "a11d8d301c324e4fb236bcc818426402": {
          "model_module": "@jupyter-widgets/base",
          "model_name": "LayoutModel",
          "model_module_version": "1.2.0",
          "state": {
            "_model_module": "@jupyter-widgets/base",
            "_model_module_version": "1.2.0",
            "_model_name": "LayoutModel",
            "_view_count": null,
            "_view_module": "@jupyter-widgets/base",
            "_view_module_version": "1.2.0",
            "_view_name": "LayoutView",
            "align_content": null,
            "align_items": null,
            "align_self": null,
            "border": null,
            "bottom": null,
            "display": null,
            "flex": null,
            "flex_flow": null,
            "grid_area": null,
            "grid_auto_columns": null,
            "grid_auto_flow": null,
            "grid_auto_rows": null,
            "grid_column": null,
            "grid_gap": null,
            "grid_row": null,
            "grid_template_areas": null,
            "grid_template_columns": null,
            "grid_template_rows": null,
            "height": null,
            "justify_content": null,
            "justify_items": null,
            "left": null,
            "margin": null,
            "max_height": null,
            "max_width": null,
            "min_height": null,
            "min_width": null,
            "object_fit": null,
            "object_position": null,
            "order": null,
            "overflow": null,
            "overflow_x": null,
            "overflow_y": null,
            "padding": null,
            "right": null,
            "top": null,
            "visibility": null,
            "width": null
          }
        },
        "92290e9125ec40f0b6f2af3f0f338402": {
          "model_module": "@jupyter-widgets/controls",
          "model_name": "DescriptionStyleModel",
          "model_module_version": "1.5.0",
          "state": {
            "_model_module": "@jupyter-widgets/controls",
            "_model_module_version": "1.5.0",
            "_model_name": "DescriptionStyleModel",
            "_view_count": null,
            "_view_module": "@jupyter-widgets/base",
            "_view_module_version": "1.2.0",
            "_view_name": "StyleView",
            "description_width": ""
          }
        },
        "a3d07a37b07f4b2eaba10d0d72a569ef": {
          "model_module": "@jupyter-widgets/base",
          "model_name": "LayoutModel",
          "model_module_version": "1.2.0",
          "state": {
            "_model_module": "@jupyter-widgets/base",
            "_model_module_version": "1.2.0",
            "_model_name": "LayoutModel",
            "_view_count": null,
            "_view_module": "@jupyter-widgets/base",
            "_view_module_version": "1.2.0",
            "_view_name": "LayoutView",
            "align_content": null,
            "align_items": null,
            "align_self": null,
            "border": null,
            "bottom": null,
            "display": null,
            "flex": null,
            "flex_flow": null,
            "grid_area": null,
            "grid_auto_columns": null,
            "grid_auto_flow": null,
            "grid_auto_rows": null,
            "grid_column": null,
            "grid_gap": null,
            "grid_row": null,
            "grid_template_areas": null,
            "grid_template_columns": null,
            "grid_template_rows": null,
            "height": null,
            "justify_content": null,
            "justify_items": null,
            "left": null,
            "margin": null,
            "max_height": null,
            "max_width": null,
            "min_height": null,
            "min_width": null,
            "object_fit": null,
            "object_position": null,
            "order": null,
            "overflow": null,
            "overflow_x": null,
            "overflow_y": null,
            "padding": null,
            "right": null,
            "top": null,
            "visibility": null,
            "width": null
          }
        },
        "0f69b16b546742819bf8a611eabdf753": {
          "model_module": "@jupyter-widgets/controls",
          "model_name": "ProgressStyleModel",
          "model_module_version": "1.5.0",
          "state": {
            "_model_module": "@jupyter-widgets/controls",
            "_model_module_version": "1.5.0",
            "_model_name": "ProgressStyleModel",
            "_view_count": null,
            "_view_module": "@jupyter-widgets/base",
            "_view_module_version": "1.2.0",
            "_view_name": "StyleView",
            "bar_color": null,
            "description_width": ""
          }
        },
        "4e835661705948c380be140d7803f3e6": {
          "model_module": "@jupyter-widgets/base",
          "model_name": "LayoutModel",
          "model_module_version": "1.2.0",
          "state": {
            "_model_module": "@jupyter-widgets/base",
            "_model_module_version": "1.2.0",
            "_model_name": "LayoutModel",
            "_view_count": null,
            "_view_module": "@jupyter-widgets/base",
            "_view_module_version": "1.2.0",
            "_view_name": "LayoutView",
            "align_content": null,
            "align_items": null,
            "align_self": null,
            "border": null,
            "bottom": null,
            "display": null,
            "flex": null,
            "flex_flow": null,
            "grid_area": null,
            "grid_auto_columns": null,
            "grid_auto_flow": null,
            "grid_auto_rows": null,
            "grid_column": null,
            "grid_gap": null,
            "grid_row": null,
            "grid_template_areas": null,
            "grid_template_columns": null,
            "grid_template_rows": null,
            "height": null,
            "justify_content": null,
            "justify_items": null,
            "left": null,
            "margin": null,
            "max_height": null,
            "max_width": null,
            "min_height": null,
            "min_width": null,
            "object_fit": null,
            "object_position": null,
            "order": null,
            "overflow": null,
            "overflow_x": null,
            "overflow_y": null,
            "padding": null,
            "right": null,
            "top": null,
            "visibility": null,
            "width": null
          }
        },
        "d41888390ae8440fae9f2ab3e224e330": {
          "model_module": "@jupyter-widgets/controls",
          "model_name": "DescriptionStyleModel",
          "model_module_version": "1.5.0",
          "state": {
            "_model_module": "@jupyter-widgets/controls",
            "_model_module_version": "1.5.0",
            "_model_name": "DescriptionStyleModel",
            "_view_count": null,
            "_view_module": "@jupyter-widgets/base",
            "_view_module_version": "1.2.0",
            "_view_name": "StyleView",
            "description_width": ""
          }
        },
        "afae9f44cc1547ffb541175d8925363e": {
          "model_module": "@jupyter-widgets/controls",
          "model_name": "HBoxModel",
          "model_module_version": "1.5.0",
          "state": {
            "_dom_classes": [],
            "_model_module": "@jupyter-widgets/controls",
            "_model_module_version": "1.5.0",
            "_model_name": "HBoxModel",
            "_view_count": null,
            "_view_module": "@jupyter-widgets/controls",
            "_view_module_version": "1.5.0",
            "_view_name": "HBoxView",
            "box_style": "",
            "children": [
              "IPY_MODEL_207011ae114f411898350208e25fe1e0",
              "IPY_MODEL_f5d2bf7530df4721afdf6c2fff6589c3",
              "IPY_MODEL_901febe44e334ba18bf16f0ad2546d54"
            ],
            "layout": "IPY_MODEL_19604d6c46b94d97845c6538b6fbb6ac"
          }
        },
        "207011ae114f411898350208e25fe1e0": {
          "model_module": "@jupyter-widgets/controls",
          "model_name": "HTMLModel",
          "model_module_version": "1.5.0",
          "state": {
            "_dom_classes": [],
            "_model_module": "@jupyter-widgets/controls",
            "_model_module_version": "1.5.0",
            "_model_name": "HTMLModel",
            "_view_count": null,
            "_view_module": "@jupyter-widgets/controls",
            "_view_module_version": "1.5.0",
            "_view_name": "HTMLView",
            "description": "",
            "description_tooltip": null,
            "layout": "IPY_MODEL_14c75a029c7545bf84293d996edc6f57",
            "placeholder": "​",
            "style": "IPY_MODEL_9d64bff25d9f44a0bca97be105b66fd8",
            "value": "Downloading: 100%"
          }
        },
        "f5d2bf7530df4721afdf6c2fff6589c3": {
          "model_module": "@jupyter-widgets/controls",
          "model_name": "FloatProgressModel",
          "model_module_version": "1.5.0",
          "state": {
            "_dom_classes": [],
            "_model_module": "@jupyter-widgets/controls",
            "_model_module_version": "1.5.0",
            "_model_name": "FloatProgressModel",
            "_view_count": null,
            "_view_module": "@jupyter-widgets/controls",
            "_view_module_version": "1.5.0",
            "_view_name": "ProgressView",
            "bar_style": "success",
            "description": "",
            "description_tooltip": null,
            "layout": "IPY_MODEL_9cc8f46dbd954cf98e3c542c6203e1db",
            "max": 536063208,
            "min": 0,
            "orientation": "horizontal",
            "style": "IPY_MODEL_eca13dee169b48feaa443da36548b51d",
            "value": 536063208
          }
        },
        "901febe44e334ba18bf16f0ad2546d54": {
          "model_module": "@jupyter-widgets/controls",
          "model_name": "HTMLModel",
          "model_module_version": "1.5.0",
          "state": {
            "_dom_classes": [],
            "_model_module": "@jupyter-widgets/controls",
            "_model_module_version": "1.5.0",
            "_model_name": "HTMLModel",
            "_view_count": null,
            "_view_module": "@jupyter-widgets/controls",
            "_view_module_version": "1.5.0",
            "_view_name": "HTMLView",
            "description": "",
            "description_tooltip": null,
            "layout": "IPY_MODEL_12036afdea324d3db1ce650b002bdf1a",
            "placeholder": "​",
            "style": "IPY_MODEL_9c8fef173a404bf8967dfbc2cda5992d",
            "value": " 511M/511M [00:18&lt;00:00, 30.1MB/s]"
          }
        },
        "19604d6c46b94d97845c6538b6fbb6ac": {
          "model_module": "@jupyter-widgets/base",
          "model_name": "LayoutModel",
          "model_module_version": "1.2.0",
          "state": {
            "_model_module": "@jupyter-widgets/base",
            "_model_module_version": "1.2.0",
            "_model_name": "LayoutModel",
            "_view_count": null,
            "_view_module": "@jupyter-widgets/base",
            "_view_module_version": "1.2.0",
            "_view_name": "LayoutView",
            "align_content": null,
            "align_items": null,
            "align_self": null,
            "border": null,
            "bottom": null,
            "display": null,
            "flex": null,
            "flex_flow": null,
            "grid_area": null,
            "grid_auto_columns": null,
            "grid_auto_flow": null,
            "grid_auto_rows": null,
            "grid_column": null,
            "grid_gap": null,
            "grid_row": null,
            "grid_template_areas": null,
            "grid_template_columns": null,
            "grid_template_rows": null,
            "height": null,
            "justify_content": null,
            "justify_items": null,
            "left": null,
            "margin": null,
            "max_height": null,
            "max_width": null,
            "min_height": null,
            "min_width": null,
            "object_fit": null,
            "object_position": null,
            "order": null,
            "overflow": null,
            "overflow_x": null,
            "overflow_y": null,
            "padding": null,
            "right": null,
            "top": null,
            "visibility": null,
            "width": null
          }
        },
        "14c75a029c7545bf84293d996edc6f57": {
          "model_module": "@jupyter-widgets/base",
          "model_name": "LayoutModel",
          "model_module_version": "1.2.0",
          "state": {
            "_model_module": "@jupyter-widgets/base",
            "_model_module_version": "1.2.0",
            "_model_name": "LayoutModel",
            "_view_count": null,
            "_view_module": "@jupyter-widgets/base",
            "_view_module_version": "1.2.0",
            "_view_name": "LayoutView",
            "align_content": null,
            "align_items": null,
            "align_self": null,
            "border": null,
            "bottom": null,
            "display": null,
            "flex": null,
            "flex_flow": null,
            "grid_area": null,
            "grid_auto_columns": null,
            "grid_auto_flow": null,
            "grid_auto_rows": null,
            "grid_column": null,
            "grid_gap": null,
            "grid_row": null,
            "grid_template_areas": null,
            "grid_template_columns": null,
            "grid_template_rows": null,
            "height": null,
            "justify_content": null,
            "justify_items": null,
            "left": null,
            "margin": null,
            "max_height": null,
            "max_width": null,
            "min_height": null,
            "min_width": null,
            "object_fit": null,
            "object_position": null,
            "order": null,
            "overflow": null,
            "overflow_x": null,
            "overflow_y": null,
            "padding": null,
            "right": null,
            "top": null,
            "visibility": null,
            "width": null
          }
        },
        "9d64bff25d9f44a0bca97be105b66fd8": {
          "model_module": "@jupyter-widgets/controls",
          "model_name": "DescriptionStyleModel",
          "model_module_version": "1.5.0",
          "state": {
            "_model_module": "@jupyter-widgets/controls",
            "_model_module_version": "1.5.0",
            "_model_name": "DescriptionStyleModel",
            "_view_count": null,
            "_view_module": "@jupyter-widgets/base",
            "_view_module_version": "1.2.0",
            "_view_name": "StyleView",
            "description_width": ""
          }
        },
        "9cc8f46dbd954cf98e3c542c6203e1db": {
          "model_module": "@jupyter-widgets/base",
          "model_name": "LayoutModel",
          "model_module_version": "1.2.0",
          "state": {
            "_model_module": "@jupyter-widgets/base",
            "_model_module_version": "1.2.0",
            "_model_name": "LayoutModel",
            "_view_count": null,
            "_view_module": "@jupyter-widgets/base",
            "_view_module_version": "1.2.0",
            "_view_name": "LayoutView",
            "align_content": null,
            "align_items": null,
            "align_self": null,
            "border": null,
            "bottom": null,
            "display": null,
            "flex": null,
            "flex_flow": null,
            "grid_area": null,
            "grid_auto_columns": null,
            "grid_auto_flow": null,
            "grid_auto_rows": null,
            "grid_column": null,
            "grid_gap": null,
            "grid_row": null,
            "grid_template_areas": null,
            "grid_template_columns": null,
            "grid_template_rows": null,
            "height": null,
            "justify_content": null,
            "justify_items": null,
            "left": null,
            "margin": null,
            "max_height": null,
            "max_width": null,
            "min_height": null,
            "min_width": null,
            "object_fit": null,
            "object_position": null,
            "order": null,
            "overflow": null,
            "overflow_x": null,
            "overflow_y": null,
            "padding": null,
            "right": null,
            "top": null,
            "visibility": null,
            "width": null
          }
        },
        "eca13dee169b48feaa443da36548b51d": {
          "model_module": "@jupyter-widgets/controls",
          "model_name": "ProgressStyleModel",
          "model_module_version": "1.5.0",
          "state": {
            "_model_module": "@jupyter-widgets/controls",
            "_model_module_version": "1.5.0",
            "_model_name": "ProgressStyleModel",
            "_view_count": null,
            "_view_module": "@jupyter-widgets/base",
            "_view_module_version": "1.2.0",
            "_view_name": "StyleView",
            "bar_color": null,
            "description_width": ""
          }
        },
        "12036afdea324d3db1ce650b002bdf1a": {
          "model_module": "@jupyter-widgets/base",
          "model_name": "LayoutModel",
          "model_module_version": "1.2.0",
          "state": {
            "_model_module": "@jupyter-widgets/base",
            "_model_module_version": "1.2.0",
            "_model_name": "LayoutModel",
            "_view_count": null,
            "_view_module": "@jupyter-widgets/base",
            "_view_module_version": "1.2.0",
            "_view_name": "LayoutView",
            "align_content": null,
            "align_items": null,
            "align_self": null,
            "border": null,
            "bottom": null,
            "display": null,
            "flex": null,
            "flex_flow": null,
            "grid_area": null,
            "grid_auto_columns": null,
            "grid_auto_flow": null,
            "grid_auto_rows": null,
            "grid_column": null,
            "grid_gap": null,
            "grid_row": null,
            "grid_template_areas": null,
            "grid_template_columns": null,
            "grid_template_rows": null,
            "height": null,
            "justify_content": null,
            "justify_items": null,
            "left": null,
            "margin": null,
            "max_height": null,
            "max_width": null,
            "min_height": null,
            "min_width": null,
            "object_fit": null,
            "object_position": null,
            "order": null,
            "overflow": null,
            "overflow_x": null,
            "overflow_y": null,
            "padding": null,
            "right": null,
            "top": null,
            "visibility": null,
            "width": null
          }
        },
        "9c8fef173a404bf8967dfbc2cda5992d": {
          "model_module": "@jupyter-widgets/controls",
          "model_name": "DescriptionStyleModel",
          "model_module_version": "1.5.0",
          "state": {
            "_model_module": "@jupyter-widgets/controls",
            "_model_module_version": "1.5.0",
            "_model_name": "DescriptionStyleModel",
            "_view_count": null,
            "_view_module": "@jupyter-widgets/base",
            "_view_module_version": "1.2.0",
            "_view_name": "StyleView",
            "description_width": ""
          }
        }
      }
    }
  },
  "cells": [
    {
      "cell_type": "markdown",
      "metadata": {
        "id": "view-in-github",
        "colab_type": "text"
      },
      "source": [
        "<a href=\"https://colab.research.google.com/github/AlirezaPNouri/Storytelling/blob/main/FinalExperimentalForPaper.ipynb\" target=\"_parent\"><img src=\"https://colab.research.google.com/assets/colab-badge.svg\" alt=\"Open In Colab\"/></a>"
      ]
    },
    {
      "cell_type": "markdown",
      "source": [
        "The final version of storytelling algorithm to generate the experimental results for paper. 5/6/2022"
      ],
      "metadata": {
        "id": "nmcNx-cdpudd"
      }
    },
    {
      "cell_type": "code",
      "execution_count": 1,
      "metadata": {
        "id": "UofcnpxGpt_v",
        "colab": {
          "base_uri": "https://localhost:8080/"
        },
        "outputId": "d5d21d6a-214c-46d5-d394-9cdd838d158c"
      },
      "outputs": [
        {
          "output_type": "stream",
          "name": "stdout",
          "text": [
            "Collecting transformers\n",
            "  Downloading transformers-4.18.0-py3-none-any.whl (4.0 MB)\n",
            "\u001b[K     |████████████████████████████████| 4.0 MB 30.1 MB/s \n",
            "\u001b[?25hRequirement already satisfied: tqdm>=4.27 in /usr/local/lib/python3.7/dist-packages (from transformers) (4.64.0)\n",
            "Requirement already satisfied: filelock in /usr/local/lib/python3.7/dist-packages (from transformers) (3.6.0)\n",
            "Requirement already satisfied: importlib-metadata in /usr/local/lib/python3.7/dist-packages (from transformers) (4.11.3)\n",
            "Collecting sacremoses\n",
            "  Downloading sacremoses-0.0.53.tar.gz (880 kB)\n",
            "\u001b[K     |████████████████████████████████| 880 kB 52.1 MB/s \n",
            "\u001b[?25hRequirement already satisfied: packaging>=20.0 in /usr/local/lib/python3.7/dist-packages (from transformers) (21.3)\n",
            "Requirement already satisfied: requests in /usr/local/lib/python3.7/dist-packages (from transformers) (2.23.0)\n",
            "Requirement already satisfied: regex!=2019.12.17 in /usr/local/lib/python3.7/dist-packages (from transformers) (2019.12.20)\n",
            "Requirement already satisfied: numpy>=1.17 in /usr/local/lib/python3.7/dist-packages (from transformers) (1.21.6)\n",
            "Collecting tokenizers!=0.11.3,<0.13,>=0.11.1\n",
            "  Downloading tokenizers-0.12.1-cp37-cp37m-manylinux_2_12_x86_64.manylinux2010_x86_64.whl (6.6 MB)\n",
            "\u001b[K     |████████████████████████████████| 6.6 MB 77.1 MB/s \n",
            "\u001b[?25hCollecting pyyaml>=5.1\n",
            "  Downloading PyYAML-6.0-cp37-cp37m-manylinux_2_5_x86_64.manylinux1_x86_64.manylinux_2_12_x86_64.manylinux2010_x86_64.whl (596 kB)\n",
            "\u001b[K     |████████████████████████████████| 596 kB 60.2 MB/s \n",
            "\u001b[?25hCollecting huggingface-hub<1.0,>=0.1.0\n",
            "  Downloading huggingface_hub-0.5.1-py3-none-any.whl (77 kB)\n",
            "\u001b[K     |████████████████████████████████| 77 kB 6.2 MB/s \n",
            "\u001b[?25hRequirement already satisfied: typing-extensions>=3.7.4.3 in /usr/local/lib/python3.7/dist-packages (from huggingface-hub<1.0,>=0.1.0->transformers) (4.2.0)\n",
            "Requirement already satisfied: pyparsing!=3.0.5,>=2.0.2 in /usr/local/lib/python3.7/dist-packages (from packaging>=20.0->transformers) (3.0.8)\n",
            "Requirement already satisfied: zipp>=0.5 in /usr/local/lib/python3.7/dist-packages (from importlib-metadata->transformers) (3.8.0)\n",
            "Requirement already satisfied: certifi>=2017.4.17 in /usr/local/lib/python3.7/dist-packages (from requests->transformers) (2021.10.8)\n",
            "Requirement already satisfied: idna<3,>=2.5 in /usr/local/lib/python3.7/dist-packages (from requests->transformers) (2.10)\n",
            "Requirement already satisfied: chardet<4,>=3.0.2 in /usr/local/lib/python3.7/dist-packages (from requests->transformers) (3.0.4)\n",
            "Requirement already satisfied: urllib3!=1.25.0,!=1.25.1,<1.26,>=1.21.1 in /usr/local/lib/python3.7/dist-packages (from requests->transformers) (1.24.3)\n",
            "Requirement already satisfied: six in /usr/local/lib/python3.7/dist-packages (from sacremoses->transformers) (1.15.0)\n",
            "Requirement already satisfied: click in /usr/local/lib/python3.7/dist-packages (from sacremoses->transformers) (7.1.2)\n",
            "Requirement already satisfied: joblib in /usr/local/lib/python3.7/dist-packages (from sacremoses->transformers) (1.1.0)\n",
            "Building wheels for collected packages: sacremoses\n",
            "  Building wheel for sacremoses (setup.py) ... \u001b[?25l\u001b[?25hdone\n",
            "  Created wheel for sacremoses: filename=sacremoses-0.0.53-py3-none-any.whl size=895260 sha256=1b1997b3dcb04e5f4e169846d62fc522ee456f14514af5d89513f11649992c75\n",
            "  Stored in directory: /root/.cache/pip/wheels/87/39/dd/a83eeef36d0bf98e7a4d1933a4ad2d660295a40613079bafc9\n",
            "Successfully built sacremoses\n",
            "Installing collected packages: pyyaml, tokenizers, sacremoses, huggingface-hub, transformers\n",
            "  Attempting uninstall: pyyaml\n",
            "    Found existing installation: PyYAML 3.13\n",
            "    Uninstalling PyYAML-3.13:\n",
            "      Successfully uninstalled PyYAML-3.13\n",
            "Successfully installed huggingface-hub-0.5.1 pyyaml-6.0 sacremoses-0.0.53 tokenizers-0.12.1 transformers-4.18.0\n"
          ]
        }
      ],
      "source": [
        "!pip install transformers"
      ]
    },
    {
      "cell_type": "code",
      "source": [
        "# needed packages\n",
        "import requests\n",
        "import numpy as np\n",
        "import pandas as pd\n",
        "import string\n",
        "import pickle\n",
        "import os\n",
        "from numpy import median, array, exp\n",
        "from sklearn.cluster import KMeans\n",
        "\n",
        "from sklearn.metrics.pairwise import cosine_similarity\n",
        "import tensorflow as tf\n",
        "from transformers import BertTokenizer, TFBertModel"
      ],
      "metadata": {
        "id": "OOqsVL4vqWtF"
      },
      "execution_count": 25,
      "outputs": []
    },
    {
      "cell_type": "code",
      "source": [
        "#### Load the pre-traiend BERT model #####################\n",
        "##########################################################\n",
        "tokenizer = BertTokenizer.from_pretrained('bert-base-uncased')\n",
        "model = TFBertModel.from_pretrained('bert-base-uncased')\n",
        "\n"
      ],
      "metadata": {
        "colab": {
          "base_uri": "https://localhost:8080/",
          "height": 232,
          "referenced_widgets": [
            "451cee28cafa40558a6816edec693a25",
            "60d97d91784f466fb7d49b0efdb7dd9b",
            "f0d15dffeaf7420685432cf046f8d548",
            "d9cc91e2b0f1463db4b615acb4c9588c",
            "ee5d77621d264ba492ec702bf37b1260",
            "09b259cefad248cc9298d59e117d2180",
            "dfa9f93d1d7046829cfc5010ebba7189",
            "5481cdd8bdf2481ea4910851bb29c16d",
            "e25046594bb24edb872a8c8b26207c0b",
            "c795164282644ad0806a04c35d7d2760",
            "8165d09716174848baa99086244c536b",
            "747888b567f94f968c294b6627c2343c",
            "5e91ebe96add460d8e543132f4ebbf60",
            "a7b81a267bbd44248d34715859a45c13",
            "055e7c8d3f444097932ee55102c74af8",
            "2cf3f20a7e7c46b080b073cc507e77c5",
            "dc5fab7d518f441c8bbdb883b1e92e04",
            "ce16cb4c814444978b973c722682128c",
            "d727a413251a48f296ff2bd4f013b243",
            "0d2d9ab5015d40359412267883887f4b",
            "85c69b85d5a84134ac9acba29b39a41c",
            "9801df7804d54702bf9268167109b419",
            "965a11ffdc564f349be6d1892a12cde5",
            "a457026d571542f7ab8124ebf95ef936",
            "32f0d8cd34224f7182be924c4de4449b",
            "ecd0a9b7b23a43878be5e8ee86ffec97",
            "cf1a786ab4ba41238c5a3b232d99cc33",
            "a11d8d301c324e4fb236bcc818426402",
            "92290e9125ec40f0b6f2af3f0f338402",
            "a3d07a37b07f4b2eaba10d0d72a569ef",
            "0f69b16b546742819bf8a611eabdf753",
            "4e835661705948c380be140d7803f3e6",
            "d41888390ae8440fae9f2ab3e224e330",
            "afae9f44cc1547ffb541175d8925363e",
            "207011ae114f411898350208e25fe1e0",
            "f5d2bf7530df4721afdf6c2fff6589c3",
            "901febe44e334ba18bf16f0ad2546d54",
            "19604d6c46b94d97845c6538b6fbb6ac",
            "14c75a029c7545bf84293d996edc6f57",
            "9d64bff25d9f44a0bca97be105b66fd8",
            "9cc8f46dbd954cf98e3c542c6203e1db",
            "eca13dee169b48feaa443da36548b51d",
            "12036afdea324d3db1ce650b002bdf1a",
            "9c8fef173a404bf8967dfbc2cda5992d"
          ]
        },
        "id": "hMOLGcqcjs6i",
        "outputId": "f5f810c7-f991-4347-a889-1ae843743172"
      },
      "execution_count": 3,
      "outputs": [
        {
          "output_type": "display_data",
          "data": {
            "text/plain": [
              "Downloading:   0%|          | 0.00/226k [00:00<?, ?B/s]"
            ],
            "application/vnd.jupyter.widget-view+json": {
              "version_major": 2,
              "version_minor": 0,
              "model_id": "451cee28cafa40558a6816edec693a25"
            }
          },
          "metadata": {}
        },
        {
          "output_type": "display_data",
          "data": {
            "text/plain": [
              "Downloading:   0%|          | 0.00/28.0 [00:00<?, ?B/s]"
            ],
            "application/vnd.jupyter.widget-view+json": {
              "version_major": 2,
              "version_minor": 0,
              "model_id": "747888b567f94f968c294b6627c2343c"
            }
          },
          "metadata": {}
        },
        {
          "output_type": "display_data",
          "data": {
            "text/plain": [
              "Downloading:   0%|          | 0.00/570 [00:00<?, ?B/s]"
            ],
            "application/vnd.jupyter.widget-view+json": {
              "version_major": 2,
              "version_minor": 0,
              "model_id": "965a11ffdc564f349be6d1892a12cde5"
            }
          },
          "metadata": {}
        },
        {
          "output_type": "display_data",
          "data": {
            "text/plain": [
              "Downloading:   0%|          | 0.00/511M [00:00<?, ?B/s]"
            ],
            "application/vnd.jupyter.widget-view+json": {
              "version_major": 2,
              "version_minor": 0,
              "model_id": "afae9f44cc1547ffb541175d8925363e"
            }
          },
          "metadata": {}
        },
        {
          "output_type": "stream",
          "name": "stderr",
          "text": [
            "Some layers from the model checkpoint at bert-base-uncased were not used when initializing TFBertModel: ['mlm___cls', 'nsp___cls']\n",
            "- This IS expected if you are initializing TFBertModel from the checkpoint of a model trained on another task or with another architecture (e.g. initializing a BertForSequenceClassification model from a BertForPreTraining model).\n",
            "- This IS NOT expected if you are initializing TFBertModel from the checkpoint of a model that you expect to be exactly identical (initializing a BertForSequenceClassification model from a BertForSequenceClassification model).\n",
            "All the layers of TFBertModel were initialized from the model checkpoint at bert-base-uncased.\n",
            "If your task is similar to the task the model of the checkpoint was trained on, you can already use TFBertModel for predictions without further training.\n"
          ]
        }
      ]
    },
    {
      "cell_type": "code",
      "source": [
        "#constant variables\n",
        "dataset_covid_link = 'https://raw.githubusercontent.com/AlirezaPNouri/Storytelling/main/datasets/short_parsed_covid_data.csv'\n",
        "dataset_NYT_link = 'https://raw.githubusercontent.com/AlirezaPNouri/Storytelling/main/datasets/short_parsed_NYT_data.csv'\n",
        "dataset_percentage = .6\n",
        "MAX_DATA = 100\n",
        "MAX_SENTENCE_LENGTH = 400\n",
        "MIN_SENTENCE_LENGTH = 200\n",
        "doc_list =[item for item in range(MAX_DATA)]\n",
        "jump = 3 # jump size for gradient decent\n",
        "MAX_FEATURE_SIZE = 20 # max size of the gradient descent vector\n",
        "range_n_clusters = [2, 3, 4, 5, 6] #number of different clustering to compare the performance of the model over different clustering\n",
        "threshold_cluster_overlapping = 0.7 # to consider two clsuters are similar\n",
        "stopwords = ['i','me','my','myself','we','our','ours','ourselves','you','your','yours','yourself','yourselves','he','him','his','himself','she','her','hers','herself','it','its','itself','they','them','their','theirs','themselves','what','which','who','whom','this','that','these','those','am','is','are','was','were','be','been','being','have','has','had','having','do','does','did','doing','a','an','the','and','but','if','or','because','as','until','while','of','at','by','for','with','about','against','between','into','through','during','before','after','above','below','to','from','up','down','in','out','on','off','over','under','again','further','then','once','here','there','when','where','why','how','all','any','both','each','few','more','most','other','some','such','no','nor','not','only','own','same','so','than','too','very','s','t','can','will','just','don','should','now', 'of', 'within']\n"
      ],
      "metadata": {
        "id": "RaFirP3yqaoQ"
      },
      "execution_count": 26,
      "outputs": []
    },
    {
      "cell_type": "code",
      "source": [
        "# download the dataset as a zip file from the git repo\n",
        "def dataset_downloader(str_):\n",
        "  \"\"\"\n",
        "  This function download a dataset\n",
        "  Arguments:\n",
        "    str_: the name of the dataset. It can be covid or NYT\n",
        "  Returns:\n",
        "    df: a pandas dataframe\n",
        "  \"\"\"\n",
        "  if str_ == 'covid':\n",
        "    url = dataset_NYT_link\n",
        "  elif str_ == 'NYT':\n",
        "    url = dataset_covid_link\n",
        "  else:\n",
        "    print('dataset is not choose correctly!')\n",
        "\n",
        "  print('Downloading dataset...')\n",
        "  res = requests.get(url, allow_redirects=True)\n",
        "  with open('small_dataset_NYT.csv','wb') as file:\n",
        "      file.write(res.content)\n",
        "  print('Download is done!')\n",
        "  df = pd.read_csv(\"/content/small_dataset_NYT.csv\", header= None, skiprows=1)\n",
        "  if str_ == 'NYT':\n",
        "    df.columns = ['id', 'title', 'content', 'publish_time', 'author']\n",
        "  elif str_ == 'covid':\n",
        "    df.columns = ['id', 'title', 'content', 'author', 'publish_time']\n",
        "  \n",
        "  df = df.dropna(how='any', axis=0)\n",
        "  print('dataset size after removing non-value cells is {}'.format(df.shape))\n",
        "  # reduce the size of dataset to dataset_percentage*dataset.shape\n",
        "  df = df.sample(frac=dataset_percentage)\n",
        "  print('The new size of dataset is {} and the columns are {}'.format(df.shape, df.columns.values ))\n",
        "  # remove the content that has less than MIN_SENTENCE_LENGTH words \n",
        "  df = df[df['content'].apply(lambda x : len(x.split(' ')))>=MIN_SENTENCE_LENGTH]\n",
        "\n",
        "  # keep the first 500 words in content\n",
        "  df['content'] = df['content'].apply(lambda x : ' '.join(x.split(' ')[:MAX_SENTENCE_LENGTH]))\n",
        "  return df\n"
      ],
      "metadata": {
        "id": "EOhlK0uCrBu_"
      },
      "execution_count": 5,
      "outputs": []
    },
    {
      "cell_type": "code",
      "source": [
        "def special_char_remover(str_):\n",
        "  \"\"\"\n",
        "  This function removes any special characters from a text\n",
        "  Arguments:\n",
        "    str_: a string\n",
        "  Returns:\n",
        "    A string\n",
        "  \"\"\"\n",
        "  return ' '.join(''.join(w for w in m if w.isalnum()) for m in str_.split(' '))"
      ],
      "metadata": {
        "id": "kAubA6csVHFW"
      },
      "execution_count": 6,
      "outputs": []
    },
    {
      "cell_type": "code",
      "source": [
        "### create embedding vector for each token in each document\n",
        "def bert_embedding_generator(df_):\n",
        "  \"\"\"\n",
        "  Generate the embedding for a document\n",
        "  Arguments:\n",
        "    df_: a pandas dataframe \n",
        "  Returns:\n",
        "    Embedding_dict: a dictionary of document indices and [embedding vectors, content]\n",
        "  \"\"\"\n",
        "  Embedding_dict = dict()\n",
        "  print('Start to generate the embedding vector for documents')\n",
        "  c = 0\n",
        "  for index, row in df_.iterrows():\n",
        "    tmp_e = model(tf.constant(tokenizer.encode(row['content']))[None, :])[0][0]\n",
        "    tmp_d = tokenizer.tokenize(row['content'])\n",
        "    temp_dict = dict()\n",
        "    temp_dict['cls'] = tmp_e[0]\n",
        "    for emb, tok in zip(tmp_e[1:-1], tmp_d):\n",
        "      temp_dict[tok] = emb\n",
        "    temp_dict['sep'] = tmp_e[-1]\n",
        "    Embedding_dict[row['id']] = temp_dict\n",
        "    c +=1\n",
        "  print('Embedding is done for {} documents.'.format(c))\n",
        "  return Embedding_dict"
      ],
      "metadata": {
        "id": "ydLITR-2kr3J"
      },
      "execution_count": 7,
      "outputs": []
    },
    {
      "cell_type": "code",
      "source": [
        "#### Create a list of dataframe out of the dataset. Each dataframe belongs to a timestamp #############\n",
        "#######################################################################################################\n",
        "# use 10 days as time interval\n",
        "def timestamps_generator(df_):\n",
        "  \"\"\"\n",
        "  This function collect data related to each timestamp separately in a dataframe\n",
        "  Arguments:\n",
        "    df_: a pandas dataframe\n",
        "  Returns:\n",
        "    df_list: a list of all timestamps data [df_1, df_2, ...]\n",
        "  \"\"\"\n",
        "  time_stamp = set()\n",
        "  df_list= list()\n",
        "  for index, row in df_.iterrows():\n",
        "    time_stamp.add(row['publish_time'][0:3])\n",
        "  for time_interval in time_stamp:\n",
        "    new_df = df_[df_['publish_time'].str.slice(0, 3)== time_interval]\n",
        "    if new_df.shape[0]>5: #minimum number of doc in a timestamp\n",
        "      df_list.append(new_df)\n",
        "  return df_list"
      ],
      "metadata": {
        "id": "gTYM237JhYdP"
      },
      "execution_count": 8,
      "outputs": []
    },
    {
      "cell_type": "code",
      "source": [
        "def time_fixer(str_):\n",
        "  \"\"\"\n",
        "  This function convert a date from x/x/xxxx to 0x0xxxxx\n",
        "  Arguments:\n",
        "    str_: a date in a string format\n",
        "  Returns:\n",
        "    a string without any / and all months and days are in two digit\n",
        "  \"\"\"\n",
        "  t_slot = str_.split('/')\n",
        "  t_slot[0] = t_slot[0] if len(t_slot[0]) == 2 else '0'+t_slot[0]\n",
        "  t_slot[1] = t_slot[1] if len(t_slot[1]) == 2 else '0'+t_slot[1]\n",
        "  return ''+t_slot[0]+t_slot[1]+t_slot[2]"
      ],
      "metadata": {
        "id": "gekwhfpwlPsi"
      },
      "execution_count": 9,
      "outputs": []
    },
    {
      "cell_type": "code",
      "source": [
        "def find_similarity(Embed_):\n",
        "  \"\"\"\n",
        "  This function calculate the cosine similarity between each pair of words in a document and sort them as a new vector\n",
        "  Arguments:\n",
        "    Embed_: a dictionary of all doc and embedding seperated into their timestamps {timestamp1 {doc1{token1: embedding, token2: embedding}}}\n",
        "  Returns:\n",
        "    neighbor_ts_doc: a dictionary of all timestamps, docs and the neighbor similarity for each word\n",
        "  \"\"\"\n",
        "  neighbor_ts_doc = dict()\n",
        "  for ts_ in Embed_.keys():\n",
        "    temp = Embed_[ts_]\n",
        "    final_list = dict()\n",
        "    for doc in temp.keys():\n",
        "      neighbor_dict = dict()\n",
        "      track_dict = dict()\n",
        "      for f_word, f_emb in temp[doc].items():\n",
        "        temp_list = list()\n",
        "        for s_word, s_emb in temp[doc].items():\n",
        "          if (s_word, f_word) in track_dict.keys():\n",
        "            temp_list.append(track_dict[(s_word, f_word)])\n",
        "          else:\n",
        "            track_dict[(f_word, s_word)] = cosine_similarity([f_emb],[s_emb])[0][0]\n",
        "            temp_list.append(track_dict[(f_word, s_word)])\n",
        "        neighbor_dict[f_word] =sorted(temp_list, reverse=True)[1:] # ignore the cosine similarity between a word and itself\n",
        "      final_list[doc] = neighbor_dict\n",
        "      print('Document {} is done!'.format(doc))\n",
        "    neighbor_ts_doc[ts_] = final_list\n",
        "  return neighbor_ts_doc"
      ],
      "metadata": {
        "id": "vfD7DZetw1RL"
      },
      "execution_count": 12,
      "outputs": []
    },
    {
      "cell_type": "code",
      "source": [
        "\n",
        "#sigmoid function\n",
        "def amplifier_function(vec_):\n",
        "  \"\"\"\n",
        "  This function receives a vector and applies the curve below to reward the first part of the vector and to penalize the last part of the vector\n",
        "  Arguments:\n",
        "    vec_: a vector\n",
        "  Results:\n",
        "    g: a vector\n",
        "  \"\"\"\n",
        "  z = array(vec_)\n",
        "  z = z/np.linalg.norm(z)\n",
        "  g = 1 / (1 + exp(-z))\n",
        "  return g"
      ],
      "metadata": {
        "id": "xyWP80c5m-aO"
      },
      "execution_count": 27,
      "outputs": []
    },
    {
      "cell_type": "code",
      "source": [
        "def gradient_calculator(ns_dict, n_step, MAX_FEATURE_SIZE):\n",
        "  \"\"\"\n",
        "  This function receives all the similarity neighbor for each word in all documents and apply gradient descent over them by the step\n",
        "  Arguments:\n",
        "    ns_dict: a dictinary of all neighbor similarity for all tokens\n",
        "    n_step: the jump value for gradient discent\n",
        "    MAX_FEATURE_SIZE: the maximum size for each feature victor\n",
        "  Returns:\n",
        "    final_dict: a dictionary of all gradient discent of tokens neighbor similarity\n",
        "  \"\"\"\n",
        "  final_dict = dict()\n",
        "  for ts_ in ns_dict.keys():\n",
        "    gradient_descent_neighbors = dict()\n",
        "    word_neighbor_similarity = ns_dict[ts_]\n",
        "    for doc in word_neighbor_similarity.keys():\n",
        "      temp_dict = dict()\n",
        "      for word, embedding in word_neighbor_similarity[doc].items():\n",
        "        vec_size = len(embedding)\n",
        "        vec_size -= vec_size%n_step\n",
        "        embedding = embedding[0:vec_size]\n",
        "        new_list = [embedding[x:x+n_step] for x in range(0, vec_size, n_step)]\n",
        "        tmp_list = list()\n",
        "        for ele in new_list:\n",
        "          m1,b1 = np.polyfit(np.arange(0, n_step), ele, 1)\n",
        "          tmp_list.append(m1)\n",
        "        temp_dict[word] = amplifier_function(tmp_list[0:MAX_FEATURE_SIZE])\n",
        "      gradient_descent_neighbors[doc] = temp_dict\n",
        "      print('Document {} is done!'.format(doc))\n",
        "    final_dict[ts_] = gradient_descent_neighbors\n",
        "  return final_dict"
      ],
      "metadata": {
        "id": "MpQIfpEYapY5"
      },
      "execution_count": 28,
      "outputs": []
    },
    {
      "cell_type": "code",
      "source": [
        "\n",
        "# clustering the tokens in each document. It creates differnt number of clustering\n",
        "\n",
        "def cluster_maker(final_vec_):\n",
        "  \"\"\"\n",
        "  This function generates clusters based on featur vectors\n",
        "  Arguments:\n",
        "    final_vec_: a dictionary of all gradient discent of tokens neighbor similarity\n",
        "  Returns:\n",
        "    total_clustering: a dictionary contains timestamps and clusters in each timestamp \n",
        "    total_centroid: a dictionart contains timestamps and centroids for each clusters\n",
        "  \"\"\"\n",
        "  total_clustering = dict()\n",
        "  total_centroid = dict()\n",
        "  for ts_ in final_vec_.keys():\n",
        "    gradient_descent_neighbors = final_vec_[ts_]\n",
        "    all_clusters = dict()\n",
        "    all_centroid = dict()\n",
        "    for doc, featurs in gradient_descent_neighbors.items():\n",
        "      clusters_per_doc = dict()\n",
        "      centroids_per_doc = dict()\n",
        "      for n_clusters in range_n_clusters:\n",
        "        clusterer = KMeans(n_clusters=n_clusters, random_state=10, max_iter=100,)\n",
        "        clusters_per_doc[n_clusters] = clusterer.fit_predict(list(featurs.values()))\n",
        "        centroids_per_doc[n_clusters] = clusterer.cluster_centers_\n",
        "      all_clusters[doc] = clusters_per_doc\n",
        "      all_centroid[doc] = centroids_per_doc\n",
        "      print('Document {} is done!'.format(doc))\n",
        "    total_clustering[ts_] = all_clusters\n",
        "    total_centroid[ts_] = all_centroid\n",
        "  return total_clustering, total_centroid\n",
        "    "
      ],
      "metadata": {
        "id": "xY3z-u9U7F5T"
      },
      "execution_count": 31,
      "outputs": []
    },
    {
      "cell_type": "code",
      "source": [
        "def sorted_clustering(all_gradient_descent_neighbors,all_clusters_dict, all_centroids_dict):\n",
        "  final_clustering_dict = dict()\n",
        "  for ts_ in all_clusters_dict.keys():\n",
        "    gradient_descent_neighbors = all_gradient_descent_neighbors[ts_]\n",
        "    all_centroid = all_centroids_dict[ts_]\n",
        "    all_clusters = all_clusters_dict[ts_]\n",
        "    #create a total clusters sorted dictionary\n",
        "    ## the structure of total_docs_clusters  is {doc0: {number_of_clusters { cluster_number: {token0: closeness_to_centroid, token1: closeness_to_centroid ...} }}}\n",
        "    total_docs_clusters = dict()\n",
        "    for doc in all_clusters.keys():\n",
        "      temp_cluster = all_clusters[doc]\n",
        "      dic_for_clustering = dict()\n",
        "      for n_cluster in range_n_clusters:\n",
        "        temp_dict = dict()\n",
        "        for la in range(n_cluster):\n",
        "          temp_list = dict()\n",
        "          for label_, value_ in zip(temp_cluster[n_cluster],gradient_descent_neighbors[doc].items()):\n",
        "            if label_ == la:\n",
        "              temp_list[value_[0]] = np.sum(np.square(value_[1] - all_centroid[doc][n_cluster][la]))\n",
        "          temp_dict[la]=temp_list\n",
        "        dic_for_clustering[n_cluster] = temp_dict\n",
        "      total_docs_clusters[doc] = dic_for_clustering\n",
        "      print('Document {} is done!'.format(doc))\n",
        "    final_clustering_dict[ts_] = total_docs_clusters\n",
        "  return final_clustering_dict"
      ],
      "metadata": {
        "id": "45Ix5ErD8LIX"
      },
      "execution_count": 36,
      "outputs": []
    },
    {
      "cell_type": "code",
      "source": [
        "def normalize_vec(vec, min_, max_):\n",
        "  \"\"\"\n",
        "  # this function will receive a vector and the min and max of that vector and will return the normalized vec \n",
        "  \"\"\"\n",
        "  range_val = (max_ - min_)+0.0000001\n",
        "  vec = [item/range_val for item in vec]\n",
        "  min_vec = min(vec)\n",
        "  vec = [item - min_vec for item in vec]\n",
        "  return vec\n",
        "\n",
        "\n",
        "\n",
        "def normalize_value(item, min_, max_):\n",
        "  \"\"\"\n",
        "  # this function will receive a value of a vector, the min and the max of the vector and returns the normalized value\n",
        "  \"\"\"\n",
        "  range_val = (max_ - min_)+0.0000001\n",
        "  vec = (item-min_)/range_val\n",
        "  return vec"
      ],
      "metadata": {
        "id": "RbMK3nDxDla5"
      },
      "execution_count": 39,
      "outputs": []
    },
    {
      "cell_type": "code",
      "source": [
        "def normalizer(total_docs_clustering_):\n",
        "  \"\"\"\n",
        "    normalize the similarity in each cluster. It goes and find the min and max values in each clustering and make those similarity between [0,1] (the similarity here is euclidean distance between each token and the centroid)\n",
        "\n",
        "  \"\"\"\n",
        "  all_total_docs_clusters = dict()\n",
        "  for ts_ in total_docs_clustering_.keys():\n",
        "    total_docs_clusters = total_docs_clustering_[ts_]\n",
        "    for doc in total_docs_clusters.keys():\n",
        "      temp_doc = total_docs_clusters[doc]\n",
        "      for cluster_rank in temp_doc.keys():\n",
        "        temp_clustering = temp_doc[cluster_rank]\n",
        "        min_sim = 1\n",
        "        max_sim = 0\n",
        "        for ind in temp_clustering.keys():\n",
        "          for ele, val_ in temp_clustering[ind].items():\n",
        "            min_sim = min_sim if min_sim<val_ else val_\n",
        "            max_sim = max_sim if val_<max_sim else val_ \n",
        "\n",
        "        for ins in temp_clustering.keys():\n",
        "          for el in total_docs_clusters[doc][cluster_rank][ins].keys():\n",
        "            total_docs_clusters[doc][cluster_rank][ins][el] = normalize_value(total_docs_clusters[doc][cluster_rank][ins][el], min_sim, max_sim)\n",
        "      print('Document {} is done!'.format(doc))\n",
        "    all_total_docs_clusters[ts_] = total_docs_clusters\n",
        "  return all_total_docs_clusters"
      ],
      "metadata": {
        "id": "uGfyOC41ESBL"
      },
      "execution_count": 43,
      "outputs": []
    },
    {
      "cell_type": "code",
      "source": [
        "def stopword_remover(all_dict_):\n",
        "  final_dict_w_stopword = dict()\n",
        "  for ts_ in all_dict_.keys():\n",
        "    total_docs_clusters = all_dict_[ts_]\n",
        "    #remove stopwords\n",
        "    total_docs_clusters_wo_stopwords = dict()\n",
        "    for doc in total_docs_clusters.keys():\n",
        "      temp_doc = {}\n",
        "      for cluster_rank in total_docs_clusters[doc].keys():\n",
        "        temp_clustering = {}\n",
        "        for ins in total_docs_clusters[doc][cluster_rank].keys():\n",
        "          temp_cluster = {}\n",
        "          for items in total_docs_clusters[doc][cluster_rank][ins].items():\n",
        "            if items[0] not in stopwords:\n",
        "              temp_cluster[items[0]] = items[1]\n",
        "          temp_clustering[ins] = temp_cluster\n",
        "        temp_doc[cluster_rank] = temp_clustering\n",
        "      total_docs_clusters_wo_stopwords[doc] = temp_doc\n",
        "    final_dict_w_stopword[ts_] = total_docs_clusters_wo_stopwords\n",
        "  return final_dict_w_stopword"
      ],
      "metadata": {
        "id": "_yuR34W3Fhud"
      },
      "execution_count": 45,
      "outputs": []
    },
    {
      "cell_type": "code",
      "source": [
        "# Jaccard index function\n",
        "def jaccard_similarity(text1_list, text2_list):\n",
        "  a = set(text1_list)\n",
        "  b = set(text2_list)\n",
        "  return len(a.intersection(b))/len(a.union(b))"
      ],
      "metadata": {
        "id": "o85M6HKIGoiF"
      },
      "execution_count": 47,
      "outputs": []
    },
    {
      "cell_type": "code",
      "source": [
        "def word_group_generator(all_clusters_):\n",
        "  final_total_doc_word_group = dict()\n",
        "  for ts_ in all_clusters_.keys():\n",
        "    total_docs_clusters_wo_stopwords = all_clusters_[ts_]\n",
        "    total_doc_word_groups = dict()\n",
        "    for doc in total_docs_clusters_wo_stopwords.keys():\n",
        "      docs_clusters = total_docs_clusters_wo_stopwords[doc]\n",
        "      # print(docs_clusters)\n",
        "      temp_list_word_groups = list()\n",
        "      for cluster_num in list(docs_clusters.keys())[:-1]:\n",
        "        for cluster in range(cluster_num):\n",
        "          for next_cluster in range(cluster_num+1):\n",
        "            cl1 = list()\n",
        "            cl1_w_sim = dict()\n",
        "            cl2 = list()\n",
        "            cl2_w_sim = dict()\n",
        "            joint_list = list()\n",
        "            for item in docs_clusters[cluster_num][cluster].items():\n",
        "              cl1.append(item[0])\n",
        "              cl1_w_sim[item[0]] =  item[1]\n",
        "            for another_item in docs_clusters[cluster_num+1][next_cluster].items():\n",
        "              cl2.append(another_item[0])\n",
        "              cl2_w_sim[another_item[0]] = another_item[1]\n",
        "            # print(' ({}, {}, {}) --> '.format(cluster_num, cluster, next_cluster), jaccard_similarity(cl1, cl2))\n",
        "            jac_val = jaccard_similarity(cl1, cl2)\n",
        "            if jac_val > threshold_cluster_overlapping:\n",
        "              jnt_list = list(set(cl1).intersection(cl2))\n",
        "              dict_vocab = dict()\n",
        "              for el in jnt_list:\n",
        "                dict_vocab[el] = max(cl1_w_sim[el], cl2_w_sim[el])\n",
        "\n",
        "              temp_list_word_groups.append([dict_vocab ,jac_val])\n",
        "      \n",
        "\n",
        "      total_doc_word_groups[doc] = temp_list_word_groups\n",
        "      # the structure of total_doc_word_group is {doc0: [ [ {word1: normalized_normalized_distance_to_centroid, ....}, similarity between two clusters] [{word1: normalized_distance_to_centroid, ....}, similarity_between_two_clusters]... ], doc1: ...}\n",
        "    final_total_doc_word_group[ts_] = total_doc_word_groups\n",
        "  return final_total_doc_word_group"
      ],
      "metadata": {
        "id": "1jgqn1kKGtOY"
      },
      "execution_count": 48,
      "outputs": []
    },
    {
      "cell_type": "code",
      "source": [
        "def distance_2_freq(all_clusters_):\n",
        "  \"\"\"\n",
        "  change the distance to centroid to the frequency [0, 1] --> [10, 1] \n",
        "  \"\"\"\n",
        "  final_dict = dict()\n",
        "  for ts_ in all_clusters_.keys():\n",
        "    total_doc_word_groups_ = all_clusters_[ts_]\n",
        "    #change the distance to centroid to the frequency [0, 1] --> [10, 1] \n",
        "    for doc in total_doc_word_groups_.keys():\n",
        "      temp_list = list()\n",
        "      for word_list in total_doc_word_groups_[doc]:\n",
        "        temp_dict = dict()\n",
        "        for ele in word_list[0].keys():\n",
        "          temp_dict[ele] =int(9* (1-word_list[0][ele]))+1\n",
        "        temp_list.append(temp_dict)\n",
        "      total_doc_word_groups_[doc] = temp_list\n",
        "    final_dict[ts_] = total_doc_word_groups_\n",
        "  return final_dict\n",
        "    # the new structure of total_doc_word_groups_ is {doc0: [{groupOnewords}, grouptwowords], doc1}   , grouponewords = {word1:frequency, word2:ferquency}"
      ],
      "metadata": {
        "id": "M8GM-NboIsk1"
      },
      "execution_count": 59,
      "outputs": []
    },
    {
      "cell_type": "code",
      "source": [
        "def bert_classifier_generator(total_doc_word_embedding):\n",
        "  \"\"\"\n",
        "  doc_matrix is a dictionary of each doc and other doc similarity to this doc based on BERT cls vector             doc_embedding ={doc0: {1: int(9*euclidian_distance +1 ), 2:int(9*euclidian_distance +1 )}, doc1}  \n",
        "\n",
        "  \"\"\"\n",
        "  total_dict_ = dict()\n",
        "  for ts_ in total_doc_word_embedding.keys():\n",
        "    doc_word_embedding = total_doc_word_embedding[ts_]\n",
        "    doc_embedding = dict()\n",
        "    for first_doc in doc_word_embedding.keys():\n",
        "      temp_dict = dict()\n",
        "      for second_doc in doc_word_embedding.keys(): \n",
        "        if first_doc != second_doc:\n",
        "          # temp_dict[second_doc] =int(9*np.square(sum(doc_word_embedding[first_doc]['cls']-doc_word_embedding[second_doc]['cls']))+1)\n",
        "          temp_dict[second_doc] =int(9*np.linalg.norm(doc_word_embedding[first_doc]['cls']-doc_word_embedding[second_doc]['cls'])+1)\n",
        "      doc_embedding[first_doc] = temp_dict\n",
        "      print('Document {} is done!'.format(first_doc) )\n",
        "    total_dict_[ts_] = doc_embedding\n",
        "  return total_dict_\n",
        "    \n"
      ],
      "metadata": {
        "id": "XsI3NTq7NrUc"
      },
      "execution_count": 83,
      "outputs": []
    },
    {
      "cell_type": "code",
      "source": [
        "def similarity_documents(all_dict_):\n",
        "  \"\"\"\n",
        "    calculate the similarity between two documents by using jaccard index of all word groups in each cluster by considering the frequency of those words\n",
        "    the structure of total_clustering_w_frequency is {doc0:[[word_groups0],[word_groups1], ...], doc1: }\n",
        "  \"\"\"\n",
        "  total_dict_ = dict()\n",
        "  for ts_ in all_dict_.keys():\n",
        "    total_doc_word_groups_ = all_dict_[ts_]\n",
        "    total_clustering_w_frequency = dict()\n",
        "    for doc in total_doc_word_groups_.keys():\n",
        "      list_word_cloud = list()\n",
        "      for word_group in total_doc_word_groups_[doc]:\n",
        "        temp_list = list()\n",
        "        for word in word_group.items():\n",
        "          for ind in range(1, word[1]+1):\n",
        "            temp_list.append(word[0])\n",
        "        list_word_cloud.append(temp_list)\n",
        "      total_clustering_w_frequency[doc] = list_word_cloud\n",
        "      print('document {} is done!'.format(doc))\n",
        "    total_dict_[ts_] = total_clustering_w_frequency\n",
        "  return total_dict_\n"
      ],
      "metadata": {
        "id": "1Xpycq-4UX7Z"
      },
      "execution_count": 77,
      "outputs": []
    },
    {
      "cell_type": "code",
      "source": [
        "def similar_doc(doc_one, doc_two):\n",
        "  \"\"\"\n",
        "  #find similar documents\n",
        "  \"\"\"\n",
        "  list_sim = list()\n",
        "  for clu_1 in doc_one:\n",
        "    total_jac = 0\n",
        "    for clu_2 in doc_two:\n",
        "      jac_val = jaccard_similarity(clu_1, clu_2)\n",
        "      total_jac += jac_val\n",
        "    # total_jac /= len(doc_two)\n",
        "    list_sim.append(total_jac)\n",
        "  return sum(list_sim)\n",
        "  # return sum(list_sim)/(len(doc_one)*len(doc_two))   #with normalizing based on the number of word groups"
      ],
      "metadata": {
        "id": "Y7ciakoLVpvi"
      },
      "execution_count": 85,
      "outputs": []
    },
    {
      "cell_type": "code",
      "source": [
        "def weight_matrix_generator(all_dict_):\n",
        "  final_dict_ = dict()\n",
        "  for ts_ in all_dict_.keys():\n",
        "    total_clustering_w_frequency_ = all_dict_[ts_]\n",
        "    #create a matrix of document similarity based on the jaccard index of the similar words in each word group in each document\n",
        "    doc_matrix=dict()\n",
        "    for first_doc in total_clustering_w_frequency_.keys():\n",
        "      temp_dict = dict()\n",
        "      for second_doc in total_clustering_w_frequency_.keys():\n",
        "        if first_doc != second_doc:\n",
        "          temp_dict[second_doc] = similar_doc(total_clustering_w_frequency_[first_doc], total_clustering_w_frequency_[second_doc])\n",
        "      doc_matrix[first_doc] = temp_dict\n",
        "      print('Document {} is done'.format(first_doc))\n",
        "    \n",
        "    #normalize the weight and invert it. if an index is high that means they are similar so the weight must be low\n",
        "\n",
        "    for doc in doc_matrix.keys():\n",
        "      min_ = 10000\n",
        "      max_ = -10000\n",
        "      for ele in doc_matrix[doc].items():\n",
        "        min_ = min_ if min_<ele[1] else ele[1]\n",
        "        max_ = max_ if max_> ele[1] else ele[1]\n",
        "      for ele in doc_matrix[doc].keys():\n",
        "        doc_matrix[doc][ele] = int(99*(1-normalize_value(doc_matrix[doc][ele], min_, max_))+1)\n",
        "\n",
        "    final_dict_[ts_]= doc_matrix\n",
        "  return final_dict_\n"
      ],
      "metadata": {
        "id": "WKQl8u0EVxmJ"
      },
      "execution_count": 98,
      "outputs": []
    },
    {
      "cell_type": "code",
      "source": [
        "# A*Search algorithm\n",
        "\n",
        "from collections import deque\n",
        "\n",
        "class Graph:\n",
        "\n",
        "    def __init__(self,heuristic, adjacency_list, start_node, stop_node):\n",
        "        self.adjacency_list = adjacency_list\n",
        "        self.H = dict()\n",
        "        self.start_node = start_node\n",
        "        self.stop_node = stop_node\n",
        "        self.heuristic = heuristic\n",
        "        for ele in heuristic[stop_node]:\n",
        "          self.H[ele[0]] = ele[1]\n",
        "        # self.H = {0: 1, 1: 1, 2: 1, 3: 1, 4: 1, 5: 1, 6: 1, 7: 1, 8: 1, 9: 1, 10: 1, 11: 1, 12: 1, 13: 1, 14: 1, 15: 1, 16: 1, 17: 1, 18: 1, 19: 1, 20: 1, 21: 1, 22: 1, 23: 1, 24: 1, 25: 1, 26: 1, 27: 1, 28: 1, 29: 1, 30: 1, 31: 1, 32: 1, 33: 1, 34: 1, 35: 1, 36: 1, 37: 1, 38: 1, 39: 1, 40: 1, 41: 1, 42: 1, 43: 1, 44: 1, 45: 1, 46: 1, 47: 1, 48: 1, 49: 1, 50: 1, 51: 1, 52: 1, 53: 1, 54: 1, 55: 1, 56: 1, 57: 1, 58: 1, 59: 1, 60: 1, 61: 1, 62: 1, 63: 1, 64: 1, 65: 1, 66: 1, 67: 1, 68: 1, 69: 1, 70: 1, 71: 1, 72: 1, 73: 1, 74: 1, 75: 1, 76: 1, 77: 1, 78: 1, 79: 1, 80: 1, 81: 1, 82: 1, 83: 1, 84: 1, 85: 1, 86: 1, 87: 1, 88: 1, 89: 1, 90: 1, 91: 1, 92: 1, 93: 1, 94: 1, 95: 1, 96: 1, 97: 1, 98: 1, 99: 1}\n",
        "      \n",
        "    # def get_neighbors(self, v):\n",
        "    #     return self.adjacency_list[v]\n",
        "    # # heuristic function with equal values for all nodes\n",
        "    \n",
        "    # def h(self, n):\n",
        "    #   # H = {0: 1, 1: 1, 2: 1, 3: 1, 4: 1, 5: 1, 6: 1, 7: 1, 8: 1, 9: 1, 10: 1, 11: 1, 12: 1, 13: 1, 14: 1, 15: 1, 16: 1, 17: 1, 18: 1, 19: 1, 20: 1, 21: 1, 22: 1, 23: 1, 24: 1, 25: 1, 26: 1, 27: 1, 28: 1, 29: 1, 30: 1, 31: 1, 32: 1, 33: 1, 34: 1, 35: 1, 36: 1, 37: 1, 38: 1, 39: 1, 40: 1, 41: 1, 42: 1, 43: 1, 44: 1, 45: 1, 46: 1, 47: 1, 48: 1, 49: 1, 50: 1, 51: 1, 52: 1, 53: 1, 54: 1, 55: 1, 56: 1, 57: 1, 58: 1, 59: 1, 60: 1, 61: 1, 62: 1, 63: 1, 64: 1, 65: 1, 66: 1, 67: 1, 68: 1, 69: 1, 70: 1, 71: 1, 72: 1, 73: 1, 74: 1, 75: 1, 76: 1, 77: 1, 78: 1, 79: 1, 80: 1, 81: 1, 82: 1, 83: 1, 84: 1, 85: 1, 86: 1, 87: 1, 88: 1, 89: 1, 90: 1, 91: 1, 92: 1, 93: 1, 94: 1, 95: 1, 96: 1, 97: 1, 98: 1, 99: 1}\n",
        "    #   return self.H[n]\n",
        "    def a_star_algorithm(self):\n",
        "\n",
        "      # open_list is a list of nodes which have been visited, but who's neighbors\n",
        "      # haven't all been inspected, starts off with the start node\n",
        "      # closed_list is a list of nodes which have been visited\n",
        "      # and who's neighbors have been inspected\n",
        "      open_list = set([self.start_node])\n",
        "      closed_list = set([])\n",
        "      # g contains current distances from start_node to all other nodes\n",
        "      # the default value (if it's not found in the map) is +infinity\n",
        "      g = {}\n",
        "      g[self.start_node] = 0\n",
        "      # parents contains an adjacency map of all nodes\n",
        "      parents = {}\n",
        "      parents[self.start_node] = self.start_node\n",
        "      while len(open_list) > 0:\n",
        "          n = None\n",
        "          # find a node with the lowest value of f() - evaluation function\n",
        "          for v in open_list:\n",
        "              if n == None or g[v] + self.H[v] < g[n] + self.H[n]:\n",
        "              # if n == None or g[v] + self.H[v] < g[n] + self.H[n]:\n",
        "                  n = v;\n",
        "          if n == None:\n",
        "              print('Path does not exist!')\n",
        "              return None\n",
        "          # if the current node is the stop_node\n",
        "          # then we begin reconstructin the path from it to the start_node\n",
        "          if n == self.stop_node:\n",
        "              reconst_path = []\n",
        "              while parents[n] != n:\n",
        "                  reconst_path.append(n)\n",
        "                  n = parents[n]\n",
        "              reconst_path.append(self.start_node)\n",
        "              reconst_path.reverse()\n",
        "              print('Path found: {}'.format(reconst_path))\n",
        "              return reconst_path\n",
        "          # for all neighbors of the current node do\n",
        "          for (m, weight) in self.adjacency_list[n]:\n",
        "              # if the current node isn't in both open_list and closed_list\n",
        "              # add it to open_list and note n as it's parent\n",
        "              avr = 0\n",
        "              sam = 0\n",
        "              for t in self.heuristic[n]: \n",
        "                  avr += t[1]\n",
        "                  if t[0] == m:\n",
        "                    sam = t[1]\n",
        "              if sam > avr/2:\n",
        "                  continue\n",
        "              if m not in open_list and m not in closed_list:\n",
        "                  open_list.add(m)\n",
        "                  parents[m] = n\n",
        "                  g[m] = g[n] + weight\n",
        "              # otherwise, check if it's quicker to first visit n, then m\n",
        "              # and if it is, update parent data and g data\n",
        "              # and if the node was in the closed_list, move it to open_list\n",
        "              else:\n",
        "                  if g[m] > g[n] + weight:\n",
        "                      g[m] = g[n] + weight\n",
        "                      parents[m] = n\n",
        "                      if m in closed_list:\n",
        "                          closed_list.remove(m)\n",
        "                          open_list.add(m)\n",
        "          # remove n from the open_list, and add it to closed_list\n",
        "          # because all of his neighbors were inspected\n",
        "          open_list.remove(n)\n",
        "          closed_list.add(n)\n",
        "\n",
        "      print('Path does not exist!')\n",
        "      return None"
      ],
      "metadata": {
        "id": "JSe6el8hsJNI"
      },
      "execution_count": 119,
      "outputs": []
    },
    {
      "cell_type": "code",
      "source": [
        "def a_search(all_embedding, all_weight):\n",
        "  result_dict = dict()\n",
        "  for ts_ in all_embedding.keys():\n",
        "    doc_embedding_ = all_embedding[ts_]\n",
        "    doc_matrix_ = all_weight[ts_]\n",
        "    start_ = list(doc_embedding_.keys())[0]\n",
        "    end_ = list(doc_embedding_.keys())[-1]\n",
        "    #create the adjacancy matrix from the euclidean distanse of the doc embedding\n",
        "    #heuristic\n",
        "\n",
        "    heuristic = dict()\n",
        "    for first_doc in doc_embedding_.keys():\n",
        "      temp_list = list()\n",
        "      for second_doc in doc_embedding_.keys():\n",
        "        if first_doc != second_doc:\n",
        "          temp_list.append((second_doc, doc_embedding_[first_doc][second_doc]))\n",
        "        else:\n",
        "          temp_list.append((second_doc, 0))\n",
        "      heuristic[first_doc] = temp_list\n",
        "    # print('heuristic is ', heuristic)\n",
        "\n",
        "    # the weights\n",
        "    doc_weights = dict()\n",
        "    for first_doc in doc_matrix_.keys():\n",
        "      temp_dict = list()\n",
        "      for second_doc in doc_matrix_.keys():\n",
        "        if first_doc != second_doc:\n",
        "          temp_dict.append((second_doc, doc_matrix_[first_doc][second_doc]))\n",
        "      doc_weights[first_doc] = temp_dict\n",
        "    # print('weights is ', doc_weights)\n",
        "    graph1 = Graph(heuristic, doc_weights, start_, end_)\n",
        "    result_dict[ts_] = graph1.a_star_algorithm()\n",
        "    print('Timestamp {} is done!'.format(ts_))\n",
        "  return result_dict"
      ],
      "metadata": {
        "id": "uSF6mJwws90I"
      },
      "execution_count": 117,
      "outputs": []
    },
    {
      "cell_type": "code",
      "source": [
        "df = dataset_downloader('NYT')\n",
        "df['content'] = df['content'].apply( lambda x: special_char_remover(x)) # remove special characters\n",
        "df['publish_time'] = df['publish_time'].apply(lambda x: time_fixer(x))\n",
        "list_of_dfs = timestamps_generator(df)\n",
        "Embed_dict = dict() # {timestamp1 {doc1{(number_of_tokens+1, 768)}, doc2{}}, timestamp2{}}\n",
        "for ts, data_ in zip(range(len(list_of_dfs)), list_of_dfs):\n",
        "   Embed_dict[ts] = bert_embedding_generator(data_)\n",
        "\n",
        "# pickle.dump(Embed_dict, open('Embed_dict.p', 'wb')) # store embeddings\n",
        "# pickle.dump(df, open('list_of_dfs.p', 'wb')) # store list_of_dfs"
      ],
      "metadata": {
        "id": "_WSKShi5RwAM"
      },
      "execution_count": null,
      "outputs": []
    },
    {
      "cell_type": "code",
      "source": [
        "# Embed_dict = pickle.load(open('Embed_dict.p', 'rb')) #restore the embeddings\n",
        "# list_of_dfs = pickle.load(open('list_of_dfs.p', 'rb')) #restore the list_of_dfs\n",
        "# Getting all memory using os.popen()\n",
        "total_memory, used_memory, free_memory = map(\n",
        "    int, os.popen('free -t -m').readlines()[-1].split()[1:])\n",
        "print(\"RAM memory: used {} GB, total: {} GB\".format(used_memory/1000,total_memory/1000))"
      ],
      "metadata": {
        "colab": {
          "base_uri": "https://localhost:8080/"
        },
        "id": "-7mf_aWFV0w6",
        "outputId": "3372d4c7-3d1a-4520-e5fb-8d5332320047"
      },
      "execution_count": 11,
      "outputs": [
        {
          "output_type": "stream",
          "name": "stdout",
          "text": [
            "RAM memory: used 2.719 GB, total: 26.066 GB\n"
          ]
        }
      ]
    },
    {
      "cell_type": "code",
      "source": [
        "final_vector = find_similarity(Embed_dict)"
      ],
      "metadata": {
        "id": "ESBtTOzgdQJx"
      },
      "execution_count": null,
      "outputs": []
    },
    {
      "cell_type": "code",
      "source": [
        "total_memory, used_memory, free_memory = map(\n",
        "    int, os.popen('free -t -m').readlines()[-1].split()[1:])\n",
        "print(\"RAM memory: used {} GB, total: {} GB\".format(used_memory/1000,total_memory/1000))"
      ],
      "metadata": {
        "colab": {
          "base_uri": "https://localhost:8080/"
        },
        "id": "-szyoLhxiyiS",
        "outputId": "4e389288-dd69-41ec-a26a-f2a025f2bae8"
      },
      "execution_count": 16,
      "outputs": [
        {
          "output_type": "stream",
          "name": "stdout",
          "text": [
            "RAM memory: used 6.15 GB, total: 26.066 GB\n"
          ]
        }
      ]
    },
    {
      "cell_type": "code",
      "source": [
        "pickle.dump(final_vector, open('final_vector.p', 'wb')) # store embeddings\n"
      ],
      "metadata": {
        "id": "crmIAS4udYUt"
      },
      "execution_count": 17,
      "outputs": []
    },
    {
      "cell_type": "code",
      "source": [
        "final_vector = gradient_calculator(final_vector, jump, MAX_FEATURE_SIZE)"
      ],
      "metadata": {
        "id": "cAdsjiCt5_7I"
      },
      "execution_count": null,
      "outputs": []
    },
    {
      "cell_type": "code",
      "source": [
        "total_clustering, total_centroid = cluster_maker(final_vector)"
      ],
      "metadata": {
        "id": "aKBYdoKL8K88"
      },
      "execution_count": null,
      "outputs": []
    },
    {
      "cell_type": "code",
      "source": [
        "total_docs_clustering = sorted_clustering(final_vector, total_clustering, total_centroid)"
      ],
      "metadata": {
        "id": "eWCH3U9sDDuW"
      },
      "execution_count": null,
      "outputs": []
    },
    {
      "cell_type": "code",
      "source": [
        "print(total_docs_clustering[0][51028][2])"
      ],
      "metadata": {
        "colab": {
          "base_uri": "https://localhost:8080/"
        },
        "id": "zoENB4ykDns-",
        "outputId": "e18791c7-0e1e-4208-bdd5-602c09e710f6"
      },
      "execution_count": 42,
      "outputs": [
        {
          "output_type": "stream",
          "name": "stdout",
          "text": [
            "{0: {'cls': 0.004711008411068573, 'background': 0.0010550273578880027, 'strategic': 0.007309265694515655, 'healthcare': 0.0018460560831093922, 'purchasing': 0.0014844878488452008, 'sh': 0.003355389264434657, '##p': 0.0035951722917812886, 'critical': 0.0017929840274206773, 'function': 0.004246928153317895, 'of': 0.0026715235921559843, 'health': 0.0033152905945247266, 'financing': 0.0028607825431841167, 'enhance': 0.0063741675701260835, '##s': 0.0015720828463767853, 'the': 0.008215276526541675, 'optimal': 0.0023443350600126046, 'attain': 0.0026167174845473707, 'efficient': 0.0034675079423903774, 'use': 0.0033555449241477447, 'financial': 0.002053317923355656, 'resources': 0.004260044981121499, 'countries': 0.0019122895470554408, 'committed': 0.0012396356103428386, 'to': 0.0019118577660713093, 'coverage': 0.004936821992269138, 'uh': 0.0034327358454621553, '##c': 0.00309053799373629, 'made': 0.005482730406634464, 'progress': 0.005286163462815443, 'in': 0.00841706388123472, 'their': 0.0026032150505620483, 'systems': 0.006695911943988726, 'study': 0.011532055663069165, 'and': 0.0017833086780848892, 'practices': 0.006398522920879749, 'im': 0.0031134195046353666, '##o': 0.0019167026830012699, 'state': 0.002286367555668177, 'track': 0.0017893763899545282, 'review': 0.006233757214177407, 'analysis': 0.0034717427651980008, 'southeastern': 0.010074387851429724, 'nigeria': 0.0049421975431458215, 'was': 0.0017320934765626707, 'undertaken': 0.0032274091420436083, 'assess': 0.01304359785964471, 'descriptive': 0.002921154582837611, 'qu': 0.0031049209855108285, '##ali': 0.0013155948423946217, '##tative': 0.021371139613589663, 'case': 0.0019617018162407522, 'approach': 0.007687126132280413, 'documents': 0.0018648148769599224, 'were': 0.004253699715203441, 'collected': 0.0063420317194729315, 'including': 0.002788543003041848, '##ept': 0.003866228843806047, '##h': 0.01617950406761518, 'interviews': 0.0014669054858319566, 'stakeholders': 0.015567623343230842, 'information': 0.0015974826168282307, 'other': 0.005870523186337317, 'capacities': 0.019827981432023536, 'states': 0.003314280891918667, 'guided': 0.005107182202839275, 'by': 0.004260456931709996, 'ideal': 0.0037886658600192183, 'spa': 0.0011202156196055686, 'developed': 0.0023762508031347214, 'res': 0.0024474922252010886, '##ili': 0.003920641095505048, '##ent': 0.005743751891482601, 'responsive': 0.00614571220357486, 'three': 0.0033720353156989893, 'pairs': 0.0018298561069582306, 'principal': 0.0037942409197544735, '##age': 0.00576188785350485, '##nt': 0.00627619390596855, 'relationships': 0.00950919500006965, 'results': 0.002155795257800057, 'dominated': 0.006031918109008197, 'ministry': 0.007233619147057485, 'sm': 0.0029419526135463915, 'using': 0.007594826009089759, 'general': 0.005370267884842503, 'tax': 0.0019920547554425102, 'making': 0.0027516497039168255, 'government': 0.008243482853830846, 'revenue': 0.004391756324977282, 'source': 0.018072960580614496, 'funding': 0.005638440259466989, 'provision': 0.0032541514316441734, 'services': 0.003827086944942648, 'passive': 0.004121081007627649, 'steward': 0.003227474157022875, 'role': 0.0022378611640891904, 'significantly': 0.003560454796932033, 'weak': 0.016154343063216746, 'characterized': 0.0021753854996115984, 'substantial': 0.0031204815434909988, 'insufficient': 0.0018412691325548642, '##ary': 0.00510393758454211, 'allocation': 0.008967506616552205, 'inadequate': 0.0011541694822992054, 'infrastructure': 0.006523448022703714, 'accountability': 0.0016413828403537326, 'package': 0.004690814802935747, 'needs': 0.0024726417459281485, 'an': 0.0030569818237088106, 'there': 0.0062210537830709196, 'purchase': 0.0017185139988538892, '##rp': 0.0017380195930826847, '##rov': 0.003311275951134749, '##ider': 0.0013409857562235157, 'split': 0.0030522414905179425, 'provider': 0.003951675878006523, 'selection': 0.0038049742947097467, 'monitoring': 0.003239800643650485, 'payment': 0.006120880032751721, 'do': 0.0029871964649067096, 'promote': 0.002144108298138313, 'quality': 0.0031819622914787096, 'delivery': 0.0056534261888937475, 'very': 0.0027994481738317814, 'institutional': 0.002556258124463095, 'technical': 0.00768222131645916, 'capacity': 0.0035032078431252375, 'recently': 0.0017572885425002347, 'established': 0.0031581940647367147, 'agency': 0.027495622481993977, '##shi': 0.010180266349264023, 'social': 0.0039039400712120157, 'whose': 0.003222528656477191, 'structure': 0.0028025039147927017, 'organization': 0.002633116230704256, 'support': 0.002305948811558131, 'functions': 0.01315771062117204, 'packages': 0.008202986184004824, 'regulatory': 0.006723302367377921, 'conclusion': 0.00449768518683959, 'remains': 0.003631354246793117, 'mostly': 0.0015667885685059849, 'main': 0.005676517540397531, 'challenges': 0.005064490147636204, 'stem': 0.006905130148093449, 'from': 0.0009774957816054987, 'en': 0.004507720664277647, 'mechanism': 0.0033757455275512977, 'governments': 0.004345426115642208, 'budgets': 0.0048589495975491686, 'that': 0.010245614377386676, 'derived': 0.0013545409026922358, 'lack': 0.012918608677725058, 'establishment': 0.0023295102489266934, 'represents': 0.001852088832626372, 'opportunity': 0.0012933651980434934, 'boost': 0.004105967092025604, 'enhanced': 0.003116711379052628, 'building': 0.007702535946153704, 'awareness': 0.0031683440843324976, 'among': 0.0026653980450200765, 'policy': 0.003204151071232965, '##makers': 0.004013670320517482, 'programme': 0.004223191139094898, 'managers': 0.004655681015342474, 'will': 0.0044029033073113965, 'sep': 0.0043350496512704565}, 1: {'as': 0.008195102879690878, 'a': 0.006448257691794871, '##ment': 0.009237146230034871, 'system': 0.015693210651418047, 'goals': 0.011002725291355188, 'through': 0.006946836223787704, 'universal': 0.011719543524387472, 'have': 0.023971258851166466, 'towards': 0.007977582839963008, 'relevant': 0.0034018096421604815, 'reforms': 0.01088891998678973, 'this': 0.010974066375877967, 'examined': 0.007457890183709666, 'arrangements': 0.02668022230904074, 'methods': 0.017407831189146575, 'schemes': 0.006121783274977647, 'based': 0.010041702986821466, 'on': 0.02517776877605451, 'reviewed': 0.01719641416238018, 'ind': 0.021718997338216077, 'with': 0.00868610391952671, 'external': 0.005608306016592724, 'factors': 0.0036820886967480794, 'governance': 0.01855809271091007, 'analytical': 0.01521611593903384, 'framework': 0.008971847292958173, 'comparing': 0.013335342405111163, 'actions': 0.005276019451814554, '##yst': 0.010744462388288568, 'is': 0.017477435571787853, '##oh': 0.010650863227523755, '##base': 0.005238984485535326, '##d': 0.0066274448512310576, 'public': 0.010342090132105526, 'major': 0.010810674444169706, 'however': 0.013505853563612303, '##ship': 0.015297238509383776, 'budget': 0.015629971298937492, 'poor': 0.010640580532642423, 'benefit': 0.007331765677272515, 'reflects': 0.00504338647930778, 'population': 0.012771407859360508, 'integrated': 0.007645972180454158, 'no': 0.009879431928215143, 'processes': 0.01366280275105226, 'not': 0.01117751999028147, 'efficiency': 0.015970678317245822, 'service': 0.004619622346133243, 'limited': 0.010777267510258964, 'for': 0.007030019163078622, 'insurance': 0.007536570439605608, '##a': 0.004020359708702935, 'appropriate': 0.00861615538221115, 'mechanisms': 0.01717551038251163, 'controls': 0.008875557005016068, '##tre': 0.013747181618757204, '##nched': 0.010483269071316881, 'are': 0.004046895720760745, 'performance': 0.0066030070268540105, '##ing': 0.01711643019598767, 'benefits': 0.006147500191766025, 'improve': 0.012900709308019204}}\n"
          ]
        }
      ]
    },
    {
      "cell_type": "code",
      "source": [
        "normalized_total_docs_clusters = normalizer(total_docs_clustering)"
      ],
      "metadata": {
        "id": "NAuSiK_UEyrj"
      },
      "execution_count": null,
      "outputs": []
    },
    {
      "cell_type": "code",
      "source": [
        "total_docs_clusters_wo_stopwords = stopword_remover(normalized_total_docs_clusters)"
      ],
      "metadata": {
        "id": "CrvQ3e-LGE9M"
      },
      "execution_count": 46,
      "outputs": []
    },
    {
      "cell_type": "code",
      "source": [
        "total_doc_word_groups = word_group_generator(total_docs_clusters_wo_stopwords)"
      ],
      "metadata": {
        "id": "RfT7vKcsHT4u"
      },
      "execution_count": 57,
      "outputs": []
    },
    {
      "cell_type": "code",
      "source": [
        "print(total_doc_word_groups[0][51028])"
      ],
      "metadata": {
        "colab": {
          "base_uri": "https://localhost:8080/"
        },
        "id": "pe4uoEQAHpDG",
        "outputId": "86cf7577-a6b2-49ce-eb62-28d8ce6e096d"
      },
      "execution_count": 58,
      "outputs": [
        {
          "output_type": "stream",
          "name": "stdout",
          "text": [
            "[[{'##yst': 0.36831145298791745, 'comparing': 0.4795174628370016, 'arrangements': 0.9999962099289416, 'analytical': 0.6831048765418425, 'appropriate': 0.3577190892207038, 'budget': 0.5525435649555459, 'processes': 0.4783618117745757, 'however': 0.5077028099872957, 'framework': 0.3014662934168053, 'benefit': 0.24853524249337935, 'insurance': 0.35950260001936657, 'improve': 0.449623334966023, 'benefits': 0.1986632764053262, 'performance': 0.2121375350172303, 'relevant': 0.10181550373451285, '##oh': 0.3647818368554993, '##a': 0.1756199043659348, 'universal': 0.40508167699707487, 'service': 0.1848905052556623, 'public': 0.35313803054420834, '##ing': 0.6593915245318083, '##nched': 0.3584618759433159, '##tre': 0.556537450341443, 'population': 0.44474738869255664, 'efficiency': 0.5653915966945361, 'based': 0.3418104576760097, 'reforms': 0.37375893634090673, 'poor': 0.3948293532406119, 'external': 0.27148833136374123, 'reflects': 0.2567194588550904, 'integrated': 0.30131726220049243, 'limited': 0.36954853125642456, 'actions': 0.1620969501005919, 'factors': 0.2232964432941674, 'goals': 0.4472752476458778, 'system': 0.5549283153838099, '##base': 0.16070036477467017, 'major': 0.42347039860709057}, 0.76], [{'##ider': 0.0864603324413891, 'governments': 0.07516597899418043, '##makers': 0.04972275322187002, 'characterized': 0.02115262681482384, 'making': 0.031556999249500346, 'quality': 0.027881749792984266, 'remains': 0.05860721734673849, 'represents': 0.03932688221348688, 'established': 0.03204478237510679, 'im': 0.03452959127439789, 'conclusion': 0.08182338092408115, 'organization': 0.021855293175191293, 'capacity': 0.11599575294377563, 'programme': 0.05733397471375022, 'split': 0.047797215571419645, 'track': 0.013697876249266243, 'countries': 0.021114488372056865, 'policy': 0.03395715468027628, 'res': 0.0407757156915973, 'purchase': 0.0089975268748061, 'optimal': 0.022751397114220744, 'managers': 0.0623023374014186, 'documents': 0.03798700259828748, 'derived': 0.024550214771707143, 'use': 0.051699325138907556, 'collected': 0.31290136926257484, 'accountability': 0.0317031570836642, 'undertaken': 0.0585978020025863, 'committed': 0.08471727325647835, 'tax': 0.036524381497376766, 'whose': 0.11870205343635636, 'pairs': 0.009900457984100483, 'provider': 0.11134804600167654, 'structure': 0.04507795577205763, 'ideal': 0.059850989113761764, '##c': 0.027649384982643417, 'package': 0.10423643289821145, 'including': 0.07078954374071526, 'needs': 0.05704838409179968, 'boost': 0.05687875769837882, 'descriptive': 0.11687448965944958, 'principal': 0.20481135402904632, 'role': 0.01167822379840335, 'sep': 0.060636728199744194, 'mostly': 0.046376963443269165, 'institutional': 0.07322038721021729, '##p': 0.04330515736185365, 'awareness': 0.05659297977975532, '##rp': 0.03377507091658593, 'budgets': 0.1887791420323907, 'results': 0.05369791099902511, 'financial': 0.11318768681302244, 'qu': 0.053710528184482506, 'social': 0.20639616403328562, 'provision': 0.043323883080336884, 'passive': 0.05949534603140081, 'inadequate': 0.06314016241498624, 'recently': 0.07577115779881513, 'opportunity': 0.004301538259717546, 'selection': 0.16929549967220342, 'background': 0.018661336244821948, 'significantly': 0.03491984167726294, '##o': 0.06438441870218174, 'states': 0.09380599620717843, 'uh': 0.034314265913128056, 'healthcare': 0.04023369425083802, '##ili': 0.06171590344048497, 'health': 0.1285945435117205, 'progress': 0.2609708272671266, 'state': 0.018347925257012506, 'resources': 0.1917633424575318, 'developed': 0.02388725581030899, 'information': 0.0771619585349163, 'systems': 0.2873251365163147, 'establishment': 0.029149567949783933, 'efficient': 0.035818442520070166, 'three': 0.03981415305502628, 'delivery': 0.25875504386747145}, 0.7878787878787878], [{'reflects': 0.2633406502590558, 'comparing': 0.4267017026853593, 'insurance': 0.17715091947538783, 'mechanisms': 0.3599798382879666, 'integrated': 0.1444417995837588, 'reviewed': 0.3539386093242602, '##tre': 0.5301173941169032, 'factors': 0.1943610158026069, 'arrangements': 0.6561386646211035, 'analytical': 0.29808971720064215, 'efficiency': 0.4888378012351959, 'goals': 0.33622222419741404, 'service': 0.18329521582677055, 'external': 0.34926191842693693, 'however': 0.4357129339774464}, 0.75], [{'provider': 0.12070573773845054, 'recently': 0.08329180382896242, 'res': 0.05383887569907748, 'opportunity': 0.010080748640546453, 'structure': 0.033872592973576233, 'policy': 0.017602034919977225, 'purchase': 0.0, 'ideal': 0.04158243680724743, 'background': 0.024566292249785286, 'significantly': 0.024184307240971606, '##c': 0.026114376291700166, '##o': 0.08005927512876856, 'governments': 0.052345473763648134, 'package': 0.11149014218261012, 'including': 0.08746580476882108, '##makers': 0.031014439437858272, 'needs': 0.06569621431005099, 'boost': 0.03412462104273242, 'descriptive': 0.1264496328862952, 'characterized': 0.01705820110595753, 'making': 0.019358350380787516, 'quality': 0.022022286713858884, 'states': 0.11382102529159105, 'remains': 0.0394458689537317, 'principal': 0.2165548714254277, 'optimal': 0.014300727960417202, 'uh': 0.03168967868058476, 'role': 0.0025791462868575785, 'represents': 0.05183302533982177, 'sep': 0.041390200465922185, 'established': 0.022548864351746627, 'healthcare': 0.050977996910388554, 'im': 0.0216872334336179, 'mostly': 0.06259352267145729, 'managers': 0.04252364494324256, 'institutional': 0.07769601771023817, '##p': 0.023450695410075873, 'conclusion': 0.06006505091400026, '##ili': 0.041451856815990014, 'health': 0.13260350079760322, '##rp': 0.044999545010982134, 'documents': 0.0409423618689593, 'results': 0.05290862256677761, 'use': 0.033258174479994, 'organization': 0.01814058316464494, 'budgets': 0.2032424187391043, 'derived': 0.027117859464031627, 'awareness': 0.039127863962122866, 'state': 0.01941336466713162, 'resources': 0.21112206455954463, 'accountability': 0.03726159261770832, 'developed': 0.01825814427903274, 'undertaken': 0.05496769888042717, 'capacity': 0.12455013775826862, 'programme': 0.03794208816713324, 'qu': 0.048332101151442826, 'committed': 0.09857992095074938, 'social': 0.21882529978601198, 'provision': 0.02669682409034823, 'tax': 0.03917385212293182, 'systems': 0.30335161237455355, 'passive': 0.0408768879950837, 'split': 0.032145106865609056, 'establishment': 0.03732387421928697, 'track': 0.022792601559427587, 'countries': 0.026143111927971762, 'whose': 0.13964812938369153, 'efficient': 0.02762210069996901, 'pairs': 0.007756374667939373, 'three': 0.041902534932642926, 'delivery': 0.28395044812445036}, 0.8987341772151899], [{'##yst': 0.26912958268409237, 'appropriate': 0.4267275936376212, 'budget': 0.36677547513062914, 'processes': 0.3633024694566639, 'framework': 0.1605166736971129, 'benefit': 0.26348949250813036, 'improve': 0.23088983501399796, 'benefits': 0.24478343004011988, 'performance': 0.17320967661913264, 'relevant': 0.15460550342973411, '##oh': 0.36214343458557857, '##a': 0.21997672766993376, 'universal': 0.21778440255066883, 'public': 0.19350214841286031, '##ing': 0.8599577092995284, '##nched': 0.17954439067044614, 'population': 0.22092417072034454, 'based': 0.18261024654109295, 'reforms': 0.45106175946641586, 'poor': 0.2678008653358428, 'limited': 0.18513202085121166, 'actions': 0.0855957969508285, '##base': 0.3238181843649227, 'system': 0.5236496066980356, 'major': 0.36648734598448623}, 1.0], [{'##d': 0.33335680374641186, 'strategic': 0.22363021576413686, 'made': 0.12870724502325623, 'substantial': 0.21249754582963848, 'services': 0.188960361287567, 'function': 0.11819275707502008, 'insufficient': 0.09864907038765722, 'support': 0.1316633589185898, '##ary': 0.08667990160716636, 'selection': 0.12501210239771687, '##ider': 0.055037029392953865, 'financing': 0.06210206695765474, 'dominated': 0.18212619480864553, 'enhanced': 0.0664189493970459, 'stem': 0.1581744057711508, 'revenue': 0.09285091862068218, 'allocation': 0.32644050807109537, '##rov': 0.09110769218490088, 'among': 0.04309110684134754, '##ept': 0.12334326064975534, 'attain': 0.04882476877759529, 'sh': 0.0739936800125677, 'sm': 0.1622841558083347, '##shi': 0.27120540787287434, 'building': 0.17940471917310313, 'promote': 0.07206855087231032, 'nigeria': 0.10954674349223542, 'financial': 0.09945032640032446, 'collected': 0.32349012638880104, 'interviews': 0.10258632925460262, 'funding': 0.16068098664346397, 'progress': 0.17870801302302844, 'analysis': 0.05386035422873389, 'infrastructure': 0.16139907672688197, 'critical': 0.05997454421850547, 'cls': 0.14073079601552566, 'approach': 0.26568570914290046, 'ministry': 0.24490602329008956, 'enhance': 0.14329978661343504, 'case': 0.08681394459840193, 'information': 0.07898443422543173, '##s': 0.09540306829254136, 'spa': 0.08184048151588678, 'steward': 0.09814521034493717, 'inadequate': 0.07566979364446581, 'challenges': 0.11630510716885238, 'purchasing': 0.10400587761923796}, 0.8867924528301887], [{'provider': 0.12623305406900423, 'recently': 0.08349596664381101, 'res': 0.05383887569907748, 'opportunity': 0.010080748640546453, 'structure': 0.03282221669300787, 'policy': 0.015819945436690575, '##ali': 0.12563751959930425, 'purchase': 0.0, 'ideal': 0.03982758458403955, 'background': 0.024566292249785286, 'significantly': 0.024184307240971606, '##c': 0.026114376291700166, '##o': 0.08005927512876856, 'governments': 0.047059023338806405, 'package': 0.11471659704940448, 'including': 0.09054158068031119, '##makers': 0.030455402848842884, 'needs': 0.07070186012044964, 'boost': 0.03046917362651288, 'descriptive': 0.13054481842415006, 'characterized': 0.01705820110595753, 'making': 0.018156395224952108, 'quality': 0.022022286713858884, 'states': 0.11382102529159105, 'remains': 0.03683769902200964, 'principal': 0.22043237780795996, 'optimal': 0.01400431196684018, 'uh': 0.03168967868058476, 'role': 0.0025791462868575785, 'represents': 0.05183302533982177, 'sep': 0.041247715758583964, 'established': 0.022548864351746627, 'healthcare': 0.050977996910388554, 'im': 0.021474196247189017, 'mostly': 0.06468693264339254, 'managers': 0.0421152521096707, 'institutional': 0.0814702986359327, '##p': 0.020577994406999995, 'conclusion': 0.05553470142167309, '##ili': 0.037187521531745114, 'health': 0.1391358341579888, '##rp': 0.044999545010982134, 'documents': 0.0409423618689593, 'results': 0.05262254502516993, 'use': 0.029471242003891476, 'organization': 0.01814058316464494, 'budgets': 0.21373082011284522, 'derived': 0.027319838150752698, 'awareness': 0.034662710764932714, 'state': 0.01941336466713162, 'accountability': 0.03726159261770832, 'developed': 0.01825814427903274, 'undertaken': 0.05541507555401935, 'capacity': 0.13115483851714185, 'programme': 0.03589638529340011, 'qu': 0.04897456842257498, 'committed': 0.10301494161452847, 'social': 0.22896882111966774, 'provision': 0.02523021518468162, 'tax': 0.04123319923445003, 'passive': 0.03996620739783431, 'split': 0.029662324446994452, 'establishment': 0.03732387421928697, 'track': 0.022792601559427587, 'countries': 0.026806498442976345, 'whose': 0.14375012906158302, 'efficient': 0.02762210069996901, 'pairs': 0.007756374667939373, 'three': 0.041902534932642926, 'delivery': 0.29664447793265075}, 0.9722222222222222], [{'##ent': 0.17827100777942115, 'government': 0.22065886533061432, 'ind': 0.5100437499443505, 'lack': 0.15109464670747288, 'examined': 0.24716972482717708, '##ship': 0.31331592140547426, 'relationships': 0.14934683451043823, 'monitoring': 0.15710658855349655, '##nt': 0.11529616544065763, 'mechanism': 0.10288327593473355, 'controls': 0.35000268700104314, '##age': 0.07089862540975592, 'schemes': 0.3907487763724207, 'practices': 0.1961057117731721, 'assess': 0.25413914189071857, 'review': 0.14631236862856256, 'guided': 0.1231424177591412, 'governance': 0.7684502835556718, 'main': 0.09331449858904774, 'packages': 0.08541961466007805, 'study': 0.10543768683151973, 'using': 0.17732871254799323, 'southeastern': 0.31637892354908415, 'stakeholders': 0.2848186341911774, 'towards': 0.15502419467994283, 'methods': 0.45835028628183144, '##ment': 0.14024258717615673, 'technical': 0.1478141741917465}, 0.7777777777777778], [{'reflects': 0.27023325993998437, 'comparing': 0.3910091197953126, 'insurance': 0.17715091947538783, 'mechanisms': 0.425417977080752, 'integrated': 0.10730686711085571, 'reviewed': 0.39581550335960636, '##tre': 0.6081295722272995, 'factors': 0.21182621988827055, 'arrangements': 0.5739780677269003, 'analytical': 0.29808971720064215, 'efficiency': 0.4255095232540747, 'goals': 0.33622222419741404, 'service': 0.18329521582677055, 'however': 0.44406473912282274}, 0.875], [{'##yst': 0.27456747112083946, 'appropriate': 0.4410782896416416, 'budget': 0.3743251467325652, 'processes': 0.3805681726686932, 'framework': 0.1605166736971129, 'benefit': 0.2755213787036583, 'improve': 0.23113880378988041, 'benefits': 0.25467570831878183, 'performance': 0.17337090433213126, 'relevant': 0.1622010767858332, '##oh': 0.3787699768827407, '##a': 0.22684055405297532, 'universal': 0.21778440255066883, 'public': 0.19350214841286031, '##ing': 0.8855010345288866, '##nched': 0.17954439067044614, 'population': 0.22317260254080112, 'based': 0.18376185034133424, 'reforms': 0.4748384319313293, 'poor': 0.2678008653358428, 'limited': 0.18634750480549916, 'actions': 0.08665141359194654, 'system': 0.5436950047255287, 'major': 0.3797383033410985}, 0.96]]\n"
          ]
        }
      ]
    },
    {
      "cell_type": "code",
      "source": [
        "total_doc_word_groups = distance_2_freq(total_doc_word_groups)"
      ],
      "metadata": {
        "id": "SkZTaOBHKGU6"
      },
      "execution_count": 60,
      "outputs": []
    },
    {
      "cell_type": "code",
      "source": [
        "print(total_doc_word_groups[0][51028])"
      ],
      "metadata": {
        "colab": {
          "base_uri": "https://localhost:8080/"
        },
        "id": "vCTh1muUKeFA",
        "outputId": "c02c26c5-1ad8-48aa-8e79-3897e4db240e"
      },
      "execution_count": 61,
      "outputs": [
        {
          "output_type": "stream",
          "name": "stdout",
          "text": [
            "[{'##yst': 6, 'comparing': 5, 'arrangements': 1, 'analytical': 3, 'appropriate': 6, 'budget': 5, 'processes': 5, 'however': 5, 'framework': 7, 'benefit': 7, 'insurance': 6, 'improve': 5, 'benefits': 8, 'performance': 8, 'relevant': 9, '##oh': 6, '##a': 8, 'universal': 6, 'service': 8, 'public': 6, '##ing': 4, '##nched': 6, '##tre': 4, 'population': 5, 'efficiency': 4, 'based': 6, 'reforms': 6, 'poor': 6, 'external': 7, 'reflects': 7, 'integrated': 7, 'limited': 6, 'actions': 8, 'factors': 7, 'goals': 5, 'system': 5, '##base': 8, 'major': 6}, {'##ider': 9, 'governments': 9, '##makers': 9, 'characterized': 9, 'making': 9, 'quality': 9, 'remains': 9, 'represents': 9, 'established': 9, 'im': 9, 'conclusion': 9, 'organization': 9, 'capacity': 8, 'programme': 9, 'split': 9, 'track': 9, 'countries': 9, 'policy': 9, 'res': 9, 'purchase': 9, 'optimal': 9, 'managers': 9, 'documents': 9, 'derived': 9, 'use': 9, 'collected': 7, 'accountability': 9, 'undertaken': 9, 'committed': 9, 'tax': 9, 'whose': 8, 'pairs': 9, 'provider': 8, 'structure': 9, 'ideal': 9, '##c': 9, 'package': 9, 'including': 9, 'needs': 9, 'boost': 9, 'descriptive': 8, 'principal': 8, 'role': 9, 'sep': 9, 'mostly': 9, 'institutional': 9, '##p': 9, 'awareness': 9, '##rp': 9, 'budgets': 8, 'results': 9, 'financial': 8, 'qu': 9, 'social': 8, 'provision': 9, 'passive': 9, 'inadequate': 9, 'recently': 9, 'opportunity': 9, 'selection': 8, 'background': 9, 'significantly': 9, '##o': 9, 'states': 9, 'uh': 9, 'healthcare': 9, '##ili': 9, 'health': 8, 'progress': 7, 'state': 9, 'resources': 8, 'developed': 9, 'information': 9, 'systems': 7, 'establishment': 9, 'efficient': 9, 'three': 9, 'delivery': 7}, {'reflects': 7, 'comparing': 6, 'insurance': 8, 'mechanisms': 6, 'integrated': 8, 'reviewed': 6, '##tre': 5, 'factors': 8, 'arrangements': 4, 'analytical': 7, 'efficiency': 5, 'goals': 6, 'service': 8, 'external': 6, 'however': 6}, {'provider': 8, 'recently': 9, 'res': 9, 'opportunity': 9, 'structure': 9, 'policy': 9, 'purchase': 10, 'ideal': 9, 'background': 9, 'significantly': 9, '##c': 9, '##o': 9, 'governments': 9, 'package': 8, 'including': 9, '##makers': 9, 'needs': 9, 'boost': 9, 'descriptive': 8, 'characterized': 9, 'making': 9, 'quality': 9, 'states': 8, 'remains': 9, 'principal': 8, 'optimal': 9, 'uh': 9, 'role': 9, 'represents': 9, 'sep': 9, 'established': 9, 'healthcare': 9, 'im': 9, 'mostly': 9, 'managers': 9, 'institutional': 9, '##p': 9, 'conclusion': 9, '##ili': 9, 'health': 8, '##rp': 9, 'documents': 9, 'results': 9, 'use': 9, 'organization': 9, 'budgets': 8, 'derived': 9, 'awareness': 9, 'state': 9, 'resources': 8, 'accountability': 9, 'developed': 9, 'undertaken': 9, 'capacity': 8, 'programme': 9, 'qu': 9, 'committed': 9, 'social': 8, 'provision': 9, 'tax': 9, 'systems': 7, 'passive': 9, 'split': 9, 'establishment': 9, 'track': 9, 'countries': 9, 'whose': 8, 'efficient': 9, 'pairs': 9, 'three': 9, 'delivery': 7}, {'##yst': 7, 'appropriate': 6, 'budget': 6, 'processes': 6, 'framework': 8, 'benefit': 7, 'improve': 7, 'benefits': 7, 'performance': 8, 'relevant': 8, '##oh': 6, '##a': 8, 'universal': 8, 'public': 8, '##ing': 2, '##nched': 8, 'population': 8, 'based': 8, 'reforms': 5, 'poor': 7, 'limited': 8, 'actions': 9, '##base': 7, 'system': 5, 'major': 6}, {'##d': 6, 'strategic': 7, 'made': 8, 'substantial': 8, 'services': 8, 'function': 8, 'insufficient': 9, 'support': 8, '##ary': 9, 'selection': 8, '##ider': 9, 'financing': 9, 'dominated': 8, 'enhanced': 9, 'stem': 8, 'revenue': 9, 'allocation': 7, '##rov': 9, 'among': 9, '##ept': 8, 'attain': 9, 'sh': 9, 'sm': 8, '##shi': 7, 'building': 8, 'promote': 9, 'nigeria': 9, 'financial': 9, 'collected': 7, 'interviews': 9, 'funding': 8, 'progress': 8, 'analysis': 9, 'infrastructure': 8, 'critical': 9, 'cls': 8, 'approach': 7, 'ministry': 7, 'enhance': 8, 'case': 9, 'information': 9, '##s': 9, 'spa': 9, 'steward': 9, 'inadequate': 9, 'challenges': 8, 'purchasing': 9}, {'provider': 8, 'recently': 9, 'res': 9, 'opportunity': 9, 'structure': 9, 'policy': 9, '##ali': 8, 'purchase': 10, 'ideal': 9, 'background': 9, 'significantly': 9, '##c': 9, '##o': 9, 'governments': 9, 'package': 8, 'including': 9, '##makers': 9, 'needs': 9, 'boost': 9, 'descriptive': 8, 'characterized': 9, 'making': 9, 'quality': 9, 'states': 8, 'remains': 9, 'principal': 8, 'optimal': 9, 'uh': 9, 'role': 9, 'represents': 9, 'sep': 9, 'established': 9, 'healthcare': 9, 'im': 9, 'mostly': 9, 'managers': 9, 'institutional': 9, '##p': 9, 'conclusion': 9, '##ili': 9, 'health': 8, '##rp': 9, 'documents': 9, 'results': 9, 'use': 9, 'organization': 9, 'budgets': 8, 'derived': 9, 'awareness': 9, 'state': 9, 'accountability': 9, 'developed': 9, 'undertaken': 9, 'capacity': 8, 'programme': 9, 'qu': 9, 'committed': 9, 'social': 7, 'provision': 9, 'tax': 9, 'passive': 9, 'split': 9, 'establishment': 9, 'track': 9, 'countries': 9, 'whose': 8, 'efficient': 9, 'pairs': 9, 'three': 9, 'delivery': 7}, {'##ent': 8, 'government': 8, 'ind': 5, 'lack': 8, 'examined': 7, '##ship': 7, 'relationships': 8, 'monitoring': 8, '##nt': 8, 'mechanism': 9, 'controls': 6, '##age': 9, 'schemes': 6, 'practices': 8, 'assess': 7, 'review': 8, 'guided': 8, 'governance': 3, 'main': 9, 'packages': 9, 'study': 9, 'using': 8, 'southeastern': 7, 'stakeholders': 7, 'towards': 8, 'methods': 5, '##ment': 8, 'technical': 8}, {'reflects': 7, 'comparing': 6, 'insurance': 8, 'mechanisms': 6, 'integrated': 9, 'reviewed': 6, '##tre': 4, 'factors': 8, 'arrangements': 4, 'analytical': 7, 'efficiency': 6, 'goals': 6, 'service': 8, 'however': 6}, {'##yst': 7, 'appropriate': 6, 'budget': 6, 'processes': 6, 'framework': 8, 'benefit': 7, 'improve': 7, 'benefits': 7, 'performance': 8, 'relevant': 8, '##oh': 6, '##a': 7, 'universal': 8, 'public': 8, '##ing': 2, '##nched': 8, 'population': 7, 'based': 8, 'reforms': 5, 'poor': 7, 'limited': 8, 'actions': 9, 'system': 5, 'major': 6}]\n"
          ]
        }
      ]
    },
    {
      "cell_type": "code",
      "source": [
        "doc_embedding = bert_classifier_generator(Embed_dict)"
      ],
      "metadata": {
        "id": "APZJpd5cNj2x"
      },
      "execution_count": null,
      "outputs": []
    },
    {
      "cell_type": "code",
      "source": [
        "print(doc_embedding[0][51028])"
      ],
      "metadata": {
        "colab": {
          "base_uri": "https://localhost:8080/"
        },
        "id": "0elYnuLIT1mL",
        "outputId": "8d7bf05e-3ad6-415e-a7ae-32428d2ffc10"
      },
      "execution_count": 73,
      "outputs": [
        {
          "output_type": "stream",
          "name": "stdout",
          "text": [
            "{531772: 81, 494379: 91, 119162: 94, 777456: 93, 67364: 95, 115108: 102, 767976: 108, 681624: 116, 107753: 89, 642286: 90, 51121: 96, 660610: 107, 614475: 85, 668878: 104, 56204: 108, 671324: 95, 550912: 97, 712161: 105, 620728: 92, 51273: 98, 165446: 101, 51830: 80, 51152: 111, 765722: 95, 504567: 95, 71913: 95, 51292: 112, 727098: 103, 490850: 79, 643986: 109, 50948: 103, 50984: 96, 679972: 105, 423221: 102, 568890: 104, 198222: 104, 166870: 94, 681452: 100, 138692: 91, 131518: 108, 686852: 106, 125596: 102, 201223: 93, 757007: 92, 762377: 109, 590137: 107, 524146: 102, 590558: 99, 658628: 85, 85977: 98, 601377: 96, 656702: 98, 109055: 86, 670676: 92, 502546: 101, 24206: 104, 724407: 86, 135984: 100, 506967: 105, 667553: 95, 572444: 103, 56393: 92, 248172: 106, 204896: 104, 492195: 110, 51167: 100, 94167: 102, 670195: 107, 567310: 110, 93986: 89, 98538: 94, 645869: 89, 605687: 96, 646708: 96, 51122: 110, 701508: 97, 700950: 107, 59997: 98, 535040: 88, 618324: 101, 492444: 98, 748335: 106, 703004: 106, 582071: 110, 754166: 91, 628887: 103, 142474: 101, 540706: 100, 653372: 106, 134051: 97, 706006: 98, 163940: 101, 685933: 99, 64622: 86, 519964: 91, 416247: 102, 765030: 96, 56817: 93, 665594: 85, 290391: 111, 124527: 97, 51073: 117, 612852: 102, 769272: 96, 50879: 97, 762279: 105, 88118: 94, 104374: 103, 88700: 108, 722812: 94, 667055: 89, 85283: 93, 51149: 103, 51232: 104, 111790: 101, 766897: 106, 51281: 86, 133726: 91, 702180: 110, 75773: 93, 529035: 94, 24234: 92, 54745: 99, 50798: 92, 145436: 107, 767147: 104, 68447: 114, 576973: 98, 496415: 95, 520422: 94, 274035: 110, 656848: 103, 91615: 102, 534265: 97, 640740: 106, 50888: 98, 736969: 93, 649222: 100, 632474: 95, 51282: 106, 85851: 104, 209656: 96, 612997: 103, 699562: 98, 140615: 108, 498411: 114, 68213: 98, 58072: 102, 606776: 103, 50797: 105, 544892: 105, 642950: 98, 661818: 101, 747858: 103, 167691: 100, 704204: 101, 279363: 100, 582027: 103, 545339: 102, 585002: 109, 128388: 100, 89762: 106, 51250: 108, 50661: 103, 621271: 98, 668416: 109, 614925: 95, 125939: 105, 499930: 91, 505506: 107, 541540: 90, 153393: 116, 613014: 105, 51056: 93, 87523: 104, 500374: 97, 753847: 90, 610671: 93, 151083: 114, 709998: 99, 50659: 101, 568636: 90, 526687: 102, 557839: 93, 24105: 105, 611631: 100, 50961: 91, 132508: 98, 142871: 99, 775332: 113, 711932: 91, 568554: 97, 194504: 90, 601386: 98, 641415: 108, 649340: 88, 495429: 104, 761486: 111, 498912: 97, 568149: 93, 755976: 96, 141416: 111, 768264: 92, 561383: 97, 95452: 121, 624451: 98, 770509: 94, 730754: 96, 50971: 111, 50940: 105, 708223: 98, 599822: 91, 687235: 91, 135519: 98, 61166: 92, 50867: 82, 618023: 117, 50983: 115, 109750: 97, 744003: 112, 124636: 103, 625298: 108, 24010: 106, 623620: 92, 190630: 106, 495703: 96, 764915: 92, 563293: 92, 109684: 95, 644274: 97, 719534: 87, 509277: 87, 771468: 101, 560390: 92, 576939: 91, 51249: 103, 24124: 88, 51229: 93, 639153: 96, 574488: 101, 602407: 88, 106570: 90, 68209: 91, 551442: 105, 24125: 101, 535301: 103, 24015: 97, 643424: 89, 50946: 97, 124000: 85, 109727: 98, 642069: 95, 92724: 93, 24160: 114, 583976: 92, 664639: 96, 577558: 89, 576182: 89, 51169: 92, 77397: 91, 530448: 107, 724759: 106, 638486: 96, 540835: 109, 615390: 79, 534237: 103, 555541: 99, 748123: 104, 114237: 100, 716243: 108, 78065: 90, 744407: 92, 126919: 96, 768519: 111, 531486: 111, 507522: 100, 734654: 126, 76026: 102, 24275: 94, 766636: 113, 496234: 107, 628424: 105, 182912: 101, 548546: 101, 723272: 90, 687345: 107, 757965: 91, 507942: 92, 520474: 110, 50985: 91, 747118: 82, 511241: 116, 107215: 88, 51070: 98, 774999: 101, 51090: 99, 599625: 106, 751128: 107, 123604: 105, 665721: 104, 618009: 100, 111523: 88, 24203: 95, 725184: 105, 598737: 101, 70514: 105, 52851: 85, 186500: 92, 537569: 94, 591196: 104, 51218: 90, 712177: 98, 561739: 99, 521616: 92, 679492: 97, 185353: 95, 203318: 103, 523705: 99, 24248: 101, 681711: 100, 50819: 98, 554598: 99, 57516: 99, 627497: 102, 725180: 99, 632504: 89, 751190: 112, 653555: 97, 719354: 100, 74601: 94, 618792: 79, 570101: 99, 59055: 94, 158734: 93, 588490: 103, 121970: 99, 501040: 91, 665057: 93, 110840: 90, 771957: 95, 161265: 110, 630227: 102, 514366: 91, 557562: 113, 574449: 91, 56081: 89, 284284: 97, 715566: 110, 542144: 99, 732548: 95, 50786: 119, 627112: 88, 50878: 97, 51164: 87, 53703: 100, 128669: 91, 51057: 98, 50944: 101, 611787: 101, 540039: 95, 65042: 86, 50697: 110, 728591: 83, 50885: 99, 51035: 104, 93269: 88, 24159: 96, 686397: 86, 51129: 89, 24274: 100, 549793: 103, 51087: 99, 194732: 115, 509883: 94, 176821: 105, 404755: 113, 62577: 102, 109938: 98, 733155: 87, 668105: 98, 760107: 107, 50764: 105, 505311: 107, 588685: 83, 60327: 94, 497348: 105, 189787: 103, 597561: 94, 641201: 93, 494743: 86, 515815: 85, 689126: 90, 24170: 94, 670756: 92, 51163: 89, 102580: 89, 24204: 108, 592176: 85, 584921: 71, 106524: 95, 300052: 104, 739172: 112, 111145: 91, 51075: 100, 77180: 112, 588300: 100, 747483: 97, 514141: 96, 769145: 107, 198255: 93, 666074: 105, 331207: 103, 121331: 103, 719736: 111, 597163: 102, 735767: 87, 699182: 107, 645692: 111, 626527: 92, 160315: 101, 137733: 92, 105283: 102, 508837: 109, 24247: 112, 513922: 96, 50674: 95, 679783: 109, 532134: 100, 207612: 109, 62996: 92, 52253: 100, 706638: 102, 775250: 109, 579867: 85, 537431: 101, 707080: 98, 760047: 99, 175982: 96, 633511: 99, 50981: 95, 68517: 103, 606491: 95, 537301: 99, 58248: 95, 685613: 89, 590569: 85, 587044: 100, 153820: 94, 572658: 96, 51054: 89, 50939: 96, 624614: 112, 588845: 97, 550252: 104, 718625: 105, 208872: 100, 442912: 95, 613415: 92, 51059: 98, 591684: 91, 629583: 100, 736706: 115, 601095: 84, 127412: 99, 105186: 90, 24207: 105, 181176: 114, 748954: 103, 748209: 92, 599606: 102, 730080: 93, 707058: 103, 682958: 106, 633480: 104, 576299: 100, 760838: 103, 182368: 107, 565179: 105, 67101: 99, 163118: 89, 195128: 100, 51172: 92, 124466: 102, 669548: 108, 529811: 102, 50947: 89, 629375: 92, 739012: 96, 638122: 103, 634181: 103, 131827: 112, 50881: 98, 50925: 104, 690799: 85, 24074: 102, 24171: 89, 51166: 100, 51062: 100, 693927: 96, 732991: 97, 637846: 85, 51058: 103, 777459: 88, 692931: 110, 159327: 99, 611160: 90, 51102: 92, 51078: 108, 543476: 103, 765753: 122, 558383: 90, 511576: 98, 139368: 109, 188374: 101, 491290: 91, 51189: 91, 51064: 98, 457837: 106, 564971: 103, 244511: 107, 621304: 89, 707772: 91, 122130: 92, 507020: 98, 720570: 114, 196387: 94, 187269: 97, 51147: 109, 51127: 102, 587980: 107, 659356: 109, 81355: 88, 498774: 105, 660909: 98, 195386: 100, 24227: 101, 504327: 94, 51193: 102, 611360: 91, 686498: 96, 745685: 95, 196007: 99, 708967: 107, 542648: 98, 24185: 102, 603598: 96, 588902: 101, 563470: 91, 671509: 104, 596594: 111, 51221: 98, 745303: 109, 636571: 109, 567886: 95, 560182: 103, 537907: 90, 744773: 99, 86359: 102, 629395: 102, 731844: 94, 51277: 99, 716700: 99, 51235: 103, 343902: 106, 734407: 97, 551720: 87, 55569: 97, 140874: 108, 504118: 103, 166197: 92, 496904: 92, 154488: 103, 51175: 92, 503405: 116, 497713: 101, 232083: 101, 571467: 107, 131986: 93, 522292: 90, 660855: 104, 589211: 98, 500172: 94, 744535: 95, 50892: 99, 51161: 99, 99912: 88, 665042: 105, 632499: 100, 111255: 94, 623632: 104, 624326: 106, 578986: 104, 58190: 87, 671544: 106, 714769: 97, 24216: 103, 50795: 98, 51272: 98, 50967: 91, 760612: 98, 772532: 87, 95843: 91, 648602: 104, 51069: 92, 748969: 87, 518253: 99, 493866: 97, 499350: 89, 123159: 100, 658192: 95, 24018: 105, 160545: 100, 62198: 96, 50966: 103, 51203: 95, 24221: 95, 760235: 99, 624920: 100, 63445: 100, 51248: 114, 103469: 94, 755011: 106, 230830: 115, 524069: 92, 590243: 113, 51063: 101, 527785: 100, 50876: 80, 705381: 106, 576170: 96, 725766: 96, 51278: 103, 741994: 110, 731480: 98, 633765: 93, 50660: 93, 655983: 88, 24213: 90, 577096: 101, 565343: 102, 647907: 95, 189768: 100, 183954: 99, 771323: 103, 579840: 97, 662792: 84, 51209: 100, 610088: 106, 79661: 105, 24169: 102, 582452: 99, 552650: 78, 50869: 106, 521209: 99, 505006: 113, 66738: 99, 195409: 93, 511483: 93, 114811: 88, 723401: 97, 544900: 93, 105497: 96, 778242: 112, 50678: 90, 606351: 93, 193406: 96, 545996: 98, 776781: 86, 643553: 99, 87109: 104, 742805: 102, 581120: 98, 532176: 94, 145579: 101, 519078: 91, 88589: 90, 772177: 106, 184681: 91, 649881: 102, 84113: 92, 704365: 106, 635542: 100, 777645: 119, 119153: 95, 743761: 97, 719888: 117, 675858: 106, 565504: 104, 114498: 82, 653433: 94, 188623: 98, 51477: 93, 92704: 99, 50894: 100, 111353: 94, 606234: 94, 101083: 93, 99052: 92, 518003: 93, 733368: 106, 50955: 107, 525924: 97, 65560: 95, 767954: 99, 680852: 102, 148420: 111, 578214: 99, 770207: 99, 639382: 95, 621946: 103, 96162: 86, 24156: 102, 596390: 97, 158814: 89, 538265: 94, 122427: 104, 652274: 84, 58722: 98, 730959: 107, 550325: 108, 569940: 110, 775642: 111, 64222: 90, 763577: 84, 165319: 86, 105196: 88, 97145: 119, 86983: 99, 657656: 93, 24120: 106, 51200: 107, 423042: 97, 674552: 105, 667917: 91, 550894: 98, 633801: 99, 24202: 102, 50865: 101, 593706: 98, 492010: 87, 156010: 87, 589521: 88, 332160: 95, 98546: 88, 761045: 96, 51237: 80, 78219: 107, 24215: 97, 630653: 88, 51079: 94, 590695: 104, 615925: 89, 552633: 102, 600218: 92, 737439: 113, 135886: 106, 328099: 112, 51174: 96, 51275: 102, 534574: 104, 715738: 106, 622962: 88, 127064: 112, 122444: 103, 568123: 97, 571838: 95, 24210: 95, 486239: 103, 731707: 104, 670042: 102, 576228: 95, 557371: 90, 757906: 93, 714878: 89, 567646: 96, 529727: 86, 51185: 114, 642645: 99, 66571: 91, 576487: 92, 766916: 108, 543722: 94, 51177: 91, 51020: 99, 544684: 103, 582035: 96, 67963: 99, 67755: 105, 669169: 106, 112848: 85, 613047: 96, 573337: 87, 50662: 105, 50666: 94, 688870: 98, 51255: 108, 418603: 117, 126761: 99, 110288: 89, 556568: 104, 544196: 118, 24006: 101, 127628: 98, 376281: 103, 314052: 108, 683979: 105, 758663: 96, 58481: 91, 187836: 102, 694368: 103, 167572: 93, 141521: 92, 659295: 107, 743833: 104, 197096: 103, 51207: 104, 108094: 96, 692476: 108, 50945: 110, 119181: 113, 610995: 105, 127825: 117, 610295: 94, 682500: 98, 669187: 97, 111880: 87, 51213: 107, 699953: 98, 200363: 99, 765790: 90, 525732: 101, 762844: 96, 514541: 93, 113536: 99, 83414: 106, 581149: 104, 50685: 99, 683066: 112, 82896: 103, 635280: 83, 589612: 94, 663590: 102, 51088: 95, 24107: 102, 617243: 94, 205858: 122, 692989: 102, 506074: 95, 50943: 87, 676436: 102, 24009: 95, 702926: 107, 24133: 106, 516267: 108, 511901: 100, 175455: 117, 545225: 105, 580655: 99, 630088: 87, 51228: 90, 68707: 90, 407060: 103, 24007: 109, 528650: 95, 157580: 109, 51217: 92, 177795: 98, 24117: 110, 655866: 112, 24161: 92, 594406: 97, 601833: 111, 354374: 127, 62374: 102, 608139: 96, 51208: 95, 98942: 89, 51238: 98, 705416: 98, 50987: 93, 694873: 102, 679223: 94, 197677: 96, 574084: 95, 674413: 94, 51198: 95, 734643: 107, 102288: 92, 638723: 108, 660908: 96, 749185: 94, 134971: 104, 758108: 94, 252899: 101, 584171: 104, 50976: 95, 733534: 112, 51091: 102, 65574: 100, 621355: 92, 650062: 104, 555145: 106, 74501: 113, 193110: 95, 519025: 94, 85157: 105, 709438: 115, 75811: 98, 504126: 87, 24008: 102, 625414: 84, 504044: 107, 697446: 97, 133483: 101, 512420: 104, 638813: 102, 50896: 100, 710763: 97, 50866: 107, 750230: 98, 612196: 106, 683855: 109, 335133: 116, 51244: 103}\n"
          ]
        }
      ]
    },
    {
      "cell_type": "code",
      "source": [
        "total_clustering_w_frequency = similarity_documents(total_doc_word_groups)"
      ],
      "metadata": {
        "id": "eO2MjERtVFhK"
      },
      "execution_count": null,
      "outputs": []
    },
    {
      "cell_type": "code",
      "source": [
        "print(total_clustering_w_frequency[0][51028])"
      ],
      "metadata": {
        "colab": {
          "base_uri": "https://localhost:8080/"
        },
        "id": "JYsty0iYVj0V",
        "outputId": "32672c30-fd54-405f-ebf0-9d8f550dd03f"
      },
      "execution_count": 79,
      "outputs": [
        {
          "output_type": "stream",
          "name": "stdout",
          "text": [
            "[['##yst', '##yst', '##yst', '##yst', '##yst', '##yst', 'comparing', 'comparing', 'comparing', 'comparing', 'comparing', 'arrangements', 'analytical', 'analytical', 'analytical', 'appropriate', 'appropriate', 'appropriate', 'appropriate', 'appropriate', 'appropriate', 'budget', 'budget', 'budget', 'budget', 'budget', 'processes', 'processes', 'processes', 'processes', 'processes', 'however', 'however', 'however', 'however', 'however', 'framework', 'framework', 'framework', 'framework', 'framework', 'framework', 'framework', 'benefit', 'benefit', 'benefit', 'benefit', 'benefit', 'benefit', 'benefit', 'insurance', 'insurance', 'insurance', 'insurance', 'insurance', 'insurance', 'improve', 'improve', 'improve', 'improve', 'improve', 'benefits', 'benefits', 'benefits', 'benefits', 'benefits', 'benefits', 'benefits', 'benefits', 'performance', 'performance', 'performance', 'performance', 'performance', 'performance', 'performance', 'performance', 'relevant', 'relevant', 'relevant', 'relevant', 'relevant', 'relevant', 'relevant', 'relevant', 'relevant', '##oh', '##oh', '##oh', '##oh', '##oh', '##oh', '##a', '##a', '##a', '##a', '##a', '##a', '##a', '##a', 'universal', 'universal', 'universal', 'universal', 'universal', 'universal', 'service', 'service', 'service', 'service', 'service', 'service', 'service', 'service', 'public', 'public', 'public', 'public', 'public', 'public', '##ing', '##ing', '##ing', '##ing', '##nched', '##nched', '##nched', '##nched', '##nched', '##nched', '##tre', '##tre', '##tre', '##tre', 'population', 'population', 'population', 'population', 'population', 'efficiency', 'efficiency', 'efficiency', 'efficiency', 'based', 'based', 'based', 'based', 'based', 'based', 'reforms', 'reforms', 'reforms', 'reforms', 'reforms', 'reforms', 'poor', 'poor', 'poor', 'poor', 'poor', 'poor', 'external', 'external', 'external', 'external', 'external', 'external', 'external', 'reflects', 'reflects', 'reflects', 'reflects', 'reflects', 'reflects', 'reflects', 'integrated', 'integrated', 'integrated', 'integrated', 'integrated', 'integrated', 'integrated', 'limited', 'limited', 'limited', 'limited', 'limited', 'limited', 'actions', 'actions', 'actions', 'actions', 'actions', 'actions', 'actions', 'actions', 'factors', 'factors', 'factors', 'factors', 'factors', 'factors', 'factors', 'goals', 'goals', 'goals', 'goals', 'goals', 'system', 'system', 'system', 'system', 'system', '##base', '##base', '##base', '##base', '##base', '##base', '##base', '##base', 'major', 'major', 'major', 'major', 'major', 'major'], ['##ider', '##ider', '##ider', '##ider', '##ider', '##ider', '##ider', '##ider', '##ider', 'governments', 'governments', 'governments', 'governments', 'governments', 'governments', 'governments', 'governments', 'governments', '##makers', '##makers', '##makers', '##makers', '##makers', '##makers', '##makers', '##makers', '##makers', 'characterized', 'characterized', 'characterized', 'characterized', 'characterized', 'characterized', 'characterized', 'characterized', 'characterized', 'making', 'making', 'making', 'making', 'making', 'making', 'making', 'making', 'making', 'quality', 'quality', 'quality', 'quality', 'quality', 'quality', 'quality', 'quality', 'quality', 'remains', 'remains', 'remains', 'remains', 'remains', 'remains', 'remains', 'remains', 'remains', 'represents', 'represents', 'represents', 'represents', 'represents', 'represents', 'represents', 'represents', 'represents', 'established', 'established', 'established', 'established', 'established', 'established', 'established', 'established', 'established', 'im', 'im', 'im', 'im', 'im', 'im', 'im', 'im', 'im', 'conclusion', 'conclusion', 'conclusion', 'conclusion', 'conclusion', 'conclusion', 'conclusion', 'conclusion', 'conclusion', 'organization', 'organization', 'organization', 'organization', 'organization', 'organization', 'organization', 'organization', 'organization', 'capacity', 'capacity', 'capacity', 'capacity', 'capacity', 'capacity', 'capacity', 'capacity', 'programme', 'programme', 'programme', 'programme', 'programme', 'programme', 'programme', 'programme', 'programme', 'split', 'split', 'split', 'split', 'split', 'split', 'split', 'split', 'split', 'track', 'track', 'track', 'track', 'track', 'track', 'track', 'track', 'track', 'countries', 'countries', 'countries', 'countries', 'countries', 'countries', 'countries', 'countries', 'countries', 'policy', 'policy', 'policy', 'policy', 'policy', 'policy', 'policy', 'policy', 'policy', 'res', 'res', 'res', 'res', 'res', 'res', 'res', 'res', 'res', 'purchase', 'purchase', 'purchase', 'purchase', 'purchase', 'purchase', 'purchase', 'purchase', 'purchase', 'optimal', 'optimal', 'optimal', 'optimal', 'optimal', 'optimal', 'optimal', 'optimal', 'optimal', 'managers', 'managers', 'managers', 'managers', 'managers', 'managers', 'managers', 'managers', 'managers', 'documents', 'documents', 'documents', 'documents', 'documents', 'documents', 'documents', 'documents', 'documents', 'derived', 'derived', 'derived', 'derived', 'derived', 'derived', 'derived', 'derived', 'derived', 'use', 'use', 'use', 'use', 'use', 'use', 'use', 'use', 'use', 'collected', 'collected', 'collected', 'collected', 'collected', 'collected', 'collected', 'accountability', 'accountability', 'accountability', 'accountability', 'accountability', 'accountability', 'accountability', 'accountability', 'accountability', 'undertaken', 'undertaken', 'undertaken', 'undertaken', 'undertaken', 'undertaken', 'undertaken', 'undertaken', 'undertaken', 'committed', 'committed', 'committed', 'committed', 'committed', 'committed', 'committed', 'committed', 'committed', 'tax', 'tax', 'tax', 'tax', 'tax', 'tax', 'tax', 'tax', 'tax', 'whose', 'whose', 'whose', 'whose', 'whose', 'whose', 'whose', 'whose', 'pairs', 'pairs', 'pairs', 'pairs', 'pairs', 'pairs', 'pairs', 'pairs', 'pairs', 'provider', 'provider', 'provider', 'provider', 'provider', 'provider', 'provider', 'provider', 'structure', 'structure', 'structure', 'structure', 'structure', 'structure', 'structure', 'structure', 'structure', 'ideal', 'ideal', 'ideal', 'ideal', 'ideal', 'ideal', 'ideal', 'ideal', 'ideal', '##c', '##c', '##c', '##c', '##c', '##c', '##c', '##c', '##c', 'package', 'package', 'package', 'package', 'package', 'package', 'package', 'package', 'package', 'including', 'including', 'including', 'including', 'including', 'including', 'including', 'including', 'including', 'needs', 'needs', 'needs', 'needs', 'needs', 'needs', 'needs', 'needs', 'needs', 'boost', 'boost', 'boost', 'boost', 'boost', 'boost', 'boost', 'boost', 'boost', 'descriptive', 'descriptive', 'descriptive', 'descriptive', 'descriptive', 'descriptive', 'descriptive', 'descriptive', 'principal', 'principal', 'principal', 'principal', 'principal', 'principal', 'principal', 'principal', 'role', 'role', 'role', 'role', 'role', 'role', 'role', 'role', 'role', 'sep', 'sep', 'sep', 'sep', 'sep', 'sep', 'sep', 'sep', 'sep', 'mostly', 'mostly', 'mostly', 'mostly', 'mostly', 'mostly', 'mostly', 'mostly', 'mostly', 'institutional', 'institutional', 'institutional', 'institutional', 'institutional', 'institutional', 'institutional', 'institutional', 'institutional', '##p', '##p', '##p', '##p', '##p', '##p', '##p', '##p', '##p', 'awareness', 'awareness', 'awareness', 'awareness', 'awareness', 'awareness', 'awareness', 'awareness', 'awareness', '##rp', '##rp', '##rp', '##rp', '##rp', '##rp', '##rp', '##rp', '##rp', 'budgets', 'budgets', 'budgets', 'budgets', 'budgets', 'budgets', 'budgets', 'budgets', 'results', 'results', 'results', 'results', 'results', 'results', 'results', 'results', 'results', 'financial', 'financial', 'financial', 'financial', 'financial', 'financial', 'financial', 'financial', 'qu', 'qu', 'qu', 'qu', 'qu', 'qu', 'qu', 'qu', 'qu', 'social', 'social', 'social', 'social', 'social', 'social', 'social', 'social', 'provision', 'provision', 'provision', 'provision', 'provision', 'provision', 'provision', 'provision', 'provision', 'passive', 'passive', 'passive', 'passive', 'passive', 'passive', 'passive', 'passive', 'passive', 'inadequate', 'inadequate', 'inadequate', 'inadequate', 'inadequate', 'inadequate', 'inadequate', 'inadequate', 'inadequate', 'recently', 'recently', 'recently', 'recently', 'recently', 'recently', 'recently', 'recently', 'recently', 'opportunity', 'opportunity', 'opportunity', 'opportunity', 'opportunity', 'opportunity', 'opportunity', 'opportunity', 'opportunity', 'selection', 'selection', 'selection', 'selection', 'selection', 'selection', 'selection', 'selection', 'background', 'background', 'background', 'background', 'background', 'background', 'background', 'background', 'background', 'significantly', 'significantly', 'significantly', 'significantly', 'significantly', 'significantly', 'significantly', 'significantly', 'significantly', '##o', '##o', '##o', '##o', '##o', '##o', '##o', '##o', '##o', 'states', 'states', 'states', 'states', 'states', 'states', 'states', 'states', 'states', 'uh', 'uh', 'uh', 'uh', 'uh', 'uh', 'uh', 'uh', 'uh', 'healthcare', 'healthcare', 'healthcare', 'healthcare', 'healthcare', 'healthcare', 'healthcare', 'healthcare', 'healthcare', '##ili', '##ili', '##ili', '##ili', '##ili', '##ili', '##ili', '##ili', '##ili', 'health', 'health', 'health', 'health', 'health', 'health', 'health', 'health', 'progress', 'progress', 'progress', 'progress', 'progress', 'progress', 'progress', 'state', 'state', 'state', 'state', 'state', 'state', 'state', 'state', 'state', 'resources', 'resources', 'resources', 'resources', 'resources', 'resources', 'resources', 'resources', 'developed', 'developed', 'developed', 'developed', 'developed', 'developed', 'developed', 'developed', 'developed', 'information', 'information', 'information', 'information', 'information', 'information', 'information', 'information', 'information', 'systems', 'systems', 'systems', 'systems', 'systems', 'systems', 'systems', 'establishment', 'establishment', 'establishment', 'establishment', 'establishment', 'establishment', 'establishment', 'establishment', 'establishment', 'efficient', 'efficient', 'efficient', 'efficient', 'efficient', 'efficient', 'efficient', 'efficient', 'efficient', 'three', 'three', 'three', 'three', 'three', 'three', 'three', 'three', 'three', 'delivery', 'delivery', 'delivery', 'delivery', 'delivery', 'delivery', 'delivery'], ['reflects', 'reflects', 'reflects', 'reflects', 'reflects', 'reflects', 'reflects', 'comparing', 'comparing', 'comparing', 'comparing', 'comparing', 'comparing', 'insurance', 'insurance', 'insurance', 'insurance', 'insurance', 'insurance', 'insurance', 'insurance', 'mechanisms', 'mechanisms', 'mechanisms', 'mechanisms', 'mechanisms', 'mechanisms', 'integrated', 'integrated', 'integrated', 'integrated', 'integrated', 'integrated', 'integrated', 'integrated', 'reviewed', 'reviewed', 'reviewed', 'reviewed', 'reviewed', 'reviewed', '##tre', '##tre', '##tre', '##tre', '##tre', 'factors', 'factors', 'factors', 'factors', 'factors', 'factors', 'factors', 'factors', 'arrangements', 'arrangements', 'arrangements', 'arrangements', 'analytical', 'analytical', 'analytical', 'analytical', 'analytical', 'analytical', 'analytical', 'efficiency', 'efficiency', 'efficiency', 'efficiency', 'efficiency', 'goals', 'goals', 'goals', 'goals', 'goals', 'goals', 'service', 'service', 'service', 'service', 'service', 'service', 'service', 'service', 'external', 'external', 'external', 'external', 'external', 'external', 'however', 'however', 'however', 'however', 'however', 'however'], ['provider', 'provider', 'provider', 'provider', 'provider', 'provider', 'provider', 'provider', 'recently', 'recently', 'recently', 'recently', 'recently', 'recently', 'recently', 'recently', 'recently', 'res', 'res', 'res', 'res', 'res', 'res', 'res', 'res', 'res', 'opportunity', 'opportunity', 'opportunity', 'opportunity', 'opportunity', 'opportunity', 'opportunity', 'opportunity', 'opportunity', 'structure', 'structure', 'structure', 'structure', 'structure', 'structure', 'structure', 'structure', 'structure', 'policy', 'policy', 'policy', 'policy', 'policy', 'policy', 'policy', 'policy', 'policy', 'purchase', 'purchase', 'purchase', 'purchase', 'purchase', 'purchase', 'purchase', 'purchase', 'purchase', 'purchase', 'ideal', 'ideal', 'ideal', 'ideal', 'ideal', 'ideal', 'ideal', 'ideal', 'ideal', 'background', 'background', 'background', 'background', 'background', 'background', 'background', 'background', 'background', 'significantly', 'significantly', 'significantly', 'significantly', 'significantly', 'significantly', 'significantly', 'significantly', 'significantly', '##c', '##c', '##c', '##c', '##c', '##c', '##c', '##c', '##c', '##o', '##o', '##o', '##o', '##o', '##o', '##o', '##o', '##o', 'governments', 'governments', 'governments', 'governments', 'governments', 'governments', 'governments', 'governments', 'governments', 'package', 'package', 'package', 'package', 'package', 'package', 'package', 'package', 'including', 'including', 'including', 'including', 'including', 'including', 'including', 'including', 'including', '##makers', '##makers', '##makers', '##makers', '##makers', '##makers', '##makers', '##makers', '##makers', 'needs', 'needs', 'needs', 'needs', 'needs', 'needs', 'needs', 'needs', 'needs', 'boost', 'boost', 'boost', 'boost', 'boost', 'boost', 'boost', 'boost', 'boost', 'descriptive', 'descriptive', 'descriptive', 'descriptive', 'descriptive', 'descriptive', 'descriptive', 'descriptive', 'characterized', 'characterized', 'characterized', 'characterized', 'characterized', 'characterized', 'characterized', 'characterized', 'characterized', 'making', 'making', 'making', 'making', 'making', 'making', 'making', 'making', 'making', 'quality', 'quality', 'quality', 'quality', 'quality', 'quality', 'quality', 'quality', 'quality', 'states', 'states', 'states', 'states', 'states', 'states', 'states', 'states', 'remains', 'remains', 'remains', 'remains', 'remains', 'remains', 'remains', 'remains', 'remains', 'principal', 'principal', 'principal', 'principal', 'principal', 'principal', 'principal', 'principal', 'optimal', 'optimal', 'optimal', 'optimal', 'optimal', 'optimal', 'optimal', 'optimal', 'optimal', 'uh', 'uh', 'uh', 'uh', 'uh', 'uh', 'uh', 'uh', 'uh', 'role', 'role', 'role', 'role', 'role', 'role', 'role', 'role', 'role', 'represents', 'represents', 'represents', 'represents', 'represents', 'represents', 'represents', 'represents', 'represents', 'sep', 'sep', 'sep', 'sep', 'sep', 'sep', 'sep', 'sep', 'sep', 'established', 'established', 'established', 'established', 'established', 'established', 'established', 'established', 'established', 'healthcare', 'healthcare', 'healthcare', 'healthcare', 'healthcare', 'healthcare', 'healthcare', 'healthcare', 'healthcare', 'im', 'im', 'im', 'im', 'im', 'im', 'im', 'im', 'im', 'mostly', 'mostly', 'mostly', 'mostly', 'mostly', 'mostly', 'mostly', 'mostly', 'mostly', 'managers', 'managers', 'managers', 'managers', 'managers', 'managers', 'managers', 'managers', 'managers', 'institutional', 'institutional', 'institutional', 'institutional', 'institutional', 'institutional', 'institutional', 'institutional', 'institutional', '##p', '##p', '##p', '##p', '##p', '##p', '##p', '##p', '##p', 'conclusion', 'conclusion', 'conclusion', 'conclusion', 'conclusion', 'conclusion', 'conclusion', 'conclusion', 'conclusion', '##ili', '##ili', '##ili', '##ili', '##ili', '##ili', '##ili', '##ili', '##ili', 'health', 'health', 'health', 'health', 'health', 'health', 'health', 'health', '##rp', '##rp', '##rp', '##rp', '##rp', '##rp', '##rp', '##rp', '##rp', 'documents', 'documents', 'documents', 'documents', 'documents', 'documents', 'documents', 'documents', 'documents', 'results', 'results', 'results', 'results', 'results', 'results', 'results', 'results', 'results', 'use', 'use', 'use', 'use', 'use', 'use', 'use', 'use', 'use', 'organization', 'organization', 'organization', 'organization', 'organization', 'organization', 'organization', 'organization', 'organization', 'budgets', 'budgets', 'budgets', 'budgets', 'budgets', 'budgets', 'budgets', 'budgets', 'derived', 'derived', 'derived', 'derived', 'derived', 'derived', 'derived', 'derived', 'derived', 'awareness', 'awareness', 'awareness', 'awareness', 'awareness', 'awareness', 'awareness', 'awareness', 'awareness', 'state', 'state', 'state', 'state', 'state', 'state', 'state', 'state', 'state', 'resources', 'resources', 'resources', 'resources', 'resources', 'resources', 'resources', 'resources', 'accountability', 'accountability', 'accountability', 'accountability', 'accountability', 'accountability', 'accountability', 'accountability', 'accountability', 'developed', 'developed', 'developed', 'developed', 'developed', 'developed', 'developed', 'developed', 'developed', 'undertaken', 'undertaken', 'undertaken', 'undertaken', 'undertaken', 'undertaken', 'undertaken', 'undertaken', 'undertaken', 'capacity', 'capacity', 'capacity', 'capacity', 'capacity', 'capacity', 'capacity', 'capacity', 'programme', 'programme', 'programme', 'programme', 'programme', 'programme', 'programme', 'programme', 'programme', 'qu', 'qu', 'qu', 'qu', 'qu', 'qu', 'qu', 'qu', 'qu', 'committed', 'committed', 'committed', 'committed', 'committed', 'committed', 'committed', 'committed', 'committed', 'social', 'social', 'social', 'social', 'social', 'social', 'social', 'social', 'provision', 'provision', 'provision', 'provision', 'provision', 'provision', 'provision', 'provision', 'provision', 'tax', 'tax', 'tax', 'tax', 'tax', 'tax', 'tax', 'tax', 'tax', 'systems', 'systems', 'systems', 'systems', 'systems', 'systems', 'systems', 'passive', 'passive', 'passive', 'passive', 'passive', 'passive', 'passive', 'passive', 'passive', 'split', 'split', 'split', 'split', 'split', 'split', 'split', 'split', 'split', 'establishment', 'establishment', 'establishment', 'establishment', 'establishment', 'establishment', 'establishment', 'establishment', 'establishment', 'track', 'track', 'track', 'track', 'track', 'track', 'track', 'track', 'track', 'countries', 'countries', 'countries', 'countries', 'countries', 'countries', 'countries', 'countries', 'countries', 'whose', 'whose', 'whose', 'whose', 'whose', 'whose', 'whose', 'whose', 'efficient', 'efficient', 'efficient', 'efficient', 'efficient', 'efficient', 'efficient', 'efficient', 'efficient', 'pairs', 'pairs', 'pairs', 'pairs', 'pairs', 'pairs', 'pairs', 'pairs', 'pairs', 'three', 'three', 'three', 'three', 'three', 'three', 'three', 'three', 'three', 'delivery', 'delivery', 'delivery', 'delivery', 'delivery', 'delivery', 'delivery'], ['##yst', '##yst', '##yst', '##yst', '##yst', '##yst', '##yst', 'appropriate', 'appropriate', 'appropriate', 'appropriate', 'appropriate', 'appropriate', 'budget', 'budget', 'budget', 'budget', 'budget', 'budget', 'processes', 'processes', 'processes', 'processes', 'processes', 'processes', 'framework', 'framework', 'framework', 'framework', 'framework', 'framework', 'framework', 'framework', 'benefit', 'benefit', 'benefit', 'benefit', 'benefit', 'benefit', 'benefit', 'improve', 'improve', 'improve', 'improve', 'improve', 'improve', 'improve', 'benefits', 'benefits', 'benefits', 'benefits', 'benefits', 'benefits', 'benefits', 'performance', 'performance', 'performance', 'performance', 'performance', 'performance', 'performance', 'performance', 'relevant', 'relevant', 'relevant', 'relevant', 'relevant', 'relevant', 'relevant', 'relevant', '##oh', '##oh', '##oh', '##oh', '##oh', '##oh', '##a', '##a', '##a', '##a', '##a', '##a', '##a', '##a', 'universal', 'universal', 'universal', 'universal', 'universal', 'universal', 'universal', 'universal', 'public', 'public', 'public', 'public', 'public', 'public', 'public', 'public', '##ing', '##ing', '##nched', '##nched', '##nched', '##nched', '##nched', '##nched', '##nched', '##nched', 'population', 'population', 'population', 'population', 'population', 'population', 'population', 'population', 'based', 'based', 'based', 'based', 'based', 'based', 'based', 'based', 'reforms', 'reforms', 'reforms', 'reforms', 'reforms', 'poor', 'poor', 'poor', 'poor', 'poor', 'poor', 'poor', 'limited', 'limited', 'limited', 'limited', 'limited', 'limited', 'limited', 'limited', 'actions', 'actions', 'actions', 'actions', 'actions', 'actions', 'actions', 'actions', 'actions', '##base', '##base', '##base', '##base', '##base', '##base', '##base', 'system', 'system', 'system', 'system', 'system', 'major', 'major', 'major', 'major', 'major', 'major'], ['##d', '##d', '##d', '##d', '##d', '##d', 'strategic', 'strategic', 'strategic', 'strategic', 'strategic', 'strategic', 'strategic', 'made', 'made', 'made', 'made', 'made', 'made', 'made', 'made', 'substantial', 'substantial', 'substantial', 'substantial', 'substantial', 'substantial', 'substantial', 'substantial', 'services', 'services', 'services', 'services', 'services', 'services', 'services', 'services', 'function', 'function', 'function', 'function', 'function', 'function', 'function', 'function', 'insufficient', 'insufficient', 'insufficient', 'insufficient', 'insufficient', 'insufficient', 'insufficient', 'insufficient', 'insufficient', 'support', 'support', 'support', 'support', 'support', 'support', 'support', 'support', '##ary', '##ary', '##ary', '##ary', '##ary', '##ary', '##ary', '##ary', '##ary', 'selection', 'selection', 'selection', 'selection', 'selection', 'selection', 'selection', 'selection', '##ider', '##ider', '##ider', '##ider', '##ider', '##ider', '##ider', '##ider', '##ider', 'financing', 'financing', 'financing', 'financing', 'financing', 'financing', 'financing', 'financing', 'financing', 'dominated', 'dominated', 'dominated', 'dominated', 'dominated', 'dominated', 'dominated', 'dominated', 'enhanced', 'enhanced', 'enhanced', 'enhanced', 'enhanced', 'enhanced', 'enhanced', 'enhanced', 'enhanced', 'stem', 'stem', 'stem', 'stem', 'stem', 'stem', 'stem', 'stem', 'revenue', 'revenue', 'revenue', 'revenue', 'revenue', 'revenue', 'revenue', 'revenue', 'revenue', 'allocation', 'allocation', 'allocation', 'allocation', 'allocation', 'allocation', 'allocation', '##rov', '##rov', '##rov', '##rov', '##rov', '##rov', '##rov', '##rov', '##rov', 'among', 'among', 'among', 'among', 'among', 'among', 'among', 'among', 'among', '##ept', '##ept', '##ept', '##ept', '##ept', '##ept', '##ept', '##ept', 'attain', 'attain', 'attain', 'attain', 'attain', 'attain', 'attain', 'attain', 'attain', 'sh', 'sh', 'sh', 'sh', 'sh', 'sh', 'sh', 'sh', 'sh', 'sm', 'sm', 'sm', 'sm', 'sm', 'sm', 'sm', 'sm', '##shi', '##shi', '##shi', '##shi', '##shi', '##shi', '##shi', 'building', 'building', 'building', 'building', 'building', 'building', 'building', 'building', 'promote', 'promote', 'promote', 'promote', 'promote', 'promote', 'promote', 'promote', 'promote', 'nigeria', 'nigeria', 'nigeria', 'nigeria', 'nigeria', 'nigeria', 'nigeria', 'nigeria', 'nigeria', 'financial', 'financial', 'financial', 'financial', 'financial', 'financial', 'financial', 'financial', 'financial', 'collected', 'collected', 'collected', 'collected', 'collected', 'collected', 'collected', 'interviews', 'interviews', 'interviews', 'interviews', 'interviews', 'interviews', 'interviews', 'interviews', 'interviews', 'funding', 'funding', 'funding', 'funding', 'funding', 'funding', 'funding', 'funding', 'progress', 'progress', 'progress', 'progress', 'progress', 'progress', 'progress', 'progress', 'analysis', 'analysis', 'analysis', 'analysis', 'analysis', 'analysis', 'analysis', 'analysis', 'analysis', 'infrastructure', 'infrastructure', 'infrastructure', 'infrastructure', 'infrastructure', 'infrastructure', 'infrastructure', 'infrastructure', 'critical', 'critical', 'critical', 'critical', 'critical', 'critical', 'critical', 'critical', 'critical', 'cls', 'cls', 'cls', 'cls', 'cls', 'cls', 'cls', 'cls', 'approach', 'approach', 'approach', 'approach', 'approach', 'approach', 'approach', 'ministry', 'ministry', 'ministry', 'ministry', 'ministry', 'ministry', 'ministry', 'enhance', 'enhance', 'enhance', 'enhance', 'enhance', 'enhance', 'enhance', 'enhance', 'case', 'case', 'case', 'case', 'case', 'case', 'case', 'case', 'case', 'information', 'information', 'information', 'information', 'information', 'information', 'information', 'information', 'information', '##s', '##s', '##s', '##s', '##s', '##s', '##s', '##s', '##s', 'spa', 'spa', 'spa', 'spa', 'spa', 'spa', 'spa', 'spa', 'spa', 'steward', 'steward', 'steward', 'steward', 'steward', 'steward', 'steward', 'steward', 'steward', 'inadequate', 'inadequate', 'inadequate', 'inadequate', 'inadequate', 'inadequate', 'inadequate', 'inadequate', 'inadequate', 'challenges', 'challenges', 'challenges', 'challenges', 'challenges', 'challenges', 'challenges', 'challenges', 'purchasing', 'purchasing', 'purchasing', 'purchasing', 'purchasing', 'purchasing', 'purchasing', 'purchasing', 'purchasing'], ['provider', 'provider', 'provider', 'provider', 'provider', 'provider', 'provider', 'provider', 'recently', 'recently', 'recently', 'recently', 'recently', 'recently', 'recently', 'recently', 'recently', 'res', 'res', 'res', 'res', 'res', 'res', 'res', 'res', 'res', 'opportunity', 'opportunity', 'opportunity', 'opportunity', 'opportunity', 'opportunity', 'opportunity', 'opportunity', 'opportunity', 'structure', 'structure', 'structure', 'structure', 'structure', 'structure', 'structure', 'structure', 'structure', 'policy', 'policy', 'policy', 'policy', 'policy', 'policy', 'policy', 'policy', 'policy', '##ali', '##ali', '##ali', '##ali', '##ali', '##ali', '##ali', '##ali', 'purchase', 'purchase', 'purchase', 'purchase', 'purchase', 'purchase', 'purchase', 'purchase', 'purchase', 'purchase', 'ideal', 'ideal', 'ideal', 'ideal', 'ideal', 'ideal', 'ideal', 'ideal', 'ideal', 'background', 'background', 'background', 'background', 'background', 'background', 'background', 'background', 'background', 'significantly', 'significantly', 'significantly', 'significantly', 'significantly', 'significantly', 'significantly', 'significantly', 'significantly', '##c', '##c', '##c', '##c', '##c', '##c', '##c', '##c', '##c', '##o', '##o', '##o', '##o', '##o', '##o', '##o', '##o', '##o', 'governments', 'governments', 'governments', 'governments', 'governments', 'governments', 'governments', 'governments', 'governments', 'package', 'package', 'package', 'package', 'package', 'package', 'package', 'package', 'including', 'including', 'including', 'including', 'including', 'including', 'including', 'including', 'including', '##makers', '##makers', '##makers', '##makers', '##makers', '##makers', '##makers', '##makers', '##makers', 'needs', 'needs', 'needs', 'needs', 'needs', 'needs', 'needs', 'needs', 'needs', 'boost', 'boost', 'boost', 'boost', 'boost', 'boost', 'boost', 'boost', 'boost', 'descriptive', 'descriptive', 'descriptive', 'descriptive', 'descriptive', 'descriptive', 'descriptive', 'descriptive', 'characterized', 'characterized', 'characterized', 'characterized', 'characterized', 'characterized', 'characterized', 'characterized', 'characterized', 'making', 'making', 'making', 'making', 'making', 'making', 'making', 'making', 'making', 'quality', 'quality', 'quality', 'quality', 'quality', 'quality', 'quality', 'quality', 'quality', 'states', 'states', 'states', 'states', 'states', 'states', 'states', 'states', 'remains', 'remains', 'remains', 'remains', 'remains', 'remains', 'remains', 'remains', 'remains', 'principal', 'principal', 'principal', 'principal', 'principal', 'principal', 'principal', 'principal', 'optimal', 'optimal', 'optimal', 'optimal', 'optimal', 'optimal', 'optimal', 'optimal', 'optimal', 'uh', 'uh', 'uh', 'uh', 'uh', 'uh', 'uh', 'uh', 'uh', 'role', 'role', 'role', 'role', 'role', 'role', 'role', 'role', 'role', 'represents', 'represents', 'represents', 'represents', 'represents', 'represents', 'represents', 'represents', 'represents', 'sep', 'sep', 'sep', 'sep', 'sep', 'sep', 'sep', 'sep', 'sep', 'established', 'established', 'established', 'established', 'established', 'established', 'established', 'established', 'established', 'healthcare', 'healthcare', 'healthcare', 'healthcare', 'healthcare', 'healthcare', 'healthcare', 'healthcare', 'healthcare', 'im', 'im', 'im', 'im', 'im', 'im', 'im', 'im', 'im', 'mostly', 'mostly', 'mostly', 'mostly', 'mostly', 'mostly', 'mostly', 'mostly', 'mostly', 'managers', 'managers', 'managers', 'managers', 'managers', 'managers', 'managers', 'managers', 'managers', 'institutional', 'institutional', 'institutional', 'institutional', 'institutional', 'institutional', 'institutional', 'institutional', 'institutional', '##p', '##p', '##p', '##p', '##p', '##p', '##p', '##p', '##p', 'conclusion', 'conclusion', 'conclusion', 'conclusion', 'conclusion', 'conclusion', 'conclusion', 'conclusion', 'conclusion', '##ili', '##ili', '##ili', '##ili', '##ili', '##ili', '##ili', '##ili', '##ili', 'health', 'health', 'health', 'health', 'health', 'health', 'health', 'health', '##rp', '##rp', '##rp', '##rp', '##rp', '##rp', '##rp', '##rp', '##rp', 'documents', 'documents', 'documents', 'documents', 'documents', 'documents', 'documents', 'documents', 'documents', 'results', 'results', 'results', 'results', 'results', 'results', 'results', 'results', 'results', 'use', 'use', 'use', 'use', 'use', 'use', 'use', 'use', 'use', 'organization', 'organization', 'organization', 'organization', 'organization', 'organization', 'organization', 'organization', 'organization', 'budgets', 'budgets', 'budgets', 'budgets', 'budgets', 'budgets', 'budgets', 'budgets', 'derived', 'derived', 'derived', 'derived', 'derived', 'derived', 'derived', 'derived', 'derived', 'awareness', 'awareness', 'awareness', 'awareness', 'awareness', 'awareness', 'awareness', 'awareness', 'awareness', 'state', 'state', 'state', 'state', 'state', 'state', 'state', 'state', 'state', 'accountability', 'accountability', 'accountability', 'accountability', 'accountability', 'accountability', 'accountability', 'accountability', 'accountability', 'developed', 'developed', 'developed', 'developed', 'developed', 'developed', 'developed', 'developed', 'developed', 'undertaken', 'undertaken', 'undertaken', 'undertaken', 'undertaken', 'undertaken', 'undertaken', 'undertaken', 'undertaken', 'capacity', 'capacity', 'capacity', 'capacity', 'capacity', 'capacity', 'capacity', 'capacity', 'programme', 'programme', 'programme', 'programme', 'programme', 'programme', 'programme', 'programme', 'programme', 'qu', 'qu', 'qu', 'qu', 'qu', 'qu', 'qu', 'qu', 'qu', 'committed', 'committed', 'committed', 'committed', 'committed', 'committed', 'committed', 'committed', 'committed', 'social', 'social', 'social', 'social', 'social', 'social', 'social', 'provision', 'provision', 'provision', 'provision', 'provision', 'provision', 'provision', 'provision', 'provision', 'tax', 'tax', 'tax', 'tax', 'tax', 'tax', 'tax', 'tax', 'tax', 'passive', 'passive', 'passive', 'passive', 'passive', 'passive', 'passive', 'passive', 'passive', 'split', 'split', 'split', 'split', 'split', 'split', 'split', 'split', 'split', 'establishment', 'establishment', 'establishment', 'establishment', 'establishment', 'establishment', 'establishment', 'establishment', 'establishment', 'track', 'track', 'track', 'track', 'track', 'track', 'track', 'track', 'track', 'countries', 'countries', 'countries', 'countries', 'countries', 'countries', 'countries', 'countries', 'countries', 'whose', 'whose', 'whose', 'whose', 'whose', 'whose', 'whose', 'whose', 'efficient', 'efficient', 'efficient', 'efficient', 'efficient', 'efficient', 'efficient', 'efficient', 'efficient', 'pairs', 'pairs', 'pairs', 'pairs', 'pairs', 'pairs', 'pairs', 'pairs', 'pairs', 'three', 'three', 'three', 'three', 'three', 'three', 'three', 'three', 'three', 'delivery', 'delivery', 'delivery', 'delivery', 'delivery', 'delivery', 'delivery'], ['##ent', '##ent', '##ent', '##ent', '##ent', '##ent', '##ent', '##ent', 'government', 'government', 'government', 'government', 'government', 'government', 'government', 'government', 'ind', 'ind', 'ind', 'ind', 'ind', 'lack', 'lack', 'lack', 'lack', 'lack', 'lack', 'lack', 'lack', 'examined', 'examined', 'examined', 'examined', 'examined', 'examined', 'examined', '##ship', '##ship', '##ship', '##ship', '##ship', '##ship', '##ship', 'relationships', 'relationships', 'relationships', 'relationships', 'relationships', 'relationships', 'relationships', 'relationships', 'monitoring', 'monitoring', 'monitoring', 'monitoring', 'monitoring', 'monitoring', 'monitoring', 'monitoring', '##nt', '##nt', '##nt', '##nt', '##nt', '##nt', '##nt', '##nt', 'mechanism', 'mechanism', 'mechanism', 'mechanism', 'mechanism', 'mechanism', 'mechanism', 'mechanism', 'mechanism', 'controls', 'controls', 'controls', 'controls', 'controls', 'controls', '##age', '##age', '##age', '##age', '##age', '##age', '##age', '##age', '##age', 'schemes', 'schemes', 'schemes', 'schemes', 'schemes', 'schemes', 'practices', 'practices', 'practices', 'practices', 'practices', 'practices', 'practices', 'practices', 'assess', 'assess', 'assess', 'assess', 'assess', 'assess', 'assess', 'review', 'review', 'review', 'review', 'review', 'review', 'review', 'review', 'guided', 'guided', 'guided', 'guided', 'guided', 'guided', 'guided', 'guided', 'governance', 'governance', 'governance', 'main', 'main', 'main', 'main', 'main', 'main', 'main', 'main', 'main', 'packages', 'packages', 'packages', 'packages', 'packages', 'packages', 'packages', 'packages', 'packages', 'study', 'study', 'study', 'study', 'study', 'study', 'study', 'study', 'study', 'using', 'using', 'using', 'using', 'using', 'using', 'using', 'using', 'southeastern', 'southeastern', 'southeastern', 'southeastern', 'southeastern', 'southeastern', 'southeastern', 'stakeholders', 'stakeholders', 'stakeholders', 'stakeholders', 'stakeholders', 'stakeholders', 'stakeholders', 'towards', 'towards', 'towards', 'towards', 'towards', 'towards', 'towards', 'towards', 'methods', 'methods', 'methods', 'methods', 'methods', '##ment', '##ment', '##ment', '##ment', '##ment', '##ment', '##ment', '##ment', 'technical', 'technical', 'technical', 'technical', 'technical', 'technical', 'technical', 'technical'], ['reflects', 'reflects', 'reflects', 'reflects', 'reflects', 'reflects', 'reflects', 'comparing', 'comparing', 'comparing', 'comparing', 'comparing', 'comparing', 'insurance', 'insurance', 'insurance', 'insurance', 'insurance', 'insurance', 'insurance', 'insurance', 'mechanisms', 'mechanisms', 'mechanisms', 'mechanisms', 'mechanisms', 'mechanisms', 'integrated', 'integrated', 'integrated', 'integrated', 'integrated', 'integrated', 'integrated', 'integrated', 'integrated', 'reviewed', 'reviewed', 'reviewed', 'reviewed', 'reviewed', 'reviewed', '##tre', '##tre', '##tre', '##tre', 'factors', 'factors', 'factors', 'factors', 'factors', 'factors', 'factors', 'factors', 'arrangements', 'arrangements', 'arrangements', 'arrangements', 'analytical', 'analytical', 'analytical', 'analytical', 'analytical', 'analytical', 'analytical', 'efficiency', 'efficiency', 'efficiency', 'efficiency', 'efficiency', 'efficiency', 'goals', 'goals', 'goals', 'goals', 'goals', 'goals', 'service', 'service', 'service', 'service', 'service', 'service', 'service', 'service', 'however', 'however', 'however', 'however', 'however', 'however'], ['##yst', '##yst', '##yst', '##yst', '##yst', '##yst', '##yst', 'appropriate', 'appropriate', 'appropriate', 'appropriate', 'appropriate', 'appropriate', 'budget', 'budget', 'budget', 'budget', 'budget', 'budget', 'processes', 'processes', 'processes', 'processes', 'processes', 'processes', 'framework', 'framework', 'framework', 'framework', 'framework', 'framework', 'framework', 'framework', 'benefit', 'benefit', 'benefit', 'benefit', 'benefit', 'benefit', 'benefit', 'improve', 'improve', 'improve', 'improve', 'improve', 'improve', 'improve', 'benefits', 'benefits', 'benefits', 'benefits', 'benefits', 'benefits', 'benefits', 'performance', 'performance', 'performance', 'performance', 'performance', 'performance', 'performance', 'performance', 'relevant', 'relevant', 'relevant', 'relevant', 'relevant', 'relevant', 'relevant', 'relevant', '##oh', '##oh', '##oh', '##oh', '##oh', '##oh', '##a', '##a', '##a', '##a', '##a', '##a', '##a', 'universal', 'universal', 'universal', 'universal', 'universal', 'universal', 'universal', 'universal', 'public', 'public', 'public', 'public', 'public', 'public', 'public', 'public', '##ing', '##ing', '##nched', '##nched', '##nched', '##nched', '##nched', '##nched', '##nched', '##nched', 'population', 'population', 'population', 'population', 'population', 'population', 'population', 'based', 'based', 'based', 'based', 'based', 'based', 'based', 'based', 'reforms', 'reforms', 'reforms', 'reforms', 'reforms', 'poor', 'poor', 'poor', 'poor', 'poor', 'poor', 'poor', 'limited', 'limited', 'limited', 'limited', 'limited', 'limited', 'limited', 'limited', 'actions', 'actions', 'actions', 'actions', 'actions', 'actions', 'actions', 'actions', 'actions', 'system', 'system', 'system', 'system', 'system', 'major', 'major', 'major', 'major', 'major', 'major']]\n"
          ]
        }
      ]
    },
    {
      "cell_type": "code",
      "source": [
        "print(similar_doc(total_clustering_w_frequency[0][51028], total_clustering_w_frequency[0][119162]))"
      ],
      "metadata": {
        "colab": {
          "base_uri": "https://localhost:8080/"
        },
        "id": "5ZZ--MBpVvQM",
        "outputId": "16dfa7e6-96c3-4e77-b261-cc4af54dafd7"
      },
      "execution_count": 86,
      "outputs": [
        {
          "output_type": "stream",
          "name": "stdout",
          "text": [
            "0.6385326594436981\n"
          ]
        }
      ]
    },
    {
      "cell_type": "code",
      "source": [
        "doc_matrix_weight = weight_matrix_generator(total_clustering_w_frequency)"
      ],
      "metadata": {
        "id": "A9FLWJYJXHNL"
      },
      "execution_count": null,
      "outputs": []
    },
    {
      "cell_type": "code",
      "source": [
        "\n",
        "print(doc_matrix_weight[0][51028])\n",
        "print(doc_embedding[0][51028])"
      ],
      "metadata": {
        "colab": {
          "base_uri": "https://localhost:8080/"
        },
        "id": "StLHKIKLgOhw",
        "outputId": "68b8fbbd-3a8c-412a-b161-cc37a7065f1e"
      },
      "execution_count": 102,
      "outputs": [
        {
          "output_type": "stream",
          "name": "stdout",
          "text": [
            "{531772: 76, 494379: 4, 119162: 72, 777456: 69, 67364: 77, 115108: 64, 767976: 56, 681624: 61, 107753: 88, 642286: 56, 51121: 90, 660610: 70, 614475: 35, 668878: 68, 56204: 73, 671324: 61, 550912: 82, 712161: 63, 620728: 82, 51273: 50, 165446: 49, 51830: 47, 51152: 59, 765722: 77, 504567: 79, 71913: 81, 51292: 60, 727098: 48, 490850: 68, 643986: 74, 50948: 94, 50984: 79, 679972: 70, 423221: 78, 568890: 76, 198222: 67, 166870: 80, 681452: 36, 138692: 38, 131518: 84, 686852: 54, 125596: 66, 201223: 76, 757007: 57, 762377: 74, 590137: 59, 524146: 61, 590558: 74, 658628: 32, 85977: 92, 601377: 79, 656702: 71, 109055: 81, 670676: 28, 502546: 68, 24206: 67, 724407: 58, 135984: 89, 506967: 84, 667553: 66, 572444: 65, 56393: 58, 248172: 47, 204896: 75, 492195: 82, 51167: 69, 94167: 63, 670195: 72, 567310: 54, 93986: 79, 98538: 65, 645869: 51, 605687: 72, 646708: 66, 51122: 84, 701508: 82, 700950: 73, 59997: 61, 535040: 48, 618324: 60, 492444: 75, 748335: 43, 703004: 73, 582071: 81, 754166: 73, 628887: 78, 142474: 79, 540706: 82, 653372: 67, 134051: 89, 706006: 42, 163940: 62, 685933: 53, 64622: 69, 519964: 61, 416247: 82, 765030: 56, 56817: 79, 665594: 56, 290391: 83, 124527: 64, 51073: 64, 612852: 90, 769272: 98, 50879: 57, 762279: 31, 88118: 57, 104374: 55, 88700: 86, 722812: 68, 667055: 72, 85283: 40, 51149: 59, 51232: 66, 111790: 61, 766897: 80, 51281: 70, 133726: 55, 702180: 77, 75773: 78, 529035: 50, 24234: 65, 54745: 45, 50798: 62, 145436: 78, 767147: 51, 68447: 85, 576973: 76, 496415: 88, 520422: 61, 274035: 54, 656848: 97, 91615: 75, 534265: 58, 640740: 73, 50888: 67, 736969: 70, 649222: 76, 632474: 74, 51282: 77, 85851: 76, 209656: 78, 612997: 49, 699562: 55, 140615: 77, 498411: 81, 68213: 88, 58072: 80, 606776: 44, 50797: 48, 544892: 26, 642950: 52, 661818: 65, 747858: 55, 167691: 84, 704204: 72, 279363: 68, 582027: 67, 545339: 59, 585002: 60, 128388: 35, 89762: 77, 51250: 71, 50661: 70, 621271: 78, 668416: 53, 614925: 87, 125939: 78, 499930: 81, 505506: 88, 541540: 56, 153393: 88, 613014: 66, 51056: 72, 87523: 54, 500374: 71, 753847: 41, 610671: 58, 151083: 58, 709998: 77, 50659: 71, 568636: 43, 526687: 65, 557839: 38, 24105: 75, 611631: 58, 50961: 68, 132508: 58, 142871: 75, 775332: 76, 711932: 64, 568554: 88, 194504: 83, 601386: 61, 641415: 99, 649340: 38, 495429: 73, 761486: 51, 498912: 46, 568149: 70, 755976: 79, 141416: 91, 768264: 44, 561383: 61, 95452: 92, 624451: 81, 770509: 69, 730754: 92, 50971: 81, 50940: 64, 708223: 67, 599822: 69, 687235: 33, 135519: 52, 61166: 61, 50867: 51, 618023: 80, 50983: 70, 109750: 83, 744003: 80, 124636: 71, 625298: 86, 24010: 79, 623620: 80, 190630: 69, 495703: 40, 764915: 65, 563293: 84, 109684: 93, 644274: 71, 719534: 47, 509277: 51, 771468: 77, 560390: 61, 576939: 65, 51249: 62, 24124: 77, 51229: 72, 639153: 60, 574488: 75, 602407: 71, 106570: 12, 68209: 44, 551442: 87, 24125: 60, 535301: 64, 24015: 52, 643424: 79, 50946: 54, 124000: 68, 109727: 78, 642069: 54, 92724: 85, 24160: 56, 583976: 37, 664639: 85, 577558: 40, 576182: 66, 51169: 79, 77397: 53, 530448: 84, 724759: 56, 638486: 65, 540835: 79, 615390: 65, 534237: 84, 555541: 54, 748123: 32, 114237: 68, 716243: 77, 78065: 58, 744407: 54, 126919: 58, 768519: 71, 531486: 64, 507522: 77, 734654: 70, 76026: 43, 24275: 67, 766636: 70, 496234: 73, 628424: 88, 182912: 88, 548546: 53, 723272: 78, 687345: 82, 757965: 46, 507942: 59, 520474: 78, 50985: 48, 747118: 39, 511241: 82, 107215: 17, 51070: 66, 774999: 72, 51090: 90, 599625: 49, 751128: 67, 123604: 84, 665721: 77, 618009: 64, 111523: 46, 24203: 54, 725184: 60, 598737: 80, 70514: 63, 52851: 80, 186500: 71, 537569: 81, 591196: 78, 51218: 89, 712177: 90, 561739: 42, 521616: 51, 679492: 76, 185353: 64, 203318: 81, 523705: 66, 24248: 34, 681711: 63, 50819: 69, 554598: 61, 57516: 86, 627497: 70, 725180: 77, 632504: 50, 751190: 68, 653555: 66, 719354: 69, 74601: 72, 618792: 58, 570101: 80, 59055: 66, 158734: 56, 588490: 95, 121970: 68, 501040: 65, 665057: 50, 110840: 62, 771957: 71, 161265: 70, 630227: 60, 514366: 56, 557562: 73, 574449: 66, 56081: 67, 284284: 54, 715566: 70, 542144: 59, 732548: 29, 50786: 72, 627112: 30, 50878: 66, 51164: 84, 53703: 67, 128669: 78, 51057: 64, 50944: 90, 611787: 87, 540039: 64, 65042: 76, 50697: 77, 728591: 41, 50885: 62, 51035: 65, 93269: 60, 24159: 48, 686397: 51, 51129: 79, 24274: 72, 549793: 94, 51087: 85, 194732: 77, 509883: 24, 176821: 91, 404755: 90, 62577: 70, 109938: 69, 733155: 56, 668105: 64, 760107: 88, 50764: 64, 505311: 78, 588685: 54, 60327: 66, 497348: 74, 189787: 47, 597561: 65, 641201: 59, 494743: 88, 515815: 41, 689126: 41, 24170: 54, 670756: 71, 51163: 75, 102580: 40, 24204: 54, 592176: 43, 584921: 47, 106524: 59, 300052: 49, 739172: 68, 111145: 61, 51075: 56, 77180: 61, 588300: 57, 747483: 75, 514141: 54, 769145: 50, 198255: 67, 666074: 84, 331207: 89, 121331: 70, 719736: 71, 597163: 72, 735767: 60, 699182: 73, 645692: 56, 626527: 54, 160315: 73, 137733: 77, 105283: 81, 508837: 76, 24247: 68, 513922: 22, 50674: 77, 679783: 70, 532134: 72, 207612: 83, 62996: 88, 52253: 62, 706638: 73, 775250: 76, 579867: 34, 537431: 73, 707080: 73, 760047: 47, 175982: 48, 633511: 54, 50981: 57, 68517: 75, 606491: 40, 537301: 70, 58248: 60, 685613: 48, 590569: 70, 587044: 81, 153820: 24, 572658: 53, 51054: 56, 50939: 57, 624614: 69, 588845: 64, 550252: 89, 718625: 63, 208872: 85, 442912: 63, 613415: 43, 51059: 49, 591684: 47, 629583: 72, 736706: 78, 601095: 44, 127412: 91, 105186: 72, 24207: 70, 181176: 65, 748954: 58, 748209: 69, 599606: 51, 730080: 28, 707058: 81, 682958: 85, 633480: 78, 576299: 57, 760838: 42, 182368: 63, 565179: 53, 67101: 81, 163118: 68, 195128: 54, 51172: 73, 124466: 63, 669548: 63, 529811: 85, 50947: 77, 629375: 74, 739012: 73, 638122: 65, 634181: 59, 131827: 83, 50881: 68, 50925: 61, 690799: 39, 24074: 64, 24171: 56, 51166: 72, 51062: 64, 693927: 44, 732991: 80, 637846: 31, 51058: 72, 777459: 45, 692931: 69, 159327: 64, 611160: 18, 51102: 61, 51078: 66, 543476: 67, 765753: 73, 558383: 64, 511576: 69, 139368: 42, 188374: 81, 491290: 62, 51189: 63, 51064: 78, 457837: 18, 564971: 69, 244511: 49, 621304: 62, 707772: 57, 122130: 87, 507020: 60, 720570: 77, 196387: 77, 187269: 64, 51147: 82, 51127: 49, 587980: 58, 659356: 61, 81355: 82, 498774: 63, 660909: 67, 195386: 72, 24227: 85, 504327: 42, 51193: 79, 611360: 66, 686498: 52, 745685: 73, 196007: 86, 708967: 61, 542648: 79, 24185: 57, 603598: 63, 588902: 92, 563470: 73, 671509: 80, 596594: 61, 51221: 85, 745303: 77, 636571: 74, 567886: 77, 560182: 93, 537907: 87, 744773: 89, 86359: 91, 629395: 77, 731844: 47, 51277: 83, 716700: 64, 51235: 81, 343902: 98, 734407: 53, 551720: 69, 55569: 90, 140874: 80, 504118: 83, 166197: 40, 496904: 69, 154488: 56, 51175: 77, 503405: 80, 497713: 62, 232083: 82, 571467: 70, 131986: 44, 522292: 64, 660855: 61, 589211: 54, 500172: 58, 744535: 75, 50892: 76, 51161: 74, 99912: 80, 665042: 74, 632499: 67, 111255: 53, 623632: 70, 624326: 78, 578986: 54, 58190: 68, 671544: 62, 714769: 88, 24216: 84, 50795: 33, 51272: 77, 50967: 60, 760612: 55, 772532: 64, 95843: 67, 648602: 66, 51069: 44, 748969: 78, 518253: 83, 493866: 80, 499350: 73, 123159: 79, 658192: 64, 24018: 82, 160545: 55, 62198: 51, 50966: 92, 51203: 76, 24221: 76, 760235: 70, 624920: 45, 63445: 47, 51248: 93, 103469: 59, 755011: 75, 230830: 88, 524069: 65, 590243: 85, 51063: 73, 527785: 64, 50876: 52, 705381: 55, 576170: 80, 725766: 64, 51278: 54, 741994: 56, 731480: 77, 633765: 80, 50660: 82, 655983: 79, 24213: 67, 577096: 77, 565343: 94, 647907: 64, 189768: 57, 183954: 62, 771323: 80, 579840: 56, 662792: 48, 51209: 72, 610088: 76, 79661: 73, 24169: 55, 582452: 60, 552650: 27, 50869: 78, 521209: 60, 505006: 78, 66738: 73, 195409: 67, 511483: 46, 114811: 68, 723401: 91, 544900: 74, 105497: 49, 778242: 66, 50678: 46, 606351: 54, 193406: 85, 545996: 81, 776781: 37, 643553: 65, 87109: 56, 742805: 72, 581120: 67, 532176: 77, 145579: 61, 519078: 53, 88589: 38, 772177: 69, 184681: 58, 649881: 93, 84113: 57, 704365: 43, 635542: 81, 777645: 39, 119153: 60, 743761: 82, 719888: 83, 675858: 86, 565504: 83, 114498: 55, 653433: 76, 188623: 60, 51477: 59, 92704: 81, 50894: 76, 111353: 89, 606234: 77, 101083: 69, 99052: 79, 518003: 61, 733368: 79, 50955: 85, 525924: 70, 65560: 76, 767954: 79, 680852: 82, 148420: 79, 578214: 70, 770207: 59, 639382: 64, 621946: 67, 96162: 50, 24156: 82, 596390: 87, 158814: 72, 538265: 78, 122427: 72, 652274: 87, 58722: 57, 730959: 76, 550325: 55, 569940: 95, 775642: 83, 64222: 98, 763577: 73, 165319: 22, 105196: 65, 97145: 59, 86983: 75, 657656: 62, 24120: 88, 51200: 60, 423042: 72, 674552: 57, 667917: 40, 550894: 79, 633801: 44, 24202: 59, 50865: 77, 593706: 47, 492010: 70, 156010: 30, 589521: 1, 332160: 58, 98546: 84, 761045: 67, 51237: 68, 78219: 70, 24215: 55, 630653: 54, 51079: 18, 590695: 58, 615925: 39, 552633: 53, 600218: 53, 737439: 62, 135886: 84, 328099: 82, 51174: 84, 51275: 75, 534574: 66, 715738: 80, 622962: 57, 127064: 84, 122444: 71, 568123: 62, 571838: 50, 24210: 85, 486239: 87, 731707: 79, 670042: 61, 576228: 34, 557371: 46, 757906: 71, 714878: 91, 567646: 73, 529727: 45, 51185: 63, 642645: 92, 66571: 61, 576487: 73, 766916: 44, 543722: 62, 51177: 69, 51020: 28, 544684: 80, 582035: 77, 67963: 72, 67755: 83, 669169: 55, 112848: 70, 613047: 51, 573337: 57, 50662: 75, 50666: 46, 688870: 38, 51255: 50, 418603: 63, 126761: 62, 110288: 47, 556568: 79, 544196: 67, 24006: 75, 127628: 83, 376281: 77, 314052: 65, 683979: 75, 758663: 83, 58481: 55, 187836: 78, 694368: 60, 167572: 71, 141521: 76, 659295: 66, 743833: 86, 197096: 70, 51207: 66, 108094: 61, 692476: 80, 50945: 87, 119181: 95, 610995: 74, 127825: 89, 610295: 62, 682500: 75, 669187: 31, 111880: 60, 51213: 83, 699953: 59, 200363: 78, 765790: 58, 525732: 87, 762844: 77, 514541: 61, 113536: 81, 83414: 89, 581149: 89, 50685: 43, 683066: 93, 82896: 78, 635280: 49, 589612: 70, 663590: 75, 51088: 44, 24107: 76, 617243: 100, 205858: 90, 692989: 58, 506074: 65, 50943: 36, 676436: 82, 24009: 66, 702926: 88, 24133: 37, 516267: 76, 511901: 73, 175455: 75, 545225: 89, 580655: 72, 630088: 67, 51228: 56, 68707: 48, 407060: 69, 24007: 86, 528650: 36, 157580: 51, 51217: 79, 177795: 45, 24117: 71, 655866: 79, 24161: 75, 594406: 94, 601833: 58, 354374: 90, 62374: 70, 608139: 63, 51208: 62, 98942: 48, 51238: 78, 705416: 88, 50987: 47, 694873: 92, 679223: 52, 197677: 80, 574084: 72, 674413: 62, 51198: 53, 734643: 69, 102288: 66, 638723: 65, 660908: 72, 749185: 64, 134971: 62, 758108: 60, 252899: 63, 584171: 93, 50976: 47, 733534: 78, 51091: 82, 65574: 80, 621355: 44, 650062: 78, 555145: 73, 74501: 64, 193110: 83, 519025: 50, 85157: 72, 709438: 83, 75811: 8, 504126: 64, 24008: 64, 625414: 80, 504044: 76, 697446: 69, 133483: 79, 512420: 56, 638813: 79, 50896: 59, 710763: 79, 50866: 87, 750230: 66, 612196: 56, 683855: 86, 335133: 90, 51244: 52}\n",
            "{531772: 81, 494379: 91, 119162: 94, 777456: 93, 67364: 95, 115108: 102, 767976: 108, 681624: 116, 107753: 89, 642286: 90, 51121: 96, 660610: 107, 614475: 85, 668878: 104, 56204: 108, 671324: 95, 550912: 97, 712161: 105, 620728: 92, 51273: 98, 165446: 101, 51830: 80, 51152: 111, 765722: 95, 504567: 95, 71913: 95, 51292: 112, 727098: 103, 490850: 79, 643986: 109, 50948: 103, 50984: 96, 679972: 105, 423221: 102, 568890: 104, 198222: 104, 166870: 94, 681452: 100, 138692: 91, 131518: 108, 686852: 106, 125596: 102, 201223: 93, 757007: 92, 762377: 109, 590137: 107, 524146: 102, 590558: 99, 658628: 85, 85977: 98, 601377: 96, 656702: 98, 109055: 86, 670676: 92, 502546: 101, 24206: 104, 724407: 86, 135984: 100, 506967: 105, 667553: 95, 572444: 103, 56393: 92, 248172: 106, 204896: 104, 492195: 110, 51167: 100, 94167: 102, 670195: 107, 567310: 110, 93986: 89, 98538: 94, 645869: 89, 605687: 96, 646708: 96, 51122: 110, 701508: 97, 700950: 107, 59997: 98, 535040: 88, 618324: 101, 492444: 98, 748335: 106, 703004: 106, 582071: 110, 754166: 91, 628887: 103, 142474: 101, 540706: 100, 653372: 106, 134051: 97, 706006: 98, 163940: 101, 685933: 99, 64622: 86, 519964: 91, 416247: 102, 765030: 96, 56817: 93, 665594: 85, 290391: 111, 124527: 97, 51073: 117, 612852: 102, 769272: 96, 50879: 97, 762279: 105, 88118: 94, 104374: 103, 88700: 108, 722812: 94, 667055: 89, 85283: 93, 51149: 103, 51232: 104, 111790: 101, 766897: 106, 51281: 86, 133726: 91, 702180: 110, 75773: 93, 529035: 94, 24234: 92, 54745: 99, 50798: 92, 145436: 107, 767147: 104, 68447: 114, 576973: 98, 496415: 95, 520422: 94, 274035: 110, 656848: 103, 91615: 102, 534265: 97, 640740: 106, 50888: 98, 736969: 93, 649222: 100, 632474: 95, 51282: 106, 85851: 104, 209656: 96, 612997: 103, 699562: 98, 140615: 108, 498411: 114, 68213: 98, 58072: 102, 606776: 103, 50797: 105, 544892: 105, 642950: 98, 661818: 101, 747858: 103, 167691: 100, 704204: 101, 279363: 100, 582027: 103, 545339: 102, 585002: 109, 128388: 100, 89762: 106, 51250: 108, 50661: 103, 621271: 98, 668416: 109, 614925: 95, 125939: 105, 499930: 91, 505506: 107, 541540: 90, 153393: 116, 613014: 105, 51056: 93, 87523: 104, 500374: 97, 753847: 90, 610671: 93, 151083: 114, 709998: 99, 50659: 101, 568636: 90, 526687: 102, 557839: 93, 24105: 105, 611631: 100, 50961: 91, 132508: 98, 142871: 99, 775332: 113, 711932: 91, 568554: 97, 194504: 90, 601386: 98, 641415: 108, 649340: 88, 495429: 104, 761486: 111, 498912: 97, 568149: 93, 755976: 96, 141416: 111, 768264: 92, 561383: 97, 95452: 121, 624451: 98, 770509: 94, 730754: 96, 50971: 111, 50940: 105, 708223: 98, 599822: 91, 687235: 91, 135519: 98, 61166: 92, 50867: 82, 618023: 117, 50983: 115, 109750: 97, 744003: 112, 124636: 103, 625298: 108, 24010: 106, 623620: 92, 190630: 106, 495703: 96, 764915: 92, 563293: 92, 109684: 95, 644274: 97, 719534: 87, 509277: 87, 771468: 101, 560390: 92, 576939: 91, 51249: 103, 24124: 88, 51229: 93, 639153: 96, 574488: 101, 602407: 88, 106570: 90, 68209: 91, 551442: 105, 24125: 101, 535301: 103, 24015: 97, 643424: 89, 50946: 97, 124000: 85, 109727: 98, 642069: 95, 92724: 93, 24160: 114, 583976: 92, 664639: 96, 577558: 89, 576182: 89, 51169: 92, 77397: 91, 530448: 107, 724759: 106, 638486: 96, 540835: 109, 615390: 79, 534237: 103, 555541: 99, 748123: 104, 114237: 100, 716243: 108, 78065: 90, 744407: 92, 126919: 96, 768519: 111, 531486: 111, 507522: 100, 734654: 126, 76026: 102, 24275: 94, 766636: 113, 496234: 107, 628424: 105, 182912: 101, 548546: 101, 723272: 90, 687345: 107, 757965: 91, 507942: 92, 520474: 110, 50985: 91, 747118: 82, 511241: 116, 107215: 88, 51070: 98, 774999: 101, 51090: 99, 599625: 106, 751128: 107, 123604: 105, 665721: 104, 618009: 100, 111523: 88, 24203: 95, 725184: 105, 598737: 101, 70514: 105, 52851: 85, 186500: 92, 537569: 94, 591196: 104, 51218: 90, 712177: 98, 561739: 99, 521616: 92, 679492: 97, 185353: 95, 203318: 103, 523705: 99, 24248: 101, 681711: 100, 50819: 98, 554598: 99, 57516: 99, 627497: 102, 725180: 99, 632504: 89, 751190: 112, 653555: 97, 719354: 100, 74601: 94, 618792: 79, 570101: 99, 59055: 94, 158734: 93, 588490: 103, 121970: 99, 501040: 91, 665057: 93, 110840: 90, 771957: 95, 161265: 110, 630227: 102, 514366: 91, 557562: 113, 574449: 91, 56081: 89, 284284: 97, 715566: 110, 542144: 99, 732548: 95, 50786: 119, 627112: 88, 50878: 97, 51164: 87, 53703: 100, 128669: 91, 51057: 98, 50944: 101, 611787: 101, 540039: 95, 65042: 86, 50697: 110, 728591: 83, 50885: 99, 51035: 104, 93269: 88, 24159: 96, 686397: 86, 51129: 89, 24274: 100, 549793: 103, 51087: 99, 194732: 115, 509883: 94, 176821: 105, 404755: 113, 62577: 102, 109938: 98, 733155: 87, 668105: 98, 760107: 107, 50764: 105, 505311: 107, 588685: 83, 60327: 94, 497348: 105, 189787: 103, 597561: 94, 641201: 93, 494743: 86, 515815: 85, 689126: 90, 24170: 94, 670756: 92, 51163: 89, 102580: 89, 24204: 108, 592176: 85, 584921: 71, 106524: 95, 300052: 104, 739172: 112, 111145: 91, 51075: 100, 77180: 112, 588300: 100, 747483: 97, 514141: 96, 769145: 107, 198255: 93, 666074: 105, 331207: 103, 121331: 103, 719736: 111, 597163: 102, 735767: 87, 699182: 107, 645692: 111, 626527: 92, 160315: 101, 137733: 92, 105283: 102, 508837: 109, 24247: 112, 513922: 96, 50674: 95, 679783: 109, 532134: 100, 207612: 109, 62996: 92, 52253: 100, 706638: 102, 775250: 109, 579867: 85, 537431: 101, 707080: 98, 760047: 99, 175982: 96, 633511: 99, 50981: 95, 68517: 103, 606491: 95, 537301: 99, 58248: 95, 685613: 89, 590569: 85, 587044: 100, 153820: 94, 572658: 96, 51054: 89, 50939: 96, 624614: 112, 588845: 97, 550252: 104, 718625: 105, 208872: 100, 442912: 95, 613415: 92, 51059: 98, 591684: 91, 629583: 100, 736706: 115, 601095: 84, 127412: 99, 105186: 90, 24207: 105, 181176: 114, 748954: 103, 748209: 92, 599606: 102, 730080: 93, 707058: 103, 682958: 106, 633480: 104, 576299: 100, 760838: 103, 182368: 107, 565179: 105, 67101: 99, 163118: 89, 195128: 100, 51172: 92, 124466: 102, 669548: 108, 529811: 102, 50947: 89, 629375: 92, 739012: 96, 638122: 103, 634181: 103, 131827: 112, 50881: 98, 50925: 104, 690799: 85, 24074: 102, 24171: 89, 51166: 100, 51062: 100, 693927: 96, 732991: 97, 637846: 85, 51058: 103, 777459: 88, 692931: 110, 159327: 99, 611160: 90, 51102: 92, 51078: 108, 543476: 103, 765753: 122, 558383: 90, 511576: 98, 139368: 109, 188374: 101, 491290: 91, 51189: 91, 51064: 98, 457837: 106, 564971: 103, 244511: 107, 621304: 89, 707772: 91, 122130: 92, 507020: 98, 720570: 114, 196387: 94, 187269: 97, 51147: 109, 51127: 102, 587980: 107, 659356: 109, 81355: 88, 498774: 105, 660909: 98, 195386: 100, 24227: 101, 504327: 94, 51193: 102, 611360: 91, 686498: 96, 745685: 95, 196007: 99, 708967: 107, 542648: 98, 24185: 102, 603598: 96, 588902: 101, 563470: 91, 671509: 104, 596594: 111, 51221: 98, 745303: 109, 636571: 109, 567886: 95, 560182: 103, 537907: 90, 744773: 99, 86359: 102, 629395: 102, 731844: 94, 51277: 99, 716700: 99, 51235: 103, 343902: 106, 734407: 97, 551720: 87, 55569: 97, 140874: 108, 504118: 103, 166197: 92, 496904: 92, 154488: 103, 51175: 92, 503405: 116, 497713: 101, 232083: 101, 571467: 107, 131986: 93, 522292: 90, 660855: 104, 589211: 98, 500172: 94, 744535: 95, 50892: 99, 51161: 99, 99912: 88, 665042: 105, 632499: 100, 111255: 94, 623632: 104, 624326: 106, 578986: 104, 58190: 87, 671544: 106, 714769: 97, 24216: 103, 50795: 98, 51272: 98, 50967: 91, 760612: 98, 772532: 87, 95843: 91, 648602: 104, 51069: 92, 748969: 87, 518253: 99, 493866: 97, 499350: 89, 123159: 100, 658192: 95, 24018: 105, 160545: 100, 62198: 96, 50966: 103, 51203: 95, 24221: 95, 760235: 99, 624920: 100, 63445: 100, 51248: 114, 103469: 94, 755011: 106, 230830: 115, 524069: 92, 590243: 113, 51063: 101, 527785: 100, 50876: 80, 705381: 106, 576170: 96, 725766: 96, 51278: 103, 741994: 110, 731480: 98, 633765: 93, 50660: 93, 655983: 88, 24213: 90, 577096: 101, 565343: 102, 647907: 95, 189768: 100, 183954: 99, 771323: 103, 579840: 97, 662792: 84, 51209: 100, 610088: 106, 79661: 105, 24169: 102, 582452: 99, 552650: 78, 50869: 106, 521209: 99, 505006: 113, 66738: 99, 195409: 93, 511483: 93, 114811: 88, 723401: 97, 544900: 93, 105497: 96, 778242: 112, 50678: 90, 606351: 93, 193406: 96, 545996: 98, 776781: 86, 643553: 99, 87109: 104, 742805: 102, 581120: 98, 532176: 94, 145579: 101, 519078: 91, 88589: 90, 772177: 106, 184681: 91, 649881: 102, 84113: 92, 704365: 106, 635542: 100, 777645: 119, 119153: 95, 743761: 97, 719888: 117, 675858: 106, 565504: 104, 114498: 82, 653433: 94, 188623: 98, 51477: 93, 92704: 99, 50894: 100, 111353: 94, 606234: 94, 101083: 93, 99052: 92, 518003: 93, 733368: 106, 50955: 107, 525924: 97, 65560: 95, 767954: 99, 680852: 102, 148420: 111, 578214: 99, 770207: 99, 639382: 95, 621946: 103, 96162: 86, 24156: 102, 596390: 97, 158814: 89, 538265: 94, 122427: 104, 652274: 84, 58722: 98, 730959: 107, 550325: 108, 569940: 110, 775642: 111, 64222: 90, 763577: 84, 165319: 86, 105196: 88, 97145: 119, 86983: 99, 657656: 93, 24120: 106, 51200: 107, 423042: 97, 674552: 105, 667917: 91, 550894: 98, 633801: 99, 24202: 102, 50865: 101, 593706: 98, 492010: 87, 156010: 87, 589521: 88, 332160: 95, 98546: 88, 761045: 96, 51237: 80, 78219: 107, 24215: 97, 630653: 88, 51079: 94, 590695: 104, 615925: 89, 552633: 102, 600218: 92, 737439: 113, 135886: 106, 328099: 112, 51174: 96, 51275: 102, 534574: 104, 715738: 106, 622962: 88, 127064: 112, 122444: 103, 568123: 97, 571838: 95, 24210: 95, 486239: 103, 731707: 104, 670042: 102, 576228: 95, 557371: 90, 757906: 93, 714878: 89, 567646: 96, 529727: 86, 51185: 114, 642645: 99, 66571: 91, 576487: 92, 766916: 108, 543722: 94, 51177: 91, 51020: 99, 544684: 103, 582035: 96, 67963: 99, 67755: 105, 669169: 106, 112848: 85, 613047: 96, 573337: 87, 50662: 105, 50666: 94, 688870: 98, 51255: 108, 418603: 117, 126761: 99, 110288: 89, 556568: 104, 544196: 118, 24006: 101, 127628: 98, 376281: 103, 314052: 108, 683979: 105, 758663: 96, 58481: 91, 187836: 102, 694368: 103, 167572: 93, 141521: 92, 659295: 107, 743833: 104, 197096: 103, 51207: 104, 108094: 96, 692476: 108, 50945: 110, 119181: 113, 610995: 105, 127825: 117, 610295: 94, 682500: 98, 669187: 97, 111880: 87, 51213: 107, 699953: 98, 200363: 99, 765790: 90, 525732: 101, 762844: 96, 514541: 93, 113536: 99, 83414: 106, 581149: 104, 50685: 99, 683066: 112, 82896: 103, 635280: 83, 589612: 94, 663590: 102, 51088: 95, 24107: 102, 617243: 94, 205858: 122, 692989: 102, 506074: 95, 50943: 87, 676436: 102, 24009: 95, 702926: 107, 24133: 106, 516267: 108, 511901: 100, 175455: 117, 545225: 105, 580655: 99, 630088: 87, 51228: 90, 68707: 90, 407060: 103, 24007: 109, 528650: 95, 157580: 109, 51217: 92, 177795: 98, 24117: 110, 655866: 112, 24161: 92, 594406: 97, 601833: 111, 354374: 127, 62374: 102, 608139: 96, 51208: 95, 98942: 89, 51238: 98, 705416: 98, 50987: 93, 694873: 102, 679223: 94, 197677: 96, 574084: 95, 674413: 94, 51198: 95, 734643: 107, 102288: 92, 638723: 108, 660908: 96, 749185: 94, 134971: 104, 758108: 94, 252899: 101, 584171: 104, 50976: 95, 733534: 112, 51091: 102, 65574: 100, 621355: 92, 650062: 104, 555145: 106, 74501: 113, 193110: 95, 519025: 94, 85157: 105, 709438: 115, 75811: 98, 504126: 87, 24008: 102, 625414: 84, 504044: 107, 697446: 97, 133483: 101, 512420: 104, 638813: 102, 50896: 100, 710763: 97, 50866: 107, 750230: 98, 612196: 106, 683855: 109, 335133: 116, 51244: 103}\n"
          ]
        }
      ]
    },
    {
      "cell_type": "code",
      "source": [
        "print(list(doc_embedding.keys())[-1])"
      ],
      "metadata": {
        "colab": {
          "base_uri": "https://localhost:8080/"
        },
        "id": "z2XArokYv13w",
        "outputId": "793d3c73-2a76-4c5c-d0fe-249fd99766dc"
      },
      "execution_count": 109,
      "outputs": [
        {
          "output_type": "stream",
          "name": "stdout",
          "text": [
            "3\n"
          ]
        }
      ]
    },
    {
      "cell_type": "code",
      "source": [
        "emb_ = [doc_embedding, doc_matrix_weight]\n",
        "pickle.dump(emb_,open('emb_.p', 'wb'))"
      ],
      "metadata": {
        "id": "raZOQnmT5uhf"
      },
      "execution_count": 124,
      "outputs": []
    },
    {
      "cell_type": "code",
      "source": [
        "final_path = a_search(doc_embedding, doc_matrix_weight)"
      ],
      "metadata": {
        "colab": {
          "base_uri": "https://localhost:8080/"
        },
        "id": "o6GtT0BGvV5A",
        "outputId": "b51499d7-72e2-43ac-9a27-5be7fa327565"
      },
      "execution_count": 122,
      "outputs": [
        {
          "output_type": "stream",
          "name": "stdout",
          "text": [
            "Path found: [51028, 51244]\n",
            "Timestamp 0 is done!\n",
            "Path found: [576786, 504434]\n",
            "Timestamp 1 is done!\n",
            "Path found: [652874, 663267]\n",
            "Timestamp 2 is done!\n",
            "Path found: [715517, 553817]\n",
            "Timestamp 3 is done!\n"
          ]
        }
      ]
    }
  ]
}