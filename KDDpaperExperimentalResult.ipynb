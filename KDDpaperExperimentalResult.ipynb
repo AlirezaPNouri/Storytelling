{
  "nbformat": 4,
  "nbformat_minor": 0,
  "metadata": {
    "colab": {
      "name": "KDDpaperExperimentalResult.ipynb",
      "provenance": [],
      "collapsed_sections": [],
      "authorship_tag": "ABX9TyNshf5PadDrWfgc+vjz7/9Q",
      "include_colab_link": true
    },
    "kernelspec": {
      "name": "python3",
      "display_name": "Python 3"
    },
    "language_info": {
      "name": "python"
    }
  },
  "cells": [
    {
      "cell_type": "markdown",
      "metadata": {
        "id": "view-in-github",
        "colab_type": "text"
      },
      "source": [
        "<a href=\"https://colab.research.google.com/github/AlirezaPNouri/Storytelling/blob/main/KDDpaperExperimentalResult.ipynb\" target=\"_parent\"><img src=\"https://colab.research.google.com/assets/colab-badge.svg\" alt=\"Open In Colab\"/></a>"
      ]
    },
    {
      "cell_type": "markdown",
      "source": [
        ""
      ],
      "metadata": {
        "id": "buck8cZOOxmr"
      }
    },
    {
      "cell_type": "code",
      "execution_count": 3,
      "metadata": {
        "id": "Ey-iPqjZOw_X"
      },
      "outputs": [],
      "source": [
        "import pickle\n",
        "import numpy as np"
      ]
    },
    {
      "cell_type": "code",
      "source": [
        "full_embedding_NYT = pickle.load(open('full_embedding_NYT_CLS.p', 'rb'))\n",
        "full_embedding_NYT_total = pickle.load(open('full_embedding_NYT_CLS_V2.p', 'rb'))\n",
        "proposed_ts = pickle.load(open('NYT_proposed_list_of_ts_.p', 'rb'))"
      ],
      "metadata": {
        "id": "4F7i9HE9O9Pq"
      },
      "execution_count": 87,
      "outputs": []
    },
    {
      "cell_type": "code",
      "source": [
        "# # covid data\n",
        "# # full_embedding_NYT = pickle.load(open('full_embedding_covid_CLS.p', 'rb'))\n",
        "# full_embedding_NYT_total = pickle.load(open('full_embedding_covid_CLS_V2.p', 'rb'))\n",
        "# proposed_ts = pickle.load(open('covid_list_of_ts_.p', 'rb'))\n",
        "\n",
        "# doc2vec_full_story = pickle.load(open('doc_2vec_covid_full_story.p', 'rb'))\n",
        "\n",
        "# ji_full_story = pickle.load(open('JI_covid_full_story.p', 'rb'))\n",
        "\n",
        "# bert_full_story = pickle.load(open('Bert_covid_full_story.p', 'rb'))\n",
        "\n",
        "# proposed_full_story = pickle.load(open('full_story_covid.p', 'rb'))"
      ],
      "metadata": {
        "id": "Ecaf2WhqBJgT"
      },
      "execution_count": 80,
      "outputs": []
    },
    {
      "cell_type": "code",
      "source": [
        "doc2vec_full_story = pickle.load(open('doc_2vec_NYT_full_story.p', 'rb'))"
      ],
      "metadata": {
        "id": "CwrxUpznS4zX"
      },
      "execution_count": 88,
      "outputs": []
    },
    {
      "cell_type": "code",
      "source": [
        "ji_full_story = pickle.load(open('JI_NYT_full_story.p', 'rb'))"
      ],
      "metadata": {
        "id": "q0f0cvxtTikX"
      },
      "execution_count": 89,
      "outputs": []
    },
    {
      "cell_type": "code",
      "source": [
        "bert_full_story = pickle.load(open('Bert_NYT_full_story.p', 'rb'))"
      ],
      "metadata": {
        "id": "oJmRAY3QT69b"
      },
      "execution_count": 90,
      "outputs": []
    },
    {
      "cell_type": "code",
      "source": [
        "proposed_full_story = pickle.load(open('proposed_method_full_story.p', 'rb'))"
      ],
      "metadata": {
        "id": "Eah5JOdNlx7x"
      },
      "execution_count": 91,
      "outputs": []
    },
    {
      "cell_type": "code",
      "source": [
        "full_story_NYT_proposed_embedding = list()\n",
        "for story in proposed_full_story:\n",
        "  temp_list = list()\n",
        "  for chapter in story:\n",
        "    temp_list.append(full_embedding_NYT_total[chapter])\n",
        "  full_story_NYT_proposed_embedding.append(temp_list)"
      ],
      "metadata": {
        "id": "cXXFpwIkPhGN"
      },
      "execution_count": 92,
      "outputs": []
    },
    {
      "cell_type": "code",
      "source": [
        "full_story_NYT_doc2vec_embedding = list()\n",
        "for story in doc2vec_full_story:\n",
        "  temp_list = list()\n",
        "  for chapter in story:\n",
        "    temp_list.append(full_embedding_NYT_total[chapter])\n",
        "  full_story_NYT_doc2vec_embedding.append(temp_list)"
      ],
      "metadata": {
        "id": "8n-JMdKRZZ0N"
      },
      "execution_count": 93,
      "outputs": []
    },
    {
      "cell_type": "code",
      "source": [
        "full_story_NYT_JI_embedding = list()\n",
        "for story in ji_full_story:\n",
        "  temp_list = list()\n",
        "  for chapter in story:\n",
        "    temp_list.append(full_embedding_NYT_total[chapter])\n",
        "  full_story_NYT_JI_embedding.append(temp_list)"
      ],
      "metadata": {
        "id": "hDS7QwsOZaJl"
      },
      "execution_count": 94,
      "outputs": []
    },
    {
      "cell_type": "code",
      "source": [
        "full_story_NYT_bert_embedding = list()\n",
        "for story in bert_full_story:\n",
        "  temp_list = list()\n",
        "  for chapter in story:\n",
        "    temp_list.append(full_embedding_NYT_total[chapter])\n",
        "  full_story_NYT_bert_embedding.append(temp_list)"
      ],
      "metadata": {
        "id": "TLu0M-oRZaNl"
      },
      "execution_count": 95,
      "outputs": []
    },
    {
      "cell_type": "code",
      "source": [
        "for t in full_story_NYT_bert_embedding:\n",
        "  print(len(t))\n",
        "print('----------------------------')\n",
        "for t in full_story_NYT_doc2vec_embedding:\n",
        "  print(len(t))\n",
        "print('----------------------------')\n",
        "for t in full_story_NYT_JI_embedding:\n",
        "  print(len(t))\n",
        "print('----------------------------')\n",
        "for t in full_story_NYT_proposed_embedding:\n",
        "  print(len(t))\n",
        "print('----------------------------')"
      ],
      "metadata": {
        "id": "cZ50bRg0fAqz"
      },
      "execution_count": null,
      "outputs": []
    },
    {
      "cell_type": "markdown",
      "source": [
        "LEM\n",
        "\n",
        "LEM(S) = (ND ∗ NS )/( NTS ∗ NT ∗sigma (len(St)) )"
      ],
      "metadata": {
        "id": "30Yzf6lcVIek"
      }
    },
    {
      "cell_type": "code",
      "source": [
        "def LEM(set_stories, ND, NS, NTS, NT):\n",
        "  \"\"\"\n",
        "  set_stories, a list of stories\n",
        "  ND: total documents\n",
        "  NS: total stories\n",
        "  NTS: total timestamps\n",
        "  NT: different topics\n",
        "  \"\"\"\n",
        "  res = 0\n",
        "  story_len = [len(x) for x in set_stories]\n",
        "  res = (ND*NS) / (NTS * NT * sum(story_len))\n",
        "  return res"
      ],
      "metadata": {
        "id": "61WLHi_NQP2g"
      },
      "execution_count": 148,
      "outputs": []
    },
    {
      "cell_type": "code",
      "source": [
        "total_doc = len(full_embedding_NYT.keys())\n",
        "N_ts = len(proposed_ts)\n",
        "proposed_LEM = LEM(full_story_NYT_proposed_embedding, total_doc, len(proposed_full_story), N_ts, 3)\n",
        "doc2vec_LEM = LEM(doc2vec_full_story, total_doc, len(doc2vec_full_story), N_ts, 3)\n",
        "JI_LEM = LEM(ji_full_story, total_doc, len(ji_full_story), N_ts, 3)\n",
        "Bert_LEM = LEM(bert_full_story, total_doc, len(bert_full_story), N_ts, 3)"
      ],
      "metadata": {
        "id": "ubfqW_KmTFUl"
      },
      "execution_count": 149,
      "outputs": []
    },
    {
      "cell_type": "code",
      "source": [
        "print('prposed Method: ', proposed_LEM)\n",
        "print('doc2vec method: ', doc2vec_LEM)\n",
        "print('Jaccard Index:', JI_LEM )\n",
        "print('Bert model:', Bert_LEM)"
      ],
      "metadata": {
        "colab": {
          "base_uri": "https://localhost:8080/"
        },
        "id": "54LLpjmrTqoZ",
        "outputId": "3588a1b8-b3e3-49fd-9504-42f0f7787a9c"
      },
      "execution_count": 150,
      "outputs": [
        {
          "output_type": "stream",
          "name": "stdout",
          "text": [
            "prposed Method:  0.6475618807887179\n",
            "doc2vec method:  0.5797804521566067\n",
            "Jaccard Index: 0.6822107081174439\n",
            "Bert model: 0.01685716328083074\n"
          ]
        }
      ]
    },
    {
      "cell_type": "markdown",
      "source": [
        "Dispartion \n",
        "1 - sigma(sigma ( disp(di,dj)) /(n-2) "
      ],
      "metadata": {
        "id": "s-AoWXihVWwl"
      }
    },
    {
      "cell_type": "code",
      "source": [
        "def disp(d_i, d_j, n, teta, i, j):\n",
        "  a = np.array(d_i)\n",
        "  b = np.array(d_j)\n",
        "  dist = np.sqrt(np.sum(np.square(a-b))) / len(d_i)\n",
        "  if dist < teta:\n",
        "    return 1/(n+i-j)\n",
        "  else:\n",
        "    return 0"
      ],
      "metadata": {
        "id": "D9QHb5YQVk9E"
      },
      "execution_count": 101,
      "outputs": []
    },
    {
      "cell_type": "code",
      "source": [
        "def final_disp(story_, teta):\n",
        "  res = list()\n",
        "  len_story = len(story_)\n",
        "  for i in range(len_story-3):\n",
        "    for j in range(i+2, len_story-1):\n",
        "      res.append(disp(story_[i], story_[j], len_story, teta, i, j))\n",
        "  \n",
        "  return 1.0 - (sum(res)/(len_story-2))\n",
        "  "
      ],
      "metadata": {
        "id": "fEKrwdv9VssP"
      },
      "execution_count": 102,
      "outputs": []
    },
    {
      "cell_type": "code",
      "source": [
        "disp_proposed = [final_disp(x, 0.025) for x in full_story_NYT_proposed_embedding]"
      ],
      "metadata": {
        "id": "e7d4yK3RWikb"
      },
      "execution_count": 183,
      "outputs": []
    },
    {
      "cell_type": "code",
      "source": [
        "print(sum(disp_proposed)/ len(full_story_NYT_proposed_embedding))\n",
        "# teta 0.025 is the best values"
      ],
      "metadata": {
        "colab": {
          "base_uri": "https://localhost:8080/"
        },
        "id": "VYB2XOgGXS1Z",
        "outputId": "9971839c-8aa2-4abe-8d11-f7b091642f36"
      },
      "execution_count": 184,
      "outputs": [
        {
          "output_type": "stream",
          "name": "stdout",
          "text": [
            "0.08720100855445073\n"
          ]
        }
      ]
    },
    {
      "cell_type": "code",
      "source": [
        "disp_doc2vec = [final_disp(x, 0.025) for x in full_story_NYT_doc2vec_embedding[:-1]]\n",
        "\n",
        "print(sum(disp_doc2vec)/ len(full_story_NYT_doc2vec_embedding))\n"
      ],
      "metadata": {
        "colab": {
          "base_uri": "https://localhost:8080/"
        },
        "id": "d-OTQn_7XfsW",
        "outputId": "bdc96493-154a-4359-8db5-ed3cf91c71d7"
      },
      "execution_count": 185,
      "outputs": [
        {
          "output_type": "stream",
          "name": "stdout",
          "text": [
            "0.082414355356117\n"
          ]
        }
      ]
    },
    {
      "cell_type": "code",
      "source": [
        "disp_ji = [final_disp(x, 0.025) for x in full_story_NYT_JI_embedding[:-1]]\n",
        "print(sum(disp_ji)/ len(full_story_NYT_JI_embedding))\n"
      ],
      "metadata": {
        "colab": {
          "base_uri": "https://localhost:8080/"
        },
        "id": "Q9A5P5hNlWMv",
        "outputId": "7f0f37ce-5a46-421f-abec-9fc1f9ee9c95"
      },
      "execution_count": 186,
      "outputs": [
        {
          "output_type": "stream",
          "name": "stdout",
          "text": [
            "0.08458897925182249\n"
          ]
        }
      ]
    },
    {
      "cell_type": "code",
      "source": [
        "# disp_bert = [final_disp(x,0.01) for x in full_story_NYT_bert_embedding]\n",
        "# print(sum(disp_bert)/ len(full_story_NYT_bert_embedding))\n",
        "print(final_disp(full_story_NYT_bert_embedding[9], 0.025))"
      ],
      "metadata": {
        "colab": {
          "base_uri": "https://localhost:8080/"
        },
        "id": "hcUNLlzrleG5",
        "outputId": "7cf5a434-036d-43c3-ca4b-f26a8cd6bf8f"
      },
      "execution_count": 187,
      "outputs": [
        {
          "output_type": "stream",
          "name": "stdout",
          "text": [
            "0.003753254055898325\n"
          ]
        }
      ]
    },
    {
      "cell_type": "code",
      "source": [
        "\n",
        "disp_result_proposed = list()\n",
        "disp_result_doc2vec = list()\n",
        "disp_result_ji = list()\n",
        "disp_result_bert = list()\n",
        "for teta in np.arange(0.007, 0.03, 0.002):\n",
        "  print('--------------------- ', teta, ' ---------------------------')\n",
        "\n",
        "  disp_proposed = [final_disp(x, teta) for x in full_story_NYT_proposed_embedding]\n",
        "  disp_result_proposed.append(sum(disp_proposed)/ len(full_story_NYT_proposed_embedding))\n",
        "\n",
        "  disp_doc2vec = [final_disp(x, teta) for x in full_story_NYT_doc2vec_embedding]\n",
        "  disp_result_doc2vec.append(sum(disp_doc2vec)/ len(full_story_NYT_doc2vec_embedding))\n",
        "\n",
        "  disp_ji = [final_disp(x, teta) for x in full_story_NYT_JI_embedding]\n",
        "  disp_result_ji.append(sum(disp_ji)/ len(full_story_NYT_JI_embedding))\n",
        "\n",
        "  disp_result_bert.append(final_disp(full_story_NYT_bert_embedding[9], teta))\n",
        "\n",
        "  \n",
        "\n"
      ],
      "metadata": {
        "colab": {
          "base_uri": "https://localhost:8080/"
        },
        "id": "_fQas8SFtjML",
        "outputId": "e82ea514-3d15-4f4b-832e-bf3248c8360c"
      },
      "execution_count": 133,
      "outputs": [
        {
          "output_type": "stream",
          "name": "stdout",
          "text": [
            "---------------------  0.007  ---------------------------\n",
            "---------------------  0.009000000000000001  ---------------------------\n",
            "---------------------  0.011000000000000003  ---------------------------\n",
            "---------------------  0.013000000000000003  ---------------------------\n",
            "---------------------  0.015000000000000003  ---------------------------\n",
            "---------------------  0.017000000000000005  ---------------------------\n",
            "---------------------  0.019000000000000006  ---------------------------\n",
            "---------------------  0.021000000000000005  ---------------------------\n",
            "---------------------  0.023000000000000007  ---------------------------\n",
            "---------------------  0.02500000000000001  ---------------------------\n",
            "---------------------  0.02700000000000001  ---------------------------\n",
            "---------------------  0.02900000000000001  ---------------------------\n"
          ]
        }
      ]
    },
    {
      "cell_type": "code",
      "source": [
        "# importing package\n",
        "import matplotlib.pyplot as plt\n",
        "import numpy as np\n",
        "  \n",
        "# create data\n",
        "\n",
        "\n",
        "y = disp_result_bert\n",
        "x = np.arange(0.007, 0.03, 0.002)\n",
        "plt.plot(x, y, label = \"BERT method \", linestyle=\"-.\" )\n",
        "\n",
        "y = disp_result_doc2vec\n",
        "plt.plot(x, y, label = \"doc2vec method \", linestyle=\"-.\" )\n",
        "\n",
        "y = disp_result_ji\n",
        "plt.plot(x, y, label = \"Jaccard Index method \", linestyle=\"-.\" )\n",
        "\n",
        "y = disp_result_proposed\n",
        "plt.plot(x, y, label = \"proposed method \", linestyle=\"-.\" )\n",
        "\n",
        "plt.legend()\n",
        "plt.show()"
      ],
      "metadata": {
        "colab": {
          "base_uri": "https://localhost:8080/",
          "height": 265
        },
        "id": "JOP0MLmXR7QK",
        "outputId": "e6917fd0-1be3-4d1c-c49d-fd133334bc94"
      },
      "execution_count": 171,
      "outputs": [
        {
          "output_type": "display_data",
          "data": {
            "text/plain": [
              "<Figure size 432x288 with 1 Axes>"
            ],
            "image/png": "[encoded data removed]"
          },
          "metadata": {
            "needs_background": "light"
          }
        }
      ]
    },
    {
      "cell_type": "code",
      "source": [
        "def NS_fun(story_embed_):\n",
        "  total = list()\n",
        "  for x in story_embed_:\n",
        "    res = list()\n",
        "    for d_1, d_2 in zip(x[:-1], x[1:]):\n",
        "      tmp = np.sqrt(np.sum(np.square(d_1-d_2)))\n",
        "      res.append(tmp)\n",
        "    total.append(sum(res)/len(res))\n",
        "\n",
        "  return total"
      ],
      "metadata": {
        "id": "lg7yjz3wxAZn"
      },
      "execution_count": 108,
      "outputs": []
    },
    {
      "cell_type": "code",
      "source": [
        "from sklearn.metrics.pairwise import cosine_similarity\n",
        "def NS_cos(story_embed_):\n",
        "  total = list()\n",
        "  for x in story_embed_:\n",
        "    res = list()\n",
        "    for d_1, d_2 in zip(x[:-1], x[1:]):\n",
        "      tmp = cosine_similarity([d_1],[d_2])[0][0]\n",
        "      res.append(tmp)\n",
        "    total.append(sum(res)/len(res))\n",
        "\n",
        "  return total"
      ],
      "metadata": {
        "id": "YAEajODDx6E2"
      },
      "execution_count": 111,
      "outputs": []
    },
    {
      "cell_type": "code",
      "source": [
        "# print(NS(full_story_NYT_proposed_embedding))\n",
        "def NS(list_stories):\n",
        "  res_NS = list()\n",
        "  for chapter in list_stories: \n",
        "    new_vec = list()\n",
        "    for x,y in zip(chapter[:-1], chapter[1:]):\n",
        "      new_vec.append(np.sqrt(np.sum(np.square(x-y))))\n",
        "    mean = np.mean(new_vec)\n",
        "    sd = np.std(new_vec)\n",
        "    avg = sum(new_vec) /len(new_vec)\n",
        "    # tmp = (np.pi*sd) * np.exp(-0.5*((new_vec-mean)/sd)**2)\n",
        "    tmp =  np.exp(-0.5*((new_vec-mean)/sd)**2)\n",
        "    res_NS.append(sum(tmp)/len(tmp))\n",
        "  return res_NS"
      ],
      "metadata": {
        "id": "7_tOgq1Yy4jl"
      },
      "execution_count": 116,
      "outputs": []
    },
    {
      "cell_type": "code",
      "source": [
        ""
      ],
      "metadata": {
        "colab": {
          "base_uri": "https://localhost:8080/"
        },
        "id": "L3N21Q851SDa",
        "outputId": "26416d9f-ffe0-4421-dc7a-01b03eb84716"
      },
      "execution_count": 75,
      "outputs": [
        {
          "output_type": "stream",
          "name": "stdout",
          "text": [
            "2.5591908945487094\n"
          ]
        }
      ]
    },
    {
      "cell_type": "code",
      "source": [
        "bert_NS = NS_fun(full_story_NYT_bert_embedding)\n",
        "doc2vec_NS = NS_fun(full_story_NYT_doc2vec_embedding)\n",
        "ji_NS = NS_fun(full_story_NYT_JI_embedding)\n",
        "proposed_NS = NS_fun(full_story_NYT_proposed_embedding)\n",
        "\n",
        "print('NS value for bert model is :', sum(bert_NS) / len(bert_NS))\n",
        "print('NS value for doc2vec model is :',sum(doc2vec_NS) / len(doc2vec_NS))\n",
        "print('NS value for Jaccard Index model is :',sum(ji_NS) / len(ji_NS))\n",
        "print('NS value for proposed method is :',sum(proposed_NS) / len(proposed_NS))"
      ],
      "metadata": {
        "colab": {
          "base_uri": "https://localhost:8080/"
        },
        "id": "RS3_9QZexFEo",
        "outputId": "8aaa8412-22ab-4d5b-d2bc-0f3bc7ad6059"
      },
      "execution_count": 109,
      "outputs": [
        {
          "output_type": "stream",
          "name": "stdout",
          "text": [
            "NS value for bert model is : 7.348722622761187\n",
            "NS value for doc2vec model is : 8.609997943976511\n",
            "NS value for Jaccard Index model is : 7.622973631576216\n",
            "NS value for proposed method is : 7.329193348195935\n"
          ]
        }
      ]
    },
    {
      "cell_type": "code",
      "source": [
        "bert_NS = NS(full_story_NYT_bert_embedding)\n",
        "doc2vec_NS = NS(full_story_NYT_doc2vec_embedding)\n",
        "ji_NS = NS(full_story_NYT_JI_embedding)\n",
        "proposed_NS = NS(full_story_NYT_proposed_embedding)\n",
        "\n",
        "print('NS value for bert model is :', sum(bert_NS) / len(bert_NS))\n",
        "print('NS value for doc2vec model is :',sum(doc2vec_NS) / len(doc2vec_NS))\n",
        "print('NS value for Jaccard Index model is :',sum(ji_NS) / len(ji_NS))\n",
        "print('NS value for proposed method is :',sum(proposed_NS) / len(proposed_NS))"
      ],
      "metadata": {
        "colab": {
          "base_uri": "https://localhost:8080/"
        },
        "id": "ZEAJQcXoDyPS",
        "outputId": "0592ca5d-97f2-4186-cc44-06fe15f9a302"
      },
      "execution_count": 110,
      "outputs": [
        {
          "output_type": "stream",
          "name": "stdout",
          "text": [
            "NS value for bert model is : 2.9361508515672967\n",
            "NS value for doc2vec model is : 2.4971971115487204\n",
            "NS value for Jaccard Index model is : 2.9207725249354106\n",
            "NS value for proposed method is : 2.461102678760269\n"
          ]
        }
      ]
    },
    {
      "cell_type": "code",
      "source": [
        "bert_NS =np.array(NS_cos(full_story_NYT_bert_embedding)) /np.array(NS(full_story_NYT_bert_embedding))\n",
        "doc2vec_NS = np.array(NS_cos(full_story_NYT_doc2vec_embedding))/np.array(NS(full_story_NYT_doc2vec_embedding))\n",
        "ji_NS = np.array(NS_cos(full_story_NYT_JI_embedding))/np.array(NS(full_story_NYT_JI_embedding))\n",
        "proposed_NS = np.array(NS_cos(full_story_NYT_proposed_embedding))/np.array(NS(full_story_NYT_proposed_embedding))\n",
        "\n",
        "print('NS value for bert model is :', sum(bert_NS) / (len(bert_NS)*np.sqrt(2)))\n",
        "print('NS value for doc2vec model is :',sum(doc2vec_NS) / (len(doc2vec_NS)*np.sqrt(2)))\n",
        "print('NS value for Jaccard Index model is :',sum(ji_NS) / (len(ji_NS)*np.sqrt(2)))\n",
        "print('NS value for proposed method is :',sum(proposed_NS) / (len(proposed_NS)*np.sqrt(2)))"
      ],
      "metadata": {
        "colab": {
          "base_uri": "https://localhost:8080/"
        },
        "id": "5CVbBxfCKsQZ",
        "outputId": "2fe7a1ac-0325-4955-aa16-5240d97634da"
      },
      "execution_count": 118,
      "outputs": [
        {
          "output_type": "stream",
          "name": "stdout",
          "text": [
            "NS value for bert model is : 0.8538618905888516\n",
            "NS value for doc2vec model is : 0.8539231730227377\n",
            "NS value for Jaccard Index model is : 0.8862149567192268\n",
            "NS value for proposed method is : 0.9107227477441235\n"
          ]
        }
      ]
    }
  ]
}