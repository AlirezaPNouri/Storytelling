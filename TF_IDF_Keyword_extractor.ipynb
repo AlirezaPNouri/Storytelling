{
  "nbformat": 4,
  "nbformat_minor": 0,
  "metadata": {
    "colab": {
      "name": "TF_IDF_Keyword_extractor.ipynb",
      "provenance": [],
      "collapsed_sections": [],
      "machine_shape": "hm",
      "mount_file_id": "1qHdR7sK6Bws3k2wUArFG60wOgdrm95pe",
      "authorship_tag": "ABX9TyPqzUTqZwKx+q9MR4BSvqxp",
      "include_colab_link": true
    },
    "kernelspec": {
      "name": "python3",
      "display_name": "Python 3"
    },
    "language_info": {
      "name": "python"
    },
    "accelerator": "GPU"
  },
  "cells": [
    {
      "cell_type": "markdown",
      "metadata": {
        "id": "view-in-github",
        "colab_type": "text"
      },
      "source": [
        "<a href=\"https://colab.research.google.com/github/AlirezaPNouri/Storytelling/blob/main/TF_IDF_Keyword_extractor.ipynb\" target=\"_parent\"><img src=\"https://colab.research.google.com/assets/colab-badge.svg\" alt=\"Open In Colab\"/></a>"
      ]
    },
    {
      "cell_type": "markdown",
      "source": [
        "In this code, TF-IDF technique has been used to extract keywords from a text"
      ],
      "metadata": {
        "id": "aIxJw6UWvAxe"
      }
    },
    {
      "cell_type": "code",
      "execution_count": 34,
      "metadata": {
        "id": "7C-cBEKYu6rb"
      },
      "outputs": [],
      "source": [
        "import pickle\n",
        "import re\n",
        "import nltk\n",
        "from sklearn.feature_extraction.text import CountVectorizer\n",
        "from nltk.tokenize import word_tokenize\n",
        "from nltk.stem import PorterStemmer\n"
      ]
    },
    {
      "cell_type": "code",
      "source": [
        "stopwords = ['i','me','my','myself','we','our','ours','ourselves','you','your','yours','yourself','yourselves','he','him','his','himself','she','her','hers','herself','it','its','itself','they','them','their','theirs','themselves','what','which','who','whom','this','that','these','those','am','is','are','was','were','be','been','being','have','has','had','having','do','does','did','doing','a','an','the','and','but','if','or','because','as','until','while','of','at','by','for','with','about','against','between','into','through','during','before','after','above','below','to','from','up','down','in','out','on','off','over','under','again','further','then','once','here','there','when','where','why','how','all','any','both','each','few','more','most','other','some','such','no','nor','not','only','own','same','so','than','too','very','s','t','can','will','just','don','should','now', 'of', 'within']\n",
        "nltk.download('punkt')"
      ],
      "metadata": {
        "colab": {
          "base_uri": "https://localhost:8080/"
        },
        "id": "uxrlMohxvurf",
        "outputId": "f747f6cc-7423-4d9b-c8d7-bb504b4a955c"
      },
      "execution_count": 35,
      "outputs": [
        {
          "output_type": "stream",
          "name": "stdout",
          "text": [
            "[nltk_data] Downloading package punkt to /root/nltk_data...\n",
            "[nltk_data]   Unzipping tokenizers/punkt.zip.\n"
          ]
        },
        {
          "output_type": "execute_result",
          "data": {
            "text/plain": [
              "True"
            ]
          },
          "metadata": {},
          "execution_count": 35
        }
      ]
    },
    {
      "cell_type": "code",
      "source": [
        "df = pickle.load(open('drive/MyDrive/temp/data_r/Proposed/df.p', 'rb'))\n",
        "story_data = pickle.load(open('drive/MyDrive/temp/data_r/final_results_proposed.p', 'rb'))"
      ],
      "metadata": {
        "id": "u3fqRvn5vAmO"
      },
      "execution_count": 98,
      "outputs": []
    },
    {
      "cell_type": "code",
      "source": [
        ""
      ],
      "metadata": {
        "id": "HedEiuka4Y_n"
      },
      "execution_count": null,
      "outputs": []
    },
    {
      "cell_type": "code",
      "source": [
        "def special_char_remover(str_):\n",
        "  \"\"\"\n",
        "  This function removes any special characters from a text\n",
        "  Arguments:\n",
        "    str_: a string\n",
        "  Returns:\n",
        "    A string\n",
        "  \"\"\"\n",
        "  return ' '.join(''.join(w for w in m if w.isalnum()) for m in str_.split(' '))"
      ],
      "metadata": {
        "id": "FKQnZI_Fv_bj"
      },
      "execution_count": 7,
      "outputs": []
    },
    {
      "cell_type": "code",
      "source": [
        "def pre_process(text):\n",
        "    # lowercase\n",
        "    text = text.lower()\n",
        "    # remove tags\n",
        "    text = re.sub(\"\", \"\", text)\n",
        "    # remove special characters and digits\n",
        "    text = re.sub(\"(\\\\d|\\\\W)+\", \" \", text)\n",
        "    return text"
      ],
      "metadata": {
        "id": "0mK71PWwvnln"
      },
      "execution_count": 5,
      "outputs": []
    },
    {
      "cell_type": "code",
      "source": [
        "def stopword_remover(str_, stopwords_):\n",
        "  words = word_tokenize(str_)\n",
        "  ps = PorterStemmer()\n",
        "  temp_list = list()\n",
        "  for ele in words:\n",
        "    if ele not in stopwords_:\n",
        "      temp_list.append(ps.stem(ele))\n",
        "  return ' '.join(temp_list)\n",
        "\n"
      ],
      "metadata": {
        "id": "OT0rNTq-wCdm"
      },
      "execution_count": 31,
      "outputs": []
    },
    {
      "cell_type": "code",
      "source": [
        "data_content = dict()\n",
        "for index, row in df.iterrows():\n",
        "  data_content[row['id']] = stopword_remover(pre_process(special_char_remover(row['content'])), stopwords)\n"
      ],
      "metadata": {
        "id": "W6644I6zxM8z"
      },
      "execution_count": 37,
      "outputs": []
    },
    {
      "cell_type": "code",
      "source": [
        "cv = CountVectorizer(max_df=0.85, stop_words=stopwords)"
      ],
      "metadata": {
        "id": "Qcth4hviyA5o"
      },
      "execution_count": 38,
      "outputs": []
    },
    {
      "cell_type": "code",
      "source": [
        "word_count_vector = cv.fit_transform(data_content.values())"
      ],
      "metadata": {
        "id": "0x8nZT-wy9pK"
      },
      "execution_count": 39,
      "outputs": []
    },
    {
      "cell_type": "code",
      "source": [
        "# list(cv.vocabulary_.keys())[:10]"
      ],
      "metadata": {
        "id": "c93VLc6szGWw"
      },
      "execution_count": null,
      "outputs": []
    },
    {
      "cell_type": "code",
      "source": [
        "from sklearn.feature_extraction.text import TfidfTransformer\n",
        "tfidf_transformer=TfidfTransformer(smooth_idf=True,use_idf=True)\n",
        "tfidf_transformer.fit(word_count_vector)"
      ],
      "metadata": {
        "colab": {
          "base_uri": "https://localhost:8080/"
        },
        "id": "N5RM8qJB0BX6",
        "outputId": "bb6e247f-05d4-4d4f-d23d-2d8d41a0bc4f"
      },
      "execution_count": 41,
      "outputs": [
        {
          "output_type": "execute_result",
          "data": {
            "text/plain": [
              "TfidfTransformer()"
            ]
          },
          "metadata": {},
          "execution_count": 41
        }
      ]
    },
    {
      "cell_type": "code",
      "source": [
        "def sort_coo(coo_matrix):\n",
        "    tuples = zip(coo_matrix.col, coo_matrix.data)\n",
        "    return sorted(tuples, key=lambda x: (x[1], x[0]), reverse=True)\n",
        "def extract_topn_from_vector(feature_names, sorted_items, topn=10):\n",
        "    \"\"\"get the feature names and tf-idf score of top n items\"\"\"\n",
        "    \n",
        "    #use only topn items from vector\n",
        "    sorted_items = sorted_items[:topn]\n",
        "    score_vals = []\n",
        "    feature_vals = []\n",
        "    \n",
        "    # word index and corresponding tf-idf score\n",
        "    for idx, score in sorted_items:\n",
        "        \n",
        "        #keep track of feature name and its corresponding score\n",
        "        score_vals.append(round(score, 3))\n",
        "        feature_vals.append(feature_names[idx])\n",
        "    #create a tuples of feature,score\n",
        "    #results = zip(feature_vals,score_vals)\n",
        "    results= {}\n",
        "    for idx in range(len(feature_vals)):\n",
        "        results[feature_vals[idx]]=score_vals[idx]\n",
        "    \n",
        "    return results"
      ],
      "metadata": {
        "id": "PDCHPEnG09ZJ"
      },
      "execution_count": 42,
      "outputs": []
    },
    {
      "cell_type": "code",
      "source": [
        "\n",
        "# you only needs to do this once, this is a mapping of index to \n",
        "feature_names=cv.get_feature_names_out()\n",
        "top_keywords = dict()\n",
        "for ind, doc in data_content.items():\n",
        "  # get the document that we want to extract keywords from\n",
        "  # doc=data_content[51167]\n",
        "  #generate tf-idf for the given document\n",
        "  tf_idf_vector=tfidf_transformer.transform(cv.transform([doc]))\n",
        "  #sort the tf-idf vectors by descending order of scores\n",
        "  sorted_items=sort_coo(tf_idf_vector.tocoo())\n",
        "  #extract only the top n; n here is 10\n",
        "  keywords=extract_topn_from_vector(feature_names,sorted_items,20)\n",
        "  # now print the results\n",
        "  # print(\"\\n=====Doc=====\")\n",
        "  # print(doc)\n",
        "  # print(\"\\n===Keywords===\")\n",
        "  temp_list = list()\n",
        "  for k in keywords:\n",
        "    temp_list.append(k)\n",
        "    # print(k,keywords[k])\n",
        "  top_keywords[ind] = temp_list"
      ],
      "metadata": {
        "id": "Zm3Wi57T0oLi"
      },
      "execution_count": 94,
      "outputs": []
    },
    {
      "cell_type": "code",
      "source": [
        "def jaccard_similarity(text1, text2):\n",
        "  set_text1 = set(text1)\n",
        "  set_text2 = set(text2)\n",
        "\n",
        "  return len(set_text1.intersection(set_text2)) / len(set_text1.union(set_text2))"
      ],
      "metadata": {
        "id": "7tTNZ4r-7_J9"
      },
      "execution_count": 95,
      "outputs": []
    },
    {
      "cell_type": "code",
      "source": [
        "sampl = story_data[0.25][1]\n",
        "keyword_story = dict()\n",
        "for doc_1, doc_2 in zip(sampl[:-1], sampl[1:]):\n",
        "  keyword_story[doc_1] = jaccard_similarity(top_keywords[doc_1], top_keywords[doc_2])\n",
        "\n",
        "\n"
      ],
      "metadata": {
        "id": "noWxMTwc4aWQ"
      },
      "execution_count": 99,
      "outputs": []
    },
    {
      "cell_type": "code",
      "source": [
        "total_dict = dict()\n",
        "\n",
        "for total in range(len(story_data[0.25])):\n",
        "  sampl = story_data[0.25][total]\n",
        "  keyword_story = dict()\n",
        "  for doc_1, doc_2 in zip(sampl[:-1], sampl[1:]):\n",
        "    keyword_story[doc_1] = jaccard_similarity(top_keywords[doc_1], top_keywords[doc_2])\n",
        "  total_dict[total] = keyword_story\n",
        "\n"
      ],
      "metadata": {
        "id": "GncL3Zlq_hSI"
      },
      "execution_count": 101,
      "outputs": []
    },
    {
      "cell_type": "code",
      "source": [
        "print(total_dict[4])"
      ],
      "metadata": {
        "colab": {
          "base_uri": "https://localhost:8080/"
        },
        "id": "mmcf3fHUYGHW",
        "outputId": "f51a650d-0d5d-4c94-bfff-41fc074ed20d"
      },
      "execution_count": 106,
      "outputs": [
        {
          "output_type": "stream",
          "name": "stdout",
          "text": [
            "{549164: 0.0, 666074: 0.0, 51248: 0.0, 725184: 0.02564102564102564, 200945: 0.0, 51295: 0.0, 774591: 0.0, 51082: 0.0, 600616: 0.0, 106167: 0.0, 656252: 0.0, 551442: 0.0, 731886: 0.0, 738814: 0.02564102564102564, 555096: 0.02564102564102564, 654198: 0.02564102564102564, 85977: 0.0, 165545: 0.0, 142474: 0.0, 549576: 0.05263157894736842, 145579: 0.0, 691871: 0.0, 687244: 0.0, 502870: 0.0}\n"
          ]
        }
      ]
    },
    {
      "cell_type": "code",
      "source": [
        "chan_dict = dict()\n",
        "for st in total_dict.keys():\n",
        "  if len(total_dict[st]) > 4:\n",
        "    chan_dict[st] =sum(list(total_dict[st].values()))\n",
        "ind = sorted(chan_dict.values())\n",
        "list_of_stories = list()\n",
        "# for z in range(len(ind)):\n",
        "for t, v in chan_dict.items():\n",
        "  if v == ind[-1]:\n",
        "    print(t, ' -> ', total_dict[t])\n",
        "    list_of_stories.append(t)\n",
        "\n"
      ],
      "metadata": {
        "colab": {
          "base_uri": "https://localhost:8080/"
        },
        "id": "b87LYlkASTRd",
        "outputId": "b5d6cded-43dc-46cf-9919-bca21468c5b1"
      },
      "execution_count": 110,
      "outputs": [
        {
          "output_type": "stream",
          "name": "stdout",
          "text": [
            "56  ->  {578750: 0.02564102564102564, 733259: 0.0, 696125: 0.08108108108108109, 757788: 0.05263157894736842, 724837: 0.1111111111111111, 702241: 0.02564102564102564, 67101: 0.05263157894736842, 769272: 0.0, 578579: 0.0, 78378: 0.0, 85585: 0.0, 511458: 0.02564102564102564, 734988: 0.02564102564102564, 50588: 0.0, 106167: 0.0, 656252: 0.0, 551442: 0.0, 731886: 0.0, 738814: 0.02564102564102564, 555096: 0.02564102564102564, 654198: 0.02564102564102564, 85977: 0.0, 165545: 0.0, 142474: 0.0, 549576: 0.05263157894736842, 145579: 0.0, 691871: 0.0, 687244: 0.0, 502870: 0.0}\n"
          ]
        }
      ]
    },
    {
      "cell_type": "code",
      "source": [
        "for story in total_dict[list_of_stories[-1]]:\n",
        "  print(top_keywords[story])"
      ],
      "metadata": {
        "colab": {
          "base_uri": "https://localhost:8080/"
        },
        "id": "4bflYxnuT2kd",
        "outputId": "010fbd11-9653-4361-fc68-423afd2067d8"
      },
      "execution_count": 113,
      "outputs": [
        {
          "output_type": "stream",
          "name": "stdout",
          "text": [
            "['lvad', 'inr', 'thrombosi', 'anticoagul', 'patient', 'thrombot', 'covid', 'heartmat', 'infect', 'iqr', 'pump', 'laboratori', 'radiograph', 'median', 'stroke', 'arteri', 'evid', 'failur', 'warfarin', 'thrombogen']\n",
            "['donor', 'lung', 'sarscov', 'plex', 'postop', 'bal', 'immunosuppress', 'dsa', 'infect', 'pretranspl', 'ivig', 'amr', 'tacrolimu', 'mycophenol', 'interstiti', 'np', 'mandat', 'preoper', 'sampl', 'case']\n",
            "['tertil', 'iqr', 'bmi', 'ecmo', 'kgm', 'ahr', 'mortal', 'oxygen', 'middl', 'inhospit', 'lowest', 'obes', 'patient', 'highest', 'place', 'hospit', 'comparison', 'redcap', 'outcom', 'timetoev']\n",
            "['collaps', 'circulatori', 'impella', 'hemodynam', 'lv', 'cardiogen', 'acut', 'manag', 'ecmo', 'shock', 'iabp', 'support', 'inotrop', 'patient', 'fluid', 'recoveri', 'requir', 'day', 'covid', 'place']\n",
            "['vaccin', 'johnson', 'patient', 'ht', 'breakthrough', 'infect', 'transplant', 'histori', 'receiv', 'covid', 'nearli', 'st', 'common', 'recipi', 'heart', 'surviv', 'singl', 'one', 'rate', 'pcrproven']\n",
            "['cardiomyopathi', 'covid', 'case', 'cmr', 'cardiac', 'oht', 'lv', 'myocard', 'transplant', 'vaccin', 'experienc', 'known', 'reveal', 'underw', 'heart', 'diagnos', 'troponint', 'orthopnea', 'lge', 'lacuna']\n",
            "['ar', 'zyf', 'nasal', 'symptom', 'il', 'lpsinduc', 'hyposmia', 'secret', 'obstruct', 'covid', 'chines', 'particip', 'take', 'zhengyifang', 'rhinorrhea', 'rhiniti', 'postnas', 'perenni', 'houttuynia', 'hcbase']\n",
            "['mask', 'vaccin', 'selfreport', 'use', 'particip', 'dose', 'regardless', 'unvaccin', 'covid', 'august', 'worker', 'easter', 'decemb', 'face', 'daili', 'feet', 'christma', 'age', 'facemask', 'femal']\n",
            "['pharmacist', 'hospitalinthehom', 'medic', 'versu', 'mental', 'site', 'safeti', 'clinic', 'key', 'accur', 'servic', 'indic', 'bed', 'australian', 'multidisciplinari', 'perform', 'western', 'incorpor', 'list', 'team']\n",
            "['clinician', 'idd', 'carer', 'peopl', 'emerg', 'distress', 'quantit', 'increas', 'psycholog', 'intext', 'fixedrespons', 'patient', 'impact', 'quotat', 'fallen', 'present', 'qualit', 'strobe', 'psychotrop', 'respond']\n",
            "['upadacitinib', 'mg', 'daili', 'ad', 'easi', 'therapi', 'tcstci', 'abrocitinib', 'baselin', 'endpoint', 'efficaci', 'metaanalysi', 'trial', 'moder', 'network', 'interleukin', 'target', 'sever', 'il', 'clear']\n",
            "['lvef', 'hyperdynam', 'hdlvef', 'normal', 'aor', 'day', 'mortal', 'group', 'reduc', 'patient', 'rush', 'adjust', 'tte', 'vasopressor', 'echocardiogram', 'transthorac', 'ci', 'hospit', 'bmi', 'covid']\n",
            "['telerehabilit', 'md', 'dyspnoea', 'ci', 'certainti', 'sittostand', 'repetit', 'two', 'walk', 'multidimension', 'advers', 'event', 'median', 'minut', 'postcovid', 'perform', 'low', 'studi', 'iqr', 'particip']\n",
            "['echocardiograph', 'st', 'ci', 'enlarg', 'diseas', 'tte', 'atrial', 'risk', 'baselin', 'hospit', 'left', 'abnorm', 'patient', 'sever', 'covid', 'ventilationinhospit', 'vaccinehesit', 'systolicdiastol', 'luke', 'caremechan']\n",
            "['pm', 'heterogen', 'randomeffect', 'bias', 'crd', 'english', 'costeffect', 'ethic', 'dissemin', 'intervent', 'econom', 'studi', 'gene', 'valueformoney', 'treatmenttarget', 'jackknif', 'countryincom', 'therapeut', 'sourc', 'fixedeffect']\n",
            "['pd', 'th', 'caregiv', 'visit', 'pediatr', 'exam', 'graphic', 'children', 'inadequatelack', 'abstract', 'inabl', 'provid', 'center', 'care', 'servic', 'supplementari', 'inperson', 'scope', 'popul', 'adopt']\n",
            "['vgg', 'spondylolisthesi', 'model', 'accuraci', 'inceptionv', 'tflite', 'imag', 'spine', 'rate', 'radiograph', 'optim', 'xray', 'achiev', 'dataset', 'zebin', 'varcin', 'slippag', 'rezvi', 'quantiz', 'techniqu']\n",
            "['abmr', 'allograft', 'felzartamab', 'trial', 'renal', 'reject', 'nk', 'pc', 'regist', 'biopsi', 'random', 'cell', 'endpoint', 'cd', 'activ', 'transplant', 'mvi', 'mor', 'killer', 'ibox']\n",
            "['ecmo', 'patient', 'osaka', 'receiv', 'prefectur', 'die', 'presenc', 'univari', 'allcaus', 'covid', 'mortal', 'novemb', 'comorbid', 'diagnos', 'logist', 'outcom', 'age', 'fourteen', 'regress', 'ci']\n",
            "['typhoid', 'vaccin', 'vidt', 'lot', 'group', 'vitt', 'noninferior', 'conjug', 'intramuscular', 'toxoid', 'receiv', 'year', 'vi', 'ac', 'μg', 'particip', 'endem', 'ml', 'inject', 'four']\n",
            "['sprotein', 'hcw', 'previous', 'rbd', 'uninfect', 'auml', 'igg', 'infect', 'seconddos', 'antibodi', 'mean', 'vaccin', 'level', 'ci', 'subject', 'day', 'abbott', 'sarscov', 'higher', 'new']\n",
            "['ventil', 'space', 'natur', 'sarscov', 'healthcar', 'risk', 'sampl', 'detect', 'exposur', 'room', 'rate', 'pose', 'air', 'outpati', 'depart', 'set', 'paramet', 'wellsriley', 'noncoviddesign', 'lsp']\n",
            "['ferret', 'transmiss', 'influenza', 'laboratori', 'zoonot', 'virus', 'experiment', 'concord', 'exercis', 'assess', 'experi', 'protocol', 'donorcontact', 'moderatetohigh', 'stock', 'inocul', 'droplet', 'across', 'kinet', 'possess']\n",
            "['salivari', 'iga', 'saliva', 'respons', 'antibodi', 'igg', 'spike', 'infect', 'standardis', 'roc', 'auc', 'sarscov', 'serum', 'assay', 'fieldtest', 'intriguingli', 'protein', 'detect', 'mucos', 'immunosorb']\n",
            "['tb', 'coinfect', 'diseas', 'submodel', 'spread', 'wane', 'treatment', 'control', 'covid', 'model', 'must', 'epidemiolog', 'due', 'detail', 'paramet', 'tbcovid', 'lhsprcc', 'face', 'care', 'sensit']\n",
            "['ig', 'pair', 'clam', 'ulam', 'lam', 'mtb', 'urin', 'lineag', 'tb', 'sensit', 'analyt', 'test', 'tuberculosi', 'affin', 'exist', 'reactiv', 'similar', 'perform', 'overal', 'new']\n",
            "['copla', 'smt', 'day', 'iqr', 'group', 'ordin', 'twopoint', 'reduct', 'centr', 'therapi', 'titr', 'antibodi', 'convalesc', 'scale', 'trial', 'plasma', 'outcom', 'hour', 'phaseiii', 'northindia']\n",
            "['pad', 'wave', 'inhospit', 'inpati', 'amput', 'increas', 'comorbid', 'first', 'treatment', 'stage', 'walraven', 'surgicalendovascular', 'highergrad', 'fontain', 'refer', 'admiss', 'baselin', 'demograph', 'remuner', 'endovascular']\n",
            "['vaccin', 'accept', 'countri', 'proof', 'eul', 'vaxzevria', 'travel', 'eu', 'valid', 'recogn', 'seven', 'approv', 'visaguideworld', 'sbbibpcorvcoronavac', 'emaauthor', 'cypru', 'covishieldbnt', 'intern', 'sputnik', 'slovenia']\n"
          ]
        }
      ]
    },
    {
      "cell_type": "code",
      "source": [
        "# importing package\n",
        "import matplotlib.pyplot as plt\n",
        "import numpy as np\n",
        "  \n",
        "# create data\n",
        "y = list(total_dict[list_of_stories[0]].values())\n",
        "x = [x for x in range(len(total_dict[list_of_stories[0]].keys()))]\n",
        "plt.plot(x, y, label = \"BERT method \", linestyle=\"-.\" )\n",
        "\n",
        "# y = list(total_dict[1].values())\n",
        "# x = [x for x in range(len(total_dict[1].keys()))]\n",
        "# plt.plot(x, y, label = \"BERT method \", linestyle=\"-.\" )\n",
        "\n",
        "# y = list(total_dict[2].values())\n",
        "# x = [x for x in range(len(total_dict[2].keys()))]\n",
        "# plt.plot(x, y, label = \"BERT method \", linestyle=\"-.\" )\n",
        "\n",
        "# y = list(total_dict[3].values())\n",
        "# x = [x for x in range(len(total_dict[3].keys()))]\n",
        "# plt.plot(x, y, label = \"BERT method \", linestyle=\"-.\" )\n",
        "\n",
        "# y = list(total_dict[4].values())\n",
        "# x = [x for x in range(len(total_dict[4].keys()))]\n",
        "# plt.plot(x, y, label = \"BERT method \", linestyle=\"-.\" )\n",
        "\n",
        "# y = list(total_dict[5].values())\n",
        "# x = [x for x in range(len(total_dict[5].keys()))]\n",
        "# plt.plot(x, y, label = \"BERT method \", linestyle=\"-.\" )\n",
        "\n",
        "plt.legend()\n",
        "plt.show()"
      ],
      "metadata": {
        "colab": {
          "base_uri": "https://localhost:8080/",
          "height": 265
        },
        "id": "iVx6eawX8Toh",
        "outputId": "53d20b28-3084-42ad-fd8e-d3178731751b"
      },
      "execution_count": 105,
      "outputs": [
        {
          "output_type": "display_data",
          "data": {
            "text/plain": [
              "<Figure size 432x288 with 1 Axes>"
            ],
            "image/png": "[encoded data removed]"
          },
          "metadata": {
            "needs_background": "light"
          }
        }
      ]
    }
  ]
}