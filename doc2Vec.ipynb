{
  "nbformat": 4,
  "nbformat_minor": 0,
  "metadata": {
    "colab": {
      "name": "doc2Vec.ipynb",
      "provenance": [],
      "collapsed_sections": [],
      "machine_shape": "hm",
      "authorship_tag": "ABX9TyMvywwy7gYGvqbZhgv3Azfr",
      "include_colab_link": true
    },
    "kernelspec": {
      "name": "python3",
      "display_name": "Python 3"
    },
    "language_info": {
      "name": "python"
    },
    "accelerator": "GPU"
  },
  "cells": [
    {
      "cell_type": "markdown",
      "metadata": {
        "id": "view-in-github",
        "colab_type": "text"
      },
      "source": [
        "<a href=\"https://colab.research.google.com/github/AlirezaPNouri/Storytelling/blob/main/doc2Vec.ipynb\" target=\"_parent\"><img src=\"https://colab.research.google.com/assets/colab-badge.svg\" alt=\"Open In Colab\"/></a>"
      ]
    },
    {
      "cell_type": "markdown",
      "source": [
        "This code is design to generate the document embedding for comparison with other techniques such as Bert, my proposed method and Jaccard Index approach\n",
        "Author: Alireza Nouri"
      ],
      "metadata": {
        "id": "s3SAOM3BOSuz"
      }
    },
    {
      "cell_type": "code",
      "source": [
        "import pandas as pd\n",
        "import numpy as np\n",
        "from sklearn.metrics.pairwise import cosine_similarity\n",
        "import pickle\n",
        "import string\n",
        "import requests\n",
        "import nltk\n",
        "from nltk.stem import PorterStemmer\n",
        "from nltk.tokenize import sent_tokenize, word_tokenize\n",
        "from gensim.models.doc2vec import Doc2Vec, TaggedDocument \n",
        "from nltk.tokenize import word_tokenize\n",
        "import copy"
      ],
      "metadata": {
        "id": "O5X7q534Ovuo"
      },
      "execution_count": 1,
      "outputs": []
    },
    {
      "cell_type": "code",
      "source": [
        "nltk.download('punkt')"
      ],
      "metadata": {
        "colab": {
          "base_uri": "https://localhost:8080/"
        },
        "id": "TvG4SpztR4vp",
        "outputId": "335e0a13-fd13-4882-8c42-a0e1f266e62f"
      },
      "execution_count": 2,
      "outputs": [
        {
          "output_type": "stream",
          "name": "stdout",
          "text": [
            "[nltk_data] Downloading package punkt to /root/nltk_data...\n",
            "[nltk_data]   Package punkt is already up-to-date!\n"
          ]
        },
        {
          "output_type": "execute_result",
          "data": {
            "text/plain": [
              "True"
            ]
          },
          "metadata": {},
          "execution_count": 2
        }
      ]
    },
    {
      "cell_type": "code",
      "execution_count": 3,
      "metadata": {
        "id": "bFJLhprXOQan"
      },
      "outputs": [],
      "source": [
        "#constant variables\n",
        "dataset_covid_link = 'https://raw.githubusercontent.com/AlirezaPNouri/Storytelling/main/datasets/short_parsed_covid_data.csv'\n",
        "dataset_NYT_link = 'https://raw.githubusercontent.com/AlirezaPNouri/Storytelling/main/datasets/short_parsed_NYT_data.csv'\n",
        "dataset_percentage = .6\n",
        "MAX_DATA = 100\n",
        "MAX_SENTENCE_LENGTH = 350\n",
        "MIN_SENTENCE_LENGTH = 200\n",
        "doc_list =[item for item in range(MAX_DATA)]\n",
        "jump = 3 # jump size for gradient decent\n",
        "MAX_FEATURE_SIZE = 20 # max size of the gradient descent vector\n",
        "range_n_clusters = [2, 3, 4, 5, 6] #number of different clustering to compare the performance of the model over different clustering\n",
        "threshold_cluster_overlapping = 0.7 # to consider two clsuters are similar\n",
        "stopwords = ['!','@','#','$','%','^','&','*','?','-','_','.','i','me','my','myself','we','our','ours','ourselves','you','your','yours','yourself','yourselves','he','him','his','himself','she','her','hers','herself','it','its','itself','they','them','their','theirs','themselves','what','which','who','whom','this','that','these','those','am','is','are','was','were','be','been','being','have','has','had','having','do','does','did','doing','a','an','the','and','but','if','or','because','as','until','while','of','at','by','for','with','about','against','between','into','through','during','before','after','above','below','to','from','up','down','in','out','on','off','over','under','again','further','then','once','here','there','when','where','why','how','all','any','both','each','few','more','most','other','some','such','no','nor','not','only','own','same','so','than','too','very','s','t','can','will','just','don','should','now', 'of', 'within']\n"
      ]
    },
    {
      "cell_type": "code",
      "source": [
        "# download the dataset as a zip file from the git repo\n",
        "def dataset_downloader(str_):\n",
        "  \"\"\"\n",
        "  This function download a dataset\n",
        "  Arguments:\n",
        "    str_: the name of the dataset. It can be covid or NYT\n",
        "  Returns:\n",
        "    df: a pandas dataframe\n",
        "  \"\"\"\n",
        "  if str_ == 'covid':\n",
        "    url = dataset_NYT_link\n",
        "  elif str_ == 'NYT':\n",
        "    url = dataset_covid_link\n",
        "  else:\n",
        "    print('dataset is not choose correctly!')\n",
        "\n",
        "  print('Downloading dataset...')\n",
        "  res = requests.get(url, allow_redirects=True)\n",
        "  with open('small_dataset_NYT.csv','wb') as file:\n",
        "      file.write(res.content)\n",
        "  print('Download is done!')\n",
        "  df = pd.read_csv(\"/content/small_dataset_NYT.csv\", header= None, skiprows=1)\n",
        "  if str_ == 'NYT':\n",
        "    df.columns = ['id', 'title', 'content', 'publish_time', 'author']\n",
        "  elif str_ == 'covid':\n",
        "    df.columns = ['id', 'title', 'content', 'author', 'publish_time']\n",
        "  \n",
        "  df = df.dropna(how='any', axis=0)\n",
        "  print('dataset size after removing non-value cells is {}'.format(df.shape))\n",
        "  # reduce the size of dataset to dataset_percentage*dataset.shape\n",
        "  df = df.sample(frac=dataset_percentage)\n",
        "  print('The new size of dataset is {} and the columns are {}'.format(df.shape, df.columns.values ))\n",
        "  # remove the content that has less than MIN_SENTENCE_LENGTH words \n",
        "  df = df[df['content'].apply(lambda x : len(x.split(' ')))>=MIN_SENTENCE_LENGTH]\n",
        "\n",
        "  # keep the first 500 words in content\n",
        "  df['content'] = df['content'].apply(lambda x : ' '.join(x.split(' ')[:MAX_SENTENCE_LENGTH]))\n",
        "  return df\n"
      ],
      "metadata": {
        "id": "S2zQ99olOsF2"
      },
      "execution_count": 4,
      "outputs": []
    },
    {
      "cell_type": "code",
      "source": [
        "def special_char_remover(str_):\n",
        "  \"\"\"\n",
        "  This function removes any special characters from a text\n",
        "  Arguments:\n",
        "    str_: a string\n",
        "  Returns:\n",
        "    A string\n",
        "  \"\"\"\n",
        "  return ' '.join(''.join(w for w in m if w.isalnum()) for m in str_.split(' '))"
      ],
      "metadata": {
        "id": "TNEWfx5-PdA_"
      },
      "execution_count": 5,
      "outputs": []
    },
    {
      "cell_type": "code",
      "source": [
        "#### Create a list of dataframe out of the dataset. Each dataframe belongs to a timestamp #############\n",
        "#######################################################################################################\n",
        "# use 10 days as time interval\n",
        "def timestamps_generator(df_):\n",
        "  \"\"\"\n",
        "  This function collect data related to each timestamp separately in a dataframe\n",
        "  Arguments:\n",
        "    df_: a pandas dataframe\n",
        "  Returns:\n",
        "    df_list: a list of all timestamps data [df_1, df_2, ...]\n",
        "  \"\"\"\n",
        "  time_stamp = set()\n",
        "  df_list= list()\n",
        "  for index, row in df_.iterrows():\n",
        "    time_stamp.add(row['publish_time'][0:4])\n",
        "  for time_interval in time_stamp:\n",
        "    new_df = df_[df_['publish_time'].str.slice(0, 4)== time_interval]\n",
        "    if new_df.shape[0]>5: #minimum number of doc in a timestamp\n",
        "      df_list.append(new_df)\n",
        "  return df_list"
      ],
      "metadata": {
        "id": "yB_Lpg8kPgjw"
      },
      "execution_count": 6,
      "outputs": []
    },
    {
      "cell_type": "code",
      "source": [
        "def time_fixer(str_):\n",
        "  \"\"\"\n",
        "  This function convert a date from x/x/xxxx to 0x0xxxxx\n",
        "  Arguments:\n",
        "    str_: a date in a string format\n",
        "  Returns:\n",
        "    a string without any / and all months and days are in two digit\n",
        "  \"\"\"\n",
        "  t_slot = str_.split('/')\n",
        "  t_slot[0] = t_slot[0] if len(t_slot[0]) == 2 else '0'+t_slot[0]\n",
        "  t_slot[1] = t_slot[1] if len(t_slot[1]) == 2 else '0'+t_slot[1]\n",
        "  return ''+t_slot[0]+t_slot[1]+t_slot[2]"
      ],
      "metadata": {
        "id": "Z3VgS6EjPiIW"
      },
      "execution_count": 7,
      "outputs": []
    },
    {
      "cell_type": "code",
      "source": [
        "def find_similarity(Embed_):\n",
        "  \"\"\"\n",
        "  This function calculate the cosine similarity between each pair of words in a document and sort them as a new vector\n",
        "  Arguments:\n",
        "    Embed_: a dictionary of all doc and embedding seperated into their timestamps {timestamp1 {doc1{token1: embedding, token2: embedding}}}\n",
        "  Returns:\n",
        "    neighbor_ts_doc: a dictionary of all timestamps, docs and the neighbor similarity for each word\n",
        "  \"\"\"\n",
        "  tmp_collector = dict()\n",
        "  neighbor_ts_doc = dict()\n",
        "  for ts_ in Embed_.keys():\n",
        "    temp = Embed_[ts_]\n",
        "    final_list = dict()\n",
        "    for doc in temp.keys():\n",
        "      if doc in tmp_collector.keys():\n",
        "        final_list[doc] = tmp_collector[doc]\n",
        "      else:\n",
        "        neighbor_dict = dict()\n",
        "        track_dict = dict()\n",
        "        \n",
        "        for f_word, f_emb in temp[doc].items():\n",
        "          temp_list = list()\n",
        "          \n",
        "          for s_word, s_emb in temp[doc].items():\n",
        "            if (s_word, f_word) in track_dict.keys():\n",
        "              temp_list.append(track_dict[(s_word, f_word)])\n",
        "            else:\n",
        "              track_dict[(f_word, s_word)] = cosine_similarity([f_emb],[s_emb])[0][0]\n",
        "              temp_list.append(track_dict[(f_word, s_word)])\n",
        "          \n",
        "          neighbor_dict[f_word] =sorted(temp_list, reverse=True)[1:] # ignore the cosine similarity between a word and itself\n",
        "\n",
        "        final_list[doc] = neighbor_dict\n",
        "        tmp_collector[doc] = neighbor_dict\n",
        "\n",
        "      print('Document {} is done!'.format(doc))\n",
        "    neighbor_ts_doc[ts_] = final_list\n",
        "  return neighbor_ts_doc"
      ],
      "metadata": {
        "id": "X_sPMPZkPmpa"
      },
      "execution_count": 8,
      "outputs": []
    },
    {
      "cell_type": "code",
      "source": [
        "def stopword_remover(all_dict_):\n",
        "  final_dict_w_stopword = dict()\n",
        "  for ts_ in all_dict_.keys():\n",
        "    total_docs_clusters = all_dict_[ts_]\n",
        "    #remove stopwords\n",
        "    total_docs_clusters_wo_stopwords = dict()\n",
        "    for doc in total_docs_clusters.keys():\n",
        "      temp_doc = {}\n",
        "      for cluster_rank in total_docs_clusters[doc].keys():\n",
        "        temp_clustering = {}\n",
        "        for ins in total_docs_clusters[doc][cluster_rank].keys():\n",
        "          temp_cluster = {}\n",
        "          for items in total_docs_clusters[doc][cluster_rank][ins].items():\n",
        "            if items[0] not in stopwords:\n",
        "              temp_cluster[items[0]] = items[1]\n",
        "          temp_clustering[ins] = temp_cluster\n",
        "        temp_doc[cluster_rank] = temp_clustering\n",
        "      total_docs_clusters_wo_stopwords[doc] = temp_doc\n",
        "    final_dict_w_stopword[ts_] = total_docs_clusters_wo_stopwords\n",
        "  return final_dict_w_stopword"
      ],
      "metadata": {
        "id": "BcsRAWYMPsc3"
      },
      "execution_count": 9,
      "outputs": []
    },
    {
      "cell_type": "code",
      "source": [
        "def get_df_size(list_of_df_):\n",
        "  tmp_list = list()\n",
        "  for df_ in list_of_df_:\n",
        "    tmp_list.append(len(list(df_['id'])))\n",
        "  return tmp_list"
      ],
      "metadata": {
        "id": "0Q78P7WYP66B"
      },
      "execution_count": 10,
      "outputs": []
    },
    {
      "cell_type": "code",
      "source": [
        "def merging_df(list_df_):\n",
        "  new_df_list = list()\n",
        "  for n in range(len(list_df_)-1):\n",
        "    frames = [list_df_[n], list_df_[n+1]]\n",
        "    new_df_list.append(pd.concat(frames))\n",
        "  new_df_list.append(list_df_[n+1])\n",
        "  return new_df_list"
      ],
      "metadata": {
        "id": "ar7uy9rgP94Z"
      },
      "execution_count": 11,
      "outputs": []
    },
    {
      "cell_type": "code",
      "source": [
        "df = dataset_downloader('NYT')\n",
        "list_of_dfs= list()\n",
        "df['content'] = df['content'].apply( lambda x: special_char_remover(x)) # remove special characters\n",
        "df['publish_time'] = df['publish_time'].apply(lambda x: time_fixer(x))\n",
        "list_of_dfs = timestamps_generator(copy.deepcopy(df))\n",
        "print('before merging dfs: ' ,get_df_size(list_of_dfs))\n",
        "list_of_timestamps = [list(x['id']) for x in list_of_dfs ]\n",
        "list_of_dfs = merging_df(copy.deepcopy(list_of_dfs))  # merging two coonsecuative df to each other and made a new one \n",
        "print('after merging dfs: ',get_df_size(list_of_dfs))"
      ],
      "metadata": {
        "colab": {
          "base_uri": "https://localhost:8080/"
        },
        "id": "TthspLosPxdZ",
        "outputId": "dd509415-ce9b-4bcc-dc7f-6dc9a0a599a0"
      },
      "execution_count": 12,
      "outputs": [
        {
          "output_type": "stream",
          "name": "stdout",
          "text": [
            "Downloading dataset...\n",
            "Download is done!\n",
            "dataset size after removing non-value cells is (5713, 5)\n",
            "The new size of dataset is (3428, 5) and the columns are ['id' 'title' 'content' 'publish_time' 'author']\n",
            "before merging dfs:  [118, 268, 54, 107, 42, 66, 117, 23, 76, 184, 19, 65, 181, 126, 117, 34, 100, 108, 126, 139, 128]\n",
            "after merging dfs:  [386, 322, 161, 149, 108, 183, 140, 99, 260, 203, 84, 246, 307, 243, 151, 134, 208, 234, 265, 267, 128]\n"
          ]
        }
      ]
    },
    {
      "cell_type": "code",
      "source": [
        "dic_of_ind = dict()\n",
        "for index, row in df.iterrows():\n",
        "  dic_of_ind[row['id']] = index\n",
        "\n"
      ],
      "metadata": {
        "id": "tlFGi5FRebu1"
      },
      "execution_count": 13,
      "outputs": []
    },
    {
      "cell_type": "code",
      "source": [
        "\n",
        "def doc2Vec_generator(document_):\n",
        "  \"\"\"\n",
        "  This function receives a list of sentences as a doc and returns an embedding vector for it\n",
        "  \"\"\"\n",
        "  return document_\n"
      ],
      "metadata": {
        "id": "4_sVbuUZQaR3"
      },
      "execution_count": 14,
      "outputs": []
    },
    {
      "cell_type": "code",
      "source": [
        "def pre_processing(sentence_, stopwords_):\n",
        "  words = word_tokenize(sentence_)\n",
        "  ps = PorterStemmer()\n",
        "  rootWord = list()\n",
        "  for w in words:\n",
        "      if w not in stopwords_:\n",
        "        rootWord.append(ps.stem(w))\n",
        "  return ' '.join( rootWord)"
      ],
      "metadata": {
        "id": "Y4nt83_fcQ57"
      },
      "execution_count": 15,
      "outputs": []
    },
    {
      "cell_type": "code",
      "source": [
        "# doc = [\"I love data science\",\n",
        "#         \"I love coding in python\",\n",
        "#         \"I love building NLP tool\",\n",
        "#         \"This is a good phone\",\n",
        "#         \"This is a good TV\",\n",
        "#         \"This is a good laptop\"]\n",
        "\n",
        "\n",
        "\n",
        "\n",
        "# Tokenization of each document\n",
        "tokenized_doc = []\n",
        "for index, row in df.iterrows():\n",
        "  tokenized_doc.append(word_tokenize(pre_processing(row['content'].lower(), stopwords)))\n",
        "\n",
        "# Convert tokenized document into gensim formated tagged data\n",
        "tagged_data = [TaggedDocument(d, [i]) for i, d in enumerate(tokenized_doc)]\n",
        "# Train the model\n",
        "model = Doc2Vec(vector_size= 150, window = 5, min_count = 2, workers =4, epochs= 100)\n",
        "model.build_vocab(tagged_data)\n",
        "model.train(tagged_data, total_examples=model.corpus_count, epochs=model.epochs)\n"
      ],
      "metadata": {
        "id": "RY0ftkP5Rdy_"
      },
      "execution_count": 16,
      "outputs": []
    },
    {
      "cell_type": "code",
      "source": [
        "embedding_dict= dict()\n",
        "for ts,data_ in zip(range(len(list_of_dfs)), list_of_dfs):\n",
        "  temp_dict = dict()\n",
        "  data_['embedding_vector'] = data_['content'].apply(lambda x: model.infer_vector(pre_processing(x.lower(), stopwords)))\n",
        "  for index, row in data_.iterrows():\n",
        "    temp_dict[row['id']] = row['embedding_vector']\n",
        "  embedding_dict[ts] = temp_dict"
      ],
      "metadata": {
        "id": "e-dS5nsPXbqe"
      },
      "execution_count": 17,
      "outputs": []
    },
    {
      "cell_type": "code",
      "source": [
        ""
      ],
      "metadata": {
        "id": "1F0T6P5QbSGI"
      },
      "execution_count": 17,
      "outputs": []
    },
    {
      "cell_type": "code",
      "source": [
        "def similarity_generator(total_doc_word_embedding):\n",
        "  \"\"\"\n",
        "  doc_matrix is a dictionary of each doc and other doc similarity to this doc based ondoc2vec             doc_embedding ={doc0: {1: int(9*euclidian_distance +1 ), 2:int(9*euclidian_distance +1 )}, doc1}  \n",
        "\n",
        "  \"\"\"\n",
        "  total_dict_ = dict()\n",
        "  for ts_ in total_doc_word_embedding.keys():\n",
        "    doc_word_embedding = total_doc_word_embedding[ts_]\n",
        "    doc_embedding = dict()\n",
        "    for first_doc in doc_word_embedding.keys():\n",
        "      temp_dict = dict()\n",
        "      for second_doc in doc_word_embedding.keys(): \n",
        "        if first_doc != second_doc:\n",
        "          temp_dict[second_doc] =1.0 - cosine_similarity([doc_word_embedding[first_doc]],[doc_word_embedding[second_doc]])[0][0]\n",
        "      doc_embedding[first_doc] = temp_dict\n",
        "      print('Document {} is done!'.format(first_doc) )\n",
        "    total_dict_[ts_] = doc_embedding\n",
        "  return total_dict_"
      ],
      "metadata": {
        "id": "2uKkbTT1lg5G"
      },
      "execution_count": 21,
      "outputs": []
    },
    {
      "cell_type": "code",
      "source": [
        "Embed_dict = dict() # {timestamp1 {doc1{(number_of_tokens+1, 768)}, doc2{}}, timestamp2{}}\n",
        "\n",
        "Embed_dict= similarity_generator(embedding_dict)"
      ],
      "metadata": {
        "id": "zR1cuwazoB1U"
      },
      "execution_count": null,
      "outputs": []
    },
    {
      "cell_type": "code",
      "source": [
        "def path_finder(start_, all_d):\n",
        "  r= 0\n",
        "  res = list()\n",
        "  res.append(start_)\n",
        "  while(r<len(all_d[0])-1):\n",
        "    if start_ not in list_of_ts_[r]:\n",
        "      r +=1\n",
        "    min_val = min(all_d[r][start_].values())\n",
        "    min_ind = [x for x,y in all_d[r][start_].items() if y==min_val]\n",
        "    res.append(min_ind[0])\n",
        "    if start_ in list_of_ts_[r]:\n",
        "      del all_d[r][start_]\n",
        "      for w in all_d[r].keys():\n",
        "        del all_d[r][w][start_]\n",
        "    if r == 20:\n",
        "      break\n",
        "    if start_ in list_of_ts_[r+1]:\n",
        "      del all_d[r+1][start_]\n",
        "      for w in all_d[r+1].keys():\n",
        "        del all_d[r+1][w][start_]\n",
        "    if r == 20:\n",
        "      break\n",
        "\n",
        "    start_ = min_ind[0]\n",
        "  return res"
      ],
      "metadata": {
        "id": "rny8T5a0qFT5"
      },
      "execution_count": 22,
      "outputs": []
    },
    {
      "cell_type": "code",
      "source": [
        "\n",
        "new_list = dict()\n",
        "for v in range(len(list_of_timestamps)):\n",
        "  new_list[v] = list_of_timestamps[v]\n",
        "list_of_ts_ = new_list.copy()\n",
        "full_story = list()\n",
        "for ni in list_of_ts_[0]:\n",
        "  full_story.append(path_finder(ni, copy.deepcopy(Embed_dict)))\n",
        "\n",
        "for yu in full_story:\n",
        "  print(len(yu), yu)"
      ],
      "metadata": {
        "colab": {
          "base_uri": "https://localhost:8080/"
        },
        "id": "Etc_AiqaqGUW",
        "outputId": "68dbbecf-ead8-4ee0-b0e4-8224763f233d"
      },
      "execution_count": 23,
      "outputs": [
        {
          "output_type": "stream",
          "name": "stdout",
          "text": [
            "84 [50818, 685613, 503496, 127530, 590069, 101537, 596584, 666265, 690647, 552330, 582561, 729099, 516437, 644520, 518446, 627503, 623656, 707186, 546626, 518434, 551505, 654426, 533979, 676479, 611299, 769272, 729071, 510283, 23931, 571901, 678711, 670534, 746046, 513577, 581199, 556465, 671078, 596567, 50766, 650318, 630862, 51280, 50588, 504799, 505147, 509786, 683384, 524277, 587415, 732991, 715429, 702542, 23782, 743182, 696043, 647300, 684253, 735707, 734230, 51260, 568554, 731480, 717411, 24218, 79918, 98942, 51075, 640648, 565179, 737561, 581438, 600365, 589521, 613415, 607215, 569970, 495579, 775332, 621355, 535040, 775717, 772794, 24169, 140341]\n",
            "55 [623632, 598747, 601455, 222902, 599311, 693884, 508463, 566593, 590542, 512112, 642016, 568830, 183954, 160315, 588685, 187436, 553864, 624183, 550925, 639893, 666715, 98538, 699424, 744562, 509405, 674684, 502681, 650597, 707787, 675835, 23586, 550867, 139865, 139897, 95452, 648240, 51278, 51238, 566669, 719154, 773502, 685799, 600365, 589521, 613415, 607215, 569970, 495579, 775332, 621355, 535040, 775717, 772794, 24169, 140341]\n",
            "80 [522292, 101537, 596584, 666265, 690647, 552330, 582561, 729099, 516437, 644520, 518446, 627503, 623656, 707186, 546626, 518434, 551505, 654426, 533979, 676479, 611299, 769272, 729071, 510283, 23931, 571901, 678711, 670534, 746046, 513577, 581199, 556465, 671078, 596567, 50766, 650318, 630862, 51280, 50588, 504799, 505147, 509786, 683384, 524277, 587415, 732991, 715429, 702542, 23782, 743182, 696043, 647300, 684253, 735707, 734230, 51260, 568554, 731480, 717411, 24218, 79918, 98942, 51075, 640648, 565179, 737561, 581438, 600365, 589521, 613415, 607215, 569970, 495579, 775332, 621355, 535040, 775717, 772794, 24169, 140341]\n",
            "77 [681624, 688147, 50721, 50807, 496703, 179399, 691189, 737895, 564533, 690006, 518446, 627503, 623656, 729099, 516437, 644520, 551505, 518434, 546626, 745398, 770355, 772018, 524252, 544900, 725184, 696214, 670534, 678711, 636835, 671078, 596567, 50766, 650318, 630862, 51280, 50588, 504799, 505147, 509786, 683384, 524277, 587415, 732991, 715429, 702542, 23782, 743182, 696043, 647300, 684253, 735707, 734230, 51260, 568554, 731480, 717411, 24218, 79918, 98942, 51075, 640648, 565179, 737561, 581438, 600365, 589521, 613415, 607215, 569970, 495579, 775332, 621355, 535040, 775717, 772794, 24169, 140341]\n",
            "45 [682500, 618415, 183954, 160315, 588685, 187436, 553864, 624183, 550925, 639893, 666715, 98538, 699424, 744562, 509405, 674684, 502681, 650597, 707787, 675835, 23586, 550867, 139865, 139897, 95452, 648240, 51278, 51238, 566669, 719154, 773502, 685799, 600365, 589521, 613415, 607215, 569970, 495579, 775332, 621355, 535040, 775717, 772794, 24169, 140341]\n",
            "84 [610995, 685613, 503496, 127530, 590069, 101537, 596584, 666265, 690647, 552330, 582561, 729099, 516437, 644520, 518446, 627503, 623656, 707186, 546626, 518434, 551505, 654426, 533979, 676479, 611299, 769272, 729071, 510283, 23931, 571901, 678711, 670534, 746046, 513577, 581199, 556465, 671078, 596567, 50766, 650318, 630862, 51280, 50588, 504799, 505147, 509786, 683384, 524277, 587415, 732991, 715429, 702542, 23782, 743182, 696043, 647300, 684253, 735707, 734230, 51260, 568554, 731480, 717411, 24218, 79918, 98942, 51075, 640648, 565179, 737561, 581438, 600365, 589521, 613415, 607215, 569970, 495579, 775332, 621355, 535040, 775717, 772794, 24169, 140341]\n",
            "45 [768264, 23716, 23717, 508627, 747517, 669033, 643177, 573068, 595282, 639893, 666715, 98538, 699424, 744562, 509405, 674684, 502681, 650597, 707787, 675835, 23586, 550867, 139865, 139897, 95452, 648240, 51278, 51238, 566669, 719154, 773502, 685799, 600365, 589521, 613415, 607215, 569970, 495579, 775332, 621355, 535040, 775717, 772794, 24169, 140341]\n",
            "41 [72840, 57100, 181709, 550925, 624183, 553864, 666715, 98538, 699424, 744562, 509405, 674684, 502681, 650597, 707787, 675835, 23586, 550867, 139865, 139897, 95452, 648240, 51278, 51238, 566669, 719154, 773502, 685799, 600365, 589521, 613415, 607215, 569970, 495579, 775332, 621355, 535040, 775717, 772794, 24169, 140341]\n",
            "47 [588300, 153455, 630088, 112812, 96076, 376281, 588685, 187436, 553864, 624183, 550925, 639893, 666715, 98538, 699424, 744562, 509405, 674684, 502681, 650597, 707787, 675835, 23586, 550867, 139865, 139897, 95452, 648240, 51278, 51238, 566669, 719154, 773502, 685799, 600365, 589521, 613415, 607215, 569970, 495579, 775332, 621355, 535040, 775717, 772794, 24169, 140341]\n",
            "46 [624326, 542593, 677921, 503919, 508627, 747517, 669033, 643177, 573068, 595282, 639893, 666715, 98538, 699424, 744562, 509405, 674684, 502681, 650597, 707787, 675835, 23586, 550867, 139865, 139897, 95452, 648240, 51278, 51238, 566669, 719154, 773502, 685799, 600365, 589521, 613415, 607215, 569970, 495579, 775332, 621355, 535040, 775717, 772794, 24169, 140341]\n",
            "45 [521616, 579411, 24227, 747449, 772177, 610295, 50644, 24184, 502739, 513635, 23555, 186583, 755791, 705126, 407292, 571271, 171989, 51273, 592546, 755516, 708591, 568554, 731480, 717411, 24218, 79918, 98942, 51075, 640648, 565179, 737561, 581438, 600365, 589521, 613415, 607215, 569970, 495579, 775332, 621355, 535040, 775717, 772794, 24169, 140341]\n",
            "77 [775642, 596584, 101537, 175982, 533979, 654426, 729099, 516437, 644520, 518446, 627503, 623656, 707186, 546626, 518434, 551505, 702241, 611299, 769272, 729071, 510283, 23931, 571901, 678711, 670534, 746046, 513577, 581199, 556465, 671078, 596567, 50766, 650318, 630862, 51280, 50588, 504799, 505147, 509786, 683384, 524277, 587415, 732991, 715429, 702542, 23782, 743182, 696043, 647300, 684253, 735707, 734230, 51260, 568554, 731480, 717411, 24218, 79918, 98942, 51075, 640648, 565179, 737561, 581438, 600365, 589521, 613415, 607215, 569970, 495579, 775332, 621355, 535040, 775717, 772794, 24169, 140341]\n",
            "52 [640866, 599311, 693884, 508463, 566593, 590542, 512112, 642016, 568830, 183954, 160315, 588685, 187436, 553864, 624183, 550925, 639893, 666715, 98538, 699424, 744562, 509405, 674684, 502681, 650597, 707787, 675835, 23586, 550867, 139865, 139897, 95452, 648240, 51278, 51238, 566669, 719154, 773502, 685799, 600365, 589521, 613415, 607215, 569970, 495579, 775332, 621355, 535040, 775717, 772794, 24169, 140341]\n",
            "46 [767954, 24209, 112812, 96076, 376281, 588685, 187436, 553864, 624183, 550925, 639893, 666715, 98538, 699424, 744562, 509405, 674684, 502681, 650597, 707787, 675835, 23586, 550867, 139865, 139897, 95452, 648240, 51278, 51238, 566669, 719154, 773502, 685799, 600365, 589521, 613415, 607215, 569970, 495579, 775332, 621355, 535040, 775717, 772794, 24169, 140341]\n",
            "77 [411473, 70514, 632317, 23764, 496703, 179399, 691189, 737895, 564533, 690006, 518446, 627503, 623656, 729099, 516437, 644520, 551505, 518434, 546626, 745398, 770355, 772018, 524252, 544900, 725184, 696214, 670534, 678711, 636835, 671078, 596567, 50766, 650318, 630862, 51280, 50588, 504799, 505147, 509786, 683384, 524277, 587415, 732991, 715429, 702542, 23782, 743182, 696043, 647300, 684253, 735707, 734230, 51260, 568554, 731480, 717411, 24218, 79918, 98942, 51075, 640648, 565179, 737561, 581438, 600365, 589521, 613415, 607215, 569970, 495579, 775332, 621355, 535040, 775717, 772794, 24169, 140341]\n",
            "80 [702180, 101537, 596584, 666265, 690647, 552330, 582561, 729099, 516437, 644520, 518446, 627503, 623656, 707186, 546626, 518434, 551505, 654426, 533979, 676479, 611299, 769272, 729071, 510283, 23931, 571901, 678711, 670534, 746046, 513577, 581199, 556465, 671078, 596567, 50766, 650318, 630862, 51280, 50588, 504799, 505147, 509786, 683384, 524277, 587415, 732991, 715429, 702542, 23782, 743182, 696043, 647300, 684253, 735707, 734230, 51260, 568554, 731480, 717411, 24218, 79918, 98942, 51075, 640648, 565179, 737561, 581438, 600365, 589521, 613415, 607215, 569970, 495579, 775332, 621355, 535040, 775717, 772794, 24169, 140341]\n",
            "83 [62483, 503496, 127530, 590069, 101537, 596584, 666265, 690647, 552330, 582561, 729099, 516437, 644520, 518446, 627503, 623656, 707186, 546626, 518434, 551505, 654426, 533979, 676479, 611299, 769272, 729071, 510283, 23931, 571901, 678711, 670534, 746046, 513577, 581199, 556465, 671078, 596567, 50766, 650318, 630862, 51280, 50588, 504799, 505147, 509786, 683384, 524277, 587415, 732991, 715429, 702542, 23782, 743182, 696043, 647300, 684253, 735707, 734230, 51260, 568554, 731480, 717411, 24218, 79918, 98942, 51075, 640648, 565179, 737561, 581438, 600365, 589521, 613415, 607215, 569970, 495579, 775332, 621355, 535040, 775717, 772794, 24169, 140341]\n",
            "45 [543722, 112812, 96076, 376281, 588685, 187436, 553864, 624183, 550925, 639893, 666715, 98538, 699424, 744562, 509405, 674684, 502681, 650597, 707787, 675835, 23586, 550867, 139865, 139897, 95452, 648240, 51278, 51238, 566669, 719154, 773502, 685799, 600365, 589521, 613415, 607215, 569970, 495579, 775332, 621355, 535040, 775717, 772794, 24169, 140341]\n",
            "47 [500172, 50466, 510692, 367060, 412043, 376281, 588685, 187436, 553864, 624183, 550925, 639893, 666715, 98538, 699424, 744562, 509405, 674684, 502681, 650597, 707787, 675835, 23586, 550867, 139865, 139897, 95452, 648240, 51278, 51238, 566669, 719154, 773502, 685799, 600365, 589521, 613415, 607215, 569970, 495579, 775332, 621355, 535040, 775717, 772794, 24169, 140341]\n",
            "55 [24107, 115440, 125944, 728162, 599311, 693884, 508463, 566593, 590542, 512112, 642016, 568830, 183954, 160315, 588685, 187436, 553864, 624183, 550925, 639893, 666715, 98538, 699424, 744562, 509405, 674684, 502681, 650597, 707787, 675835, 23586, 550867, 139865, 139897, 95452, 648240, 51278, 51238, 566669, 719154, 773502, 685799, 600365, 589521, 613415, 607215, 569970, 495579, 775332, 621355, 535040, 775717, 772794, 24169, 140341]\n",
            "68 [689258, 771528, 723667, 23714, 98685, 24197, 757258, 586389, 611299, 769272, 729071, 510283, 23931, 571901, 678711, 670534, 746046, 513577, 581199, 556465, 671078, 596567, 50766, 650318, 630862, 51280, 50588, 504799, 505147, 509786, 683384, 524277, 587415, 732991, 715429, 702542, 23782, 743182, 696043, 647300, 684253, 735707, 734230, 51260, 568554, 731480, 717411, 24218, 79918, 98942, 51075, 640648, 565179, 737561, 581438, 600365, 589521, 613415, 607215, 569970, 495579, 775332, 621355, 535040, 775717, 772794, 24169, 140341]\n",
            "77 [764494, 690647, 552330, 582561, 729099, 516437, 644520, 518446, 627503, 623656, 707186, 546626, 518434, 551505, 654426, 533979, 676479, 611299, 769272, 729071, 510283, 23931, 571901, 678711, 670534, 746046, 513577, 581199, 556465, 671078, 596567, 50766, 650318, 630862, 51280, 50588, 504799, 505147, 509786, 683384, 524277, 587415, 732991, 715429, 702542, 23782, 743182, 696043, 647300, 684253, 735707, 734230, 51260, 568554, 731480, 717411, 24218, 79918, 98942, 51075, 640648, 565179, 737561, 581438, 600365, 589521, 613415, 607215, 569970, 495579, 775332, 621355, 535040, 775717, 772794, 24169, 140341]\n",
            "45 [630088, 112812, 96076, 376281, 588685, 187436, 553864, 624183, 550925, 639893, 666715, 98538, 699424, 744562, 509405, 674684, 502681, 650597, 707787, 675835, 23586, 550867, 139865, 139897, 95452, 648240, 51278, 51238, 566669, 719154, 773502, 685799, 600365, 589521, 613415, 607215, 569970, 495579, 775332, 621355, 535040, 775717, 772794, 24169, 140341]\n",
            "46 [61697, 542593, 677921, 503919, 508627, 747517, 669033, 643177, 573068, 595282, 639893, 666715, 98538, 699424, 744562, 509405, 674684, 502681, 650597, 707787, 675835, 23586, 550867, 139865, 139897, 95452, 648240, 51278, 51238, 566669, 719154, 773502, 685799, 600365, 589521, 613415, 607215, 569970, 495579, 775332, 621355, 535040, 775717, 772794, 24169, 140341]\n",
            "46 [543963, 543722, 112812, 96076, 376281, 588685, 187436, 553864, 624183, 550925, 639893, 666715, 98538, 699424, 744562, 509405, 674684, 502681, 650597, 707787, 675835, 23586, 550867, 139865, 139897, 95452, 648240, 51278, 51238, 566669, 719154, 773502, 685799, 600365, 589521, 613415, 607215, 569970, 495579, 775332, 621355, 535040, 775717, 772794, 24169, 140341]\n",
            "48 [688870, 24019, 204465, 542593, 677921, 503919, 508627, 747517, 669033, 643177, 573068, 595282, 639893, 666715, 98538, 699424, 744562, 509405, 674684, 502681, 650597, 707787, 675835, 23586, 550867, 139865, 139897, 95452, 648240, 51278, 51238, 566669, 719154, 773502, 685799, 600365, 589521, 613415, 607215, 569970, 495579, 775332, 621355, 535040, 775717, 772794, 24169, 140341]\n",
            "76 [70514, 632317, 23764, 496703, 179399, 691189, 737895, 564533, 690006, 518446, 627503, 623656, 729099, 516437, 644520, 551505, 518434, 546626, 745398, 770355, 772018, 524252, 544900, 725184, 696214, 670534, 678711, 636835, 671078, 596567, 50766, 650318, 630862, 51280, 50588, 504799, 505147, 509786, 683384, 524277, 587415, 732991, 715429, 702542, 23782, 743182, 696043, 647300, 684253, 735707, 734230, 51260, 568554, 731480, 717411, 24218, 79918, 98942, 51075, 640648, 565179, 737561, 581438, 600365, 589521, 613415, 607215, 569970, 495579, 775332, 621355, 535040, 775717, 772794, 24169, 140341]\n",
            "70 [546101, 578986, 551720, 749240, 109404, 667865, 768236, 99422, 197850, 182368, 611299, 769272, 729071, 510283, 23931, 571901, 678711, 670534, 746046, 513577, 581199, 556465, 671078, 596567, 50766, 650318, 630862, 51280, 50588, 504799, 505147, 509786, 683384, 524277, 587415, 732991, 715429, 702542, 23782, 743182, 696043, 647300, 684253, 735707, 734230, 51260, 568554, 731480, 717411, 24218, 79918, 98942, 51075, 640648, 565179, 737561, 581438, 600365, 589521, 613415, 607215, 569970, 495579, 775332, 621355, 535040, 775717, 772794, 24169, 140341]\n",
            "53 [51290, 217903, 671172, 518627, 508463, 566593, 590542, 512112, 642016, 568830, 183954, 160315, 588685, 187436, 553864, 624183, 550925, 639893, 666715, 98538, 699424, 744562, 509405, 674684, 502681, 650597, 707787, 675835, 23586, 550867, 139865, 139897, 95452, 648240, 51278, 51238, 566669, 719154, 773502, 685799, 600365, 589521, 613415, 607215, 569970, 495579, 775332, 621355, 535040, 775717, 772794, 24169, 140341]\n",
            "41 [520422, 57100, 181709, 550925, 624183, 553864, 666715, 98538, 699424, 744562, 509405, 674684, 502681, 650597, 707787, 675835, 23586, 550867, 139865, 139897, 95452, 648240, 51278, 51238, 566669, 719154, 773502, 685799, 600365, 589521, 613415, 607215, 569970, 495579, 775332, 621355, 535040, 775717, 772794, 24169, 140341]\n",
            "84 [716243, 547790, 543998, 95203, 50722, 101537, 596584, 666265, 690647, 552330, 582561, 729099, 516437, 644520, 518446, 627503, 623656, 707186, 546626, 518434, 551505, 654426, 533979, 676479, 611299, 769272, 729071, 510283, 23931, 571901, 678711, 670534, 746046, 513577, 581199, 556465, 671078, 596567, 50766, 650318, 630862, 51280, 50588, 504799, 505147, 509786, 683384, 524277, 587415, 732991, 715429, 702542, 23782, 743182, 696043, 647300, 684253, 735707, 734230, 51260, 568554, 731480, 717411, 24218, 79918, 98942, 51075, 640648, 565179, 737561, 581438, 600365, 589521, 613415, 607215, 569970, 495579, 775332, 621355, 535040, 775717, 772794, 24169, 140341]\n",
            "68 [588490, 122768, 215486, 667865, 768236, 99422, 197850, 182368, 611299, 769272, 729071, 510283, 23931, 571901, 678711, 670534, 746046, 513577, 581199, 556465, 671078, 596567, 50766, 650318, 630862, 51280, 50588, 504799, 505147, 509786, 683384, 524277, 587415, 732991, 715429, 702542, 23782, 743182, 696043, 647300, 684253, 735707, 734230, 51260, 568554, 731480, 717411, 24218, 79918, 98942, 51075, 640648, 565179, 737561, 581438, 600365, 589521, 613415, 607215, 569970, 495579, 775332, 621355, 535040, 775717, 772794, 24169, 140341]\n",
            "50 [135886, 646283, 566593, 590542, 512112, 642016, 568830, 183954, 160315, 588685, 187436, 553864, 624183, 550925, 639893, 666715, 98538, 699424, 744562, 509405, 674684, 502681, 650597, 707787, 675835, 23586, 550867, 139865, 139897, 95452, 648240, 51278, 51238, 566669, 719154, 773502, 685799, 600365, 589521, 613415, 607215, 569970, 495579, 775332, 621355, 535040, 775717, 772794, 24169, 140341]\n",
            "86 [687809, 657441, 491698, 770956, 564272, 127530, 590069, 101537, 596584, 666265, 690647, 552330, 582561, 729099, 516437, 644520, 518446, 627503, 623656, 707186, 546626, 518434, 551505, 654426, 533979, 676479, 611299, 769272, 729071, 510283, 23931, 571901, 678711, 670534, 746046, 513577, 581199, 556465, 671078, 596567, 50766, 650318, 630862, 51280, 50588, 504799, 505147, 509786, 683384, 524277, 587415, 732991, 715429, 702542, 23782, 743182, 696043, 647300, 684253, 735707, 734230, 51260, 568554, 731480, 717411, 24218, 79918, 98942, 51075, 640648, 565179, 737561, 581438, 600365, 589521, 613415, 607215, 569970, 495579, 775332, 621355, 535040, 775717, 772794, 24169, 140341]\n",
            "63 [743761, 559262, 586389, 611299, 769272, 729071, 510283, 23931, 571901, 678711, 670534, 746046, 513577, 581199, 556465, 671078, 596567, 50766, 650318, 630862, 51280, 50588, 504799, 505147, 509786, 683384, 524277, 587415, 732991, 715429, 702542, 23782, 743182, 696043, 647300, 684253, 735707, 734230, 51260, 568554, 731480, 717411, 24218, 79918, 98942, 51075, 640648, 565179, 737561, 581438, 600365, 589521, 613415, 607215, 569970, 495579, 775332, 621355, 535040, 775717, 772794, 24169, 140341]\n",
            "46 [94167, 678673, 112812, 96076, 376281, 588685, 187436, 553864, 624183, 550925, 639893, 666715, 98538, 699424, 744562, 509405, 674684, 502681, 650597, 707787, 675835, 23586, 550867, 139865, 139897, 95452, 648240, 51278, 51238, 566669, 719154, 773502, 685799, 600365, 589521, 613415, 607215, 569970, 495579, 775332, 621355, 535040, 775717, 772794, 24169, 140341]\n",
            "49 [24019, 688870, 618324, 624326, 542593, 677921, 503919, 508627, 747517, 669033, 643177, 573068, 595282, 639893, 666715, 98538, 699424, 744562, 509405, 674684, 502681, 650597, 707787, 675835, 23586, 550867, 139865, 139897, 95452, 648240, 51278, 51238, 566669, 719154, 773502, 685799, 600365, 589521, 613415, 607215, 569970, 495579, 775332, 621355, 535040, 775717, 772794, 24169, 140341]\n",
            "74 [567391, 496703, 179399, 691189, 737895, 564533, 690006, 518446, 627503, 623656, 729099, 516437, 644520, 551505, 518434, 546626, 745398, 770355, 772018, 524252, 544900, 725184, 696214, 670534, 678711, 636835, 671078, 596567, 50766, 650318, 630862, 51280, 50588, 504799, 505147, 509786, 683384, 524277, 587415, 732991, 715429, 702542, 23782, 743182, 696043, 647300, 684253, 735707, 734230, 51260, 568554, 731480, 717411, 24218, 79918, 98942, 51075, 640648, 565179, 737561, 581438, 600365, 589521, 613415, 607215, 569970, 495579, 775332, 621355, 535040, 775717, 772794, 24169, 140341]\n",
            "71 [759153, 96885, 491698, 657441, 771528, 723667, 23714, 98685, 24197, 757258, 586389, 611299, 769272, 729071, 510283, 23931, 571901, 678711, 670534, 746046, 513577, 581199, 556465, 671078, 596567, 50766, 650318, 630862, 51280, 50588, 504799, 505147, 509786, 683384, 524277, 587415, 732991, 715429, 702542, 23782, 743182, 696043, 647300, 684253, 735707, 734230, 51260, 568554, 731480, 717411, 24218, 79918, 98942, 51075, 640648, 565179, 737561, 581438, 600365, 589521, 613415, 607215, 569970, 495579, 775332, 621355, 535040, 775717, 772794, 24169, 140341]\n",
            "67 [644274, 51316, 667865, 768236, 99422, 197850, 182368, 611299, 769272, 729071, 510283, 23931, 571901, 678711, 670534, 746046, 513577, 581199, 556465, 671078, 596567, 50766, 650318, 630862, 51280, 50588, 504799, 505147, 509786, 683384, 524277, 587415, 732991, 715429, 702542, 23782, 743182, 696043, 647300, 684253, 735707, 734230, 51260, 568554, 731480, 717411, 24218, 79918, 98942, 51075, 640648, 565179, 737561, 581438, 600365, 589521, 613415, 607215, 569970, 495579, 775332, 621355, 535040, 775717, 772794, 24169, 140341]\n",
            "48 [511901, 223569, 204465, 542593, 677921, 503919, 508627, 747517, 669033, 643177, 573068, 595282, 639893, 666715, 98538, 699424, 744562, 509405, 674684, 502681, 650597, 707787, 675835, 23586, 550867, 139865, 139897, 95452, 648240, 51278, 51238, 566669, 719154, 773502, 685799, 600365, 589521, 613415, 607215, 569970, 495579, 775332, 621355, 535040, 775717, 772794, 24169, 140341]\n",
            "87 [667415, 109938, 657441, 491698, 770956, 564272, 127530, 590069, 101537, 596584, 666265, 690647, 552330, 582561, 729099, 516437, 644520, 518446, 627503, 623656, 707186, 546626, 518434, 551505, 654426, 533979, 676479, 611299, 769272, 729071, 510283, 23931, 571901, 678711, 670534, 746046, 513577, 581199, 556465, 671078, 596567, 50766, 650318, 630862, 51280, 50588, 504799, 505147, 509786, 683384, 524277, 587415, 732991, 715429, 702542, 23782, 743182, 696043, 647300, 684253, 735707, 734230, 51260, 568554, 731480, 717411, 24218, 79918, 98942, 51075, 640648, 565179, 737561, 581438, 600365, 589521, 613415, 607215, 569970, 495579, 775332, 621355, 535040, 775717, 772794, 24169, 140341]\n",
            "65 [54055, 107301, 589502, 726138, 586389, 611299, 769272, 729071, 510283, 23931, 571901, 678711, 670534, 746046, 513577, 581199, 556465, 671078, 596567, 50766, 650318, 630862, 51280, 50588, 504799, 505147, 509786, 683384, 524277, 587415, 732991, 715429, 702542, 23782, 743182, 696043, 647300, 684253, 735707, 734230, 51260, 568554, 731480, 717411, 24218, 79918, 98942, 51075, 640648, 565179, 737561, 581438, 600365, 589521, 613415, 607215, 569970, 495579, 775332, 621355, 535040, 775717, 772794, 24169, 140341]\n",
            "46 [76586, 24209, 112812, 96076, 376281, 588685, 187436, 553864, 624183, 550925, 639893, 666715, 98538, 699424, 744562, 509405, 674684, 502681, 650597, 707787, 675835, 23586, 550867, 139865, 139897, 95452, 648240, 51278, 51238, 566669, 719154, 773502, 685799, 600365, 589521, 613415, 607215, 569970, 495579, 775332, 621355, 535040, 775717, 772794, 24169, 140341]\n",
            "52 [765753, 653246, 698377, 566031, 566593, 590542, 512112, 642016, 568830, 183954, 160315, 588685, 187436, 553864, 624183, 550925, 639893, 666715, 98538, 699424, 744562, 509405, 674684, 502681, 650597, 707787, 675835, 23586, 550867, 139865, 139897, 95452, 648240, 51278, 51238, 566669, 719154, 773502, 685799, 600365, 589521, 613415, 607215, 569970, 495579, 775332, 621355, 535040, 775717, 772794, 24169, 140341]\n",
            "65 [557840, 768236, 99422, 197850, 182368, 611299, 769272, 729071, 510283, 23931, 571901, 678711, 670534, 746046, 513577, 581199, 556465, 671078, 596567, 50766, 650318, 630862, 51280, 50588, 504799, 505147, 509786, 683384, 524277, 587415, 732991, 715429, 702542, 23782, 743182, 696043, 647300, 684253, 735707, 734230, 51260, 568554, 731480, 717411, 24218, 79918, 98942, 51075, 640648, 565179, 737561, 581438, 600365, 589521, 613415, 607215, 569970, 495579, 775332, 621355, 535040, 775717, 772794, 24169, 140341]\n",
            "48 [647907, 223569, 204465, 542593, 677921, 503919, 508627, 747517, 669033, 643177, 573068, 595282, 639893, 666715, 98538, 699424, 744562, 509405, 674684, 502681, 650597, 707787, 675835, 23586, 550867, 139865, 139897, 95452, 648240, 51278, 51238, 566669, 719154, 773502, 685799, 600365, 589521, 613415, 607215, 569970, 495579, 775332, 621355, 535040, 775717, 772794, 24169, 140341]\n",
            "63 [519964, 650042, 184681, 611299, 769272, 729071, 510283, 23931, 571901, 678711, 670534, 746046, 513577, 581199, 556465, 671078, 596567, 50766, 650318, 630862, 51280, 50588, 504799, 505147, 509786, 683384, 524277, 587415, 732991, 715429, 702542, 23782, 743182, 696043, 647300, 684253, 735707, 734230, 51260, 568554, 731480, 717411, 24218, 79918, 98942, 51075, 640648, 565179, 737561, 581438, 600365, 589521, 613415, 607215, 569970, 495579, 775332, 621355, 535040, 775717, 772794, 24169, 140341]\n",
            "57 [50795, 771916, 720966, 598747, 601455, 222902, 599311, 693884, 508463, 566593, 590542, 512112, 642016, 568830, 183954, 160315, 588685, 187436, 553864, 624183, 550925, 639893, 666715, 98538, 699424, 744562, 509405, 674684, 502681, 650597, 707787, 675835, 23586, 550867, 139865, 139897, 95452, 648240, 51278, 51238, 566669, 719154, 773502, 685799, 600365, 589521, 613415, 607215, 569970, 495579, 775332, 621355, 535040, 775717, 772794, 24169, 140341]\n",
            "78 [668416, 497356, 690647, 552330, 582561, 729099, 516437, 644520, 518446, 627503, 623656, 707186, 546626, 518434, 551505, 654426, 533979, 676479, 611299, 769272, 729071, 510283, 23931, 571901, 678711, 670534, 746046, 513577, 581199, 556465, 671078, 596567, 50766, 650318, 630862, 51280, 50588, 504799, 505147, 509786, 683384, 524277, 587415, 732991, 715429, 702542, 23782, 743182, 696043, 647300, 684253, 735707, 734230, 51260, 568554, 731480, 717411, 24218, 79918, 98942, 51075, 640648, 565179, 737561, 581438, 600365, 589521, 613415, 607215, 569970, 495579, 775332, 621355, 535040, 775717, 772794, 24169, 140341]\n",
            "69 [707772, 551720, 749240, 109404, 667865, 768236, 99422, 197850, 182368, 611299, 769272, 729071, 510283, 23931, 571901, 678711, 670534, 746046, 513577, 581199, 556465, 671078, 596567, 50766, 650318, 630862, 51280, 50588, 504799, 505147, 509786, 683384, 524277, 587415, 732991, 715429, 702542, 23782, 743182, 696043, 647300, 684253, 735707, 734230, 51260, 568554, 731480, 717411, 24218, 79918, 98942, 51075, 640648, 565179, 737561, 581438, 600365, 589521, 613415, 607215, 569970, 495579, 775332, 621355, 535040, 775717, 772794, 24169, 140341]\n",
            "86 [109938, 657441, 491698, 770956, 564272, 127530, 590069, 101537, 596584, 666265, 690647, 552330, 582561, 729099, 516437, 644520, 518446, 627503, 623656, 707186, 546626, 518434, 551505, 654426, 533979, 676479, 611299, 769272, 729071, 510283, 23931, 571901, 678711, 670534, 746046, 513577, 581199, 556465, 671078, 596567, 50766, 650318, 630862, 51280, 50588, 504799, 505147, 509786, 683384, 524277, 587415, 732991, 715429, 702542, 23782, 743182, 696043, 647300, 684253, 735707, 734230, 51260, 568554, 731480, 717411, 24218, 79918, 98942, 51075, 640648, 565179, 737561, 581438, 600365, 589521, 613415, 607215, 569970, 495579, 775332, 621355, 535040, 775717, 772794, 24169, 140341]\n",
            "71 [760047, 96885, 491698, 657441, 771528, 723667, 23714, 98685, 24197, 757258, 586389, 611299, 769272, 729071, 510283, 23931, 571901, 678711, 670534, 746046, 513577, 581199, 556465, 671078, 596567, 50766, 650318, 630862, 51280, 50588, 504799, 505147, 509786, 683384, 524277, 587415, 732991, 715429, 702542, 23782, 743182, 696043, 647300, 684253, 735707, 734230, 51260, 568554, 731480, 717411, 24218, 79918, 98942, 51075, 640648, 565179, 737561, 581438, 600365, 589521, 613415, 607215, 569970, 495579, 775332, 621355, 535040, 775717, 772794, 24169, 140341]\n",
            "85 [507522, 709707, 552724, 511930, 494969, 509569, 101537, 596584, 666265, 690647, 552330, 582561, 729099, 516437, 644520, 518446, 627503, 623656, 707186, 546626, 518434, 551505, 654426, 533979, 676479, 611299, 769272, 729071, 510283, 23931, 571901, 678711, 670534, 746046, 513577, 581199, 556465, 671078, 596567, 50766, 650318, 630862, 51280, 50588, 504799, 505147, 509786, 683384, 524277, 587415, 732991, 715429, 702542, 23782, 743182, 696043, 647300, 684253, 735707, 734230, 51260, 568554, 731480, 717411, 24218, 79918, 98942, 51075, 640648, 565179, 737561, 581438, 600365, 589521, 613415, 607215, 569970, 495579, 775332, 621355, 535040, 775717, 772794, 24169, 140341]\n",
            "47 [50798, 716470, 687418, 112812, 96076, 376281, 588685, 187436, 553864, 624183, 550925, 639893, 666715, 98538, 699424, 744562, 509405, 674684, 502681, 650597, 707787, 675835, 23586, 550867, 139865, 139897, 95452, 648240, 51278, 51238, 566669, 719154, 773502, 685799, 600365, 589521, 613415, 607215, 569970, 495579, 775332, 621355, 535040, 775717, 772794, 24169, 140341]\n",
            "48 [110840, 72430, 50466, 510692, 367060, 412043, 376281, 588685, 187436, 553864, 624183, 550925, 639893, 666715, 98538, 699424, 744562, 509405, 674684, 502681, 650597, 707787, 675835, 23586, 550867, 139865, 139897, 95452, 648240, 51278, 51238, 566669, 719154, 773502, 685799, 600365, 589521, 613415, 607215, 569970, 495579, 775332, 621355, 535040, 775717, 772794, 24169, 140341]\n",
            "84 [541540, 685613, 503496, 127530, 590069, 101537, 596584, 666265, 690647, 552330, 582561, 729099, 516437, 644520, 518446, 627503, 623656, 707186, 546626, 518434, 551505, 654426, 533979, 676479, 611299, 769272, 729071, 510283, 23931, 571901, 678711, 670534, 746046, 513577, 581199, 556465, 671078, 596567, 50766, 650318, 630862, 51280, 50588, 504799, 505147, 509786, 683384, 524277, 587415, 732991, 715429, 702542, 23782, 743182, 696043, 647300, 684253, 735707, 734230, 51260, 568554, 731480, 717411, 24218, 79918, 98942, 51075, 640648, 565179, 737561, 581438, 600365, 589521, 613415, 607215, 569970, 495579, 775332, 621355, 535040, 775717, 772794, 24169, 140341]\n",
            "50 [50797, 96076, 112812, 24250, 50466, 510692, 367060, 412043, 376281, 588685, 187436, 553864, 624183, 550925, 639893, 666715, 98538, 699424, 744562, 509405, 674684, 502681, 650597, 707787, 675835, 23586, 550867, 139865, 139897, 95452, 648240, 51278, 51238, 566669, 719154, 773502, 685799, 600365, 589521, 613415, 607215, 569970, 495579, 775332, 621355, 535040, 775717, 772794, 24169, 140341]\n",
            "64 [504567, 539931, 613298, 586389, 611299, 769272, 729071, 510283, 23931, 571901, 678711, 670534, 746046, 513577, 581199, 556465, 671078, 596567, 50766, 650318, 630862, 51280, 50588, 504799, 505147, 509786, 683384, 524277, 587415, 732991, 715429, 702542, 23782, 743182, 696043, 647300, 684253, 735707, 734230, 51260, 568554, 731480, 717411, 24218, 79918, 98942, 51075, 640648, 565179, 737561, 581438, 600365, 589521, 613415, 607215, 569970, 495579, 775332, 621355, 535040, 775717, 772794, 24169, 140341]\n",
            "75 [704365, 211889, 496703, 179399, 691189, 737895, 564533, 690006, 518446, 627503, 623656, 729099, 516437, 644520, 551505, 518434, 546626, 745398, 770355, 772018, 524252, 544900, 725184, 696214, 670534, 678711, 636835, 671078, 596567, 50766, 650318, 630862, 51280, 50588, 504799, 505147, 509786, 683384, 524277, 587415, 732991, 715429, 702542, 23782, 743182, 696043, 647300, 684253, 735707, 734230, 51260, 568554, 731480, 717411, 24218, 79918, 98942, 51075, 640648, 565179, 737561, 581438, 600365, 589521, 613415, 607215, 569970, 495579, 775332, 621355, 535040, 775717, 772794, 24169, 140341]\n",
            "42 [639153, 190292, 512112, 590542, 566593, 764882, 639893, 666715, 98538, 699424, 744562, 509405, 674684, 502681, 650597, 707787, 675835, 23586, 550867, 139865, 139897, 95452, 648240, 51278, 51238, 566669, 719154, 773502, 685799, 600365, 589521, 613415, 607215, 569970, 495579, 775332, 621355, 535040, 775717, 772794, 24169, 140341]\n",
            "66 [638813, 689444, 107301, 589502, 726138, 586389, 611299, 769272, 729071, 510283, 23931, 571901, 678711, 670534, 746046, 513577, 581199, 556465, 671078, 596567, 50766, 650318, 630862, 51280, 50588, 504799, 505147, 509786, 683384, 524277, 587415, 732991, 715429, 702542, 23782, 743182, 696043, 647300, 684253, 735707, 734230, 51260, 568554, 731480, 717411, 24218, 79918, 98942, 51075, 640648, 565179, 737561, 581438, 600365, 589521, 613415, 607215, 569970, 495579, 775332, 621355, 535040, 775717, 772794, 24169, 140341]\n",
            "45 [629395, 591715, 183954, 160315, 588685, 187436, 553864, 624183, 550925, 639893, 666715, 98538, 699424, 744562, 509405, 674684, 502681, 650597, 707787, 675835, 23586, 550867, 139865, 139897, 95452, 648240, 51278, 51238, 566669, 719154, 773502, 685799, 600365, 589521, 613415, 607215, 569970, 495579, 775332, 621355, 535040, 775717, 772794, 24169, 140341]\n",
            "51 [545225, 693884, 508463, 566593, 590542, 512112, 642016, 568830, 183954, 160315, 588685, 187436, 553864, 624183, 550925, 639893, 666715, 98538, 699424, 744562, 509405, 674684, 502681, 650597, 707787, 675835, 23586, 550867, 139865, 139897, 95452, 648240, 51278, 51238, 566669, 719154, 773502, 685799, 600365, 589521, 613415, 607215, 569970, 495579, 775332, 621355, 535040, 775717, 772794, 24169, 140341]\n",
            "50 [544196, 566031, 566593, 590542, 512112, 642016, 568830, 183954, 160315, 588685, 187436, 553864, 624183, 550925, 639893, 666715, 98538, 699424, 744562, 509405, 674684, 502681, 650597, 707787, 675835, 23586, 550867, 139865, 139897, 95452, 648240, 51278, 51238, 566669, 719154, 773502, 685799, 600365, 589521, 613415, 607215, 569970, 495579, 775332, 621355, 535040, 775717, 772794, 24169, 140341]\n",
            "72 [777178, 564272, 770956, 491698, 657441, 771528, 723667, 23714, 98685, 24197, 757258, 586389, 611299, 769272, 729071, 510283, 23931, 571901, 678711, 670534, 746046, 513577, 581199, 556465, 671078, 596567, 50766, 650318, 630862, 51280, 50588, 504799, 505147, 509786, 683384, 524277, 587415, 732991, 715429, 702542, 23782, 743182, 696043, 647300, 684253, 735707, 734230, 51260, 568554, 731480, 717411, 24218, 79918, 98942, 51075, 640648, 565179, 737561, 581438, 600365, 589521, 613415, 607215, 569970, 495579, 775332, 621355, 535040, 775717, 772794, 24169, 140341]\n",
            "51 [126837, 531968, 566031, 566593, 590542, 512112, 642016, 568830, 183954, 160315, 588685, 187436, 553864, 624183, 550925, 639893, 666715, 98538, 699424, 744562, 509405, 674684, 502681, 650597, 707787, 675835, 23586, 550867, 139865, 139897, 95452, 648240, 51278, 51238, 566669, 719154, 773502, 685799, 600365, 589521, 613415, 607215, 569970, 495579, 775332, 621355, 535040, 775717, 772794, 24169, 140341]\n",
            "49 [618324, 688870, 24019, 204465, 542593, 677921, 503919, 508627, 747517, 669033, 643177, 573068, 595282, 639893, 666715, 98538, 699424, 744562, 509405, 674684, 502681, 650597, 707787, 675835, 23586, 550867, 139865, 139897, 95452, 648240, 51278, 51238, 566669, 719154, 773502, 685799, 600365, 589521, 613415, 607215, 569970, 495579, 775332, 621355, 535040, 775717, 772794, 24169, 140341]\n",
            "45 [624442, 23717, 23716, 508627, 747517, 669033, 643177, 573068, 595282, 639893, 666715, 98538, 699424, 744562, 509405, 674684, 502681, 650597, 707787, 675835, 23586, 550867, 139865, 139897, 95452, 648240, 51278, 51238, 566669, 719154, 773502, 685799, 600365, 589521, 613415, 607215, 569970, 495579, 775332, 621355, 535040, 775717, 772794, 24169, 140341]\n",
            "41 [190292, 512112, 590542, 566593, 764882, 639893, 666715, 98538, 699424, 744562, 509405, 674684, 502681, 650597, 707787, 675835, 23586, 550867, 139865, 139897, 95452, 648240, 51278, 51238, 566669, 719154, 773502, 685799, 600365, 589521, 613415, 607215, 569970, 495579, 775332, 621355, 535040, 775717, 772794, 24169, 140341]\n",
            "55 [552633, 598747, 601455, 222902, 599311, 693884, 508463, 566593, 590542, 512112, 642016, 568830, 183954, 160315, 588685, 187436, 553864, 624183, 550925, 639893, 666715, 98538, 699424, 744562, 509405, 674684, 502681, 650597, 707787, 675835, 23586, 550867, 139865, 139897, 95452, 648240, 51278, 51238, 566669, 719154, 773502, 685799, 600365, 589521, 613415, 607215, 569970, 495579, 775332, 621355, 535040, 775717, 772794, 24169, 140341]\n",
            "74 [686852, 496703, 179399, 691189, 737895, 564533, 690006, 518446, 627503, 623656, 729099, 516437, 644520, 551505, 518434, 546626, 745398, 770355, 772018, 524252, 544900, 725184, 696214, 670534, 678711, 636835, 671078, 596567, 50766, 650318, 630862, 51280, 50588, 504799, 505147, 509786, 683384, 524277, 587415, 732991, 715429, 702542, 23782, 743182, 696043, 647300, 684253, 735707, 734230, 51260, 568554, 731480, 717411, 24218, 79918, 98942, 51075, 640648, 565179, 737561, 581438, 600365, 589521, 613415, 607215, 569970, 495579, 775332, 621355, 535040, 775717, 772794, 24169, 140341]\n",
            "70 [578986, 546101, 551720, 749240, 109404, 667865, 768236, 99422, 197850, 182368, 611299, 769272, 729071, 510283, 23931, 571901, 678711, 670534, 746046, 513577, 581199, 556465, 671078, 596567, 50766, 650318, 630862, 51280, 50588, 504799, 505147, 509786, 683384, 524277, 587415, 732991, 715429, 702542, 23782, 743182, 696043, 647300, 684253, 735707, 734230, 51260, 568554, 731480, 717411, 24218, 79918, 98942, 51075, 640648, 565179, 737561, 581438, 600365, 589521, 613415, 607215, 569970, 495579, 775332, 621355, 535040, 775717, 772794, 24169, 140341]\n",
            "42 [703004, 190292, 512112, 590542, 566593, 764882, 639893, 666715, 98538, 699424, 744562, 509405, 674684, 502681, 650597, 707787, 675835, 23586, 550867, 139865, 139897, 95452, 648240, 51278, 51238, 566669, 719154, 773502, 685799, 600365, 589521, 613415, 607215, 569970, 495579, 775332, 621355, 535040, 775717, 772794, 24169, 140341]\n",
            "80 [643424, 101537, 596584, 666265, 690647, 552330, 582561, 729099, 516437, 644520, 518446, 627503, 623656, 707186, 546626, 518434, 551505, 654426, 533979, 676479, 611299, 769272, 729071, 510283, 23931, 571901, 678711, 670534, 746046, 513577, 581199, 556465, 671078, 596567, 50766, 650318, 630862, 51280, 50588, 504799, 505147, 509786, 683384, 524277, 587415, 732991, 715429, 702542, 23782, 743182, 696043, 647300, 684253, 735707, 734230, 51260, 568554, 731480, 717411, 24218, 79918, 98942, 51075, 640648, 565179, 737561, 581438, 600365, 589521, 613415, 607215, 569970, 495579, 775332, 621355, 535040, 775717, 772794, 24169, 140341]\n",
            "47 [72430, 50466, 510692, 367060, 412043, 376281, 588685, 187436, 553864, 624183, 550925, 639893, 666715, 98538, 699424, 744562, 509405, 674684, 502681, 650597, 707787, 675835, 23586, 550867, 139865, 139897, 95452, 648240, 51278, 51238, 566669, 719154, 773502, 685799, 600365, 589521, 613415, 607215, 569970, 495579, 775332, 621355, 535040, 775717, 772794, 24169, 140341]\n",
            "85 [733155, 716243, 547790, 543998, 95203, 50722, 101537, 596584, 666265, 690647, 552330, 582561, 729099, 516437, 644520, 518446, 627503, 623656, 707186, 546626, 518434, 551505, 654426, 533979, 676479, 611299, 769272, 729071, 510283, 23931, 571901, 678711, 670534, 746046, 513577, 581199, 556465, 671078, 596567, 50766, 650318, 630862, 51280, 50588, 504799, 505147, 509786, 683384, 524277, 587415, 732991, 715429, 702542, 23782, 743182, 696043, 647300, 684253, 735707, 734230, 51260, 568554, 731480, 717411, 24218, 79918, 98942, 51075, 640648, 565179, 737561, 581438, 600365, 589521, 613415, 607215, 569970, 495579, 775332, 621355, 535040, 775717, 772794, 24169, 140341]\n",
            "55 [747846, 197850, 768236, 99422, 667865, 51316, 705503, 589502, 107301, 204465, 542593, 677921, 503919, 508627, 747517, 669033, 643177, 573068, 595282, 639893, 666715, 98538, 699424, 744562, 509405, 674684, 502681, 650597, 707787, 675835, 23586, 550867, 139865, 139897, 95452, 648240, 51278, 51238, 566669, 719154, 773502, 685799, 600365, 589521, 613415, 607215, 569970, 495579, 775332, 621355, 535040, 775717, 772794, 24169, 140341]\n",
            "45 [686498, 568830, 183954, 160315, 588685, 187436, 553864, 624183, 550925, 639893, 666715, 98538, 699424, 744562, 509405, 674684, 502681, 650597, 707787, 675835, 23586, 550867, 139865, 139897, 95452, 648240, 51278, 51238, 566669, 719154, 773502, 685799, 600365, 589521, 613415, 607215, 569970, 495579, 775332, 621355, 535040, 775717, 772794, 24169, 140341]\n",
            "53 [618792, 658492, 671172, 518627, 508463, 566593, 590542, 512112, 642016, 568830, 183954, 160315, 588685, 187436, 553864, 624183, 550925, 639893, 666715, 98538, 699424, 744562, 509405, 674684, 502681, 650597, 707787, 675835, 23586, 550867, 139865, 139897, 95452, 648240, 51278, 51238, 566669, 719154, 773502, 685799, 600365, 589521, 613415, 607215, 569970, 495579, 775332, 621355, 535040, 775717, 772794, 24169, 140341]\n",
            "65 [569940, 504567, 539931, 613298, 586389, 611299, 769272, 729071, 510283, 23931, 571901, 678711, 670534, 746046, 513577, 581199, 556465, 671078, 596567, 50766, 650318, 630862, 51280, 50588, 504799, 505147, 509786, 683384, 524277, 587415, 732991, 715429, 702542, 23782, 743182, 696043, 647300, 684253, 735707, 734230, 51260, 568554, 731480, 717411, 24218, 79918, 98942, 51075, 640648, 565179, 737561, 581438, 600365, 589521, 613415, 607215, 569970, 495579, 775332, 621355, 535040, 775717, 772794, 24169, 140341]\n",
            "42 [625265, 629193, 199929, 590542, 566593, 764882, 639893, 666715, 98538, 699424, 744562, 509405, 674684, 502681, 650597, 707787, 675835, 23586, 550867, 139865, 139897, 95452, 648240, 51278, 51238, 566669, 719154, 773502, 685799, 600365, 589521, 613415, 607215, 569970, 495579, 775332, 621355, 535040, 775717, 772794, 24169, 140341]\n",
            "88 [533831, 723667, 771528, 657441, 491698, 770956, 564272, 127530, 590069, 101537, 596584, 666265, 690647, 552330, 582561, 729099, 516437, 644520, 518446, 627503, 623656, 707186, 546626, 518434, 551505, 654426, 533979, 676479, 611299, 769272, 729071, 510283, 23931, 571901, 678711, 670534, 746046, 513577, 581199, 556465, 671078, 596567, 50766, 650318, 630862, 51280, 50588, 504799, 505147, 509786, 683384, 524277, 587415, 732991, 715429, 702542, 23782, 743182, 696043, 647300, 684253, 735707, 734230, 51260, 568554, 731480, 717411, 24218, 79918, 98942, 51075, 640648, 565179, 737561, 581438, 600365, 589521, 613415, 607215, 569970, 495579, 775332, 621355, 535040, 775717, 772794, 24169, 140341]\n",
            "55 [596332, 520960, 601455, 222902, 599311, 693884, 508463, 566593, 590542, 512112, 642016, 568830, 183954, 160315, 588685, 187436, 553864, 624183, 550925, 639893, 666715, 98538, 699424, 744562, 509405, 674684, 502681, 650597, 707787, 675835, 23586, 550867, 139865, 139897, 95452, 648240, 51278, 51238, 566669, 719154, 773502, 685799, 600365, 589521, 613415, 607215, 569970, 495579, 775332, 621355, 535040, 775717, 772794, 24169, 140341]\n",
            "42 [707080, 767082, 512112, 590542, 566593, 764882, 639893, 666715, 98538, 699424, 744562, 509405, 674684, 502681, 650597, 707787, 675835, 23586, 550867, 139865, 139897, 95452, 648240, 51278, 51238, 566669, 719154, 773502, 685799, 600365, 589521, 613415, 607215, 569970, 495579, 775332, 621355, 535040, 775717, 772794, 24169, 140341]\n",
            "49 [509568, 688870, 24019, 204465, 542593, 677921, 503919, 508627, 747517, 669033, 643177, 573068, 595282, 639893, 666715, 98538, 699424, 744562, 509405, 674684, 502681, 650597, 707787, 675835, 23586, 550867, 139865, 139897, 95452, 648240, 51278, 51238, 566669, 719154, 773502, 685799, 600365, 589521, 613415, 607215, 569970, 495579, 775332, 621355, 535040, 775717, 772794, 24169, 140341]\n",
            "70 [96885, 491698, 657441, 771528, 723667, 23714, 98685, 24197, 757258, 586389, 611299, 769272, 729071, 510283, 23931, 571901, 678711, 670534, 746046, 513577, 581199, 556465, 671078, 596567, 50766, 650318, 630862, 51280, 50588, 504799, 505147, 509786, 683384, 524277, 587415, 732991, 715429, 702542, 23782, 743182, 696043, 647300, 684253, 735707, 734230, 51260, 568554, 731480, 717411, 24218, 79918, 98942, 51075, 640648, 565179, 737561, 581438, 600365, 589521, 613415, 607215, 569970, 495579, 775332, 621355, 535040, 775717, 772794, 24169, 140341]\n",
            "50 [694873, 508463, 566593, 590542, 512112, 642016, 568830, 183954, 160315, 588685, 187436, 553864, 624183, 550925, 639893, 666715, 98538, 699424, 744562, 509405, 674684, 502681, 650597, 707787, 675835, 23586, 550867, 139865, 139897, 95452, 648240, 51278, 51238, 566669, 719154, 773502, 685799, 600365, 589521, 613415, 607215, 569970, 495579, 775332, 621355, 535040, 775717, 772794, 24169, 140341]\n",
            "86 [671509, 657441, 491698, 770956, 564272, 127530, 590069, 101537, 596584, 666265, 690647, 552330, 582561, 729099, 516437, 644520, 518446, 627503, 623656, 707186, 546626, 518434, 551505, 654426, 533979, 676479, 611299, 769272, 729071, 510283, 23931, 571901, 678711, 670534, 746046, 513577, 581199, 556465, 671078, 596567, 50766, 650318, 630862, 51280, 50588, 504799, 505147, 509786, 683384, 524277, 587415, 732991, 715429, 702542, 23782, 743182, 696043, 647300, 684253, 735707, 734230, 51260, 568554, 731480, 717411, 24218, 79918, 98942, 51075, 640648, 565179, 737561, 581438, 600365, 589521, 613415, 607215, 569970, 495579, 775332, 621355, 535040, 775717, 772794, 24169, 140341]\n",
            "83 [685613, 503496, 127530, 590069, 101537, 596584, 666265, 690647, 552330, 582561, 729099, 516437, 644520, 518446, 627503, 623656, 707186, 546626, 518434, 551505, 654426, 533979, 676479, 611299, 769272, 729071, 510283, 23931, 571901, 678711, 670534, 746046, 513577, 581199, 556465, 671078, 596567, 50766, 650318, 630862, 51280, 50588, 504799, 505147, 509786, 683384, 524277, 587415, 732991, 715429, 702542, 23782, 743182, 696043, 647300, 684253, 735707, 734230, 51260, 568554, 731480, 717411, 24218, 79918, 98942, 51075, 640648, 565179, 737561, 581438, 600365, 589521, 613415, 607215, 569970, 495579, 775332, 621355, 535040, 775717, 772794, 24169, 140341]\n",
            "42 [714247, 767082, 512112, 590542, 566593, 764882, 639893, 666715, 98538, 699424, 744562, 509405, 674684, 502681, 650597, 707787, 675835, 23586, 550867, 139865, 139897, 95452, 648240, 51278, 51238, 566669, 719154, 773502, 685799, 600365, 589521, 613415, 607215, 569970, 495579, 775332, 621355, 535040, 775717, 772794, 24169, 140341]\n",
            "44 [608139, 575857, 376281, 588685, 187436, 553864, 624183, 550925, 639893, 666715, 98538, 699424, 744562, 509405, 674684, 502681, 650597, 707787, 675835, 23586, 550867, 139865, 139897, 95452, 648240, 51278, 51238, 566669, 719154, 773502, 685799, 600365, 589521, 613415, 607215, 569970, 495579, 775332, 621355, 535040, 775717, 772794, 24169, 140341]\n",
            "68 [551720, 749240, 109404, 667865, 768236, 99422, 197850, 182368, 611299, 769272, 729071, 510283, 23931, 571901, 678711, 670534, 746046, 513577, 581199, 556465, 671078, 596567, 50766, 650318, 630862, 51280, 50588, 504799, 505147, 509786, 683384, 524277, 587415, 732991, 715429, 702542, 23782, 743182, 696043, 647300, 684253, 735707, 734230, 51260, 568554, 731480, 717411, 24218, 79918, 98942, 51075, 640648, 565179, 737561, 581438, 600365, 589521, 613415, 607215, 569970, 495579, 775332, 621355, 535040, 775717, 772794, 24169, 140341]\n",
            "66 [597561, 751346, 677921, 542593, 204465, 586389, 611299, 769272, 729071, 510283, 23931, 571901, 678711, 670534, 746046, 513577, 581199, 556465, 671078, 596567, 50766, 650318, 630862, 51280, 50588, 504799, 505147, 509786, 683384, 524277, 587415, 732991, 715429, 702542, 23782, 743182, 696043, 647300, 684253, 735707, 734230, 51260, 568554, 731480, 717411, 24218, 79918, 98942, 51075, 640648, 565179, 737561, 581438, 600365, 589521, 613415, 607215, 569970, 495579, 775332, 621355, 535040, 775717, 772794, 24169, 140341]\n",
            "48 [633935, 494084, 465996, 24209, 112812, 96076, 376281, 588685, 187436, 553864, 624183, 550925, 639893, 666715, 98538, 699424, 744562, 509405, 674684, 502681, 650597, 707787, 675835, 23586, 550867, 139865, 139897, 95452, 648240, 51278, 51238, 566669, 719154, 773502, 685799, 600365, 589521, 613415, 607215, 569970, 495579, 775332, 621355, 535040, 775717, 772794, 24169, 140341]\n",
            "43 [639171, 661303, 199929, 629193, 590542, 566593, 764882, 639893, 666715, 98538, 699424, 744562, 509405, 674684, 502681, 650597, 707787, 675835, 23586, 550867, 139865, 139897, 95452, 648240, 51278, 51238, 566669, 719154, 773502, 685799, 600365, 589521, 613415, 607215, 569970, 495579, 775332, 621355, 535040, 775717, 772794, 24169, 140341]\n",
            "77 [111880, 690647, 552330, 582561, 729099, 516437, 644520, 518446, 627503, 623656, 707186, 546626, 518434, 551505, 654426, 533979, 676479, 611299, 769272, 729071, 510283, 23931, 571901, 678711, 670534, 746046, 513577, 581199, 556465, 671078, 596567, 50766, 650318, 630862, 51280, 50588, 504799, 505147, 509786, 683384, 524277, 587415, 732991, 715429, 702542, 23782, 743182, 696043, 647300, 684253, 735707, 734230, 51260, 568554, 731480, 717411, 24218, 79918, 98942, 51075, 640648, 565179, 737561, 581438, 600365, 589521, 613415, 607215, 569970, 495579, 775332, 621355, 535040, 775717, 772794, 24169, 140341]\n",
            "63 [495703, 757258, 586389, 611299, 769272, 729071, 510283, 23931, 571901, 678711, 670534, 746046, 513577, 581199, 556465, 671078, 596567, 50766, 650318, 630862, 51280, 50588, 504799, 505147, 509786, 683384, 524277, 587415, 732991, 715429, 702542, 23782, 743182, 696043, 647300, 684253, 735707, 734230, 51260, 568554, 731480, 717411, 24218, 79918, 98942, 51075, 640648, 565179, 737561, 581438, 600365, 589521, 613415, 607215, 569970, 495579, 775332, 621355, 535040, 775717, 772794, 24169, 140341]\n",
            "56 [153455, 588300, 598747, 601455, 222902, 599311, 693884, 508463, 566593, 590542, 512112, 642016, 568830, 183954, 160315, 588685, 187436, 553864, 624183, 550925, 639893, 666715, 98538, 699424, 744562, 509405, 674684, 502681, 650597, 707787, 675835, 23586, 550867, 139865, 139897, 95452, 648240, 51278, 51238, 566669, 719154, 773502, 685799, 600365, 589521, 613415, 607215, 569970, 495579, 775332, 621355, 535040, 775717, 772794, 24169, 140341]\n",
            "46 [50824, 543722, 112812, 96076, 376281, 588685, 187436, 553864, 624183, 550925, 639893, 666715, 98538, 699424, 744562, 509405, 674684, 502681, 650597, 707787, 675835, 23586, 550867, 139865, 139897, 95452, 648240, 51278, 51238, 566669, 719154, 773502, 685799, 600365, 589521, 613415, 607215, 569970, 495579, 775332, 621355, 535040, 775717, 772794, 24169, 140341]\n",
            "47 [514899, 465996, 24209, 112812, 96076, 376281, 588685, 187436, 553864, 624183, 550925, 639893, 666715, 98538, 699424, 744562, 509405, 674684, 502681, 650597, 707787, 675835, 23586, 550867, 139865, 139897, 95452, 648240, 51278, 51238, 566669, 719154, 773502, 685799, 600365, 589521, 613415, 607215, 569970, 495579, 775332, 621355, 535040, 775717, 772794, 24169, 140341]\n",
            "47 [519024, 61697, 542593, 677921, 503919, 508627, 747517, 669033, 643177, 573068, 595282, 639893, 666715, 98538, 699424, 744562, 509405, 674684, 502681, 650597, 707787, 675835, 23586, 550867, 139865, 139897, 95452, 648240, 51278, 51238, 566669, 719154, 773502, 685799, 600365, 589521, 613415, 607215, 569970, 495579, 775332, 621355, 535040, 775717, 772794, 24169, 140341]\n",
            "78 [566040, 666265, 690647, 552330, 582561, 729099, 516437, 644520, 518446, 627503, 623656, 707186, 546626, 518434, 551505, 654426, 533979, 676479, 611299, 769272, 729071, 510283, 23931, 571901, 678711, 670534, 746046, 513577, 581199, 556465, 671078, 596567, 50766, 650318, 630862, 51280, 50588, 504799, 505147, 509786, 683384, 524277, 587415, 732991, 715429, 702542, 23782, 743182, 696043, 647300, 684253, 735707, 734230, 51260, 568554, 731480, 717411, 24218, 79918, 98942, 51075, 640648, 565179, 737561, 581438, 600365, 589521, 613415, 607215, 569970, 495579, 775332, 621355, 535040, 775717, 772794, 24169, 140341]\n",
            "48 [554598, 588300, 153455, 630088, 112812, 96076, 376281, 588685, 187436, 553864, 624183, 550925, 639893, 666715, 98538, 699424, 744562, 509405, 674684, 502681, 650597, 707787, 675835, 23586, 550867, 139865, 139897, 95452, 648240, 51278, 51238, 566669, 719154, 773502, 685799, 600365, 589521, 613415, 607215, 569970, 495579, 775332, 621355, 535040, 775717, 772794, 24169, 140341]\n",
            "49 [656702, 688870, 24019, 204465, 542593, 677921, 503919, 508627, 747517, 669033, 643177, 573068, 595282, 639893, 666715, 98538, 699424, 744562, 509405, 674684, 502681, 650597, 707787, 675835, 23586, 550867, 139865, 139897, 95452, 648240, 51278, 51238, 566669, 719154, 773502, 685799, 600365, 589521, 613415, 607215, 569970, 495579, 775332, 621355, 535040, 775717, 772794, 24169, 140341]\n",
            "48 [676436, 223569, 204465, 542593, 677921, 503919, 508627, 747517, 669033, 643177, 573068, 595282, 639893, 666715, 98538, 699424, 744562, 509405, 674684, 502681, 650597, 707787, 675835, 23586, 550867, 139865, 139897, 95452, 648240, 51278, 51238, 566669, 719154, 773502, 685799, 600365, 589521, 613415, 607215, 569970, 495579, 775332, 621355, 535040, 775717, 772794, 24169, 140341]\n",
            "78 [765250, 666265, 690647, 552330, 582561, 729099, 516437, 644520, 518446, 627503, 623656, 707186, 546626, 518434, 551505, 654426, 533979, 676479, 611299, 769272, 729071, 510283, 23931, 571901, 678711, 670534, 746046, 513577, 581199, 556465, 671078, 596567, 50766, 650318, 630862, 51280, 50588, 504799, 505147, 509786, 683384, 524277, 587415, 732991, 715429, 702542, 23782, 743182, 696043, 647300, 684253, 735707, 734230, 51260, 568554, 731480, 717411, 24218, 79918, 98942, 51075, 640648, 565179, 737561, 581438, 600365, 589521, 613415, 607215, 569970, 495579, 775332, 621355, 535040, 775717, 772794, 24169, 140341]\n",
            "77 [703923, 492500, 186500, 551505, 518434, 546626, 745398, 770355, 691189, 737895, 564533, 690006, 518446, 627503, 623656, 729099, 516437, 644520, 769272, 729071, 510283, 23931, 571901, 678711, 670534, 746046, 513577, 581199, 556465, 671078, 596567, 50766, 650318, 630862, 51280, 50588, 504799, 505147, 509786, 683384, 524277, 587415, 732991, 715429, 702542, 23782, 743182, 696043, 647300, 684253, 735707, 734230, 51260, 568554, 731480, 717411, 24218, 79918, 98942, 51075, 640648, 565179, 737561, 581438, 600365, 589521, 613415, 607215, 569970, 495579, 775332, 621355, 535040, 775717, 772794, 24169, 140341]\n",
            "51 [668105, 531968, 566031, 566593, 590542, 512112, 642016, 568830, 183954, 160315, 588685, 187436, 553864, 624183, 550925, 639893, 666715, 98538, 699424, 744562, 509405, 674684, 502681, 650597, 707787, 675835, 23586, 550867, 139865, 139897, 95452, 648240, 51278, 51238, 566669, 719154, 773502, 685799, 600365, 589521, 613415, 607215, 569970, 495579, 775332, 621355, 535040, 775717, 772794, 24169, 140341]\n",
            "81 [574449, 643424, 101537, 596584, 666265, 690647, 552330, 582561, 729099, 516437, 644520, 518446, 627503, 623656, 707186, 546626, 518434, 551505, 654426, 533979, 676479, 611299, 769272, 729071, 510283, 23931, 571901, 678711, 670534, 746046, 513577, 581199, 556465, 671078, 596567, 50766, 650318, 630862, 51280, 50588, 504799, 505147, 509786, 683384, 524277, 587415, 732991, 715429, 702542, 23782, 743182, 696043, 647300, 684253, 735707, 734230, 51260, 568554, 731480, 717411, 24218, 79918, 98942, 51075, 640648, 565179, 737561, 581438, 600365, 589521, 613415, 607215, 569970, 495579, 775332, 621355, 535040, 775717, 772794, 24169, 140341]\n",
            "74 [542648, 496703, 179399, 691189, 737895, 564533, 690006, 518446, 627503, 623656, 729099, 516437, 644520, 551505, 518434, 546626, 745398, 770355, 772018, 524252, 544900, 725184, 696214, 670534, 678711, 636835, 671078, 596567, 50766, 650318, 630862, 51280, 50588, 504799, 505147, 509786, 683384, 524277, 587415, 732991, 715429, 702542, 23782, 743182, 696043, 647300, 684253, 735707, 734230, 51260, 568554, 731480, 717411, 24218, 79918, 98942, 51075, 640648, 565179, 737561, 581438, 600365, 589521, 613415, 607215, 569970, 495579, 775332, 621355, 535040, 775717, 772794, 24169, 140341]\n",
            "46 [51286, 768264, 23716, 23717, 508627, 747517, 669033, 643177, 573068, 595282, 639893, 666715, 98538, 699424, 744562, 509405, 674684, 502681, 650597, 707787, 675835, 23586, 550867, 139865, 139897, 95452, 648240, 51278, 51238, 566669, 719154, 773502, 685799, 600365, 589521, 613415, 607215, 569970, 495579, 775332, 621355, 535040, 775717, 772794, 24169, 140341]\n",
            "67 [749240, 109404, 667865, 768236, 99422, 197850, 182368, 611299, 769272, 729071, 510283, 23931, 571901, 678711, 670534, 746046, 513577, 581199, 556465, 671078, 596567, 50766, 650318, 630862, 51280, 50588, 504799, 505147, 509786, 683384, 524277, 587415, 732991, 715429, 702542, 23782, 743182, 696043, 647300, 684253, 735707, 734230, 51260, 568554, 731480, 717411, 24218, 79918, 98942, 51075, 640648, 565179, 737561, 581438, 600365, 589521, 613415, 607215, 569970, 495579, 775332, 621355, 535040, 775717, 772794, 24169, 140341]\n",
            "55 [187206, 598747, 601455, 222902, 599311, 693884, 508463, 566593, 590542, 512112, 642016, 568830, 183954, 160315, 588685, 187436, 553864, 624183, 550925, 639893, 666715, 98538, 699424, 744562, 509405, 674684, 502681, 650597, 707787, 675835, 23586, 550867, 139865, 139897, 95452, 648240, 51278, 51238, 566669, 719154, 773502, 685799, 600365, 589521, 613415, 607215, 569970, 495579, 775332, 621355, 535040, 775717, 772794, 24169, 140341]\n",
            "49 [697446, 589502, 107301, 204465, 542593, 677921, 503919, 508627, 747517, 669033, 643177, 573068, 595282, 639893, 666715, 98538, 699424, 744562, 509405, 674684, 502681, 650597, 707787, 675835, 23586, 550867, 139865, 139897, 95452, 648240, 51278, 51238, 566669, 719154, 773502, 685799, 600365, 589521, 613415, 607215, 569970, 495579, 775332, 621355, 535040, 775717, 772794, 24169, 140341]\n",
            "66 [563470, 54979, 768236, 99422, 197850, 182368, 611299, 769272, 729071, 510283, 23931, 571901, 678711, 670534, 746046, 513577, 581199, 556465, 671078, 596567, 50766, 650318, 630862, 51280, 50588, 504799, 505147, 509786, 683384, 524277, 587415, 732991, 715429, 702542, 23782, 743182, 696043, 647300, 684253, 735707, 734230, 51260, 568554, 731480, 717411, 24218, 79918, 98942, 51075, 640648, 565179, 737561, 581438, 600365, 589521, 613415, 607215, 569970, 495579, 775332, 621355, 535040, 775717, 772794, 24169, 140341]\n",
            "77 [68447, 494969, 511930, 187836, 770355, 745398, 737895, 564533, 690006, 691189, 626692, 572168, 547130, 643112, 749936, 510062, 682864, 611299, 769272, 729071, 510283, 23931, 571901, 678711, 670534, 746046, 513577, 581199, 556465, 671078, 596567, 50766, 650318, 630862, 51280, 50588, 504799, 505147, 509786, 683384, 524277, 587415, 732991, 715429, 702542, 23782, 743182, 696043, 647300, 684253, 735707, 734230, 51260, 568554, 731480, 717411, 24218, 79918, 98942, 51075, 640648, 565179, 737561, 581438, 600365, 589521, 613415, 607215, 569970, 495579, 775332, 621355, 535040, 775717, 772794, 24169, 140341]\n",
            "80 [624264, 101537, 596584, 666265, 690647, 552330, 582561, 729099, 516437, 644520, 518446, 627503, 623656, 707186, 546626, 518434, 551505, 654426, 533979, 676479, 611299, 769272, 729071, 510283, 23931, 571901, 678711, 670534, 746046, 513577, 581199, 556465, 671078, 596567, 50766, 650318, 630862, 51280, 50588, 504799, 505147, 509786, 683384, 524277, 587415, 732991, 715429, 702542, 23782, 743182, 696043, 647300, 684253, 735707, 734230, 51260, 568554, 731480, 717411, 24218, 79918, 98942, 51075, 640648, 565179, 737561, 581438, 600365, 589521, 613415, 607215, 569970, 495579, 775332, 621355, 535040, 775717, 772794, 24169, 140341]\n"
          ]
        }
      ]
    },
    {
      "cell_type": "code",
      "source": [
        "pickle.dump(Embed_dict, open('doc_2vec_NYT_Embed_dict.p', 'wb')) # store embeddings\n",
        "pickle.dump(df, open('doc_2vec_NYT_list_of_dfs.p', 'wb')) # store list_of_dfs\n",
        "pickle.dump(full_story, open('doc_NYT_covid_full_story.p', 'wb'))"
      ],
      "metadata": {
        "id": "dmt-oraOmfWi"
      },
      "execution_count": 24,
      "outputs": []
    }
  ]
}