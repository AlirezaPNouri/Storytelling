{
  "nbformat": 4,
  "nbformat_minor": 0,
  "metadata": {
    "colab": {
      "name": "TF_IDF_Keyword_extractor.ipynb",
      "provenance": [],
      "collapsed_sections": [],
      "machine_shape": "hm",
      "mount_file_id": "1qHdR7sK6Bws3k2wUArFG60wOgdrm95pe",
      "authorship_tag": "ABX9TyNS+iJZ2UBp3lrixylUhJYd",
      "include_colab_link": true
    },
    "kernelspec": {
      "name": "python3",
      "display_name": "Python 3"
    },
    "language_info": {
      "name": "python"
    },
    "accelerator": "GPU"
  },
  "cells": [
    {
      "cell_type": "markdown",
      "metadata": {
        "id": "view-in-github",
        "colab_type": "text"
      },
      "source": [
        "<a href=\"https://colab.research.google.com/github/AlirezaPNouri/Storytelling/blob/main/TF_IDF_Keyword_extractor.ipynb\" target=\"_parent\"><img src=\"https://colab.research.google.com/assets/colab-badge.svg\" alt=\"Open In Colab\"/></a>"
      ]
    },
    {
      "cell_type": "markdown",
      "source": [
        "In this code, TF-IDF technique has been used to extract keywords from a text"
      ],
      "metadata": {
        "id": "aIxJw6UWvAxe"
      }
    },
    {
      "cell_type": "code",
      "execution_count": 34,
      "metadata": {
        "id": "7C-cBEKYu6rb"
      },
      "outputs": [],
      "source": [
        "import pickle\n",
        "import re\n",
        "import nltk\n",
        "from sklearn.feature_extraction.text import CountVectorizer\n",
        "from nltk.tokenize import word_tokenize\n",
        "from nltk.stem import PorterStemmer\n"
      ]
    },
    {
      "cell_type": "code",
      "source": [
        "stopwords = ['i','me','my','myself','we','our','ours','ourselves','you','your','yours','yourself','yourselves','he','him','his','himself','she','her','hers','herself','it','its','itself','they','them','their','theirs','themselves','what','which','who','whom','this','that','these','those','am','is','are','was','were','be','been','being','have','has','had','having','do','does','did','doing','a','an','the','and','but','if','or','because','as','until','while','of','at','by','for','with','about','against','between','into','through','during','before','after','above','below','to','from','up','down','in','out','on','off','over','under','again','further','then','once','here','there','when','where','why','how','all','any','both','each','few','more','most','other','some','such','no','nor','not','only','own','same','so','than','too','very','s','t','can','will','just','don','should','now', 'of', 'within']\n",
        "nltk.download('punkt')"
      ],
      "metadata": {
        "colab": {
          "base_uri": "https://localhost:8080/"
        },
        "id": "uxrlMohxvurf",
        "outputId": "f747f6cc-7423-4d9b-c8d7-bb504b4a955c"
      },
      "execution_count": 35,
      "outputs": [
        {
          "output_type": "stream",
          "name": "stdout",
          "text": [
            "[nltk_data] Downloading package punkt to /root/nltk_data...\n",
            "[nltk_data]   Unzipping tokenizers/punkt.zip.\n"
          ]
        },
        {
          "output_type": "execute_result",
          "data": {
            "text/plain": [
              "True"
            ]
          },
          "metadata": {},
          "execution_count": 35
        }
      ]
    },
    {
      "cell_type": "code",
      "source": [
        "df = pickle.load(open('drive/MyDrive/temp/data_r/Proposed/df.p', 'rb'))\n",
        "story = pickle.load(open('drive/MyDrive/temp/data_r/final_results_proposed.p', 'rb'))"
      ],
      "metadata": {
        "id": "u3fqRvn5vAmO"
      },
      "execution_count": 46,
      "outputs": []
    },
    {
      "cell_type": "code",
      "source": [
        ""
      ],
      "metadata": {
        "id": "HedEiuka4Y_n"
      },
      "execution_count": null,
      "outputs": []
    },
    {
      "cell_type": "code",
      "source": [
        "def special_char_remover(str_):\n",
        "  \"\"\"\n",
        "  This function removes any special characters from a text\n",
        "  Arguments:\n",
        "    str_: a string\n",
        "  Returns:\n",
        "    A string\n",
        "  \"\"\"\n",
        "  return ' '.join(''.join(w for w in m if w.isalnum()) for m in str_.split(' '))"
      ],
      "metadata": {
        "id": "FKQnZI_Fv_bj"
      },
      "execution_count": 7,
      "outputs": []
    },
    {
      "cell_type": "code",
      "source": [
        "def pre_process(text):\n",
        "    # lowercase\n",
        "    text = text.lower()\n",
        "    # remove tags\n",
        "    text = re.sub(\"\", \"\", text)\n",
        "    # remove special characters and digits\n",
        "    text = re.sub(\"(\\\\d|\\\\W)+\", \" \", text)\n",
        "    return text"
      ],
      "metadata": {
        "id": "0mK71PWwvnln"
      },
      "execution_count": 5,
      "outputs": []
    },
    {
      "cell_type": "code",
      "source": [
        "def stopword_remover(str_, stopwords_):\n",
        "  words = word_tokenize(str_)\n",
        "  ps = PorterStemmer()\n",
        "  temp_list = list()\n",
        "  for ele in words:\n",
        "    if ele not in stopwords_:\n",
        "      temp_list.append(ps.stem(ele))\n",
        "  return ' '.join(temp_list)\n",
        "\n"
      ],
      "metadata": {
        "id": "OT0rNTq-wCdm"
      },
      "execution_count": 31,
      "outputs": []
    },
    {
      "cell_type": "code",
      "source": [
        "print(stopword_remover(pre_process(special_char_remover(' Alireza is a good \\ boy')), stopwords))"
      ],
      "metadata": {
        "colab": {
          "base_uri": "https://localhost:8080/"
        },
        "id": "dxlrUODrwnJN",
        "outputId": "369614d4-ffa7-48ee-fb4e-cbdc0f31b597"
      },
      "execution_count": 36,
      "outputs": [
        {
          "output_type": "stream",
          "name": "stdout",
          "text": [
            "alireza good boy\n"
          ]
        }
      ]
    },
    {
      "cell_type": "code",
      "source": [
        "data_content = dict()\n",
        "for index, row in df.iterrows():\n",
        "  data_content[row['id']] = stopword_remover(pre_process(special_char_remover(row['content'])), stopwords)\n"
      ],
      "metadata": {
        "id": "W6644I6zxM8z"
      },
      "execution_count": 37,
      "outputs": []
    },
    {
      "cell_type": "code",
      "source": [
        "cv = CountVectorizer(max_df=0.85, stop_words=stopwords)"
      ],
      "metadata": {
        "id": "Qcth4hviyA5o"
      },
      "execution_count": 38,
      "outputs": []
    },
    {
      "cell_type": "code",
      "source": [
        "word_count_vector = cv.fit_transform(data_content.values())"
      ],
      "metadata": {
        "id": "0x8nZT-wy9pK"
      },
      "execution_count": 39,
      "outputs": []
    },
    {
      "cell_type": "code",
      "source": [
        ""
      ],
      "metadata": {
        "id": "bkq99QS70UOc"
      },
      "execution_count": null,
      "outputs": []
    },
    {
      "cell_type": "code",
      "source": [
        "list(cv.vocabulary_.keys())[:10]"
      ],
      "metadata": {
        "colab": {
          "base_uri": "https://localhost:8080/"
        },
        "id": "c93VLc6szGWw",
        "outputId": "327b8223-8354-4344-b4ad-fa4f25482224"
      },
      "execution_count": 40,
      "outputs": [
        {
          "output_type": "execute_result",
          "data": {
            "text/plain": [
              "['object',\n",
              " 'identifi',\n",
              " 'percept',\n",
              " 'physician',\n",
              " 'expertis',\n",
              " 'nurs',\n",
              " 'home',\n",
              " 'care',\n",
              " 'valu',\n",
              " 'primarili']"
            ]
          },
          "metadata": {},
          "execution_count": 40
        }
      ]
    },
    {
      "cell_type": "code",
      "source": [
        "from sklearn.feature_extraction.text import TfidfTransformer\n",
        "tfidf_transformer=TfidfTransformer(smooth_idf=True,use_idf=True)\n",
        "tfidf_transformer.fit(word_count_vector)"
      ],
      "metadata": {
        "colab": {
          "base_uri": "https://localhost:8080/"
        },
        "id": "N5RM8qJB0BX6",
        "outputId": "bb6e247f-05d4-4d4f-d23d-2d8d41a0bc4f"
      },
      "execution_count": 41,
      "outputs": [
        {
          "output_type": "execute_result",
          "data": {
            "text/plain": [
              "TfidfTransformer()"
            ]
          },
          "metadata": {},
          "execution_count": 41
        }
      ]
    },
    {
      "cell_type": "code",
      "source": [
        "def sort_coo(coo_matrix):\n",
        "    tuples = zip(coo_matrix.col, coo_matrix.data)\n",
        "    return sorted(tuples, key=lambda x: (x[1], x[0]), reverse=True)\n",
        "def extract_topn_from_vector(feature_names, sorted_items, topn=10):\n",
        "    \"\"\"get the feature names and tf-idf score of top n items\"\"\"\n",
        "    \n",
        "    #use only topn items from vector\n",
        "    sorted_items = sorted_items[:topn]\n",
        "    score_vals = []\n",
        "    feature_vals = []\n",
        "    \n",
        "    # word index and corresponding tf-idf score\n",
        "    for idx, score in sorted_items:\n",
        "        \n",
        "        #keep track of feature name and its corresponding score\n",
        "        score_vals.append(round(score, 3))\n",
        "        feature_vals.append(feature_names[idx])\n",
        "    #create a tuples of feature,score\n",
        "    #results = zip(feature_vals,score_vals)\n",
        "    results= {}\n",
        "    for idx in range(len(feature_vals)):\n",
        "        results[feature_vals[idx]]=score_vals[idx]\n",
        "    \n",
        "    return results"
      ],
      "metadata": {
        "id": "PDCHPEnG09ZJ"
      },
      "execution_count": 42,
      "outputs": []
    },
    {
      "cell_type": "code",
      "source": [
        "\n",
        "# you only needs to do this once, this is a mapping of index to \n",
        "feature_names=cv.get_feature_names_out()\n",
        "top_keywords = dict()\n",
        "for ind, doc in data_content.items():\n",
        "  # get the document that we want to extract keywords from\n",
        "  # doc=data_content[51167]\n",
        "  #generate tf-idf for the given document\n",
        "  tf_idf_vector=tfidf_transformer.transform(cv.transform([doc]))\n",
        "  #sort the tf-idf vectors by descending order of scores\n",
        "  sorted_items=sort_coo(tf_idf_vector.tocoo())\n",
        "  #extract only the top n; n here is 10\n",
        "  keywords=extract_topn_from_vector(feature_names,sorted_items,100)\n",
        "  # now print the results\n",
        "  # print(\"\\n=====Doc=====\")\n",
        "  # print(doc)\n",
        "  # print(\"\\n===Keywords===\")\n",
        "  temp_list = list()\n",
        "  for k in keywords:\n",
        "    temp_list.append(k)\n",
        "    # print(k,keywords[k])\n",
        "  top_keywords[ind] = temp_list"
      ],
      "metadata": {
        "id": "Zm3Wi57T0oLi"
      },
      "execution_count": 45,
      "outputs": []
    },
    {
      "cell_type": "code",
      "source": [
        "def jaccard_similarity(text1, text2):\n",
        "  set_text1 = set(text1)\n",
        "  set_text2 = set(text2)\n",
        "\n",
        "  return len(set_text1.intersection(set_text2)) / len(set_text1.union(set_text2))"
      ],
      "metadata": {
        "id": "7tTNZ4r-7_J9"
      },
      "execution_count": 51,
      "outputs": []
    },
    {
      "cell_type": "code",
      "source": [
        "sampl = story[0.25][1]\n",
        "keyword_story = dict()\n",
        "for doc_1, doc_2 in zip(sampl[:-1], sampl[1:]):\n",
        "  keyword_story[doc_1] = jaccard_similarity(top_keywords[doc_1], top_keywords[doc_2])\n",
        "\n",
        "\n"
      ],
      "metadata": {
        "id": "noWxMTwc4aWQ"
      },
      "execution_count": 64,
      "outputs": []
    },
    {
      "cell_type": "code",
      "source": [
        "total_dict = dict()\n",
        "\n",
        "for total in range(len(story[0.25])):\n",
        "  sampl = story[0.25][total]\n",
        "  keyword_story = dict()\n",
        "  for doc_1, doc_2 in zip(sampl[:-1], sampl[1:]):\n",
        "    keyword_story[doc_1] = jaccard_similarity(top_keywords[doc_1], top_keywords[doc_2])\n",
        "  total_dict[total] = keyword_story\n",
        "\n"
      ],
      "metadata": {
        "id": "GncL3Zlq_hSI"
      },
      "execution_count": 66,
      "outputs": []
    },
    {
      "cell_type": "code",
      "source": [
        "# importing package\n",
        "import matplotlib.pyplot as plt\n",
        "import numpy as np\n",
        "  \n",
        "# create data\n",
        "y = list(total_dict[0].values())\n",
        "x = [x for x in range(len(keyword_story.keys()))]\n",
        "plt.plot(x, y, label = \"BERT method \", linestyle=\"-.\" )\n",
        "\n",
        "y = list(total_dict[1].values())\n",
        "x = [x for x in range(len(total_dict[1].keys()))]\n",
        "plt.plot(x, y, label = \"BERT method \", linestyle=\"-.\" )\n",
        "\n",
        "y = list(total_dict[2].values())\n",
        "x = [x for x in range(len(total_dict[2].keys()))]\n",
        "plt.plot(x, y, label = \"BERT method \", linestyle=\"-.\" )\n",
        "\n",
        "y = list(total_dict[3].values())\n",
        "x = [x for x in range(len(total_dict[3].keys()))]\n",
        "plt.plot(x, y, label = \"BERT method \", linestyle=\"-.\" )\n",
        "\n",
        "y = list(total_dict[4].values())\n",
        "x = [x for x in range(len(total_dict[4].keys()))]\n",
        "plt.plot(x, y, label = \"BERT method \", linestyle=\"-.\" )\n",
        "\n",
        "y = list(total_dict[5].values())\n",
        "x = [x for x in range(len(total_dict[5].keys()))]\n",
        "plt.plot(x, y, label = \"BERT method \", linestyle=\"-.\" )\n",
        "\n",
        "plt.legend()\n",
        "plt.show()"
      ],
      "metadata": {
        "colab": {
          "base_uri": "https://localhost:8080/",
          "height": 265
        },
        "id": "iVx6eawX8Toh",
        "outputId": "52c153d0-85e4-479a-b9f1-bdb6f3e5e16f"
      },
      "execution_count": 69,
      "outputs": [
        {
          "output_type": "display_data",
          "data": {
            "text/plain": [
              "<Figure size 432x288 with 1 Axes>"
            ],
            "image/png": "[encoded data removed]"
          },
          "metadata": {
            "needs_background": "light"
          }
        }
      ]
    }
  ]
}