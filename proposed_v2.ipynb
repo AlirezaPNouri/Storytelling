{
  "nbformat": 4,
  "nbformat_minor": 0,
  "metadata": {
    "colab": {
      "name": "proposed_v2.ipynb",
      "provenance": [],
      "collapsed_sections": [],
      "machine_shape": "hm",
      "mount_file_id": "1XYAJvcmDFDU5T2iClJ49a7YO1iNW9jxZ",
      "authorship_tag": "ABX9TyPNS8MGErIJpMO58eo1pcnu",
      "include_colab_link": true
    },
    "kernelspec": {
      "name": "python3",
      "display_name": "Python 3"
    },
    "language_info": {
      "name": "python"
    },
    "accelerator": "GPU"
  },
  "cells": [
    {
      "cell_type": "markdown",
      "metadata": {
        "id": "view-in-github",
        "colab_type": "text"
      },
      "source": [
        "<a href=\"https://colab.research.google.com/github/AlirezaPNouri/Storytelling/blob/main/proposed_v2.ipynb\" target=\"_parent\"><img src=\"https://colab.research.google.com/assets/colab-badge.svg\" alt=\"Open In Colab\"/></a>"
      ]
    },
    {
      "cell_type": "markdown",
      "source": [
        "Version two of proposed method on 5/18. In this version I added Omega and compared different models by considere it\n"
      ],
      "metadata": {
        "id": "6nvnOTw6Nk25"
      }
    },
    {
      "cell_type": "code",
      "execution_count": 138,
      "metadata": {
        "id": "FsRikBO8Nj_X"
      },
      "outputs": [],
      "source": [
        "# needed packages\n",
        "import requests\n",
        "import numpy as np\n",
        "import pandas as pd\n",
        "import string\n",
        "import pickle\n",
        "import os\n",
        "from numpy import median, array, exp\n",
        "from sklearn.cluster import KMeans\n",
        "import copy\n",
        "from sklearn.metrics.pairwise import cosine_similarity\n",
        "import tensorflow as tf\n",
        "import nltk\n",
        "from nltk.stem import PorterStemmer\n",
        "from nltk.tokenize import sent_tokenize, word_tokenize\n",
        "from gensim.models.doc2vec import Doc2Vec, TaggedDocument \n",
        "from nltk.tokenize import word_tokenize"
      ]
    },
    {
      "cell_type": "code",
      "source": [
        "nltk.download('punkt')"
      ],
      "metadata": {
        "colab": {
          "base_uri": "https://localhost:8080/"
        },
        "id": "fXe0NuTAtXDd",
        "outputId": "c3dfbf7f-4c73-4394-e77e-eeeff2c0c6b0"
      },
      "execution_count": 139,
      "outputs": [
        {
          "output_type": "stream",
          "name": "stdout",
          "text": [
            "[nltk_data] Downloading package punkt to /root/nltk_data...\n",
            "[nltk_data]   Unzipping tokenizers/punkt.zip.\n"
          ]
        },
        {
          "output_type": "execute_result",
          "data": {
            "text/plain": [
              "True"
            ]
          },
          "metadata": {},
          "execution_count": 139
        }
      ]
    },
    {
      "cell_type": "code",
      "source": [
        "# #constant variables\n",
        "# dataset_covid_link = 'https://raw.githubusercontent.com/AlirezaPNouri/Storytelling/main/datasets/short_parsed_covid_data.csv'\n",
        "# dataset_NYT_link = 'https://raw.githubusercontent.com/AlirezaPNouri/Storytelling/main/datasets/short_parsed_NYT_data.csv'\n",
        "# dataset_percentage = .6\n",
        "# MAX_DATA = 100\n",
        "MAX_SENTENCE_LENGTH = 350\n",
        "MIN_SENTENCE_LENGTH = 200\n",
        "# doc_list =[item for item in range(MAX_DATA)]\n",
        "# jump = 3 # jump size for gradient decent\n",
        "# MAX_FEATURE_SIZE = 20 # max size of the gradient descent vector\n",
        "# range_n_clusters = [2, 3, 4, 5, 6] #number of different clustering to compare the performance of the model over different clustering\n",
        "threshold_cluster_overlapping = 0.7 # to consider two clsuters are similar\n",
        "stopwords = ['i','me','my','myself','we','our','ours','ourselves','you','your','yours','yourself','yourselves','he','him','his','himself','she','her','hers','herself','it','its','itself','they','them','their','theirs','themselves','what','which','who','whom','this','that','these','those','am','is','are','was','were','be','been','being','have','has','had','having','do','does','did','doing','a','an','the','and','but','if','or','because','as','until','while','of','at','by','for','with','about','against','between','into','through','during','before','after','above','below','to','from','up','down','in','out','on','off','over','under','again','further','then','once','here','there','when','where','why','how','all','any','both','each','few','more','most','other','some','such','no','nor','not','only','own','same','so','than','too','very','s','t','can','will','just','don','should','now', 'of', 'within']\n"
      ],
      "metadata": {
        "id": "HCsZnLcmNwOU"
      },
      "execution_count": 137,
      "outputs": []
    },
    {
      "cell_type": "code",
      "source": [
        "total_docs_clusters_wo_stopwords = pickle.load(open('drive/MyDrive/temp/data_r/Proposed/total_docs_clusters_wo_stopwords.p', 'rb'))\n",
        "Embed_dict = pickle.load(open('drive/MyDrive/temp/data_r/Proposed/Embed_dict.p', 'rb'))\n",
        "df = pickle.load(open('drive/MyDrive/temp/data_r/Proposed/df.p', 'rb'))\n",
        "list_of_timestamps = pickle.load(open('drive/MyDrive/temp/data_r/Proposed/list_of_timestamps.p', 'rb'))"
      ],
      "metadata": {
        "id": "jUrJUincNx-f"
      },
      "execution_count": 6,
      "outputs": []
    },
    {
      "cell_type": "code",
      "source": [
        "total_doc_embedding = dict()\n",
        "for t_ in Embed_dict.keys():\n",
        "  for doc in Embed_dict[t_].keys():\n",
        "    total_doc_embedding[doc] = Embed_dict[t_][doc]"
      ],
      "metadata": {
        "id": "SSs4rDqfOlPZ"
      },
      "execution_count": 7,
      "outputs": []
    },
    {
      "cell_type": "code",
      "source": [
        "def bert_classifier_generator(total_doc_word_embedding):\n",
        "  \"\"\"\n",
        "  doc_matrix is a dictionary of each doc and other doc similarity to this doc based on BERT cls vector             doc_embedding ={doc0: {1: int(9*euclidian_distance +1 ), 2:int(9*euclidian_distance +1 )}, doc1}  \n",
        "\n",
        "  \"\"\"\n",
        "  total_dict = dict()\n",
        "  for doc_1 in total_doc_word_embedding.keys():\n",
        "    temp_dict = dict()\n",
        "    for doc_2 in total_doc_word_embedding.keys():\n",
        "      if doc_1 != doc_2:\n",
        "        temp_dict[doc_2] =np.linalg.norm(total_doc_word_embedding[doc_1]['cls']-total_doc_word_embedding[doc_2]['cls'])\n",
        "    total_dict[doc_1] = temp_dict\n",
        "    print('Document {} is done!'.format(doc_1))\n",
        "  return total_dict    "
      ],
      "metadata": {
        "id": "Qy3S5ssAOwit"
      },
      "execution_count": 8,
      "outputs": []
    },
    {
      "cell_type": "code",
      "source": [
        "# Jaccard index function\n",
        "def jaccard_similarity(text1_list, text2_list):\n",
        "  a = set(text1_list)\n",
        "  b = set(text2_list)\n",
        "  return len(a.intersection(b))/len(a.union(b))"
      ],
      "metadata": {
        "id": "eAMj6fnOVmlq"
      },
      "execution_count": 10,
      "outputs": []
    },
    {
      "cell_type": "code",
      "source": [
        "def similar_doc(doc_one, doc_two):\n",
        "  \"\"\"\n",
        "  #find similar documents\n",
        "  \"\"\"\n",
        "  list_sim = list()\n",
        "  for clu_1 in doc_one:\n",
        "    total_jac = 0\n",
        "    for clu_2 in doc_two:\n",
        "      jac_val = jaccard_similarity(clu_1, clu_2)\n",
        "      total_jac += jac_val\n",
        "    list_sim.append(total_jac)\n",
        "  return sum(list_sim)\n",
        "  # return sum(list_sim)/(len(doc_one)*len(doc_two))   #with normalizing based on the number of word groups"
      ],
      "metadata": {
        "id": "-ORvIQHjVa7C"
      },
      "execution_count": 11,
      "outputs": []
    },
    {
      "cell_type": "code",
      "source": [
        "def normalize_value(vec):\n",
        "  \"\"\"\n",
        "  # this function will receive a value of a vector, the min and the max of the vector and returns the normalized value\n",
        "  \"\"\"\n",
        "  min_ = min(vec.values())\n",
        "  max_ = max(vec.values())\n",
        "  range_val = (max_ - min_)+0.0000001\n",
        "  for doc in vec.keys():\n",
        "    vec[doc] = (vec[doc] - min_) /range_val\n",
        "\n",
        "  return vec"
      ],
      "metadata": {
        "id": "m_-OFZRgWBmb"
      },
      "execution_count": 46,
      "outputs": []
    },
    {
      "cell_type": "code",
      "source": [
        "def weight_matrix_generator(all_dict_):\n",
        "  total_clustering_w_frequency_ = all_dict_\n",
        "  #create a matrix of document similarity based on the jaccard index of the similar words in each word group in each document\n",
        "  doc_matrix=dict()\n",
        "  for first_doc in total_clustering_w_frequency_.keys():\n",
        "    temp_dict = dict()\n",
        "    for second_doc in total_clustering_w_frequency_.keys():\n",
        "      if first_doc != second_doc:\n",
        "        temp_dict[second_doc] = similar_doc(total_clustering_w_frequency_[first_doc], total_clustering_w_frequency_[second_doc])\n",
        "    doc_matrix[first_doc] = temp_dict\n",
        "    print('Document {} is done'.format(first_doc))\n",
        "  \n",
        "  #normalize the weight and invert it. if an index is high that means they are similar so the weight must be low\n",
        "  print('Start normalize the vectors')\n",
        "  for doc in doc_matrix.keys():\n",
        "    doc_matrix[doc] = normalize_value(doc_matrix[doc])\n",
        "\n",
        "  return doc_matrix\n"
      ],
      "metadata": {
        "id": "8DkKd_NDVHJ9"
      },
      "execution_count": 45,
      "outputs": []
    },
    {
      "cell_type": "code",
      "source": [
        "def word_group_generator(all_clusters_):\n",
        "  total_docs_clusters_wo_stopwords = all_clusters_\n",
        "  total_doc_word_groups = dict()\n",
        "  for doc in total_docs_clusters_wo_stopwords.keys():\n",
        "    docs_clusters = total_docs_clusters_wo_stopwords[doc]\n",
        "    # print(docs_clusters)\n",
        "    temp_list_word_groups = list()\n",
        "    for cluster_num in list(docs_clusters.keys())[:-1]:\n",
        "      for cluster in range(cluster_num):\n",
        "        for next_cluster in range(cluster_num+1):\n",
        "          cl1 = list()\n",
        "          cl1_w_sim = dict()\n",
        "          cl2 = list()\n",
        "          cl2_w_sim = dict()\n",
        "          joint_list = list()\n",
        "          for item in docs_clusters[cluster_num][cluster].items():\n",
        "            cl1.append(item[0])\n",
        "            cl1_w_sim[item[0]] =  item[1]\n",
        "          for another_item in docs_clusters[cluster_num+1][next_cluster].items():\n",
        "            cl2.append(another_item[0])\n",
        "            cl2_w_sim[another_item[0]] = another_item[1]\n",
        "          # print(' ({}, {}, {}) --> '.format(cluster_num, cluster, next_cluster), jaccard_similarity(cl1, cl2))\n",
        "          jac_val = jaccard_similarity(cl1, cl2)\n",
        "          if jac_val > threshold_cluster_overlapping:\n",
        "            jnt_list = list(set(cl1).intersection(cl2))\n",
        "            dict_vocab = dict()\n",
        "            for el in jnt_list:\n",
        "              dict_vocab[el] = max(cl1_w_sim[el], cl2_w_sim[el])\n",
        "\n",
        "            temp_list_word_groups.append([dict_vocab ,jac_val])\n",
        "    \n",
        "\n",
        "    total_doc_word_groups[doc] = temp_list_word_groups\n",
        "      # the structure of total_doc_word_group is {doc0: [ [ {word1: normalized_normalized_distance_to_centroid, ....}, similarity between two clusters] [{word1: normalized_distance_to_centroid, ....}, similarity_between_two_clusters]... ], doc1: ...}\n",
        "    \n",
        "  return total_doc_word_groups\n"
      ],
      "metadata": {
        "id": "aCnykFtJYAZk"
      },
      "execution_count": 24,
      "outputs": []
    },
    {
      "cell_type": "code",
      "source": [
        "total_doc_clusters = dict()\n",
        "for ts_ in total_docs_clusters_wo_stopwords.keys():\n",
        "  for doc in total_docs_clusters_wo_stopwords[ts_].keys():\n",
        "    total_doc_clusters[doc] = total_docs_clusters_wo_stopwords[ts_][doc]"
      ],
      "metadata": {
        "id": "iCcm2CNgXYVq"
      },
      "execution_count": 23,
      "outputs": []
    },
    {
      "cell_type": "code",
      "source": [
        "total_doc_word_groups = word_group_generator(total_doc_clusters)"
      ],
      "metadata": {
        "id": "mJnkUSmLbA3b"
      },
      "execution_count": 27,
      "outputs": []
    },
    {
      "cell_type": "code",
      "source": [
        "def distance_2_freq(all_clusters_):\n",
        "  \"\"\"\n",
        "  change the distance to centroid to the frequency [0, 1] --> [10, 1] \n",
        "  \"\"\"\n",
        "\n",
        "  total_doc_word_groups_ = all_clusters_\n",
        "  #change the distance to centroid to the frequency [0, 1] --> [10, 1] \n",
        "  for doc in total_doc_word_groups_.keys():\n",
        "    temp_list = list()\n",
        "    for word_list in total_doc_word_groups_[doc]:\n",
        "      temp_dict = dict()\n",
        "      for ele in word_list[0].keys():\n",
        "        temp_dict[ele] =int(9* (1-word_list[0][ele]))+1\n",
        "      temp_list.append(temp_dict)\n",
        "    total_doc_word_groups_[doc] = temp_list\n",
        "\n",
        "  return total_doc_word_groups_\n",
        "    # the new structure of total_doc_word_groups_ is {doc0: [{groupOnewords}, grouptwowords], doc1}   , grouponewords = {word1:frequency, word2:ferquency}"
      ],
      "metadata": {
        "id": "eH7I2ZX_bVs1"
      },
      "execution_count": 28,
      "outputs": []
    },
    {
      "cell_type": "code",
      "source": [
        "total_doc_word_groups = distance_2_freq(total_doc_word_groups)"
      ],
      "metadata": {
        "id": "vpP7N208bNNo"
      },
      "execution_count": 29,
      "outputs": []
    },
    {
      "cell_type": "code",
      "source": [
        "def similarity_documents(all_dict_):\n",
        "  \"\"\"\n",
        "    calculate the similarity between two documents by using jaccard index of all word groups in each cluster by considering the frequency of those words\n",
        "    the structure of total_clustering_w_frequency is {doc0:[[word_groups0],[word_groups1], ...], doc1: }\n",
        "  \"\"\"\n",
        "\n",
        "  total_doc_word_groups_ = all_dict_\n",
        "  total_clustering_w_frequency = dict()\n",
        "  for doc in total_doc_word_groups_.keys():\n",
        "    list_word_cloud = list()\n",
        "    for word_group in total_doc_word_groups_[doc]:\n",
        "      temp_list = list()\n",
        "      for word in word_group.items():\n",
        "        for ind in range(1, word[1]+1):\n",
        "          temp_list.append(word[0])\n",
        "      list_word_cloud.append(temp_list)\n",
        "    total_clustering_w_frequency[doc] = list_word_cloud\n",
        "    print('document {} is done!'.format(doc))\n",
        "\n",
        "  return total_doc_word_groups_"
      ],
      "metadata": {
        "id": "HfczbWXUbnXX"
      },
      "execution_count": 30,
      "outputs": []
    },
    {
      "cell_type": "code",
      "source": [
        "total_clustering_w_frequency = similarity_documents(total_doc_word_groups)"
      ],
      "metadata": {
        "id": "bDPqdX6Vbhx3"
      },
      "execution_count": null,
      "outputs": []
    },
    {
      "cell_type": "code",
      "source": [
        "doc_matrix_weight = weight_matrix_generator(total_clustering_w_frequency)"
      ],
      "metadata": {
        "id": "bD9YX9xKb0vu"
      },
      "execution_count": null,
      "outputs": []
    },
    {
      "cell_type": "code",
      "source": [
        "dict_similarity_bert_cls_docs = bert_classifier_generator(total_doc_embedding)"
      ],
      "metadata": {
        "id": "YEtS8N0XRVBP"
      },
      "execution_count": null,
      "outputs": []
    },
    {
      "cell_type": "code",
      "source": [
        "for doc in dict_similarity_bert_cls_docs.keys():\n",
        "  min_ = min(dict_similarity_bert_cls_docs[doc].values())\n",
        "  max_ = max(dict_similarity_bert_cls_docs[doc].values())\n",
        "  for sec_doc in dict_similarity_bert_cls_docs[doc].keys():\n",
        "    dict_similarity_bert_cls_docs[doc][sec_doc] = (dict_similarity_bert_cls_docs[doc][sec_doc] - min_) / (max_ - min_ + 0.0000001)\n"
      ],
      "metadata": {
        "id": "xl2SRteNk6zK"
      },
      "execution_count": 41,
      "outputs": []
    },
    {
      "cell_type": "code",
      "source": [
        "final_weights_proposed_method = dict()\n",
        "for doc in doc_matrix_weight.keys():\n",
        "  temp_dict = dict()\n",
        "  for sec_doc in doc_matrix_weight[doc].keys():\n",
        "    temp_dict[sec_doc] = (doc_matrix_weight[doc][sec_doc] + dict_similarity_bert_cls_docs[doc][sec_doc])/2\n",
        "  final_weights_proposed_method[doc] = temp_dict"
      ],
      "metadata": {
        "id": "CAECfao-kkC-"
      },
      "execution_count": 52,
      "outputs": []
    },
    {
      "cell_type": "code",
      "source": [
        "weights = copy.deepcopy(final_weights_proposed_method)"
      ],
      "metadata": {
        "id": "epEpu6LBAwPx"
      },
      "execution_count": 62,
      "outputs": []
    },
    {
      "cell_type": "code",
      "source": [
        "timestamps = copy.deepcopy(list_of_timestamps)"
      ],
      "metadata": {
        "id": "ckTiMeneBBU8"
      },
      "execution_count": 61,
      "outputs": []
    },
    {
      "cell_type": "code",
      "source": [
        "def min_from_dict(sample_dict, min_d, max_d):\n",
        "  min_ = 1000000\n",
        "  ind = -1\n",
        "  c = 0\n",
        "  temp_list = sorted(sample_dict.values(), reverse=False)\n",
        "  while (c < len(temp_list)):\n",
        "    if temp_list[c] > min_d and temp_list[c] < max_d:\n",
        "      min_ = temp_list[c]\n",
        "      for ki, val in sample_dict.items():\n",
        "        if val == min_:\n",
        "          return [min_, ki]  # value of minimum, index of minimum\n",
        "    c +=1\n",
        "  return [1, -1]"
      ],
      "metadata": {
        "id": "nC2E2yIDEAvP"
      },
      "execution_count": 98,
      "outputs": []
    },
    {
      "cell_type": "code",
      "source": [
        "def story_generator(weights, timestamps, start_doc, min_omega, max_omega):\n",
        "  cur_ts = 0\n",
        "  new_story = list()\n",
        "  cur_story = start_doc\n",
        "  \n",
        "\n",
        "  new_story.append(cur_story)\n",
        "  merging_ts = [ x for x in timestamps]\n",
        "  for ts in range(len(timestamps)-1):\n",
        "    merging_ts[ts] = merging_ts[ts] + timestamps[ts+1]\n",
        "\n",
        "  while(cur_ts < len(timestamps) -1 ):\n",
        "    temp_dict = dict()\n",
        "    #GENERATE A DICT OF NEW candidates\n",
        "    for el in merging_ts[cur_ts]:\n",
        "      if el !=cur_story and el not in new_story:\n",
        "        temp_dict[el] = weights[cur_story][el]\n",
        "    res = min_from_dict(temp_dict, min_omega, max_omega)\n",
        "    if res[1] == -1: # the minimum based on the values is not find\n",
        "      cur_ts +=1\n",
        "      break\n",
        "    else:\n",
        "      new_story.append(res[1])\n",
        "      for checker in range(len(timestamps)):\n",
        "        if res[1] in timestamps[checker]:\n",
        "          cur_ts = checker\n",
        "          break\n",
        "\n",
        "      # del weights[cur_story]\n",
        "      cur_story = res[1]\n",
        "    if cur_ts >= len(timestamps)-1:\n",
        "      # stop the function\n",
        "      break\n",
        "  return new_story\n"
      ],
      "metadata": {
        "id": "1xpHO8g6BgBd"
      },
      "execution_count": 97,
      "outputs": []
    },
    {
      "cell_type": "markdown",
      "source": [
        "Proposed method storytelling generator"
      ],
      "metadata": {
        "id": "yH2vDmwYrd20"
      }
    },
    {
      "cell_type": "code",
      "source": [
        "seed_documents = timestamps[0]\n",
        "omega_max_list = [0.1, 0.15, 0.2, 0.25, 0.3, 0.35, 0.4, 0.45, 0.5, 0.55, 0.6, 0.65, 0.7, 0.75, 0.8, 0.85, 0.9, 0.95]\n",
        "min_omega = 0.001\n",
        "final_results_proposed = dict()\n",
        "for max_omega  in omega_max_list:\n",
        "  list_of_story = list()\n",
        "  \n",
        "  for seed in seed_documents:\n",
        "    list_of_story.append(story_generator(weights, timestamps, seed, min_omega, max_omega))\n",
        "  final_results_proposed[max_omega] = list_of_story\n"
      ],
      "metadata": {
        "id": "1KnHp-XnjJae"
      },
      "execution_count": 126,
      "outputs": []
    },
    {
      "cell_type": "markdown",
      "source": [
        "BERT embedding story generator"
      ],
      "metadata": {
        "id": "ERCcHLX3rZ9U"
      }
    },
    {
      "cell_type": "code",
      "source": [
        "final_results_bert = dict()\n",
        "for max_omega  in omega_max_list:\n",
        "  list_of_story = list()\n",
        "  \n",
        "  for seed in seed_documents:\n",
        "    list_of_story.append(story_generator(dict_similarity_bert_cls_docs, timestamps, seed, min_omega, max_omega))\n",
        "  final_results_bert[max_omega] = list_of_story"
      ],
      "metadata": {
        "id": "otn0-bZOgl-5"
      },
      "execution_count": 127,
      "outputs": []
    },
    {
      "cell_type": "code",
      "source": [
        "for om in omega_max_list:\n",
        "  print('------------', om,'-------------------')\n",
        "  temp_st_1 = final_results_proposed[om]\n",
        "  temp_st_2 = final_results_bert[om]\n",
        "  twr = list()\n",
        "  for st_ in temp_st_1:\n",
        "    twr.append(len(st_))\n",
        "  print(sum(twr)/len(twr))\n",
        "  twr = list()\n",
        "  for st_ in temp_st_2:\n",
        "    twr.append(len(st_))\n",
        "  print(sum(twr)/len(twr))\n",
        "\n"
      ],
      "metadata": {
        "id": "4_ZR6XrINFJA"
      },
      "execution_count": null,
      "outputs": []
    },
    {
      "cell_type": "code",
      "source": [
        "#generate datset from Embed_dict\n",
        "dataset_list = list()\n",
        "for ts_ in Embed_dict.keys():\n",
        "  for doc in Embed_dict[ts_].keys():\n",
        "    dataset_list.append(doc)\n"
      ],
      "metadata": {
        "id": "F4_j9S-2sC1b"
      },
      "execution_count": 146,
      "outputs": []
    },
    {
      "cell_type": "code",
      "source": [
        "def pre_processing(sentence_, stopwords_):\n",
        "  words = word_tokenize(sentence_)\n",
        "  ps = PorterStemmer()\n",
        "  rootWord = list()\n",
        "  for w in words:\n",
        "      if w not in stopwords_:\n",
        "        rootWord.append(ps.stem(w))\n",
        "  return ' '.join( rootWord)"
      ],
      "metadata": {
        "id": "Aa-x90cztLUC"
      },
      "execution_count": 143,
      "outputs": []
    },
    {
      "cell_type": "code",
      "source": [
        "def jaccard_similarity(text1, text2):\n",
        "  set_text1 = set(text1.split())\n",
        "  set_text2 = set(text2.split())\n",
        "  return len(set_text1.intersection(set_text2)) / len(set_text1.union(set_text2))"
      ],
      "metadata": {
        "id": "JWclUrhZteXj"
      },
      "execution_count": 141,
      "outputs": []
    },
    {
      "cell_type": "code",
      "source": [
        "df['clean_content'] = df['content'].apply(lambda x: pre_processing(x.lower(), stopwords))"
      ],
      "metadata": {
        "id": "umJE6_q-tqNz"
      },
      "execution_count": 144,
      "outputs": []
    },
    {
      "cell_type": "code",
      "source": [
        "# convert a dataframe to a dictionary of id and content\n",
        "dataset = dict()\n",
        "for index, row in df.iterrows():\n",
        "  if row['id'] in dataset_list:\n",
        "    dataset[row['id']] = row['clean_content']"
      ],
      "metadata": {
        "id": "H-kkYvKDt3kR"
      },
      "execution_count": 154,
      "outputs": []
    },
    {
      "cell_type": "code",
      "source": [
        "def similarity_generator(total_doc_word_embedding):\n",
        "  \"\"\"\n",
        "  doc_matrix is a dictionary of each doc and other doc similarity to this doc based ondoc2vec             doc_embedding ={doc0: {1: int(9*euclidian_distance +1 ), 2:int(9*euclidian_distance +1 )}, doc1}  \n",
        "\n",
        "  \"\"\"\n",
        "  doc_embedding = dict()\n",
        "  for first_doc in total_doc_word_embedding.keys():\n",
        "    temp_dict = dict()\n",
        "    for second_doc in total_doc_word_embedding.keys(): \n",
        "      if first_doc != second_doc:\n",
        "        temp_dict[second_doc] =1.0 - jaccard_similarity(total_doc_word_embedding[first_doc],total_doc_word_embedding[second_doc])\n",
        "    doc_embedding[first_doc] = temp_dict\n",
        "    print('Document {} is done!'.format(first_doc) )\n",
        "\n",
        "  return doc_embedding"
      ],
      "metadata": {
        "id": "yevwpfxatyzs"
      },
      "execution_count": 158,
      "outputs": []
    },
    {
      "cell_type": "code",
      "source": [
        "Embed_dict = dict() # {timestamp1 {doc1{(number_of_tokens+1, 768)}, doc2{}}, timestamp2{}}\n",
        "\n",
        "Embed_dict= similarity_generator(dataset)"
      ],
      "metadata": {
        "id": "KrhGLRk0vqr3"
      },
      "execution_count": null,
      "outputs": []
    },
    {
      "cell_type": "code",
      "source": [
        "for doc in Embed_dict.keys():\n",
        "  min_ = min(Embed_dict[doc].values())\n",
        "  max_ = max(Embed_dict[doc].values())\n",
        "  for sec_doc in Embed_dict[doc].keys():\n",
        "    Embed_dict[doc][sec_doc] = (Embed_dict[doc][sec_doc] - min_) / (max_ - min_ + 0.0000001)"
      ],
      "metadata": {
        "id": "AsG-5w_TwNih"
      },
      "execution_count": 160,
      "outputs": []
    },
    {
      "cell_type": "markdown",
      "source": [
        "Jaccard Index storytelling generator"
      ],
      "metadata": {
        "id": "8_Ekehf5yM79"
      }
    },
    {
      "cell_type": "code",
      "source": [
        "final_results_ji = dict()\n",
        "for max_omega  in omega_max_list:\n",
        "  list_of_story = list()\n",
        "  \n",
        "  for seed in seed_documents:\n",
        "    list_of_story.append(story_generator(Embed_dict, timestamps, seed, min_omega, max_omega))\n",
        "  final_results_ji[max_omega] = list_of_story"
      ],
      "metadata": {
        "id": "jL4VlvZZyUMN"
      },
      "execution_count": 161,
      "outputs": []
    },
    {
      "cell_type": "code",
      "source": [
        "for om in omega_max_list:\n",
        "  print('------------', om,'-------------------')\n",
        "  temp_st_1 = final_results_proposed[om]\n",
        "  temp_st_2 = final_results_bert[om]\n",
        "  temp_st_3 = final_results_ji[om]\n",
        "  twr = list()\n",
        "  for st_ in temp_st_1:\n",
        "    twr.append(len(st_))\n",
        "  print(sum(twr)/len(twr))\n",
        "  twr = list()\n",
        "  for st_ in temp_st_2:\n",
        "    twr.append(len(st_))\n",
        "  print(sum(twr)/len(twr))\n",
        "  for st_ in temp_st_3:\n",
        "    twr.append(len(st_))\n",
        "  print(sum(twr)/len(twr))\n"
      ],
      "metadata": {
        "id": "QNZlQTptyp_I"
      },
      "execution_count": null,
      "outputs": []
    },
    {
      "cell_type": "markdown",
      "source": [
        "Doc2vec Algorithm to generate its wn embeddings"
      ],
      "metadata": {
        "id": "mVUw6Zc-y_dF"
      }
    },
    {
      "cell_type": "code",
      "source": [
        "tokenized_doc = []\n",
        "for ind in dataset.keys():\n",
        "  tokenized_doc.append(word_tokenize(pre_processing(dataset[ind], stopwords)))\n",
        "\n",
        "# Convert tokenized document into gensim formated tagged data\n",
        "tagged_data = [TaggedDocument(d, [i]) for i, d in enumerate(tokenized_doc)]\n",
        "# Train the model\n",
        "model = Doc2Vec(vector_size= 150, window = 5, min_count = 2, workers =4, epochs= 100)\n",
        "model.build_vocab(tagged_data)\n",
        "model.train(tagged_data, total_examples=model.corpus_count, epochs=model.epochs)"
      ],
      "metadata": {
        "id": "vLI4FQrgzEPJ"
      },
      "execution_count": 164,
      "outputs": []
    },
    {
      "cell_type": "code",
      "source": [
        "embedding_dict= dict()\n",
        "for ind in dataset.keys():\n",
        "  embedding_dict[ind] =  model.infer_vector(dataset[ind])"
      ],
      "metadata": {
        "id": "t9DfM_fzztVO"
      },
      "execution_count": 166,
      "outputs": []
    },
    {
      "cell_type": "code",
      "source": [
        "def similarity_generator_doc2vec(total_doc_word_embedding):\n",
        "  \"\"\"\n",
        "  doc_matrix is a dictionary of each doc and other doc similarity to this doc based ondoc2vec             doc_embedding ={doc0: {1: int(9*euclidian_distance +1 ), 2:int(9*euclidian_distance +1 )}, doc1}  \n",
        "\n",
        "  \"\"\"\n",
        "  doc_embedding = dict()\n",
        "  for first_doc in total_doc_word_embedding.keys():\n",
        "    temp_dict = dict()\n",
        "    for second_doc in total_doc_word_embedding.keys(): \n",
        "      if first_doc != second_doc:\n",
        "        temp_dict[second_doc] =1.0 - cosine_similarity([total_doc_word_embedding[first_doc]],[total_doc_word_embedding[second_doc]])[0][0]\n",
        "    doc_embedding[first_doc] = temp_dict\n",
        "    print('Document {} is done!'.format(first_doc) )\n",
        "\n",
        "  return doc_embedding"
      ],
      "metadata": {
        "id": "4FD5p1_60bSW"
      },
      "execution_count": 167,
      "outputs": []
    },
    {
      "cell_type": "code",
      "source": [
        "Embed_dict_doc2vec = dict() # {timestamp1 {doc1{(number_of_tokens+1, 768)}, doc2{}}, timestamp2{}}\n",
        "\n",
        "Embed_dict_doc2vec= similarity_generator_doc2vec(embedding_dict)"
      ],
      "metadata": {
        "id": "GJEB2V6y0wPQ"
      },
      "execution_count": null,
      "outputs": []
    },
    {
      "cell_type": "code",
      "source": [
        "for doc in Embed_dict_doc2vec.keys():\n",
        "  min_ = min(Embed_dict_doc2vec[doc].values())\n",
        "  max_ = max(Embed_dict_doc2vec[doc].values())\n",
        "  for sec_doc in Embed_dict_doc2vec[doc].keys():\n",
        "    Embed_dict_doc2vec[doc][sec_doc] = (Embed_dict_doc2vec[doc][sec_doc] - min_) / (max_ - min_ + 0.0000001)"
      ],
      "metadata": {
        "id": "G9k_KvYG8jAW"
      },
      "execution_count": 191,
      "outputs": []
    },
    {
      "cell_type": "code",
      "source": [
        "final_results_doc2vec = dict()\n",
        "for max_omega  in omega_max_list:\n",
        "  list_of_story = list()\n",
        "  \n",
        "  for seed in seed_documents:\n",
        "    list_of_story.append(story_generator(Embed_dict_doc2vec, timestamps, seed, min_omega, max_omega))\n",
        "  final_results_doc2vec[max_omega] = list_of_story"
      ],
      "metadata": {
        "id": "5wlacLTQ4vvP"
      },
      "execution_count": 192,
      "outputs": []
    },
    {
      "cell_type": "code",
      "source": [
        "for rt, zx in zip(final_results_doc2vec[0.1], final_results_doc2vec[0.7]):\n",
        "  print(len(rt), ' ', len(zx))"
      ],
      "metadata": {
        "id": "pL3aoCL97Oms"
      },
      "execution_count": null,
      "outputs": []
    },
    {
      "cell_type": "code",
      "source": [
        "story_len_dict_proposed = list()\n",
        "story_len_dict_doc2vec = list()\n",
        "story_len_dict_ji = list()\n",
        "story_len_dict_bert = list()\n",
        "for om in omega_max_list:\n",
        "  print('------------', om,'-------------------')\n",
        "  temp_st_1 = final_results_proposed[om]\n",
        "  temp_st_2 = final_results_bert[om]\n",
        "  temp_st_3 = final_results_ji[om]\n",
        "  temp_st_4 = final_results_doc2vec[om]\n",
        "  twr = list()\n",
        "  for st_ in temp_st_1:\n",
        "    twr.append(len(st_))\n",
        "  print(sum(twr)/len(twr))\n",
        "  story_len_dict_proposed.append(sum(twr)/len(twr))\n",
        "  twr = list()\n",
        "  for st_ in temp_st_2:\n",
        "    twr.append(len(st_))\n",
        "  print(sum(twr)/len(twr))\n",
        "  story_len_dict_bert.append(sum(twr)/len(twr))\n",
        "  twr = list()\n",
        "  for st_ in temp_st_3:\n",
        "    twr.append(len(st_))\n",
        "  print(sum(twr)/len(twr))\n",
        "  story_len_dict_ji.append(sum(twr)/len(twr))\n",
        "  twr = list()\n",
        "  for st_ in temp_st_4:\n",
        "    twr.append(len(st_))\n",
        "  print(sum(twr)/len(twr))\n",
        "  story_len_dict_doc2vec.append(sum(twr)/len(twr))"
      ],
      "metadata": {
        "colab": {
          "base_uri": "https://localhost:8080/"
        },
        "id": "RnXBPn2T44el",
        "outputId": "03dbe393-3abb-49c6-cbb3-06712a853756"
      },
      "execution_count": 194,
      "outputs": [
        {
          "output_type": "stream",
          "name": "stdout",
          "text": [
            "------------ 0.1 -------------------\n",
            "1.0\n",
            "8.43010752688172\n",
            "2.4086021505376345\n",
            "56.68817204301075\n",
            "------------ 0.15 -------------------\n",
            "1.3118279569892473\n",
            "14.795698924731182\n",
            "3.4193548387096775\n",
            "56.68817204301075\n",
            "------------ 0.2 -------------------\n",
            "6.204301075268817\n",
            "65.15053763440861\n",
            "4.462365591397849\n",
            "56.68817204301075\n",
            "------------ 0.25 -------------------\n",
            "22.634408602150536\n",
            "65.15053763440861\n",
            "5.408602150537634\n",
            "56.68817204301075\n",
            "------------ 0.3 -------------------\n",
            "27.537634408602152\n",
            "65.80645161290323\n",
            "14.204301075268818\n",
            "56.68817204301075\n",
            "------------ 0.35 -------------------\n",
            "27.806451612903224\n",
            "65.80645161290323\n",
            "16.602150537634408\n",
            "56.68817204301075\n",
            "------------ 0.4 -------------------\n",
            "27.806451612903224\n",
            "74.26881720430107\n",
            "23.56989247311828\n",
            "56.68817204301075\n",
            "------------ 0.45 -------------------\n",
            "27.806451612903224\n",
            "76.18279569892474\n",
            "28.06451612903226\n",
            "56.68817204301075\n",
            "------------ 0.5 -------------------\n",
            "27.806451612903224\n",
            "76.18279569892474\n",
            "30.50537634408602\n",
            "56.68817204301075\n",
            "------------ 0.55 -------------------\n",
            "27.806451612903224\n",
            "76.18279569892474\n",
            "50.81720430107527\n",
            "56.68817204301075\n",
            "------------ 0.6 -------------------\n",
            "27.806451612903224\n",
            "76.18279569892474\n",
            "59.645161290322584\n",
            "56.68817204301075\n",
            "------------ 0.65 -------------------\n",
            "27.806451612903224\n",
            "76.18279569892474\n",
            "61.73118279569893\n",
            "56.68817204301075\n",
            "------------ 0.7 -------------------\n",
            "27.806451612903224\n",
            "76.18279569892474\n",
            "61.73118279569893\n",
            "56.68817204301075\n",
            "------------ 0.75 -------------------\n",
            "27.806451612903224\n",
            "76.18279569892474\n",
            "61.73118279569893\n",
            "56.68817204301075\n",
            "------------ 0.8 -------------------\n",
            "27.806451612903224\n",
            "76.18279569892474\n",
            "63.645161290322584\n",
            "56.68817204301075\n",
            "------------ 0.85 -------------------\n",
            "27.806451612903224\n",
            "76.18279569892474\n",
            "71.79569892473118\n",
            "56.68817204301075\n",
            "------------ 0.9 -------------------\n",
            "27.806451612903224\n",
            "76.18279569892474\n",
            "71.79569892473118\n",
            "56.68817204301075\n",
            "------------ 0.95 -------------------\n",
            "27.806451612903224\n",
            "76.18279569892474\n",
            "71.79569892473118\n",
            "56.68817204301075\n"
          ]
        }
      ]
    },
    {
      "cell_type": "code",
      "source": [
        "# importing package\n",
        "import matplotlib.pyplot as plt\n",
        "import numpy as np\n",
        "  \n",
        "# create data\n",
        "\n",
        "\n",
        "y = story_len_dict_bert\n",
        "x = omega_max_list\n",
        "plt.plot(x, y, label = \"BERT method \", linestyle=\"-.\" )\n",
        "\n",
        "y = story_len_dict_doc2vec\n",
        "plt.plot(x, y, label = \"doc2vec method \", linestyle=\"-.\" )\n",
        "\n",
        "y = story_len_dict_ji\n",
        "plt.plot(x, y, label = \"Jaccard Index method \", linestyle=\"-.\" )\n",
        "\n",
        "y = story_len_dict_proposed\n",
        "plt.plot(x, y, label = \"proposed method \", linestyle=\"-.\" )\n",
        "\n",
        "plt.legend()\n",
        "plt.show()"
      ],
      "metadata": {
        "colab": {
          "base_uri": "https://localhost:8080/",
          "height": 265
        },
        "id": "Ut53wElO5b_8",
        "outputId": "11463648-6867-48fb-d23d-7793ccc970d0"
      },
      "execution_count": 195,
      "outputs": [
        {
          "output_type": "display_data",
          "data": {
            "text/plain": [
              "<Figure size 432x288 with 1 Axes>"
            ],
            "image/png": "[encoded data removed]"
          },
          "metadata": {
            "needs_background": "light"
          }
        }
      ]
    },
    {
      "cell_type": "code",
      "source": [
        "pickle.dump(final_results_proposed, open('drive/MyDrive/temp/data_r/final_results_proposed.p', 'wb'))\n",
        "pickle.dump(final_results_bert, open('drive/MyDrive/temp/data_r/final_results_bert.p', 'wb'))\n",
        "pickle.dump(final_results_ji, open('drive/MyDrive/temp/data_r/final_results_ji.p', 'wb'))\n",
        "pickle.dump(final_results_doc2vec, open('drive/MyDrive/temp/data_r/final_results_doc2vec.p', 'wb'))\n",
        "pickle.dump(total_doc_embedding_cls, open('total_doc_embedding_cls.p', 'wb'))\n",
        "pickle.dump(list_of_timestamps, open('list_of_timestamps.p', 'wb'))"
      ],
      "metadata": {
        "id": "7V1i7qwD_Pr9"
      },
      "execution_count": 198,
      "outputs": []
    },
    {
      "cell_type": "code",
      "source": [
        "#generate embedding for evaluation metrics\n",
        "total_doc_embedding_cls = dict()\n",
        "for doc in total_doc_embedding.keys():\n",
        "  total_doc_embedding_cls[doc] = total_doc_embedding[doc]['cls']"
      ],
      "metadata": {
        "id": "1hWclkID_rfo"
      },
      "execution_count": 197,
      "outputs": []
    },
    {
      "cell_type": "markdown",
      "source": [
        "Experimental results:\n"
      ],
      "metadata": {
        "id": "baLBptdYB7Rx"
      }
    },
    {
      "cell_type": "code",
      "source": [
        "full_story_NYT_proposed_embedding = dict()\n",
        "for omega in final_results_proposed.keys():\n",
        "  temp_story_list = list()\n",
        "  for story in final_results_proposed[omega]:\n",
        "    temp_list = list()\n",
        "    for doc in story:\n",
        "      temp_list.append(total_doc_embedding_cls[doc])\n",
        "    temp_story_list.append(temp_list)\n",
        "  full_story_NYT_proposed_embedding[omega] = temp_story_list\n",
        "    \n"
      ],
      "metadata": {
        "id": "5xGLmOz8FEuo"
      },
      "execution_count": 212,
      "outputs": []
    },
    {
      "cell_type": "code",
      "source": [
        "full_story_NYT_bert_embedding = dict()\n",
        "for omega in final_results_bert.keys():\n",
        "  temp_story_list = list()\n",
        "  for story in final_results_bert[omega]:\n",
        "    temp_list = list()\n",
        "    for doc in story:\n",
        "      temp_list.append(total_doc_embedding_cls[doc])\n",
        "    temp_story_list.append(temp_list)\n",
        "  full_story_NYT_bert_embedding[omega] = temp_story_list"
      ],
      "metadata": {
        "id": "USdfF1VWFGXW"
      },
      "execution_count": 213,
      "outputs": []
    },
    {
      "cell_type": "code",
      "source": [
        "full_story_NYT_ji_embedding = dict()\n",
        "for omega in final_results_ji.keys():\n",
        "  temp_story_list = list()\n",
        "  for story in final_results_ji[omega]:\n",
        "    temp_list = list()\n",
        "    for doc in story:\n",
        "      temp_list.append(total_doc_embedding_cls[doc])\n",
        "    temp_story_list.append(temp_list)\n",
        "  full_story_NYT_ji_embedding[omega] = temp_story_list"
      ],
      "metadata": {
        "id": "Bt2LKgC4FH-m"
      },
      "execution_count": 214,
      "outputs": []
    },
    {
      "cell_type": "code",
      "source": [
        "full_story_NYT_doc2vec_embedding = dict()\n",
        "for omega in final_results_doc2vec.keys():\n",
        "  temp_story_list = list()\n",
        "  for story in final_results_doc2vec[omega]:\n",
        "    temp_list = list()\n",
        "    for doc in story:\n",
        "      temp_list.append(total_doc_embedding_cls[doc])\n",
        "    temp_story_list.append(temp_list)\n",
        "  full_story_NYT_doc2vec_embedding[omega] = temp_story_list"
      ],
      "metadata": {
        "id": "QuRVusyYFJNK"
      },
      "execution_count": 215,
      "outputs": []
    },
    {
      "cell_type": "code",
      "source": [
        "def disp(d_i, d_j, n, teta, i, j):\n",
        "  a = np.array(d_i)\n",
        "  b = np.array(d_j)\n",
        "  dist = np.sqrt(np.sum(np.square(a-b))) / len(d_i)\n",
        "  if dist < teta:\n",
        "    return 1/(n+i-j)\n",
        "  else:\n",
        "    return 0"
      ],
      "metadata": {
        "id": "t1hBcIzTB-gG"
      },
      "execution_count": 199,
      "outputs": []
    },
    {
      "cell_type": "code",
      "source": [
        "def final_disp(story_, teta):\n",
        "  res = list()\n",
        "  len_story = len(story_)\n",
        "  for i in range(len_story-3):\n",
        "    for j in range(i+2, len_story-1):\n",
        "      res.append(disp(story_[i], story_[j], len_story, teta, i, j))\n",
        "  \n",
        "  return 1.0 - (sum(res)/(len_story-2 + 0.01))"
      ],
      "metadata": {
        "id": "s8HStrSYCAWF"
      },
      "execution_count": 224,
      "outputs": []
    },
    {
      "cell_type": "code",
      "source": [
        "disp_porposed = list()\n",
        "disp_bert = list()\n",
        "disp_ji = list()\n",
        "disp_doc2vec = list()\n",
        "\n",
        "for om in omega_max_list: \n",
        "  g_value = [final_disp(x, 0.025) for x in full_story_NYT_proposed_embedding[om]]\n",
        "  disp_porposed.append(sum(g_value)/ len(g_value))\n",
        "  f_value = [final_disp(x, 0.025) for x in full_story_NYT_bert_embedding[om]]\n",
        "  disp_bert.append(sum(f_value)/ len(f_value))\n",
        "  z_value = [final_disp(x, 0.025) for x in full_story_NYT_ji_embedding[om]]\n",
        "  disp_ji.append(sum(z_value)/  len(z_value))\n",
        "  a_value = [final_disp(x, 0.025) for x in full_story_NYT_doc2vec_embedding[om]]\n",
        "  disp_doc2vec.append(sum(a_value)/len(a_value))\n",
        "\n",
        "\n"
      ],
      "metadata": {
        "id": "U7saE96NCELw"
      },
      "execution_count": 227,
      "outputs": []
    },
    {
      "cell_type": "code",
      "source": [
        "# importing package\n",
        "import matplotlib.pyplot as plt\n",
        "import numpy as np\n",
        "  \n",
        "# create data\n",
        "\n",
        "\n",
        "y = disp_bert\n",
        "x = omega_max_list\n",
        "plt.plot(x, y, label = \"BERT method \", linestyle=\"-.\" )\n",
        "\n",
        "y = disp_doc2vec\n",
        "plt.plot(x, y, label = \"doc2vec method \", linestyle=\"-.\" )\n",
        "\n",
        "y = disp_ji\n",
        "plt.plot(x, y, label = \"Jaccard Index method \", linestyle=\"-.\" )\n",
        "\n",
        "y = disp_porposed\n",
        "plt.plot(x, y, label = \"proposed method \", linestyle=\"-.\" )\n",
        "\n",
        "plt.legend()\n",
        "plt.show()"
      ],
      "metadata": {
        "colab": {
          "base_uri": "https://localhost:8080/",
          "height": 265
        },
        "id": "l8Dfkx4oH2dT",
        "outputId": "12f4be8d-c138-40a7-865a-b918bac096ab"
      },
      "execution_count": 228,
      "outputs": [
        {
          "output_type": "display_data",
          "data": {
            "text/plain": [
              "<Figure size 432x288 with 1 Axes>"
            ],
            "image/png": "[encoded data removed]"
          },
          "metadata": {
            "needs_background": "light"
          }
        }
      ]
    },
    {
      "cell_type": "code",
      "source": [
        "def NS_fun(story_embed_):\n",
        "  total = list()\n",
        "  for x in story_embed_:\n",
        "    res = list()\n",
        "    for d_1, d_2 in zip(x[:-1], x[1:]):\n",
        "      tmp = np.sqrt(np.sum(np.square(d_1-d_2)))\n",
        "      res.append(tmp)\n",
        "    total.append(sum(res)/len(res))\n",
        "\n",
        "  return total"
      ],
      "metadata": {
        "id": "AS_n53NlEI1u"
      },
      "execution_count": 229,
      "outputs": []
    },
    {
      "cell_type": "code",
      "source": [
        "from sklearn.metrics.pairwise import cosine_similarity\n",
        "def NS_cos(story_embed_):\n",
        "  total = list()\n",
        "  for x in story_embed_:\n",
        "    res = list()\n",
        "    for d_1, d_2 in zip(x[:-1], x[1:]):\n",
        "      tmp = cosine_similarity([d_1],[d_2])[0][0]\n",
        "      res.append(tmp)\n",
        "    total.append(sum(res)/(len(res)+0.1))\n",
        "\n",
        "  return total"
      ],
      "metadata": {
        "id": "ZgKRlGtKN_Ro"
      },
      "execution_count": 233,
      "outputs": []
    },
    {
      "cell_type": "code",
      "source": [
        "# print(NS(full_story_NYT_proposed_embedding))\n",
        "def NS(list_stories):\n",
        "  res_NS = list()\n",
        "  for chapter in list_stories: \n",
        "    new_vec = list()\n",
        "    for x,y in zip(chapter[:-1], chapter[1:]):\n",
        "      new_vec.append(np.sqrt(np.sum(np.square(x-y))))\n",
        "    mean = np.mean(new_vec)\n",
        "    sd = np.std(new_vec)\n",
        "    avg = sum(new_vec) /(len(new_vec)+0.1)\n",
        "    # tmp = (np.pi*sd) * np.exp(-0.5*((new_vec-mean)/sd)**2)\n",
        "    tmp =  np.exp(-0.5*((new_vec-mean)/sd)**2)\n",
        "    res_NS.append(sum(tmp)/(len(tmp)+0.1))\n",
        "  return res_NS"
      ],
      "metadata": {
        "id": "Wmf9UVJ_OB9R"
      },
      "execution_count": 238,
      "outputs": []
    },
    {
      "cell_type": "code",
      "source": [
        "bert_NS = list()\n",
        "doc2vec_NS = list()\n",
        "ji_NS = list()\n",
        "proposed_NS = list()\n",
        "for om in omega_max_list:\n",
        "  tr = np.array(NS_cos(full_story_NYT_bert_embedding[om])) / np.array(NS(full_story_NYT_bert_embedding[om]))\n",
        "  bert_NS.append(sum(tr)/(len(tr)*np.sqrt(2)))\n",
        "  re_ = np.array(NS_cos(full_story_NYT_doc2vec_embedding[om]))/np.array(NS(full_story_NYT_doc2vec_embedding[om]))\n",
        "  doc2vec_NS.append(sum(re_) /(len(re_)*np.sqrt(2)))\n",
        "  wq = np.array(NS_cos(full_story_NYT_ji_embedding[om]))/np.array(NS(full_story_NYT_ji_embedding[om]))\n",
        "  ji_NS.append(sum(wq)/(len(wq)*np.sqrt(2)))\n",
        "  sa = np.array(NS_cos(full_story_NYT_proposed_embedding[om]))/np.array(NS(full_story_NYT_proposed_embedding[om]))\n",
        "  proposed_NS.append(sum(sa)/(len(sa)*np.sqrt(2)))\n"
      ],
      "metadata": {
        "id": "ZF0JqqFYOE2b"
      },
      "execution_count": null,
      "outputs": []
    },
    {
      "cell_type": "code",
      "source": [
        "# importing package\n",
        "import matplotlib.pyplot as plt\n",
        "import numpy as np\n",
        "  \n",
        "# create data\n",
        "\n",
        "\n",
        "y = bert_NS[7:]\n",
        "x = omega_max_list[7:]\n",
        "plt.plot(x, y, label = \"BERT method \", linestyle=\"-.\" )\n",
        "\n",
        "y = doc2vec_NS[7:]\n",
        "plt.plot(x, y, label = \"doc2vec method \", linestyle=\"-.\" )\n",
        "\n",
        "y = ji_NS[7:]\n",
        "plt.plot(x, y, label = \"Jaccard Index method \", linestyle=\"-.\" )\n",
        "\n",
        "y = proposed_NS[7:]\n",
        "plt.plot(x, y, label = \"proposed method \", linestyle=\"-.\" )\n",
        "\n",
        "plt.legend()\n",
        "plt.show()"
      ],
      "metadata": {
        "colab": {
          "base_uri": "https://localhost:8080/",
          "height": 265
        },
        "id": "Lup36w9KQXN1",
        "outputId": "cbcebf57-35d2-47a6-9bcf-df3473b95334"
      },
      "execution_count": 245,
      "outputs": [
        {
          "output_type": "display_data",
          "data": {
            "text/plain": [
              "<Figure size 432x288 with 1 Axes>"
            ],
            "image/png": "[encoded data removed]"
          },
          "metadata": {
            "needs_background": "light"
          }
        }
      ]
    }
  ]
}